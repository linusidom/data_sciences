{
 "cells": [
  {
   "cell_type": "markdown",
   "id": "536d33b1",
   "metadata": {},
   "source": [
    "# KNN - K Nearest Neighbors Exercises"
   ]
  },
  {
   "cell_type": "markdown",
   "id": "5ca1e680",
   "metadata": {},
   "source": [
    "### KNN Regression\n",
    "\n",
    "Dataset\n",
    "https://www.kaggle.com/datasets/mssmartypants/paris-housing-price-prediction"
   ]
  },
  {
   "cell_type": "code",
   "execution_count": 65,
   "id": "578f0c48",
   "metadata": {},
   "outputs": [],
   "source": [
    "# Import the necessary libraries\n",
    "# Pandas, numpy, seaborn, plotly\n",
    "# Sklearn - train_test_split, classification_report, confusion_matrix, mean_absolute_error, mean_squared_error\n",
    "# train_test_split, KNeighborsClassifier, KNeighborsRegressor, StandardScaler, Pipeline\n",
    "\n",
    "\n",
    "\n",
    "\n",
    "\n",
    "# Type your code above this line"
   ]
  },
  {
   "cell_type": "code",
   "execution_count": 1,
   "id": "f7f30e9d",
   "metadata": {},
   "outputs": [],
   "source": [
    "# Create a dataframe from the dataset\n",
    "\n",
    "\n",
    "\n",
    "\n",
    "# Type your code above this line"
   ]
  },
  {
   "cell_type": "code",
   "execution_count": 2,
   "id": "0fa94146",
   "metadata": {},
   "outputs": [],
   "source": [
    "# check for any NAN values\n",
    "\n",
    "\n",
    "\n",
    "\n",
    "\n",
    "\n",
    "# Type your code above this line"
   ]
  },
  {
   "cell_type": "code",
   "execution_count": 73,
   "id": "3696f9dc",
   "metadata": {},
   "outputs": [],
   "source": [
    "# Split the dataframe into 2 groups\n",
    "# X -> Attributes\n",
    "# y -> Target\n",
    "# Train Test Split\n",
    "\n",
    "\n",
    "\n",
    "\n",
    "\n",
    "\n",
    "# Type your code above this line"
   ]
  },
  {
   "cell_type": "code",
   "execution_count": 3,
   "id": "664ca3bb",
   "metadata": {},
   "outputs": [],
   "source": [
    "# Instantiate the KNeigborsRegression algorithm\n",
    "# Fit the model with the training data\n",
    "# Predict the values\n",
    "# Evaluate the Regression Model (MAE, MSE, RMSE, Score)\n",
    "\n",
    "\n",
    "\n",
    "\n",
    "\n",
    "\n",
    "\n",
    "\n",
    "\n",
    "\n",
    "# Type your code above this line"
   ]
  },
  {
   "cell_type": "code",
   "execution_count": 4,
   "id": "8695ce72",
   "metadata": {},
   "outputs": [],
   "source": [
    "# Find the best n_neighbors value\n",
    "# Record the score of each iteration\n",
    "# Record the RMSE of each iteration\n",
    "\n",
    "\n",
    "\n",
    "\n",
    "\n",
    "# Type your code above this line"
   ]
  },
  {
   "cell_type": "code",
   "execution_count": 5,
   "id": "d82d8fbe",
   "metadata": {},
   "outputs": [],
   "source": [
    "# Plot the Score\n",
    "\n",
    "\n",
    "\n",
    "\n",
    "\n",
    "\n",
    "# Type your code above this line"
   ]
  },
  {
   "cell_type": "code",
   "execution_count": 6,
   "id": "828e2aab",
   "metadata": {},
   "outputs": [],
   "source": [
    "# Plot the RMSE\n",
    "\n",
    "\n",
    "\n",
    "\n",
    "\n",
    "# Type your code above this line"
   ]
  },
  {
   "cell_type": "code",
   "execution_count": 7,
   "id": "db625ffd",
   "metadata": {},
   "outputs": [],
   "source": [
    "# Find the best n_neighbors value with the pipe object (for loop)\n",
    "\n",
    "# Instantiate the Pipeline to a pipe object\n",
    "# Configure the StandardScalar, KNeighborsRegressor and set verbose to True \n",
    "# Fit the pipe model with the training data\n",
    "# predict the results of the model with the test data\n",
    "# Record the score of each iteration\n",
    "# Record the RMSE of each iteration\n",
    "\n",
    "\n",
    "\n",
    "\n",
    "\n",
    "\n",
    "\n",
    "\n",
    "\n",
    "# Type your code above this line"
   ]
  },
  {
   "cell_type": "code",
   "execution_count": 8,
   "id": "1000998c",
   "metadata": {},
   "outputs": [],
   "source": [
    "# Plot the Score and find the best K value\n",
    "\n",
    "\n",
    "\n",
    "\n",
    "\n",
    "\n",
    "# Type your code above this line"
   ]
  },
  {
   "cell_type": "code",
   "execution_count": 9,
   "id": "2da2b974",
   "metadata": {},
   "outputs": [],
   "source": [
    "# Plot the RMSE and find the best K value\n",
    "\n",
    "\n",
    "\n",
    "\n",
    "\n",
    "# Type your code above this line"
   ]
  },
  {
   "cell_type": "code",
   "execution_count": 10,
   "id": "894ecd94",
   "metadata": {},
   "outputs": [],
   "source": [
    "# Rerun the pipe object with the optimum K value and evaluate the results with Score and RMSE\n",
    "\n",
    "\n",
    "\n",
    "\n",
    "\n",
    "\n",
    "# Type your code above this line"
   ]
  },
  {
   "cell_type": "code",
   "execution_count": null,
   "id": "a1b6b0ea",
   "metadata": {},
   "outputs": [],
   "source": []
  },
  {
   "cell_type": "code",
   "execution_count": null,
   "id": "6cddf9f5",
   "metadata": {},
   "outputs": [],
   "source": []
  },
  {
   "cell_type": "code",
   "execution_count": null,
   "id": "894592d7",
   "metadata": {},
   "outputs": [],
   "source": []
  },
  {
   "cell_type": "code",
   "execution_count": null,
   "id": "bd53d2ac",
   "metadata": {},
   "outputs": [],
   "source": []
  },
  {
   "cell_type": "code",
   "execution_count": null,
   "id": "ad63dd82",
   "metadata": {},
   "outputs": [],
   "source": []
  },
  {
   "cell_type": "code",
   "execution_count": null,
   "id": "f2024ccd",
   "metadata": {},
   "outputs": [],
   "source": []
  },
  {
   "cell_type": "code",
   "execution_count": null,
   "id": "be4658a7",
   "metadata": {},
   "outputs": [],
   "source": []
  },
  {
   "cell_type": "code",
   "execution_count": null,
   "id": "a71fdff4",
   "metadata": {},
   "outputs": [],
   "source": []
  },
  {
   "cell_type": "code",
   "execution_count": null,
   "id": "87f575d2",
   "metadata": {},
   "outputs": [],
   "source": []
  },
  {
   "cell_type": "code",
   "execution_count": null,
   "id": "9b7691b5",
   "metadata": {},
   "outputs": [],
   "source": []
  },
  {
   "cell_type": "code",
   "execution_count": null,
   "id": "c3e4be03",
   "metadata": {},
   "outputs": [],
   "source": []
  },
  {
   "cell_type": "code",
   "execution_count": null,
   "id": "8d24b9c6",
   "metadata": {},
   "outputs": [],
   "source": []
  },
  {
   "cell_type": "markdown",
   "id": "488f3488",
   "metadata": {},
   "source": [
    "### KNearest Neighbors Classification with Diabetes Dataset\n",
    "\n",
    "Dataset\n",
    "https://www.kaggle.com/datasets/kandij/diabetes-dataset"
   ]
  },
  {
   "cell_type": "code",
   "execution_count": 16,
   "id": "bcba29e5",
   "metadata": {},
   "outputs": [],
   "source": [
    "# import the Diabetes Dataset\n",
    "\n",
    "\n",
    "\n",
    "\n",
    "\n",
    "\n",
    "\n",
    "# Type your code above this line"
   ]
  },
  {
   "cell_type": "code",
   "execution_count": 15,
   "id": "6b4ac105",
   "metadata": {},
   "outputs": [],
   "source": [
    "# Check for any Nan values\n",
    "\n",
    "\n",
    "\n",
    "\n",
    "\n",
    "\n",
    "# Type your code above this line"
   ]
  },
  {
   "cell_type": "code",
   "execution_count": 14,
   "id": "79bb0cf9",
   "metadata": {},
   "outputs": [],
   "source": [
    "# Split the dataframe into 2 groups\n",
    "# X -> Attributes\n",
    "# y -> Target\n",
    "# Train Test Split\n",
    "\n",
    "\n",
    "\n",
    "\n",
    "\n",
    "\n",
    "\n",
    "# Type your code above this line"
   ]
  },
  {
   "cell_type": "code",
   "execution_count": 13,
   "id": "63120276",
   "metadata": {},
   "outputs": [],
   "source": [
    "# Find the best n_neighbors value with the pipe object (for loop)\n",
    "\n",
    "# Instantiate the Pipeline to a pipe object\n",
    "# Configure the StandardScalar, KNeighborsClassifier and set verbose to True \n",
    "# Fit the pipe model with the training data\n",
    "# predict the results of the model with the test data\n",
    "# Record the error of each iteration\n",
    "\n",
    "\n",
    "\n",
    "\n",
    "\n",
    "\n",
    "\n",
    "# Type your code above this line"
   ]
  },
  {
   "cell_type": "code",
   "execution_count": 12,
   "id": "ed23ffc6",
   "metadata": {},
   "outputs": [],
   "source": [
    "# Plot the Error Rate and find the best K value\n",
    "\n",
    "\n",
    "\n",
    "\n",
    "\n",
    "\n",
    "\n",
    "# Type your code above this line"
   ]
  },
  {
   "cell_type": "code",
   "execution_count": 11,
   "id": "2a45c76e",
   "metadata": {},
   "outputs": [],
   "source": [
    "# Rerun the pipe object with the optimum K value and evaluate the results in a confusion matrix/classification report\n",
    "\n",
    "\n",
    "\n",
    "\n",
    "\n",
    "\n",
    "# Type your code above this line"
   ]
  },
  {
   "cell_type": "code",
   "execution_count": null,
   "id": "ad3e41df",
   "metadata": {},
   "outputs": [],
   "source": []
  },
  {
   "cell_type": "code",
   "execution_count": null,
   "id": "2a84fead",
   "metadata": {},
   "outputs": [],
   "source": []
  },
  {
   "cell_type": "code",
   "execution_count": null,
   "id": "bd15dd17",
   "metadata": {},
   "outputs": [],
   "source": []
  },
  {
   "cell_type": "code",
   "execution_count": null,
   "id": "b8c2a629",
   "metadata": {},
   "outputs": [],
   "source": []
  },
  {
   "cell_type": "code",
   "execution_count": null,
   "id": "0acf7138",
   "metadata": {},
   "outputs": [],
   "source": []
  },
  {
   "cell_type": "code",
   "execution_count": null,
   "id": "5f13df10",
   "metadata": {},
   "outputs": [],
   "source": []
  },
  {
   "cell_type": "code",
   "execution_count": null,
   "id": "470a290a",
   "metadata": {},
   "outputs": [],
   "source": []
  },
  {
   "cell_type": "code",
   "execution_count": null,
   "id": "ce3da409",
   "metadata": {},
   "outputs": [],
   "source": []
  },
  {
   "cell_type": "code",
   "execution_count": null,
   "id": "e5df2136",
   "metadata": {},
   "outputs": [],
   "source": []
  },
  {
   "cell_type": "code",
   "execution_count": null,
   "id": "a9dee651",
   "metadata": {},
   "outputs": [],
   "source": []
  },
  {
   "cell_type": "code",
   "execution_count": null,
   "id": "4fb252f5",
   "metadata": {},
   "outputs": [],
   "source": []
  },
  {
   "cell_type": "code",
   "execution_count": null,
   "id": "8e2e76ce",
   "metadata": {},
   "outputs": [],
   "source": []
  },
  {
   "cell_type": "code",
   "execution_count": null,
   "id": "cb8bcc00",
   "metadata": {},
   "outputs": [],
   "source": []
  },
  {
   "cell_type": "code",
   "execution_count": null,
   "id": "97b6294e",
   "metadata": {},
   "outputs": [],
   "source": []
  },
  {
   "cell_type": "code",
   "execution_count": null,
   "id": "5f78f12e",
   "metadata": {},
   "outputs": [],
   "source": []
  },
  {
   "cell_type": "code",
   "execution_count": null,
   "id": "c071b660",
   "metadata": {},
   "outputs": [],
   "source": []
  },
  {
   "cell_type": "code",
   "execution_count": null,
   "id": "5278fae5",
   "metadata": {},
   "outputs": [],
   "source": []
  },
  {
   "cell_type": "code",
   "execution_count": null,
   "id": "2973c091",
   "metadata": {},
   "outputs": [],
   "source": []
  },
  {
   "cell_type": "code",
   "execution_count": null,
   "id": "4e2c1d51",
   "metadata": {},
   "outputs": [],
   "source": []
  },
  {
   "cell_type": "code",
   "execution_count": null,
   "id": "d2de108d",
   "metadata": {},
   "outputs": [],
   "source": []
  },
  {
   "cell_type": "code",
   "execution_count": null,
   "id": "77eef22d",
   "metadata": {},
   "outputs": [],
   "source": []
  },
  {
   "cell_type": "code",
   "execution_count": null,
   "id": "35dca80c",
   "metadata": {},
   "outputs": [],
   "source": []
  }
 ],
 "metadata": {
  "kernelspec": {
   "display_name": "Python 3 (ipykernel)",
   "language": "python",
   "name": "python3"
  },
  "language_info": {
   "codemirror_mode": {
    "name": "ipython",
    "version": 3
   },
   "file_extension": ".py",
   "mimetype": "text/x-python",
   "name": "python",
   "nbconvert_exporter": "python",
   "pygments_lexer": "ipython3",
   "version": "3.9.12"
  }
 },
 "nbformat": 4,
 "nbformat_minor": 5
}
