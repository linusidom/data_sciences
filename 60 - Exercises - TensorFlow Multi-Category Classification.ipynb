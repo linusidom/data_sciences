{
 "cells": [
  {
   "cell_type": "markdown",
   "id": "1be02d66",
   "metadata": {},
   "source": [
    "# Tensor Flow Model Multi-Category Classification\n",
    "\n",
    "Data Set\n",
    "\n",
    "https://www.kaggle.com/datasets/kukuroo3/body-performance-data"
   ]
  },
  {
   "cell_type": "code",
   "execution_count": 9,
   "id": "cfe95a97",
   "metadata": {},
   "outputs": [],
   "source": [
    "# Import the necessary libraries\n",
    "\n",
    "# Pandas, numpy, matplotlib, seaborn\n",
    "# SKLearn - train_test_split, MinMaxScaler, confusion_matrix, classification_report\n",
    "# TensorFlow - Sequential, Dense, EarlyStopping\n",
    "\n",
    "\n",
    "\n",
    "\n",
    "\n",
    "\n",
    "\n",
    "\n",
    "# Type your code above this line"
   ]
  },
  {
   "cell_type": "code",
   "execution_count": 1,
   "id": "36f4094f",
   "metadata": {},
   "outputs": [],
   "source": [
    "# Create a dataframe from this dataset\n",
    "\n",
    "\n",
    "\n",
    "\n",
    "\n",
    "# Type your code above this line"
   ]
  },
  {
   "cell_type": "code",
   "execution_count": null,
   "id": "0f20defe",
   "metadata": {},
   "outputs": [],
   "source": []
  },
  {
   "cell_type": "code",
   "execution_count": 2,
   "id": "3b4be015",
   "metadata": {},
   "outputs": [],
   "source": [
    "# Data Exploration\n",
    "# Are there any missing values\n",
    "# Is there any correlation between the data\n",
    "# how does the gender relate to the class?\n",
    "\n",
    "\n",
    "\n",
    "\n",
    "\n",
    "\n",
    "\n",
    "# Type your code above this line"
   ]
  },
  {
   "cell_type": "code",
   "execution_count": 3,
   "id": "7c629660",
   "metadata": {},
   "outputs": [],
   "source": [
    "# Data Cleanup\n",
    "# Split the gender column using oneHotEncoding (get_dummies with a drop_first=True) and drop the gender column\n",
    "\n",
    "\n",
    "\n",
    "\n",
    "\n",
    "# Type your code above this line"
   ]
  },
  {
   "cell_type": "code",
   "execution_count": 4,
   "id": "e07a3f99",
   "metadata": {},
   "outputs": [],
   "source": [
    "# Train test split the data\n",
    "# For the y values, split the outcomes into columns of their own\n",
    "# Then train test split\n",
    "\n",
    "\n",
    "\n",
    "\n",
    "# Type your code above this line"
   ]
  },
  {
   "cell_type": "code",
   "execution_count": 5,
   "id": "27232d48",
   "metadata": {},
   "outputs": [],
   "source": [
    "# Scale the data from the train test split output\n",
    "\n",
    "\n",
    "\n",
    "\n",
    "\n",
    "# Type your code above this line"
   ]
  },
  {
   "cell_type": "code",
   "execution_count": 6,
   "id": "fd71de6c",
   "metadata": {},
   "outputs": [],
   "source": [
    "# Let's build out the model\n",
    "\n",
    "# 3 Layers, 12 units per layers, relu activation\n",
    "# Output layer has 4 units, and uses softmax\n",
    "# Compilation uses the adam optimizer and categorical_crossentropy for loss\n",
    "# Create an early stopping callback using min val_loss as the parameter with a patience of 20\n",
    "# Fit the model with 1500 epochs\n",
    "\n",
    "\n",
    "\n",
    "\n",
    "\n",
    "\n",
    "\n",
    "# Type your code above this line"
   ]
  },
  {
   "cell_type": "code",
   "execution_count": 7,
   "id": "e3fcaa01",
   "metadata": {},
   "outputs": [],
   "source": [
    "# Plot the losses after creating a dataframe from the losses\n",
    "\n",
    "\n",
    "\n",
    "\n",
    "\n",
    "\n",
    "\n",
    "# Type your code above this line"
   ]
  },
  {
   "cell_type": "code",
   "execution_count": 8,
   "id": "10ca8664",
   "metadata": {},
   "outputs": [],
   "source": [
    "# Run predictions on the model using X_test\n",
    "# Don't forget to transform the data from a confidence value (floats) to ints\n",
    "\n",
    "\n",
    "\n",
    "\n",
    "# Type your code above this line"
   ]
  },
  {
   "cell_type": "code",
   "execution_count": 9,
   "id": "069ee873",
   "metadata": {},
   "outputs": [],
   "source": [
    "# Evaluate using the Confusion Matrix and Classification Report\n",
    "\n",
    "\n",
    "\n",
    "\n",
    "# Type your code above this line"
   ]
  },
  {
   "cell_type": "code",
   "execution_count": 10,
   "id": "ece6ab46",
   "metadata": {},
   "outputs": [],
   "source": [
    "# Run your own prediction on the data using the first row of the dataset\n",
    "# How does it line up with the actual results?\n",
    "\n",
    "\n",
    "\n",
    "\n",
    "\n",
    "\n",
    "\n",
    "# Type your code above this line"
   ]
  },
  {
   "cell_type": "code",
   "execution_count": null,
   "id": "02e6e4ef",
   "metadata": {},
   "outputs": [],
   "source": []
  },
  {
   "cell_type": "code",
   "execution_count": null,
   "id": "9922b021",
   "metadata": {},
   "outputs": [],
   "source": []
  },
  {
   "cell_type": "code",
   "execution_count": null,
   "id": "cb164d01",
   "metadata": {},
   "outputs": [],
   "source": []
  },
  {
   "cell_type": "code",
   "execution_count": null,
   "id": "40cf579e",
   "metadata": {},
   "outputs": [],
   "source": []
  },
  {
   "cell_type": "code",
   "execution_count": null,
   "id": "d561b880",
   "metadata": {},
   "outputs": [],
   "source": []
  },
  {
   "cell_type": "code",
   "execution_count": null,
   "id": "f0d89701",
   "metadata": {},
   "outputs": [],
   "source": []
  },
  {
   "cell_type": "code",
   "execution_count": null,
   "id": "a692a182",
   "metadata": {},
   "outputs": [],
   "source": []
  },
  {
   "cell_type": "code",
   "execution_count": null,
   "id": "ba053f6f",
   "metadata": {},
   "outputs": [],
   "source": []
  },
  {
   "cell_type": "code",
   "execution_count": null,
   "id": "484f1366",
   "metadata": {},
   "outputs": [],
   "source": []
  },
  {
   "cell_type": "code",
   "execution_count": null,
   "id": "9b064531",
   "metadata": {},
   "outputs": [],
   "source": []
  },
  {
   "cell_type": "code",
   "execution_count": null,
   "id": "f9c5355a",
   "metadata": {},
   "outputs": [],
   "source": []
  },
  {
   "cell_type": "code",
   "execution_count": null,
   "id": "08b7ded3",
   "metadata": {},
   "outputs": [],
   "source": []
  },
  {
   "cell_type": "code",
   "execution_count": null,
   "id": "0a7a3bd8",
   "metadata": {},
   "outputs": [],
   "source": []
  },
  {
   "cell_type": "code",
   "execution_count": null,
   "id": "3adc22ef",
   "metadata": {},
   "outputs": [],
   "source": []
  },
  {
   "cell_type": "code",
   "execution_count": null,
   "id": "01733319",
   "metadata": {},
   "outputs": [],
   "source": []
  },
  {
   "cell_type": "code",
   "execution_count": null,
   "id": "137cfa65",
   "metadata": {},
   "outputs": [],
   "source": []
  }
 ],
 "metadata": {
  "kernelspec": {
   "display_name": "Python 3 (ipykernel)",
   "language": "python",
   "name": "python3"
  },
  "language_info": {
   "codemirror_mode": {
    "name": "ipython",
    "version": 3
   },
   "file_extension": ".py",
   "mimetype": "text/x-python",
   "name": "python",
   "nbconvert_exporter": "python",
   "pygments_lexer": "ipython3",
   "version": "3.9.12"
  }
 },
 "nbformat": 4,
 "nbformat_minor": 5
}
