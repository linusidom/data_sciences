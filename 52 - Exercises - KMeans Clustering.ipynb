{
 "cells": [
  {
   "cell_type": "markdown",
   "id": "b58c0d7d",
   "metadata": {},
   "source": [
    "# KMeans Clustering Exercises"
   ]
  },
  {
   "cell_type": "code",
   "execution_count": 1,
   "id": "7a48951a",
   "metadata": {},
   "outputs": [],
   "source": [
    "# Import the necessary libraries\n",
    "\n",
    "# Pandas, Numpy, Seaborn and Matplotlib, Plotly\n",
    "# SKLearn - KMeans, classification_report, confusion_matrix\n",
    "# Standard Scalar\n",
    "# silhouette_sample, silhouette_score\n",
    "\n",
    "\n",
    "\n",
    "\n",
    "# Type your code above this line"
   ]
  },
  {
   "cell_type": "code",
   "execution_count": 2,
   "id": "bda645ba",
   "metadata": {},
   "outputs": [],
   "source": [
    "# Load the USA Housing Dataset\n",
    "# https://www.kaggle.com/datasets/aaquibsiddiqui/usa-housing-dataset\n",
    "\n",
    "\n",
    "\n",
    "\n",
    "\n",
    "    \n",
    "# Type your code above this line"
   ]
  },
  {
   "cell_type": "code",
   "execution_count": 3,
   "id": "b002d07c",
   "metadata": {},
   "outputs": [],
   "source": [
    "# Create a Pair Plot of the entire dataframe\n",
    "\n",
    "\n",
    "\n",
    "\n",
    "\n",
    "# Type your code above this line"
   ]
  },
  {
   "cell_type": "code",
   "execution_count": 4,
   "id": "35bdaa0d",
   "metadata": {},
   "outputs": [],
   "source": [
    "# Create an X with attributes and scale the values using Standard Scalar\n",
    "# Exclude the Avg. Area Number of Bedrooms column\n",
    "\n",
    "\n",
    "\n",
    "\n",
    "\n",
    "# Type your code above this line"
   ]
  },
  {
   "cell_type": "code",
   "execution_count": 5,
   "id": "ff2cb00d",
   "metadata": {},
   "outputs": [],
   "source": [
    "# Find all the inertia values for clusters between 1 and 20\n",
    "\n",
    "\n",
    "\n",
    "\n",
    "\n",
    "\n",
    "# Type your code above this line"
   ]
  },
  {
   "cell_type": "code",
   "execution_count": 6,
   "id": "de6b5e39",
   "metadata": {},
   "outputs": [],
   "source": [
    "# Using Plotly or Seaborn plot out the intertias and find the elbow value\n",
    "\n",
    "\n",
    "\n",
    "\n",
    "\n",
    "\n",
    "# Type your code above this line"
   ]
  },
  {
   "cell_type": "code",
   "execution_count": 7,
   "id": "c4242895",
   "metadata": {},
   "outputs": [],
   "source": [
    "# Run the KMeans algorithm with the selected Cluster value\n",
    "\n",
    "\n",
    "\n",
    "\n",
    "\n",
    "\n",
    "# Type your code above this line"
   ]
  },
  {
   "cell_type": "code",
   "execution_count": 8,
   "id": "dea87b99",
   "metadata": {},
   "outputs": [],
   "source": [
    "# Plot the cluster breakdown using the labels from the KMeans algorithm across 2 columns of your choice\n",
    "# Plot the centers of each cluster as well\n",
    "\n",
    "# What does the clustering look like?  Is this is a good data set to use for KMeans clustering?\n",
    "\n",
    "\n",
    "\n",
    "\n",
    "\n",
    "\n",
    "# Type your code above this line"
   ]
  },
  {
   "cell_type": "code",
   "execution_count": 9,
   "id": "f5a62971",
   "metadata": {},
   "outputs": [],
   "source": [
    "# Objective: Compare our labels with the labels of the dataframe\n",
    "# We now want to categorize the Price column so that the categories can be compared to the labels from KMeans\n",
    "# Draw a histplot of the Price column\n",
    "\n",
    "\n",
    "\n",
    "\n",
    "# Type your code above this line"
   ]
  },
  {
   "cell_type": "code",
   "execution_count": 10,
   "id": "d85baf95",
   "metadata": {},
   "outputs": [],
   "source": [
    "# Find the min and max and divide by 5 to get the bin ranges\n",
    "\n",
    "\n",
    "\n",
    "\n",
    "\n",
    "# Type your code above this line"
   ]
  },
  {
   "cell_type": "code",
   "execution_count": 11,
   "id": "c82e5700",
   "metadata": {},
   "outputs": [],
   "source": [
    "# Using cut and the bin range from above, create a new column with the new categorical classification\n",
    "\n",
    "\n",
    "\n",
    "\n",
    "\n",
    "\n",
    "# Type your code above this line"
   ]
  },
  {
   "cell_type": "code",
   "execution_count": 12,
   "id": "4860e154",
   "metadata": {},
   "outputs": [],
   "source": [
    "# run a classification report and confusion Matrix\n",
    "\n",
    "\n",
    "\n",
    "\n",
    "# Type your code above this line"
   ]
  },
  {
   "cell_type": "code",
   "execution_count": 13,
   "id": "53834f9f",
   "metadata": {},
   "outputs": [],
   "source": [
    "# Find the model score\n",
    "\n",
    "\n",
    "\n",
    "\n",
    "\n",
    "# Type your code above this line"
   ]
  },
  {
   "cell_type": "code",
   "execution_count": 14,
   "id": "f1d4627a",
   "metadata": {},
   "outputs": [],
   "source": [
    "# Find the silhouette Score\n",
    "\n",
    "\n",
    "\n",
    "\n",
    "\n",
    "# Type your code above this line"
   ]
  },
  {
   "cell_type": "code",
   "execution_count": null,
   "id": "dd8be744",
   "metadata": {},
   "outputs": [],
   "source": []
  },
  {
   "cell_type": "code",
   "execution_count": null,
   "id": "2fd49374",
   "metadata": {},
   "outputs": [],
   "source": []
  },
  {
   "cell_type": "code",
   "execution_count": null,
   "id": "1629d595",
   "metadata": {},
   "outputs": [],
   "source": []
  },
  {
   "cell_type": "code",
   "execution_count": null,
   "id": "1fd2125d",
   "metadata": {},
   "outputs": [],
   "source": []
  },
  {
   "cell_type": "code",
   "execution_count": null,
   "id": "5ceb7772",
   "metadata": {},
   "outputs": [],
   "source": []
  },
  {
   "cell_type": "code",
   "execution_count": null,
   "id": "2e48e085",
   "metadata": {},
   "outputs": [],
   "source": []
  },
  {
   "cell_type": "code",
   "execution_count": null,
   "id": "c64333d9",
   "metadata": {},
   "outputs": [],
   "source": []
  },
  {
   "cell_type": "code",
   "execution_count": null,
   "id": "6247a480",
   "metadata": {},
   "outputs": [],
   "source": []
  },
  {
   "cell_type": "code",
   "execution_count": null,
   "id": "3d21994a",
   "metadata": {},
   "outputs": [],
   "source": []
  },
  {
   "cell_type": "code",
   "execution_count": null,
   "id": "1ce9aece",
   "metadata": {},
   "outputs": [],
   "source": []
  },
  {
   "cell_type": "code",
   "execution_count": null,
   "id": "c2f3344c",
   "metadata": {},
   "outputs": [],
   "source": []
  },
  {
   "cell_type": "code",
   "execution_count": null,
   "id": "6480b448",
   "metadata": {},
   "outputs": [],
   "source": []
  },
  {
   "cell_type": "code",
   "execution_count": null,
   "id": "a1410ab1",
   "metadata": {},
   "outputs": [],
   "source": []
  }
 ],
 "metadata": {
  "kernelspec": {
   "display_name": "Python 3 (ipykernel)",
   "language": "python",
   "name": "python3"
  },
  "language_info": {
   "codemirror_mode": {
    "name": "ipython",
    "version": 3
   },
   "file_extension": ".py",
   "mimetype": "text/x-python",
   "name": "python",
   "nbconvert_exporter": "python",
   "pygments_lexer": "ipython3",
   "version": "3.9.12"
  }
 },
 "nbformat": 4,
 "nbformat_minor": 5
}
