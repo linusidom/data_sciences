{
 "cells": [
  {
   "attachments": {},
   "cell_type": "markdown",
   "id": "fb5911d8",
   "metadata": {},
   "source": [
    "# Tensor Flow Model Binary Classification Exercises\n",
    "\n",
    "Dataset https://www.kaggle.com/datasets/kandij/diabetes-dataset"
   ]
  },
  {
   "cell_type": "code",
   "execution_count": null,
   "id": "35730b1d",
   "metadata": {},
   "outputs": [],
   "source": []
  },
  {
   "cell_type": "code",
   "execution_count": 50,
   "id": "1e716845",
   "metadata": {},
   "outputs": [],
   "source": [
    "# Import the necessary libraries\n",
    "# Pandas, Numpy, Seaborn\n",
    "# SKLearn - train_test_split, MinMaxScaler, confusion_matrix, classification report\n",
    "# TensorFlow - Sequential, Dense, Dropout, EarlyStopping\n",
    "\n",
    "\n",
    "\n",
    "\n",
    "\n",
    "\n",
    "# Type your code above this line"
   ]
  },
  {
   "cell_type": "code",
   "execution_count": 49,
   "id": "3ff704de",
   "metadata": {},
   "outputs": [],
   "source": [
    "# Load the Diabetes Dataset into a dataframe\n",
    "\n",
    "\n",
    "\n",
    "\n",
    "\n",
    "# Type your code above this line"
   ]
  },
  {
   "cell_type": "code",
   "execution_count": 48,
   "id": "a17bb2bf",
   "metadata": {},
   "outputs": [],
   "source": [
    "# How many features/columns of attribute data are there?\n",
    "\n",
    "\n",
    "\n",
    "\n",
    "\n",
    "# Type your code above this line"
   ]
  },
  {
   "cell_type": "code",
   "execution_count": 47,
   "id": "2567ef85",
   "metadata": {},
   "outputs": [],
   "source": [
    "# Create a countplot for the Outcome\n",
    "\n",
    "\n",
    "\n",
    "\n",
    "\n",
    "# Type your code above this line"
   ]
  },
  {
   "cell_type": "code",
   "execution_count": 46,
   "id": "b3cf4744",
   "metadata": {},
   "outputs": [],
   "source": [
    "# Find out if any of the columns have a highcorrelation with the outcome\n",
    "# Plot a bar plot\n",
    "\n",
    "\n",
    "\n",
    "\n",
    "\n",
    "\n",
    "# Type your code above this line"
   ]
  },
  {
   "cell_type": "code",
   "execution_count": 45,
   "id": "64e22bef",
   "metadata": {},
   "outputs": [],
   "source": [
    "# Train test split the data\n",
    "\n",
    "\n",
    "\n",
    "\n",
    "# Type your code above this line"
   ]
  },
  {
   "cell_type": "code",
   "execution_count": 44,
   "id": "79384d74",
   "metadata": {},
   "outputs": [],
   "source": [
    "# Min Max Scale the data\n",
    "\n",
    "\n",
    "\n",
    "\n",
    "\n",
    "# Type your code above this line"
   ]
  },
  {
   "cell_type": "code",
   "execution_count": 43,
   "id": "d5aa1e0f",
   "metadata": {},
   "outputs": [],
   "source": [
    "# What is the min value of the X_train data set?\n",
    "\n",
    "\n",
    "\n",
    "\n",
    "\n",
    "\n",
    "# Type your code above this line"
   ]
  },
  {
   "cell_type": "code",
   "execution_count": 42,
   "id": "39365e21",
   "metadata": {},
   "outputs": [],
   "source": [
    "# What is the min value of the X_test data set?\n",
    "\n",
    "\n",
    "\n",
    "\n",
    "# Type your code above this line"
   ]
  },
  {
   "cell_type": "code",
   "execution_count": 41,
   "id": "3e2f23f4",
   "metadata": {},
   "outputs": [],
   "source": [
    "# Model Creation and setup\n",
    "\n",
    "# create the model\n",
    "# Add 3 Layers, each with 9 units using the relu activation\n",
    "# Create a 4th layer with 1 unit and sigmoid as the activation\n",
    "# Use the adam optimizer with the loss value as binary_crossentropy\n",
    "# Train the model with 500 epochs as include the validation_data as well\n",
    "\n",
    "\n",
    "\n",
    "\n",
    "\n",
    "\n",
    "\n",
    "# Type your code above this line"
   ]
  },
  {
   "cell_type": "code",
   "execution_count": 40,
   "id": "294e31e5",
   "metadata": {},
   "outputs": [],
   "source": [
    "# Map the losses\n",
    "\n",
    "# Is the data overfit or underfit?\n",
    "\n",
    "\n",
    "\n",
    "\n",
    "\n",
    "# Type your code above this line"
   ]
  },
  {
   "cell_type": "code",
   "execution_count": null,
   "id": "ff521d07",
   "metadata": {},
   "outputs": [],
   "source": []
  },
  {
   "cell_type": "code",
   "execution_count": 39,
   "id": "b20dcddd",
   "metadata": {},
   "outputs": [],
   "source": [
    "# Second Model Execution - Recreate the model this time with EarlyStopping\n",
    "\n",
    "# EarlyStopping will monitor 'val_loss' for the 'min' and stop after 25 epochs of consistent data\n",
    "\n",
    "\n",
    "\n",
    "\n",
    "\n",
    "\n",
    "\n",
    "# Type your code above this line"
   ]
  },
  {
   "cell_type": "code",
   "execution_count": 38,
   "id": "fbec06e9",
   "metadata": {},
   "outputs": [],
   "source": [
    "# Plot the Losses of the second model execution\n",
    "\n",
    "\n",
    "\n",
    "\n",
    "\n",
    "\n",
    "# Type your code above this line"
   ]
  },
  {
   "cell_type": "code",
   "execution_count": null,
   "id": "c567fba2",
   "metadata": {},
   "outputs": [],
   "source": []
  },
  {
   "cell_type": "code",
   "execution_count": 37,
   "id": "d52e2808",
   "metadata": {},
   "outputs": [],
   "source": [
    "# Third Model Execution - Add Dropouts of 20% to each layer\n",
    "\n",
    "\n",
    "\n",
    "\n",
    "\n",
    "\n",
    "\n",
    "# Type your code above this line"
   ]
  },
  {
   "cell_type": "code",
   "execution_count": 36,
   "id": "ae3e3c08",
   "metadata": {},
   "outputs": [],
   "source": [
    "# Plot the losses of the Third Execution\n",
    "\n",
    "\n",
    "\n",
    "\n",
    "\n",
    "# Type your code above this line"
   ]
  },
  {
   "cell_type": "code",
   "execution_count": 35,
   "id": "a3f8b4a1",
   "metadata": {},
   "outputs": [],
   "source": [
    "# Run the predictions for the model\n",
    "# Don't forget to adjust the output so it reports back 0's and 1's instead of a confidence float value\n",
    "\n",
    "\n",
    "\n",
    "\n",
    "\n",
    "# Type your code above this line"
   ]
  },
  {
   "cell_type": "code",
   "execution_count": 34,
   "id": "302109eb",
   "metadata": {},
   "outputs": [],
   "source": [
    "# Run the confusion matrix and classification report\n",
    "\n",
    "\n",
    "\n",
    "\n",
    "\n",
    "# Type your code above this line"
   ]
  },
  {
   "cell_type": "code",
   "execution_count": 33,
   "id": "ef2d195b",
   "metadata": {},
   "outputs": [],
   "source": [
    "# Take the first entry from the dataframe and feed it into the model.predict method\n",
    "# Adjust the data so that it is scaled and shaped correctly\n",
    "# Is the predictions accurate?\n",
    "\n",
    "\n",
    "\n",
    "\n",
    "# Type your code above this line"
   ]
  },
  {
   "cell_type": "code",
   "execution_count": null,
   "id": "f144d4b3",
   "metadata": {},
   "outputs": [],
   "source": []
  },
  {
   "cell_type": "code",
   "execution_count": null,
   "id": "0ce3fd96",
   "metadata": {},
   "outputs": [],
   "source": []
  },
  {
   "cell_type": "code",
   "execution_count": null,
   "id": "f7d1f4d8",
   "metadata": {},
   "outputs": [],
   "source": []
  },
  {
   "cell_type": "code",
   "execution_count": null,
   "id": "3db82ee6",
   "metadata": {},
   "outputs": [],
   "source": []
  },
  {
   "cell_type": "code",
   "execution_count": null,
   "id": "acb0d574",
   "metadata": {},
   "outputs": [],
   "source": []
  },
  {
   "cell_type": "code",
   "execution_count": null,
   "id": "c38dbded",
   "metadata": {},
   "outputs": [],
   "source": []
  },
  {
   "cell_type": "code",
   "execution_count": null,
   "id": "2a5f668c",
   "metadata": {},
   "outputs": [],
   "source": []
  },
  {
   "cell_type": "code",
   "execution_count": null,
   "id": "f1687997",
   "metadata": {},
   "outputs": [],
   "source": []
  },
  {
   "cell_type": "code",
   "execution_count": null,
   "id": "3ee2df61",
   "metadata": {},
   "outputs": [],
   "source": []
  },
  {
   "cell_type": "code",
   "execution_count": null,
   "id": "cc42c683",
   "metadata": {},
   "outputs": [],
   "source": []
  },
  {
   "cell_type": "code",
   "execution_count": null,
   "id": "a1401d4d",
   "metadata": {},
   "outputs": [],
   "source": []
  },
  {
   "cell_type": "code",
   "execution_count": null,
   "id": "718250d0",
   "metadata": {},
   "outputs": [],
   "source": []
  },
  {
   "cell_type": "code",
   "execution_count": null,
   "id": "1587600b",
   "metadata": {},
   "outputs": [],
   "source": []
  },
  {
   "cell_type": "code",
   "execution_count": null,
   "id": "86b4f264",
   "metadata": {},
   "outputs": [],
   "source": []
  },
  {
   "cell_type": "code",
   "execution_count": null,
   "id": "a8b6b68e",
   "metadata": {},
   "outputs": [],
   "source": []
  },
  {
   "cell_type": "code",
   "execution_count": null,
   "id": "6505e46d",
   "metadata": {},
   "outputs": [],
   "source": []
  },
  {
   "cell_type": "code",
   "execution_count": null,
   "id": "ca3b6704",
   "metadata": {},
   "outputs": [],
   "source": []
  },
  {
   "cell_type": "code",
   "execution_count": null,
   "id": "d95eac46",
   "metadata": {},
   "outputs": [],
   "source": []
  },
  {
   "cell_type": "code",
   "execution_count": null,
   "id": "91ef14b1",
   "metadata": {},
   "outputs": [],
   "source": []
  },
  {
   "cell_type": "code",
   "execution_count": null,
   "id": "57458ea1",
   "metadata": {},
   "outputs": [],
   "source": []
  },
  {
   "cell_type": "code",
   "execution_count": null,
   "id": "6bd6f161",
   "metadata": {},
   "outputs": [],
   "source": []
  },
  {
   "cell_type": "code",
   "execution_count": null,
   "id": "11209c78",
   "metadata": {},
   "outputs": [],
   "source": []
  },
  {
   "cell_type": "code",
   "execution_count": null,
   "id": "2cac3eea",
   "metadata": {},
   "outputs": [],
   "source": []
  },
  {
   "cell_type": "code",
   "execution_count": null,
   "id": "779f51e1",
   "metadata": {},
   "outputs": [],
   "source": []
  },
  {
   "cell_type": "code",
   "execution_count": null,
   "id": "eab07362",
   "metadata": {},
   "outputs": [],
   "source": []
  }
 ],
 "metadata": {
  "kernelspec": {
   "display_name": "Python 3 (ipykernel)",
   "language": "python",
   "name": "python3"
  },
  "language_info": {
   "codemirror_mode": {
    "name": "ipython",
    "version": 3
   },
   "file_extension": ".py",
   "mimetype": "text/x-python",
   "name": "python",
   "nbconvert_exporter": "python",
   "pygments_lexer": "ipython3",
   "version": "3.9.12"
  }
 },
 "nbformat": 4,
 "nbformat_minor": 5
}
