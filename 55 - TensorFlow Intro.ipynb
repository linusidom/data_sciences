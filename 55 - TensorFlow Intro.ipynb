{
 "cells": [
  {
   "cell_type": "markdown",
   "metadata": {
    "id": "YRttIrurynsD"
   },
   "source": [
    "# Tensor Flow - Deep Learning\n",
    "\n",
    "https://www.tensorflow.org/\n",
    "\n",
    "https://playground.tensorflow.org/\n",
    "\n",
    "### Theory\n",
    "\n",
    "#### What is a Tensor?\n",
    "\n",
    "In mathematics, a tensor is an algebraic object that describes a multilinear relationship between sets of algebraic objects related to a vector space\n",
    "\n",
    "Basically an equation that describes the relationship between different objects in the same space\n",
    "\n",
    "The bonus is that the ideas and concepts are really similar to Numpy and we can even manipulate data between the 2 libraries\n",
    "\n",
    "If you know Numpy, TensorFlow is understandable\n",
    "\n",
    "#### What is TensorFlow?\n",
    "\n",
    "Developed by Google, TensorFlow (TF) is an open source framework to run machine learning, deep learning and other predictive analytics workloads\n",
    "\n",
    "#### Why is TensorFlow so popular?\n",
    "\n",
    "They have a dedicated processor that allows calculations to be run really fast...GPU or Graphical Processing Unit\n",
    "\n",
    "Tensors are really good at organizing really large data sets in a way that makes them easy process at scale\n",
    "\n",
    "\n",
    "\n"
   ]
  },
  {
   "cell_type": "markdown",
   "metadata": {
    "id": "bVCylrjz7g6u"
   },
   "source": [
    "## What is Keras?\n",
    "\n",
    "A deep learning library that was developed to make TensorFlow easier to work with\n",
    "\n",
    "#### Do I need to know both?\n",
    "\n",
    "If this was pre-2017, then yes, you need to know both, but now you only need to know one\n",
    "\n",
    "Nope, TensorFlow has intergrated Keras into it's own library so plug and play just became a whole lot easier\n",
    "\n",
    "\n",
    "### What is TensorFlow / Keras trying to solve?\n",
    "\n",
    "SciKit Learn is great, it's a really good tool that gives us variety in ways to approach predictions with our data\n",
    "\n",
    "But it's a has huge downside...The requirement of having to tune each model separately\n",
    "\n",
    "What if there was a way to have the Algorithm tune itself to find the best fit for the data that we have?\n",
    "\n",
    "TensorFlow tries to solve this problem through filtering data through a Neural Network\n",
    "\n",
    "Before we get into the Neural Network, let's first understand the basic component of the Neural Network"
   ]
  },
  {
   "cell_type": "markdown",
   "metadata": {
    "id": "4N0sGD3Lz1Wi"
   },
   "source": [
    "## TensorFlow Architecture"
   ]
  },
  {
   "cell_type": "markdown",
   "metadata": {
    "id": "-QKHAHm-3kfA"
   },
   "source": [
    "### Neuron\n",
    "\n",
    "A neruon is a single function to calculate inputs and give an output\n",
    "\n",
    "The Neuron takes in an X value\n",
    "\n",
    "If there are multiple Neurons each neuron is assigned a W value or weight which is multiplied by the X Input value (X * W)\n",
    "\n",
    "Now in the event that X is 0, our output would also be 0, which doesn't make for a very good neural network so a Bias, B is added to prevent a 0 outcome (X * W + B)\n",
    "\n",
    "Taken all together based on the number of inputs we have\n",
    "\n",
    "X1 * W1 + B\n",
    "\n",
    "X2 * W2 + B1\n",
    "\n",
    "...\n",
    "\n",
    "Xn * Wn + B = Y\n",
    "\n",
    "<div>\n",
    "<img src=\"https://github.com/linusidom/data_sciences/blob/main/neuron.png?raw=true\" width=\"500\"/>\n",
    "</div>\n"
   ]
  },
  {
   "cell_type": "markdown",
   "metadata": {
    "id": "i0BcOgdj3lRv"
   },
   "source": [
    "### Neural Network\n",
    "\n",
    "Put many Neurons together and connect them up to each other and we get what is known as a neural network\n",
    "\n",
    "Each Neural Network Vertical Line is knows as a Layer\n",
    "\n",
    "<div>\n",
    "<img src=\"https://github.com/linusidom/data_sciences/blob/main/neural_network.png?raw=true\" width=\"500\"/>\n",
    "</div>\n",
    "\n",
    "### Activation Functions\n",
    "\n",
    "Each Neural Network Layer has what is called an Activation function\n",
    "\n",
    "Basically a standard way to process the data coming in\n",
    "\n",
    "Most common for beginners is the <i><b>Rectified linear unit (ReLU)</b></i>\n",
    "\n",
    "This is the one we will be using most often\n",
    "\n",
    "\n",
    "For more information on this:\n",
    "\n",
    "https://en.wikipedia.org/wiki/Activation_function\n",
    "\n",
    "### Propagation\n",
    "\n",
    "The process of sending data from one layer to the next is called propagation. There are two types of propagation: forward propagation and backward propagation.\n",
    "\n",
    "###### Forward Propagation\n",
    "\n",
    "The data moves from input to hidden layer to output\n",
    "\n",
    "It ends in a prediction based on the input\n",
    "\n",
    "###### Backward Propagation\n",
    "\n",
    "The Prediction travels backwards towards the input while tracking the error rate\n",
    "\n",
    "The error rate is used to modify the weights and biases of each neuron, giving the neurons with a higher error rate a greater adjustment\n",
    "\n",
    "Through re-adjustment within the hidden layers, the neural network can predict with greater accuracy the line of best fit for the data\n",
    "\n"
   ]
  },
  {
   "cell_type": "markdown",
   "metadata": {
    "id": "oz3DNqkj35J5"
   },
   "source": [
    "### How Many Layers/Nodes should I have?\n",
    "\n",
    "\"Very simple. Just keep adding layers until the test error does not improve anymore.\" - Yoshua Bengio\n",
    "\n",
    "#### Layers\n",
    "\n",
    "Number of Input Layers * 2 or 3 + the number of Output Layers = Number of Layers\n",
    "\n",
    "Simple examples\n",
    "\n",
    "1 input and 1 output\n",
    "\n",
    "1 input * 2 + 1 output = 3 Neural Network Layers\n",
    "\n",
    "2 input * 2 + 1 output = 5 Neural Network Layers\n",
    "\n",
    "#### Nodes\n",
    "\n",
    "Tunable paramter\n",
    "\n",
    "Start with 1 node per feature in the dataset\n",
    "\n",
    "If the dataset is too small or has too few features, start with a default of 4 nodes x 3 layers"
   ]
  },
  {
   "cell_type": "markdown",
   "metadata": {
    "id": "H0xKkmtBz1rf"
   },
   "source": [
    "## Our First Tensor Flow Model\n",
    "\n",
    "#### Getting Started\n",
    "\n",
    "Import the libraries\n",
    "\n",
    "```\n",
    "from tensorflow.keras.models import Sequential\n",
    "from tensorflow.keras.layers import Dense\n",
    "```\n",
    "\n",
    "Regression\n",
    "\n",
    "`from sklearn.datasets import fetch_california_housing`\n",
    "\n",
    "Classification\n",
    "\n",
    "`from sklearn.datasets import load_iris`\n"
   ]
  },
  {
   "cell_type": "markdown",
   "metadata": {
    "id": "dzlataYb0pD7"
   },
   "source": [
    "### Clean, Manipulate and Prepare the data\n",
    "\n",
    "#### Train Test Split\n",
    "\n",
    "For TensorFlow, values are more important than dataframes\n",
    "\n",
    "```\n",
    "X = df[df.columns[1:]].values\n",
    "y = df['price'].values\n",
    "X_train, X_test, y_train, y_test = train_test_split(X, y, test_size=0.30, random_state=42)\n",
    "```\n",
    "\n",
    "#### Scaling the data\n",
    "\n",
    "\n",
    "It is important to scale the data to the X_train data set, not both\n",
    "\n",
    "Fit to the X_train data only\n",
    "\n",
    "Apply the X_train fit scaler to both datasets\n",
    "\n",
    "This ensures that both datasets are normalized in the same way\n",
    "\n",
    "```\n",
    "scaler = MinMaxScaler()\n",
    "scaler.fit(X_train)\n",
    "X_train = scaler.transform(X_train)\n",
    "X_test = scaler.transform(X_test)\n",
    "` ``\n",
    "\n",
    "Check, the min for X_train should be 0.0 and the min for X_test should not be 0.0\n",
    "\n",
    "```\n",
    "X_train.min() -> 0.0\n",
    "X_test.min() -> -0.014 (my dataset)\n",
    "```\n",
    "\n"
   ]
  },
  {
   "cell_type": "markdown",
   "metadata": {
    "id": "72qqyBo70ptI"
   },
   "source": [
    "### Training the model\n",
    "\n",
    "There are a few Key concepts here\n",
    "\n",
    "Instantiation\n",
    "\n",
    "Layers - How many Neural Networks do we want\n",
    "\n",
    "Compilation - What algorithm type to use to train our model\n",
    "\n",
    "### Instantiation\n",
    "\n",
    "`model = Sequential()`\n",
    "\n",
    "\n",
    "### Layers\n",
    "\n",
    "How to setup each Hidden Neural Network\n",
    "\n",
    "The number of nodes in each layer can be the number of features in our data set\n",
    "\n",
    "Number of Input Layers * 2 or 3 + the number of Output Layers = Number of Layers\n",
    "\n",
    "#### Hidden Layers\n",
    "\n",
    "```\n",
    "model.add(Dense(10,activation='relu') # (required)\n",
    "model.add(Dense(10,activation='relu') # (optional)\n",
    "model.add(Dense(10,activation='relu') # (optional)\n",
    "```\n",
    "\n",
    "\n",
    "#### Output Layer\n",
    "\n",
    "`model.add(Dense(1)) # Output layer (required)`\n",
    "\n",
    "\n",
    "### Compile\n",
    "\n",
    "`optimizer` -> similar to the algorithm in SKLearn, how do we want to evaluate the data\n",
    "- For regression the best choices are either `adam` or `rmsprop`\n",
    "- Both are adaptive Optimzers\n",
    "- For more optimizers - https://www.tensorflow.org/api_docs/python/tf/keras/optimizers/\n",
    "\n",
    "`loss` -> What metric are we trying to decrease in our back propagation\n",
    "\n",
    "`model.compile(optimizer='adam',  loss='mse')`\n",
    "\n",
    "OR\n",
    "\n",
    "With Customizable Optimizer and Loss Function\n",
    "\n",
    "```\n",
    "model.compile(\n",
    "  optimizer=tensorflow.keras.optimizers.Adam(learning_rate=0.001), \n",
    "  loss=tf.keras.losses.MeanSquaredError()\n",
    "```\n",
    "\n",
    "\n",
    "### Fit\n",
    "\n",
    "Fit the model with the training data\n",
    "\n",
    "`epochs` (optional) -> number of times the model will run and try to improve upon itself\n",
    "\n",
    "`validation_data` (optional) ->  Compare against the actual data to check against overfit/underfit, not used in calcualtion however added to `model.history.history` output\n",
    "\n",
    "`batch_size` (optional) -> Chunk down the data to test against (will go slower but hopefully provides a higer overall accuracy)\n",
    "\n",
    "\n",
    "```\n",
    "model.fit(\n",
    "  X_train,\n",
    "  y_train,\n",
    "  epochs=250,\n",
    "  verbose=2,\n",
    "  validation_data=(X_test, y_test),\n",
    "  batch_size=256)\n",
    "```\n",
    "\n",
    "\n",
    "\n",
    "\n"
   ]
  },
  {
   "cell_type": "markdown",
   "metadata": {
    "id": "LDsR0OzP0qKV"
   },
   "source": [
    "### Pre-Prediciton Metrics\n",
    "\n",
    "### Loss vs Validation\n",
    "\n",
    "Get the history of the model so that we can visualize what it did\n",
    "\n",
    "```\n",
    "model.history.history\n",
    "history_df = pd.DataFrame(model.history.history)\n",
    "history_df.plot()\n",
    "```\n",
    "\n",
    "OR\n",
    "\n",
    "`pd.DataFrame(model.history.history).plot()`\n",
    "\n",
    "<div>\n",
    "<img src=\"https://github.com/linusidom/data_sciences/blob/main/tf_loss_curve_1.png?raw=true\" width=\"500\"/>\n",
    "</div>\n",
    "\n",
    "\n",
    "If we have added validation to the `model.fit`, then we can see the data against our testing set\n",
    "\n",
    "<div>\n",
    "<img src=\"https://github.com/linusidom/data_sciences/blob/main/tf_loss_curve_2.png?raw=true\" width=\"500\"/>\n",
    "</div>\n"
   ]
  },
  {
   "cell_type": "markdown",
   "metadata": {
    "id": "WXYT5d150qZP"
   },
   "source": [
    "### Predictions\n",
    "\n",
    "`test_predictions = model.predict(X_test)`\n",
    "\n",
    "## Evaluations\n",
    "\n",
    "We can evaluate the training data and the test data\n",
    "\n",
    "```\n",
    "model.evaluate(X_test, y_test, verbose=1)\n",
    "model.evaluate(X_train, y_train, verbose=1)\n",
    "```\n",
    "\n",
    "#### Scatterplot\n",
    "\n",
    "`plt.scatter(x=test_predictions, y=y_test)`\n",
    "\n",
    "#### MAE and RMSE\n",
    "\n",
    "```\n",
    "mean_absolute_error(y_test, test_predictions)\n",
    "np.sqrt(mean_squared_error(y_test, test_predictions))\n",
    "```\n",
    "\n",
    "#### Score\n",
    "\n",
    "`explained_variance_score(y_test, predictions)`"
   ]
  },
  {
   "cell_type": "markdown",
   "metadata": {
    "id": "GaCs-Gogg4ur"
   },
   "source": [
    "### Tuning ideas\n",
    "\n",
    "  Here are some options that we can take action on right away\n",
    "\n",
    "  - Increase/Decrease layers\n",
    "  - Increase/Decrease the number of units per layer\n",
    "  - Change the activation functions\n",
    "  - Change the learning rate\n",
    "  - Change the optimization function\n",
    "  - Fit on more data\n",
    "  - Transfer Learning...\n",
    "   - Built In Models within TensorFlow\n",
    "   - TensorFlow Hub\n",
    "\n",
    "#### Callbacks\n",
    "\n",
    "- EarlyStopping\n",
    " - Track a property and stop when that property stops improving\n",
    "- LearningRateScheduler\n",
    " - Change the learning rate dynamically to find the best learning rate\n",
    "- ReduceLROnPlateau\n",
    " - Reduce learning rate when a metric has stopped improving."
   ]
  },
  {
   "cell_type": "code",
   "execution_count": 80,
   "metadata": {
    "id": "Ee9-IwIUrqFF"
   },
   "outputs": [],
   "source": [
    "import tensorflow as tf\n",
    "import pandas as pd\n",
    "import numpy as np\n",
    "import matplotlib.pyplot as plt\n",
    "\n"
   ]
  },
  {
   "cell_type": "markdown",
   "metadata": {
    "id": "x8KehX3Okhuu"
   },
   "source": [
    "### What is a Tensor\n",
    "\n",
    "No different than Numpy but with an arrangement of data that can run on a special Processor called a GPU...Graphical Processing Unit"
   ]
  },
  {
   "cell_type": "code",
   "execution_count": 81,
   "metadata": {
    "id": "Ef3oqhiQt-2i"
   },
   "outputs": [],
   "source": [
    "tensor_1 = tf.constant(10)"
   ]
  },
  {
   "cell_type": "code",
   "execution_count": 82,
   "metadata": {
    "colab": {
     "base_uri": "https://localhost:8080/"
    },
    "id": "HeIaSFT3_z3P",
    "outputId": "af1a2f29-d4ed-428d-88bd-fb8f6fed55ea"
   },
   "outputs": [
    {
     "data": {
      "text/plain": [
       "<tf.Tensor: shape=(), dtype=int32, numpy=10>"
      ]
     },
     "execution_count": 82,
     "metadata": {},
     "output_type": "execute_result"
    }
   ],
   "source": [
    "tensor_1"
   ]
  },
  {
   "cell_type": "code",
   "execution_count": 83,
   "metadata": {
    "id": "1gkA6tFQ_z9H"
   },
   "outputs": [],
   "source": [
    "tensor_2 = tf.constant([10,11])"
   ]
  },
  {
   "cell_type": "code",
   "execution_count": 84,
   "metadata": {
    "colab": {
     "base_uri": "https://localhost:8080/"
    },
    "id": "L0I59vQt_0C_",
    "outputId": "8dcb3e21-1607-409d-fe19-018bd437dda0"
   },
   "outputs": [
    {
     "data": {
      "text/plain": [
       "<tf.Tensor: shape=(2,), dtype=int32, numpy=array([10, 11], dtype=int32)>"
      ]
     },
     "execution_count": 84,
     "metadata": {},
     "output_type": "execute_result"
    }
   ],
   "source": [
    "tensor_2"
   ]
  },
  {
   "cell_type": "code",
   "execution_count": 85,
   "metadata": {
    "id": "l6HH5K8V_0I_"
   },
   "outputs": [],
   "source": [
    "tensor_3 = tf.constant([\n",
    "    [10,11],\n",
    "    [12,13]\n",
    "])"
   ]
  },
  {
   "cell_type": "code",
   "execution_count": 86,
   "metadata": {
    "colab": {
     "base_uri": "https://localhost:8080/"
    },
    "id": "MQVWlgUf_0Ov",
    "outputId": "22994bcf-a63a-4dfc-ca16-d1996216d6a4"
   },
   "outputs": [
    {
     "data": {
      "text/plain": [
       "<tf.Tensor: shape=(2, 2), dtype=int32, numpy=\n",
       "array([[10, 11],\n",
       "       [12, 13]], dtype=int32)>"
      ]
     },
     "execution_count": 86,
     "metadata": {},
     "output_type": "execute_result"
    }
   ],
   "source": [
    "tensor_3"
   ]
  },
  {
   "cell_type": "code",
   "execution_count": 87,
   "metadata": {
    "id": "ldyrxGYh_0Uv"
   },
   "outputs": [],
   "source": [
    "tensor_4 = tf.random.uniform([5,6])"
   ]
  },
  {
   "cell_type": "code",
   "execution_count": 88,
   "metadata": {
    "colab": {
     "base_uri": "https://localhost:8080/"
    },
    "id": "BSziMfxoGKiQ",
    "outputId": "a78dd7d4-506b-4c80-edaf-96857c754dfe"
   },
   "outputs": [
    {
     "data": {
      "text/plain": [
       "<tf.Tensor: shape=(5, 6), dtype=float32, numpy=\n",
       "array([[0.96590316, 0.03349841, 0.9000765 , 0.09889817, 0.5032494 ,\n",
       "        0.31573117],\n",
       "       [0.7322906 , 0.7691349 , 0.68907595, 0.17229748, 0.30730247,\n",
       "        0.38062942],\n",
       "       [0.84825385, 0.96359396, 0.3176906 , 0.3373686 , 0.09644198,\n",
       "        0.855096  ],\n",
       "       [0.6229923 , 0.11116111, 0.6778214 , 0.9896915 , 0.6364535 ,\n",
       "        0.6346048 ],\n",
       "       [0.48070657, 0.67966056, 0.22904813, 0.5128678 , 0.82484806,\n",
       "        0.9024707 ]], dtype=float32)>"
      ]
     },
     "execution_count": 88,
     "metadata": {},
     "output_type": "execute_result"
    }
   ],
   "source": [
    "tensor_4"
   ]
  },
  {
   "cell_type": "code",
   "execution_count": 92,
   "metadata": {
    "id": "Dn-vtcCjGKtA"
   },
   "outputs": [],
   "source": [
    "tensor_5 = tf.reshape(tensor_4, [3,5,2])"
   ]
  },
  {
   "cell_type": "code",
   "execution_count": 96,
   "metadata": {
    "colab": {
     "base_uri": "https://localhost:8080/"
    },
    "id": "2AMJszsKG2GC",
    "outputId": "490b37a7-1b77-4a77-8670-4f5fdfbaa854"
   },
   "outputs": [
    {
     "data": {
      "text/plain": [
       "<tf.Tensor: shape=(3, 5, 2), dtype=float32, numpy=\n",
       "array([[[0.96590316, 0.03349841],\n",
       "        [0.9000765 , 0.09889817],\n",
       "        [0.5032494 , 0.31573117],\n",
       "        [0.7322906 , 0.7691349 ],\n",
       "        [0.68907595, 0.17229748]],\n",
       "\n",
       "       [[0.30730247, 0.38062942],\n",
       "        [0.84825385, 0.96359396],\n",
       "        [0.3176906 , 0.3373686 ],\n",
       "        [0.09644198, 0.855096  ],\n",
       "        [0.6229923 , 0.11116111]],\n",
       "\n",
       "       [[0.6778214 , 0.9896915 ],\n",
       "        [0.6364535 , 0.6346048 ],\n",
       "        [0.48070657, 0.67966056],\n",
       "        [0.22904813, 0.5128678 ],\n",
       "        [0.82484806, 0.9024707 ]]], dtype=float32)>"
      ]
     },
     "execution_count": 96,
     "metadata": {},
     "output_type": "execute_result"
    }
   ],
   "source": [
    "tensor_5"
   ]
  },
  {
   "cell_type": "code",
   "execution_count": 101,
   "metadata": {
    "colab": {
     "base_uri": "https://localhost:8080/"
    },
    "id": "_fHJDC-VGK3Q",
    "outputId": "5a2248f0-b689-48bd-859e-698e1d93073d"
   },
   "outputs": [
    {
     "data": {
      "text/plain": [
       "<tf.Tensor: shape=(2, 2), dtype=float32, numpy=\n",
       "array([[0.84825385, 0.3176906 ],\n",
       "       [0.6364535 , 0.48070657]], dtype=float32)>"
      ]
     },
     "execution_count": 101,
     "metadata": {},
     "output_type": "execute_result"
    }
   ],
   "source": [
    "tensor_5[-2:,1:3,0]"
   ]
  },
  {
   "cell_type": "code",
   "execution_count": 104,
   "metadata": {
    "colab": {
     "base_uri": "https://localhost:8080/"
    },
    "id": "i7vj6GwpGLBQ",
    "outputId": "0eadd564-f588-44a2-e938-7ca8b0574e3d"
   },
   "outputs": [
    {
     "data": {
      "text/plain": [
       "<tf.Tensor: shape=(1, 3, 5, 2), dtype=float32, numpy=\n",
       "array([[[[0.96590316, 0.03349841],\n",
       "         [0.9000765 , 0.09889817],\n",
       "         [0.5032494 , 0.31573117],\n",
       "         [0.7322906 , 0.7691349 ],\n",
       "         [0.68907595, 0.17229748]],\n",
       "\n",
       "        [[0.30730247, 0.38062942],\n",
       "         [0.84825385, 0.96359396],\n",
       "         [0.3176906 , 0.3373686 ],\n",
       "         [0.09644198, 0.855096  ],\n",
       "         [0.6229923 , 0.11116111]],\n",
       "\n",
       "        [[0.6778214 , 0.9896915 ],\n",
       "         [0.6364535 , 0.6346048 ],\n",
       "         [0.48070657, 0.67966056],\n",
       "         [0.22904813, 0.5128678 ],\n",
       "         [0.82484806, 0.9024707 ]]]], dtype=float32)>"
      ]
     },
     "execution_count": 104,
     "metadata": {},
     "output_type": "execute_result"
    }
   ],
   "source": [
    "tf.expand_dims(tensor_5, axis=0)"
   ]
  },
  {
   "cell_type": "code",
   "execution_count": 112,
   "metadata": {
    "id": "n22MGGj4GLLZ"
   },
   "outputs": [],
   "source": [
    "from sklearn.datasets import fetch_california_housing\n",
    "\n",
    "from sklearn.model_selection import train_test_split\n",
    "from sklearn.preprocessing import MinMaxScaler\n",
    "from sklearn.metrics import mean_absolute_error"
   ]
  },
  {
   "cell_type": "markdown",
   "metadata": {
    "id": "HfJcJgrNkWSg"
   },
   "source": [
    "### Read in the Data into a DataFrame"
   ]
  },
  {
   "cell_type": "code",
   "execution_count": 106,
   "metadata": {
    "id": "BziMGhPI_3Xu"
   },
   "outputs": [],
   "source": [
    "data = fetch_california_housing()"
   ]
  },
  {
   "cell_type": "code",
   "execution_count": 108,
   "metadata": {
    "id": "raWIifE2_3nu"
   },
   "outputs": [],
   "source": [
    "df = pd.DataFrame(data.data, columns=data.feature_names)"
   ]
  },
  {
   "cell_type": "code",
   "execution_count": 109,
   "metadata": {
    "colab": {
     "base_uri": "https://localhost:8080/",
     "height": 424
    },
    "id": "B4irhk4E_3tu",
    "outputId": "18e4c128-cc9b-44e9-9ff0-c269d61f5e0b"
   },
   "outputs": [
    {
     "data": {
      "text/html": [
       "\n",
       "  <div id=\"df-0bcd81b6-4930-489a-9153-d26cdbf48e72\">\n",
       "    <div class=\"colab-df-container\">\n",
       "      <div>\n",
       "<style scoped>\n",
       "    .dataframe tbody tr th:only-of-type {\n",
       "        vertical-align: middle;\n",
       "    }\n",
       "\n",
       "    .dataframe tbody tr th {\n",
       "        vertical-align: top;\n",
       "    }\n",
       "\n",
       "    .dataframe thead th {\n",
       "        text-align: right;\n",
       "    }\n",
       "</style>\n",
       "<table border=\"1\" class=\"dataframe\">\n",
       "  <thead>\n",
       "    <tr style=\"text-align: right;\">\n",
       "      <th></th>\n",
       "      <th>MedInc</th>\n",
       "      <th>HouseAge</th>\n",
       "      <th>AveRooms</th>\n",
       "      <th>AveBedrms</th>\n",
       "      <th>Population</th>\n",
       "      <th>AveOccup</th>\n",
       "      <th>Latitude</th>\n",
       "      <th>Longitude</th>\n",
       "    </tr>\n",
       "  </thead>\n",
       "  <tbody>\n",
       "    <tr>\n",
       "      <th>0</th>\n",
       "      <td>8.3252</td>\n",
       "      <td>41.0</td>\n",
       "      <td>6.984127</td>\n",
       "      <td>1.023810</td>\n",
       "      <td>322.0</td>\n",
       "      <td>2.555556</td>\n",
       "      <td>37.88</td>\n",
       "      <td>-122.23</td>\n",
       "    </tr>\n",
       "    <tr>\n",
       "      <th>1</th>\n",
       "      <td>8.3014</td>\n",
       "      <td>21.0</td>\n",
       "      <td>6.238137</td>\n",
       "      <td>0.971880</td>\n",
       "      <td>2401.0</td>\n",
       "      <td>2.109842</td>\n",
       "      <td>37.86</td>\n",
       "      <td>-122.22</td>\n",
       "    </tr>\n",
       "    <tr>\n",
       "      <th>2</th>\n",
       "      <td>7.2574</td>\n",
       "      <td>52.0</td>\n",
       "      <td>8.288136</td>\n",
       "      <td>1.073446</td>\n",
       "      <td>496.0</td>\n",
       "      <td>2.802260</td>\n",
       "      <td>37.85</td>\n",
       "      <td>-122.24</td>\n",
       "    </tr>\n",
       "    <tr>\n",
       "      <th>3</th>\n",
       "      <td>5.6431</td>\n",
       "      <td>52.0</td>\n",
       "      <td>5.817352</td>\n",
       "      <td>1.073059</td>\n",
       "      <td>558.0</td>\n",
       "      <td>2.547945</td>\n",
       "      <td>37.85</td>\n",
       "      <td>-122.25</td>\n",
       "    </tr>\n",
       "    <tr>\n",
       "      <th>4</th>\n",
       "      <td>3.8462</td>\n",
       "      <td>52.0</td>\n",
       "      <td>6.281853</td>\n",
       "      <td>1.081081</td>\n",
       "      <td>565.0</td>\n",
       "      <td>2.181467</td>\n",
       "      <td>37.85</td>\n",
       "      <td>-122.25</td>\n",
       "    </tr>\n",
       "    <tr>\n",
       "      <th>...</th>\n",
       "      <td>...</td>\n",
       "      <td>...</td>\n",
       "      <td>...</td>\n",
       "      <td>...</td>\n",
       "      <td>...</td>\n",
       "      <td>...</td>\n",
       "      <td>...</td>\n",
       "      <td>...</td>\n",
       "    </tr>\n",
       "    <tr>\n",
       "      <th>20635</th>\n",
       "      <td>1.5603</td>\n",
       "      <td>25.0</td>\n",
       "      <td>5.045455</td>\n",
       "      <td>1.133333</td>\n",
       "      <td>845.0</td>\n",
       "      <td>2.560606</td>\n",
       "      <td>39.48</td>\n",
       "      <td>-121.09</td>\n",
       "    </tr>\n",
       "    <tr>\n",
       "      <th>20636</th>\n",
       "      <td>2.5568</td>\n",
       "      <td>18.0</td>\n",
       "      <td>6.114035</td>\n",
       "      <td>1.315789</td>\n",
       "      <td>356.0</td>\n",
       "      <td>3.122807</td>\n",
       "      <td>39.49</td>\n",
       "      <td>-121.21</td>\n",
       "    </tr>\n",
       "    <tr>\n",
       "      <th>20637</th>\n",
       "      <td>1.7000</td>\n",
       "      <td>17.0</td>\n",
       "      <td>5.205543</td>\n",
       "      <td>1.120092</td>\n",
       "      <td>1007.0</td>\n",
       "      <td>2.325635</td>\n",
       "      <td>39.43</td>\n",
       "      <td>-121.22</td>\n",
       "    </tr>\n",
       "    <tr>\n",
       "      <th>20638</th>\n",
       "      <td>1.8672</td>\n",
       "      <td>18.0</td>\n",
       "      <td>5.329513</td>\n",
       "      <td>1.171920</td>\n",
       "      <td>741.0</td>\n",
       "      <td>2.123209</td>\n",
       "      <td>39.43</td>\n",
       "      <td>-121.32</td>\n",
       "    </tr>\n",
       "    <tr>\n",
       "      <th>20639</th>\n",
       "      <td>2.3886</td>\n",
       "      <td>16.0</td>\n",
       "      <td>5.254717</td>\n",
       "      <td>1.162264</td>\n",
       "      <td>1387.0</td>\n",
       "      <td>2.616981</td>\n",
       "      <td>39.37</td>\n",
       "      <td>-121.24</td>\n",
       "    </tr>\n",
       "  </tbody>\n",
       "</table>\n",
       "<p>20640 rows × 8 columns</p>\n",
       "</div>\n",
       "      <button class=\"colab-df-convert\" onclick=\"convertToInteractive('df-0bcd81b6-4930-489a-9153-d26cdbf48e72')\"\n",
       "              title=\"Convert this dataframe to an interactive table.\"\n",
       "              style=\"display:none;\">\n",
       "        \n",
       "  <svg xmlns=\"http://www.w3.org/2000/svg\" height=\"24px\"viewBox=\"0 0 24 24\"\n",
       "       width=\"24px\">\n",
       "    <path d=\"M0 0h24v24H0V0z\" fill=\"none\"/>\n",
       "    <path d=\"M18.56 5.44l.94 2.06.94-2.06 2.06-.94-2.06-.94-.94-2.06-.94 2.06-2.06.94zm-11 1L8.5 8.5l.94-2.06 2.06-.94-2.06-.94L8.5 2.5l-.94 2.06-2.06.94zm10 10l.94 2.06.94-2.06 2.06-.94-2.06-.94-.94-2.06-.94 2.06-2.06.94z\"/><path d=\"M17.41 7.96l-1.37-1.37c-.4-.4-.92-.59-1.43-.59-.52 0-1.04.2-1.43.59L10.3 9.45l-7.72 7.72c-.78.78-.78 2.05 0 2.83L4 21.41c.39.39.9.59 1.41.59.51 0 1.02-.2 1.41-.59l7.78-7.78 2.81-2.81c.8-.78.8-2.07 0-2.86zM5.41 20L4 18.59l7.72-7.72 1.47 1.35L5.41 20z\"/>\n",
       "  </svg>\n",
       "      </button>\n",
       "      \n",
       "  <style>\n",
       "    .colab-df-container {\n",
       "      display:flex;\n",
       "      flex-wrap:wrap;\n",
       "      gap: 12px;\n",
       "    }\n",
       "\n",
       "    .colab-df-convert {\n",
       "      background-color: #E8F0FE;\n",
       "      border: none;\n",
       "      border-radius: 50%;\n",
       "      cursor: pointer;\n",
       "      display: none;\n",
       "      fill: #1967D2;\n",
       "      height: 32px;\n",
       "      padding: 0 0 0 0;\n",
       "      width: 32px;\n",
       "    }\n",
       "\n",
       "    .colab-df-convert:hover {\n",
       "      background-color: #E2EBFA;\n",
       "      box-shadow: 0px 1px 2px rgba(60, 64, 67, 0.3), 0px 1px 3px 1px rgba(60, 64, 67, 0.15);\n",
       "      fill: #174EA6;\n",
       "    }\n",
       "\n",
       "    [theme=dark] .colab-df-convert {\n",
       "      background-color: #3B4455;\n",
       "      fill: #D2E3FC;\n",
       "    }\n",
       "\n",
       "    [theme=dark] .colab-df-convert:hover {\n",
       "      background-color: #434B5C;\n",
       "      box-shadow: 0px 1px 3px 1px rgba(0, 0, 0, 0.15);\n",
       "      filter: drop-shadow(0px 1px 2px rgba(0, 0, 0, 0.3));\n",
       "      fill: #FFFFFF;\n",
       "    }\n",
       "  </style>\n",
       "\n",
       "      <script>\n",
       "        const buttonEl =\n",
       "          document.querySelector('#df-0bcd81b6-4930-489a-9153-d26cdbf48e72 button.colab-df-convert');\n",
       "        buttonEl.style.display =\n",
       "          google.colab.kernel.accessAllowed ? 'block' : 'none';\n",
       "\n",
       "        async function convertToInteractive(key) {\n",
       "          const element = document.querySelector('#df-0bcd81b6-4930-489a-9153-d26cdbf48e72');\n",
       "          const dataTable =\n",
       "            await google.colab.kernel.invokeFunction('convertToInteractive',\n",
       "                                                     [key], {});\n",
       "          if (!dataTable) return;\n",
       "\n",
       "          const docLinkHtml = 'Like what you see? Visit the ' +\n",
       "            '<a target=\"_blank\" href=https://colab.research.google.com/notebooks/data_table.ipynb>data table notebook</a>'\n",
       "            + ' to learn more about interactive tables.';\n",
       "          element.innerHTML = '';\n",
       "          dataTable['output_type'] = 'display_data';\n",
       "          await google.colab.output.renderOutput(dataTable, element);\n",
       "          const docLink = document.createElement('div');\n",
       "          docLink.innerHTML = docLinkHtml;\n",
       "          element.appendChild(docLink);\n",
       "        }\n",
       "      </script>\n",
       "    </div>\n",
       "  </div>\n",
       "  "
      ],
      "text/plain": [
       "       MedInc  HouseAge  AveRooms  AveBedrms  Population  AveOccup  Latitude  \\\n",
       "0      8.3252      41.0  6.984127   1.023810       322.0  2.555556     37.88   \n",
       "1      8.3014      21.0  6.238137   0.971880      2401.0  2.109842     37.86   \n",
       "2      7.2574      52.0  8.288136   1.073446       496.0  2.802260     37.85   \n",
       "3      5.6431      52.0  5.817352   1.073059       558.0  2.547945     37.85   \n",
       "4      3.8462      52.0  6.281853   1.081081       565.0  2.181467     37.85   \n",
       "...       ...       ...       ...        ...         ...       ...       ...   \n",
       "20635  1.5603      25.0  5.045455   1.133333       845.0  2.560606     39.48   \n",
       "20636  2.5568      18.0  6.114035   1.315789       356.0  3.122807     39.49   \n",
       "20637  1.7000      17.0  5.205543   1.120092      1007.0  2.325635     39.43   \n",
       "20638  1.8672      18.0  5.329513   1.171920       741.0  2.123209     39.43   \n",
       "20639  2.3886      16.0  5.254717   1.162264      1387.0  2.616981     39.37   \n",
       "\n",
       "       Longitude  \n",
       "0        -122.23  \n",
       "1        -122.22  \n",
       "2        -122.24  \n",
       "3        -122.25  \n",
       "4        -122.25  \n",
       "...          ...  \n",
       "20635    -121.09  \n",
       "20636    -121.21  \n",
       "20637    -121.22  \n",
       "20638    -121.32  \n",
       "20639    -121.24  \n",
       "\n",
       "[20640 rows x 8 columns]"
      ]
     },
     "execution_count": 109,
     "metadata": {},
     "output_type": "execute_result"
    }
   ],
   "source": [
    "df"
   ]
  },
  {
   "cell_type": "code",
   "execution_count": 110,
   "metadata": {
    "id": "KLB6RIAW_3y-"
   },
   "outputs": [],
   "source": [
    "df['target'] = data.target"
   ]
  },
  {
   "cell_type": "code",
   "execution_count": 111,
   "metadata": {
    "colab": {
     "base_uri": "https://localhost:8080/",
     "height": 424
    },
    "id": "Kr3yp3sN_34Q",
    "outputId": "368f2b92-d694-4e9f-e156-4361d5749435"
   },
   "outputs": [
    {
     "data": {
      "text/html": [
       "\n",
       "  <div id=\"df-b365245f-d9c7-460d-9c70-912fce2c047c\">\n",
       "    <div class=\"colab-df-container\">\n",
       "      <div>\n",
       "<style scoped>\n",
       "    .dataframe tbody tr th:only-of-type {\n",
       "        vertical-align: middle;\n",
       "    }\n",
       "\n",
       "    .dataframe tbody tr th {\n",
       "        vertical-align: top;\n",
       "    }\n",
       "\n",
       "    .dataframe thead th {\n",
       "        text-align: right;\n",
       "    }\n",
       "</style>\n",
       "<table border=\"1\" class=\"dataframe\">\n",
       "  <thead>\n",
       "    <tr style=\"text-align: right;\">\n",
       "      <th></th>\n",
       "      <th>MedInc</th>\n",
       "      <th>HouseAge</th>\n",
       "      <th>AveRooms</th>\n",
       "      <th>AveBedrms</th>\n",
       "      <th>Population</th>\n",
       "      <th>AveOccup</th>\n",
       "      <th>Latitude</th>\n",
       "      <th>Longitude</th>\n",
       "      <th>target</th>\n",
       "    </tr>\n",
       "  </thead>\n",
       "  <tbody>\n",
       "    <tr>\n",
       "      <th>0</th>\n",
       "      <td>8.3252</td>\n",
       "      <td>41.0</td>\n",
       "      <td>6.984127</td>\n",
       "      <td>1.023810</td>\n",
       "      <td>322.0</td>\n",
       "      <td>2.555556</td>\n",
       "      <td>37.88</td>\n",
       "      <td>-122.23</td>\n",
       "      <td>4.526</td>\n",
       "    </tr>\n",
       "    <tr>\n",
       "      <th>1</th>\n",
       "      <td>8.3014</td>\n",
       "      <td>21.0</td>\n",
       "      <td>6.238137</td>\n",
       "      <td>0.971880</td>\n",
       "      <td>2401.0</td>\n",
       "      <td>2.109842</td>\n",
       "      <td>37.86</td>\n",
       "      <td>-122.22</td>\n",
       "      <td>3.585</td>\n",
       "    </tr>\n",
       "    <tr>\n",
       "      <th>2</th>\n",
       "      <td>7.2574</td>\n",
       "      <td>52.0</td>\n",
       "      <td>8.288136</td>\n",
       "      <td>1.073446</td>\n",
       "      <td>496.0</td>\n",
       "      <td>2.802260</td>\n",
       "      <td>37.85</td>\n",
       "      <td>-122.24</td>\n",
       "      <td>3.521</td>\n",
       "    </tr>\n",
       "    <tr>\n",
       "      <th>3</th>\n",
       "      <td>5.6431</td>\n",
       "      <td>52.0</td>\n",
       "      <td>5.817352</td>\n",
       "      <td>1.073059</td>\n",
       "      <td>558.0</td>\n",
       "      <td>2.547945</td>\n",
       "      <td>37.85</td>\n",
       "      <td>-122.25</td>\n",
       "      <td>3.413</td>\n",
       "    </tr>\n",
       "    <tr>\n",
       "      <th>4</th>\n",
       "      <td>3.8462</td>\n",
       "      <td>52.0</td>\n",
       "      <td>6.281853</td>\n",
       "      <td>1.081081</td>\n",
       "      <td>565.0</td>\n",
       "      <td>2.181467</td>\n",
       "      <td>37.85</td>\n",
       "      <td>-122.25</td>\n",
       "      <td>3.422</td>\n",
       "    </tr>\n",
       "    <tr>\n",
       "      <th>...</th>\n",
       "      <td>...</td>\n",
       "      <td>...</td>\n",
       "      <td>...</td>\n",
       "      <td>...</td>\n",
       "      <td>...</td>\n",
       "      <td>...</td>\n",
       "      <td>...</td>\n",
       "      <td>...</td>\n",
       "      <td>...</td>\n",
       "    </tr>\n",
       "    <tr>\n",
       "      <th>20635</th>\n",
       "      <td>1.5603</td>\n",
       "      <td>25.0</td>\n",
       "      <td>5.045455</td>\n",
       "      <td>1.133333</td>\n",
       "      <td>845.0</td>\n",
       "      <td>2.560606</td>\n",
       "      <td>39.48</td>\n",
       "      <td>-121.09</td>\n",
       "      <td>0.781</td>\n",
       "    </tr>\n",
       "    <tr>\n",
       "      <th>20636</th>\n",
       "      <td>2.5568</td>\n",
       "      <td>18.0</td>\n",
       "      <td>6.114035</td>\n",
       "      <td>1.315789</td>\n",
       "      <td>356.0</td>\n",
       "      <td>3.122807</td>\n",
       "      <td>39.49</td>\n",
       "      <td>-121.21</td>\n",
       "      <td>0.771</td>\n",
       "    </tr>\n",
       "    <tr>\n",
       "      <th>20637</th>\n",
       "      <td>1.7000</td>\n",
       "      <td>17.0</td>\n",
       "      <td>5.205543</td>\n",
       "      <td>1.120092</td>\n",
       "      <td>1007.0</td>\n",
       "      <td>2.325635</td>\n",
       "      <td>39.43</td>\n",
       "      <td>-121.22</td>\n",
       "      <td>0.923</td>\n",
       "    </tr>\n",
       "    <tr>\n",
       "      <th>20638</th>\n",
       "      <td>1.8672</td>\n",
       "      <td>18.0</td>\n",
       "      <td>5.329513</td>\n",
       "      <td>1.171920</td>\n",
       "      <td>741.0</td>\n",
       "      <td>2.123209</td>\n",
       "      <td>39.43</td>\n",
       "      <td>-121.32</td>\n",
       "      <td>0.847</td>\n",
       "    </tr>\n",
       "    <tr>\n",
       "      <th>20639</th>\n",
       "      <td>2.3886</td>\n",
       "      <td>16.0</td>\n",
       "      <td>5.254717</td>\n",
       "      <td>1.162264</td>\n",
       "      <td>1387.0</td>\n",
       "      <td>2.616981</td>\n",
       "      <td>39.37</td>\n",
       "      <td>-121.24</td>\n",
       "      <td>0.894</td>\n",
       "    </tr>\n",
       "  </tbody>\n",
       "</table>\n",
       "<p>20640 rows × 9 columns</p>\n",
       "</div>\n",
       "      <button class=\"colab-df-convert\" onclick=\"convertToInteractive('df-b365245f-d9c7-460d-9c70-912fce2c047c')\"\n",
       "              title=\"Convert this dataframe to an interactive table.\"\n",
       "              style=\"display:none;\">\n",
       "        \n",
       "  <svg xmlns=\"http://www.w3.org/2000/svg\" height=\"24px\"viewBox=\"0 0 24 24\"\n",
       "       width=\"24px\">\n",
       "    <path d=\"M0 0h24v24H0V0z\" fill=\"none\"/>\n",
       "    <path d=\"M18.56 5.44l.94 2.06.94-2.06 2.06-.94-2.06-.94-.94-2.06-.94 2.06-2.06.94zm-11 1L8.5 8.5l.94-2.06 2.06-.94-2.06-.94L8.5 2.5l-.94 2.06-2.06.94zm10 10l.94 2.06.94-2.06 2.06-.94-2.06-.94-.94-2.06-.94 2.06-2.06.94z\"/><path d=\"M17.41 7.96l-1.37-1.37c-.4-.4-.92-.59-1.43-.59-.52 0-1.04.2-1.43.59L10.3 9.45l-7.72 7.72c-.78.78-.78 2.05 0 2.83L4 21.41c.39.39.9.59 1.41.59.51 0 1.02-.2 1.41-.59l7.78-7.78 2.81-2.81c.8-.78.8-2.07 0-2.86zM5.41 20L4 18.59l7.72-7.72 1.47 1.35L5.41 20z\"/>\n",
       "  </svg>\n",
       "      </button>\n",
       "      \n",
       "  <style>\n",
       "    .colab-df-container {\n",
       "      display:flex;\n",
       "      flex-wrap:wrap;\n",
       "      gap: 12px;\n",
       "    }\n",
       "\n",
       "    .colab-df-convert {\n",
       "      background-color: #E8F0FE;\n",
       "      border: none;\n",
       "      border-radius: 50%;\n",
       "      cursor: pointer;\n",
       "      display: none;\n",
       "      fill: #1967D2;\n",
       "      height: 32px;\n",
       "      padding: 0 0 0 0;\n",
       "      width: 32px;\n",
       "    }\n",
       "\n",
       "    .colab-df-convert:hover {\n",
       "      background-color: #E2EBFA;\n",
       "      box-shadow: 0px 1px 2px rgba(60, 64, 67, 0.3), 0px 1px 3px 1px rgba(60, 64, 67, 0.15);\n",
       "      fill: #174EA6;\n",
       "    }\n",
       "\n",
       "    [theme=dark] .colab-df-convert {\n",
       "      background-color: #3B4455;\n",
       "      fill: #D2E3FC;\n",
       "    }\n",
       "\n",
       "    [theme=dark] .colab-df-convert:hover {\n",
       "      background-color: #434B5C;\n",
       "      box-shadow: 0px 1px 3px 1px rgba(0, 0, 0, 0.15);\n",
       "      filter: drop-shadow(0px 1px 2px rgba(0, 0, 0, 0.3));\n",
       "      fill: #FFFFFF;\n",
       "    }\n",
       "  </style>\n",
       "\n",
       "      <script>\n",
       "        const buttonEl =\n",
       "          document.querySelector('#df-b365245f-d9c7-460d-9c70-912fce2c047c button.colab-df-convert');\n",
       "        buttonEl.style.display =\n",
       "          google.colab.kernel.accessAllowed ? 'block' : 'none';\n",
       "\n",
       "        async function convertToInteractive(key) {\n",
       "          const element = document.querySelector('#df-b365245f-d9c7-460d-9c70-912fce2c047c');\n",
       "          const dataTable =\n",
       "            await google.colab.kernel.invokeFunction('convertToInteractive',\n",
       "                                                     [key], {});\n",
       "          if (!dataTable) return;\n",
       "\n",
       "          const docLinkHtml = 'Like what you see? Visit the ' +\n",
       "            '<a target=\"_blank\" href=https://colab.research.google.com/notebooks/data_table.ipynb>data table notebook</a>'\n",
       "            + ' to learn more about interactive tables.';\n",
       "          element.innerHTML = '';\n",
       "          dataTable['output_type'] = 'display_data';\n",
       "          await google.colab.output.renderOutput(dataTable, element);\n",
       "          const docLink = document.createElement('div');\n",
       "          docLink.innerHTML = docLinkHtml;\n",
       "          element.appendChild(docLink);\n",
       "        }\n",
       "      </script>\n",
       "    </div>\n",
       "  </div>\n",
       "  "
      ],
      "text/plain": [
       "       MedInc  HouseAge  AveRooms  AveBedrms  Population  AveOccup  Latitude  \\\n",
       "0      8.3252      41.0  6.984127   1.023810       322.0  2.555556     37.88   \n",
       "1      8.3014      21.0  6.238137   0.971880      2401.0  2.109842     37.86   \n",
       "2      7.2574      52.0  8.288136   1.073446       496.0  2.802260     37.85   \n",
       "3      5.6431      52.0  5.817352   1.073059       558.0  2.547945     37.85   \n",
       "4      3.8462      52.0  6.281853   1.081081       565.0  2.181467     37.85   \n",
       "...       ...       ...       ...        ...         ...       ...       ...   \n",
       "20635  1.5603      25.0  5.045455   1.133333       845.0  2.560606     39.48   \n",
       "20636  2.5568      18.0  6.114035   1.315789       356.0  3.122807     39.49   \n",
       "20637  1.7000      17.0  5.205543   1.120092      1007.0  2.325635     39.43   \n",
       "20638  1.8672      18.0  5.329513   1.171920       741.0  2.123209     39.43   \n",
       "20639  2.3886      16.0  5.254717   1.162264      1387.0  2.616981     39.37   \n",
       "\n",
       "       Longitude  target  \n",
       "0        -122.23   4.526  \n",
       "1        -122.22   3.585  \n",
       "2        -122.24   3.521  \n",
       "3        -122.25   3.413  \n",
       "4        -122.25   3.422  \n",
       "...          ...     ...  \n",
       "20635    -121.09   0.781  \n",
       "20636    -121.21   0.771  \n",
       "20637    -121.22   0.923  \n",
       "20638    -121.32   0.847  \n",
       "20639    -121.24   0.894  \n",
       "\n",
       "[20640 rows x 9 columns]"
      ]
     },
     "execution_count": 111,
     "metadata": {},
     "output_type": "execute_result"
    }
   ],
   "source": [
    "df"
   ]
  },
  {
   "cell_type": "code",
   "execution_count": null,
   "metadata": {
    "id": "6PGFPp_9_4C2"
   },
   "outputs": [],
   "source": []
  },
  {
   "cell_type": "code",
   "execution_count": null,
   "metadata": {
    "id": "4ZMhxoph_4JW"
   },
   "outputs": [],
   "source": []
  },
  {
   "cell_type": "markdown",
   "metadata": {
    "id": "8CFOP8ZykaKX"
   },
   "source": [
    "### Train Test Split and Scale the Data"
   ]
  },
  {
   "cell_type": "code",
   "execution_count": 113,
   "metadata": {
    "id": "MQXEWWoH_5rG"
   },
   "outputs": [],
   "source": [
    "X = df[df.columns[:-1]].values\n",
    "y = df['target'].values\n",
    "\n",
    "# AutoComplete ctrl + space\n",
    "# Help String/Doc String - Shift + CMD + Space\n",
    "\n",
    "X_train, X_test, y_train, y_test = train_test_split(X, y, test_size=0.30)"
   ]
  },
  {
   "cell_type": "code",
   "execution_count": 114,
   "metadata": {
    "id": "BxvDkzxM_5i2"
   },
   "outputs": [],
   "source": [
    "# Scale the Data\n",
    "\n",
    "scaler = MinMaxScaler()\n",
    "\n",
    "X_train = scaler.fit_transform(X_train)\n",
    "X_test = scaler.transform(X_test)"
   ]
  },
  {
   "cell_type": "code",
   "execution_count": 115,
   "metadata": {
    "colab": {
     "base_uri": "https://localhost:8080/"
    },
    "id": "VkZg7Wrq_5a2",
    "outputId": "92ae9485-99d3-4231-cce0-cab291694c50"
   },
   "outputs": [
    {
     "data": {
      "text/plain": [
       "array([[0.2228521 , 0.23529412, 0.02700089, ..., 0.00226565, 0.17747078,\n",
       "        0.57669323],\n",
       "       [0.25111378, 0.56862745, 0.02900371, ..., 0.00379687, 0.16684378,\n",
       "        0.64442231],\n",
       "       [0.23563813, 0.78431373, 0.03112109, ..., 0.00485294, 0.54941552,\n",
       "        0.18924303],\n",
       "       ...,\n",
       "       [0.32802306, 0.31372549, 0.06688601, ..., 0.00248122, 0.18065887,\n",
       "        0.71912351],\n",
       "       [0.29434077, 0.47058824, 0.02401247, ..., 0.00779904, 0.12752391,\n",
       "        0.64243028],\n",
       "       [0.22065903, 0.7254902 , 0.03119847, ..., 0.00311773, 0.16578108,\n",
       "        0.62649402]])"
      ]
     },
     "execution_count": 115,
     "metadata": {},
     "output_type": "execute_result"
    }
   ],
   "source": [
    "X_test"
   ]
  },
  {
   "cell_type": "code",
   "execution_count": null,
   "metadata": {
    "id": "TgFkYoY7_5Ty"
   },
   "outputs": [],
   "source": []
  },
  {
   "cell_type": "code",
   "execution_count": null,
   "metadata": {
    "id": "XCLG_hkn_5M2"
   },
   "outputs": [],
   "source": []
  },
  {
   "cell_type": "code",
   "execution_count": null,
   "metadata": {
    "id": "8v_gZC_X_5E-"
   },
   "outputs": [],
   "source": []
  },
  {
   "cell_type": "code",
   "execution_count": 116,
   "metadata": {
    "id": "YVg_zq8jcck3"
   },
   "outputs": [],
   "source": [
    "from tensorflow.keras.models import Sequential\n",
    "from tensorflow.keras.layers import Dense\n"
   ]
  },
  {
   "cell_type": "markdown",
   "metadata": {
    "id": "llTIZAASk1UB"
   },
   "source": [
    "### Build our first Model - model_1\n",
    "\n",
    "Single Layer\n",
    "\n",
    "Number of units equals the number of features\n",
    "\n",
    "Use 'tanh' for activation\n",
    "\n",
    "Use the Adam Optimizer\n",
    "\n",
    "Train for 25 Epochs"
   ]
  },
  {
   "cell_type": "code",
   "execution_count": 137,
   "metadata": {
    "colab": {
     "base_uri": "https://localhost:8080/"
    },
    "id": "qfzK-JAA_8jf",
    "outputId": "e17742e6-64a4-4919-9242-c415201922e5"
   },
   "outputs": [
    {
     "name": "stdout",
     "output_type": "stream",
     "text": [
      "Epoch 1/25\n",
      "452/452 [==============================] - 2s 3ms/step - loss: 1.2717 - val_loss: 1.1848\n",
      "Epoch 2/25\n",
      "452/452 [==============================] - 1s 3ms/step - loss: 1.1530 - val_loss: 1.1738\n",
      "Epoch 3/25\n",
      "452/452 [==============================] - 1s 3ms/step - loss: 1.1477 - val_loss: 1.1713\n",
      "Epoch 4/25\n",
      "452/452 [==============================] - 1s 3ms/step - loss: 1.1462 - val_loss: 1.1704\n",
      "Epoch 5/25\n",
      "452/452 [==============================] - 2s 3ms/step - loss: 1.1455 - val_loss: 1.1699\n",
      "Epoch 6/25\n",
      "452/452 [==============================] - 1s 3ms/step - loss: 1.1452 - val_loss: 1.1696\n",
      "Epoch 7/25\n",
      "452/452 [==============================] - 1s 3ms/step - loss: 1.1449 - val_loss: 1.1694\n",
      "Epoch 8/25\n",
      "452/452 [==============================] - 1s 3ms/step - loss: 1.1448 - val_loss: 1.1693\n",
      "Epoch 9/25\n",
      "452/452 [==============================] - 1s 3ms/step - loss: 1.1447 - val_loss: 1.1692\n",
      "Epoch 10/25\n",
      "452/452 [==============================] - 1s 3ms/step - loss: 1.1447 - val_loss: 1.1692\n",
      "Epoch 11/25\n",
      "452/452 [==============================] - 2s 4ms/step - loss: 1.1446 - val_loss: 1.1691\n",
      "Epoch 12/25\n",
      "452/452 [==============================] - 1s 3ms/step - loss: 1.1446 - val_loss: 1.1691\n",
      "Epoch 13/25\n",
      "452/452 [==============================] - 1s 2ms/step - loss: 1.1446 - val_loss: 1.1691\n",
      "Epoch 14/25\n",
      "452/452 [==============================] - 1s 2ms/step - loss: 1.1445 - val_loss: 1.1691\n",
      "Epoch 15/25\n",
      "452/452 [==============================] - 1s 3ms/step - loss: 1.1445 - val_loss: 1.1691\n",
      "Epoch 16/25\n",
      "452/452 [==============================] - 1s 3ms/step - loss: 1.1445 - val_loss: 1.1691\n",
      "Epoch 17/25\n",
      "452/452 [==============================] - 1s 3ms/step - loss: 1.1445 - val_loss: 1.1690\n",
      "Epoch 18/25\n",
      "452/452 [==============================] - 2s 3ms/step - loss: 1.1445 - val_loss: 1.1690\n",
      "Epoch 19/25\n",
      "452/452 [==============================] - 1s 2ms/step - loss: 1.1445 - val_loss: 1.1690\n",
      "Epoch 20/25\n",
      "452/452 [==============================] - 1s 2ms/step - loss: 1.1445 - val_loss: 1.1690\n",
      "Epoch 21/25\n",
      "452/452 [==============================] - 1s 2ms/step - loss: 1.1445 - val_loss: 1.1690\n",
      "Epoch 22/25\n",
      "452/452 [==============================] - 1s 2ms/step - loss: 1.1445 - val_loss: 1.1690\n",
      "Epoch 23/25\n",
      "452/452 [==============================] - 1s 2ms/step - loss: 1.1445 - val_loss: 1.1690\n",
      "Epoch 24/25\n",
      "452/452 [==============================] - 1s 2ms/step - loss: 1.1445 - val_loss: 1.1690\n",
      "Epoch 25/25\n",
      "452/452 [==============================] - 1s 2ms/step - loss: 1.1445 - val_loss: 1.1690\n"
     ]
    }
   ],
   "source": [
    "# Initialize our first Model\n",
    "\n",
    "model_1 = Sequential()\n",
    "\n",
    "# Our first Layer\n",
    "model_1.add(Dense(8, activation='tanh'))\n",
    "\n",
    "# Output Layer\n",
    "model_1.add(Dense(1, activation='tanh'))\n",
    "\n",
    "\n",
    "# Compile\n",
    "model_1.compile(\n",
    "    optimizer=tf.keras.optimizers.Adam(),\n",
    "    loss=tf.keras.losses.MeanAbsoluteError()\n",
    ")\n",
    "\n",
    "\n",
    "# Fit\n",
    "history_1 = model_1.fit(\n",
    "    X_train,\n",
    "    y_train,\n",
    "    validation_data=(X_test, y_test),\n",
    "    epochs=25)\n"
   ]
  },
  {
   "cell_type": "code",
   "execution_count": 133,
   "metadata": {
    "colab": {
     "base_uri": "https://localhost:8080/"
    },
    "id": "s7oStaYm_8am",
    "outputId": "9ca5d7eb-c491-4993-832d-354ce12928bd"
   },
   "outputs": [
    {
     "name": "stdout",
     "output_type": "stream",
     "text": [
      "Model: \"sequential_10\"\n",
      "_________________________________________________________________\n",
      " Layer (type)                Output Shape              Param #   \n",
      "=================================================================\n",
      " dense_21 (Dense)            (None, 8)                 72        \n",
      "                                                                 \n",
      " dense_22 (Dense)            (None, 1)                 9         \n",
      "                                                                 \n",
      "=================================================================\n",
      "Total params: 81\n",
      "Trainable params: 81\n",
      "Non-trainable params: 0\n",
      "_________________________________________________________________\n"
     ]
    }
   ],
   "source": [
    "model_1.summary()"
   ]
  },
  {
   "cell_type": "code",
   "execution_count": 134,
   "metadata": {
    "colab": {
     "base_uri": "https://localhost:8080/"
    },
    "id": "LeHCOr99_8UJ",
    "outputId": "1ccd7a56-981a-4fda-df9e-ab459d0b0bd8"
   },
   "outputs": [
    {
     "name": "stdout",
     "output_type": "stream",
     "text": [
      "72\n"
     ]
    }
   ],
   "source": [
    "print(8 * (8 + 1))"
   ]
  },
  {
   "cell_type": "code",
   "execution_count": 135,
   "metadata": {
    "colab": {
     "base_uri": "https://localhost:8080/"
    },
    "id": "B-8XGxSK_8Om",
    "outputId": "1e9801d1-fcf7-436a-ce51-4e5349b74791"
   },
   "outputs": [
    {
     "name": "stdout",
     "output_type": "stream",
     "text": [
      "9\n"
     ]
    }
   ],
   "source": [
    "print(1 * (8 + 1))"
   ]
  },
  {
   "cell_type": "markdown",
   "metadata": {
    "id": "4td9bhR1_8IW"
   },
   "source": [
    "### What does Our Model Look like?\n",
    "\n",
    "Model Summary"
   ]
  },
  {
   "cell_type": "code",
   "execution_count": null,
   "metadata": {
    "id": "ucBvbHb7__F-"
   },
   "outputs": [],
   "source": []
  },
  {
   "cell_type": "markdown",
   "metadata": {
    "id": "GhApRSYVlQL1"
   },
   "source": [
    "### Evaluate the Model with Plots\n",
    "\n",
    "It's probably a good idea to create a function to plot all the things we want on separate graphs otherwise the data is going to be hard to read"
   ]
  },
  {
   "cell_type": "code",
   "execution_count": 138,
   "metadata": {
    "colab": {
     "base_uri": "https://localhost:8080/",
     "height": 282
    },
    "id": "Fy8tRUZG_-Ud",
    "outputId": "b27d02ff-8d70-4ae1-aff2-27b7bc52601c"
   },
   "outputs": [
    {
     "data": {
      "text/plain": [
       "<matplotlib.axes._subplots.AxesSubplot at 0x7f8e29999550>"
      ]
     },
     "execution_count": 138,
     "metadata": {},
     "output_type": "execute_result"
    },
    {
     "data": {
      "image/png": "[encoded data removed]",
      "text/plain": [
       "<Figure size 432x288 with 1 Axes>"
      ]
     },
     "metadata": {
      "needs_background": "light"
     },
     "output_type": "display_data"
    }
   ],
   "source": [
    "pd.DataFrame(history_1.history).plot()"
   ]
  },
  {
   "cell_type": "code",
   "execution_count": 139,
   "metadata": {
    "colab": {
     "base_uri": "https://localhost:8080/"
    },
    "id": "4aNylvvpAJId",
    "outputId": "7f5180f4-70f8-4cbe-e37f-447d14ba3914"
   },
   "outputs": [
    {
     "data": {
      "text/plain": [
       "2.068558169089147"
      ]
     },
     "execution_count": 139,
     "metadata": {},
     "output_type": "execute_result"
    }
   ],
   "source": [
    "df['target'].mean()"
   ]
  },
  {
   "cell_type": "code",
   "execution_count": 140,
   "metadata": {
    "colab": {
     "base_uri": "https://localhost:8080/"
    },
    "id": "9sO8tj8rAI_L",
    "outputId": "3a070887-df39-4a93-a314-d704fcf9cb2e"
   },
   "outputs": [
    {
     "name": "stdout",
     "output_type": "stream",
     "text": [
      "194/194 [==============================] - 0s 2ms/step - loss: 1.1690\n"
     ]
    },
    {
     "data": {
      "text/plain": [
       "1.169024109840393"
      ]
     },
     "execution_count": 140,
     "metadata": {},
     "output_type": "execute_result"
    }
   ],
   "source": [
    "model_1.evaluate(X_test, y_test)"
   ]
  },
  {
   "cell_type": "code",
   "execution_count": 141,
   "metadata": {
    "id": "WORbIE3FAIsc"
   },
   "outputs": [],
   "source": [
    "prediction_1 = model_1.predict(X_test)"
   ]
  },
  {
   "cell_type": "code",
   "execution_count": 142,
   "metadata": {
    "colab": {
     "base_uri": "https://localhost:8080/"
    },
    "id": "yeLsoNZtNznM",
    "outputId": "7b137aa1-b4b3-4892-819a-b4abed35cf69"
   },
   "outputs": [
    {
     "data": {
      "text/plain": [
       "1.1690239557988054"
      ]
     },
     "execution_count": 142,
     "metadata": {},
     "output_type": "execute_result"
    }
   ],
   "source": [
    "mean_absolute_error(y_test, prediction_1)"
   ]
  },
  {
   "cell_type": "code",
   "execution_count": null,
   "metadata": {
    "id": "CZVowVQkNzW8"
   },
   "outputs": [],
   "source": []
  },
  {
   "cell_type": "code",
   "execution_count": null,
   "metadata": {
    "id": "YrenLtkgNzF-"
   },
   "outputs": [],
   "source": []
  },
  {
   "cell_type": "markdown",
   "metadata": {
    "id": "aAht0YMjlbOC"
   },
   "source": [
    "### 2nd Model - Add a Hidden Layer\n",
    "\n",
    "Copy of Model 1\n",
    "\n",
    "Add another Hidden Layer\n",
    "\n",
    "All other parameters remain the same\n"
   ]
  },
  {
   "cell_type": "code",
   "execution_count": 145,
   "metadata": {
    "colab": {
     "base_uri": "https://localhost:8080/"
    },
    "id": "rP1VvDjHALEr",
    "outputId": "200177b2-b15d-47b8-99ed-a2efb721fd59"
   },
   "outputs": [
    {
     "name": "stdout",
     "output_type": "stream",
     "text": [
      "Epoch 1/25\n",
      "452/452 [==============================] - 2s 3ms/step - loss: 1.2822 - val_loss: 1.1740\n",
      "Epoch 2/25\n",
      "452/452 [==============================] - 2s 5ms/step - loss: 1.1472 - val_loss: 1.1706\n",
      "Epoch 3/25\n",
      "452/452 [==============================] - 1s 3ms/step - loss: 1.1456 - val_loss: 1.1698\n",
      "Epoch 4/25\n",
      "452/452 [==============================] - 1s 3ms/step - loss: 1.1451 - val_loss: 1.1695\n",
      "Epoch 5/25\n",
      "452/452 [==============================] - 1s 3ms/step - loss: 1.1448 - val_loss: 1.1693\n",
      "Epoch 6/25\n",
      "452/452 [==============================] - 1s 3ms/step - loss: 1.1447 - val_loss: 1.1692\n",
      "Epoch 7/25\n",
      "452/452 [==============================] - 2s 4ms/step - loss: 1.1447 - val_loss: 1.1692\n",
      "Epoch 8/25\n",
      "452/452 [==============================] - 1s 3ms/step - loss: 1.1446 - val_loss: 1.1691\n",
      "Epoch 9/25\n",
      "452/452 [==============================] - 1s 3ms/step - loss: 1.1446 - val_loss: 1.1691\n",
      "Epoch 10/25\n",
      "452/452 [==============================] - 1s 3ms/step - loss: 1.1445 - val_loss: 1.1691\n",
      "Epoch 11/25\n",
      "452/452 [==============================] - 1s 3ms/step - loss: 1.1445 - val_loss: 1.1691\n",
      "Epoch 12/25\n",
      "452/452 [==============================] - 1s 3ms/step - loss: 1.1445 - val_loss: 1.1691\n",
      "Epoch 13/25\n",
      "452/452 [==============================] - 1s 3ms/step - loss: 1.1445 - val_loss: 1.1691\n",
      "Epoch 14/25\n",
      "452/452 [==============================] - 1s 3ms/step - loss: 1.1445 - val_loss: 1.1690\n",
      "Epoch 15/25\n",
      "452/452 [==============================] - 1s 3ms/step - loss: 1.1445 - val_loss: 1.1690\n",
      "Epoch 16/25\n",
      "452/452 [==============================] - 1s 3ms/step - loss: 1.1445 - val_loss: 1.1690\n",
      "Epoch 17/25\n",
      "452/452 [==============================] - 1s 3ms/step - loss: 1.1445 - val_loss: 1.1690\n",
      "Epoch 18/25\n",
      "452/452 [==============================] - 1s 3ms/step - loss: 1.1445 - val_loss: 1.1690\n",
      "Epoch 19/25\n",
      "452/452 [==============================] - 2s 4ms/step - loss: 1.1445 - val_loss: 1.1690\n",
      "Epoch 20/25\n",
      "452/452 [==============================] - 2s 4ms/step - loss: 1.1445 - val_loss: 1.1690\n",
      "Epoch 21/25\n",
      "452/452 [==============================] - 2s 4ms/step - loss: 1.1445 - val_loss: 1.1690\n",
      "Epoch 22/25\n",
      "452/452 [==============================] - 2s 3ms/step - loss: 1.1445 - val_loss: 1.1690\n",
      "Epoch 23/25\n",
      "452/452 [==============================] - 1s 2ms/step - loss: 1.1445 - val_loss: 1.1690\n",
      "Epoch 24/25\n",
      "452/452 [==============================] - 1s 2ms/step - loss: 1.1445 - val_loss: 1.1690\n",
      "Epoch 25/25\n",
      "452/452 [==============================] - 1s 2ms/step - loss: 1.1445 - val_loss: 1.1690\n"
     ]
    }
   ],
   "source": [
    "model_2 = Sequential()\n",
    "\n",
    "model_2.add(Dense(8, activation='tanh'))\n",
    "model_2.add(Dense(8, activation='tanh'))\n",
    "\n",
    "model_2.add(Dense(1, activation='tanh'))\n",
    "\n",
    "model_2.compile(\n",
    "    optimizer='adam',\n",
    "    loss='mae'\n",
    ")\n",
    "\n",
    "history_2 = model_2.fit(X_train,\n",
    "                        y_train,\n",
    "                        validation_data=(X_test, y_test),\n",
    "                        epochs=25)"
   ]
  },
  {
   "cell_type": "code",
   "execution_count": 144,
   "metadata": {
    "colab": {
     "base_uri": "https://localhost:8080/"
    },
    "id": "I8gfMx6QAK9z",
    "outputId": "5d9a0f64-5c03-45fd-e3e1-000dc88b3b00"
   },
   "outputs": [
    {
     "name": "stdout",
     "output_type": "stream",
     "text": [
      "Model: \"sequential_13\"\n",
      "_________________________________________________________________\n",
      " Layer (type)                Output Shape              Param #   \n",
      "=================================================================\n",
      " dense_27 (Dense)            (None, 8)                 72        \n",
      "                                                                 \n",
      " dense_28 (Dense)            (None, 8)                 72        \n",
      "                                                                 \n",
      " dense_29 (Dense)            (None, 1)                 9         \n",
      "                                                                 \n",
      "=================================================================\n",
      "Total params: 153\n",
      "Trainable params: 153\n",
      "Non-trainable params: 0\n",
      "_________________________________________________________________\n"
     ]
    }
   ],
   "source": [
    "model_2.summary()"
   ]
  },
  {
   "cell_type": "code",
   "execution_count": null,
   "metadata": {
    "id": "bu-Opny1AK2z"
   },
   "outputs": [],
   "source": []
  },
  {
   "cell_type": "markdown",
   "metadata": {
    "id": "R3NRS2KtlopJ"
   },
   "source": [
    "### 3rd Model - Add Units to the layer\n",
    "\n",
    "Copy of Model 1\n",
    "\n",
    "Add units to the  Layer (128)\n",
    "\n",
    "All other parameters remain the same"
   ]
  },
  {
   "cell_type": "code",
   "execution_count": 146,
   "metadata": {
    "colab": {
     "base_uri": "https://localhost:8080/"
    },
    "id": "0cbOU2e1AMrT",
    "outputId": "38a1c497-8605-4d8d-f01d-7ce1604d1794"
   },
   "outputs": [
    {
     "name": "stdout",
     "output_type": "stream",
     "text": [
      "Epoch 1/25\n",
      "452/452 [==============================] - 2s 4ms/step - loss: 1.1837 - val_loss: 1.1702\n",
      "Epoch 2/25\n",
      "452/452 [==============================] - 1s 3ms/step - loss: 1.1451 - val_loss: 1.1693\n",
      "Epoch 3/25\n",
      "452/452 [==============================] - 2s 4ms/step - loss: 1.1447 - val_loss: 1.1692\n",
      "Epoch 4/25\n",
      "452/452 [==============================] - 1s 3ms/step - loss: 1.1446 - val_loss: 1.1691\n",
      "Epoch 5/25\n",
      "452/452 [==============================] - 1s 3ms/step - loss: 1.1445 - val_loss: 1.1691\n",
      "Epoch 6/25\n",
      "452/452 [==============================] - 2s 4ms/step - loss: 1.1445 - val_loss: 1.1691\n",
      "Epoch 7/25\n",
      "452/452 [==============================] - 2s 4ms/step - loss: 1.1445 - val_loss: 1.1690\n",
      "Epoch 8/25\n",
      "452/452 [==============================] - 2s 4ms/step - loss: 1.1445 - val_loss: 1.1690\n",
      "Epoch 9/25\n",
      "452/452 [==============================] - 1s 3ms/step - loss: 1.1445 - val_loss: 1.1690\n",
      "Epoch 10/25\n",
      "452/452 [==============================] - 2s 4ms/step - loss: 1.1445 - val_loss: 1.1690\n",
      "Epoch 11/25\n",
      "452/452 [==============================] - 2s 4ms/step - loss: 1.1445 - val_loss: 1.1690\n",
      "Epoch 12/25\n",
      "452/452 [==============================] - 2s 5ms/step - loss: 1.1445 - val_loss: 1.1690\n",
      "Epoch 13/25\n",
      "452/452 [==============================] - 1s 3ms/step - loss: 1.1445 - val_loss: 1.1690\n",
      "Epoch 14/25\n",
      "452/452 [==============================] - 1s 3ms/step - loss: 1.1445 - val_loss: 1.1690\n",
      "Epoch 15/25\n",
      "452/452 [==============================] - 2s 4ms/step - loss: 1.1445 - val_loss: 1.1690\n",
      "Epoch 16/25\n",
      "452/452 [==============================] - 1s 3ms/step - loss: 1.1445 - val_loss: 1.1690\n",
      "Epoch 17/25\n",
      "452/452 [==============================] - 1s 3ms/step - loss: 1.1445 - val_loss: 1.1690\n",
      "Epoch 18/25\n",
      "452/452 [==============================] - 1s 3ms/step - loss: 1.1445 - val_loss: 1.1690\n",
      "Epoch 19/25\n",
      "452/452 [==============================] - 2s 4ms/step - loss: 1.1445 - val_loss: 1.1690\n",
      "Epoch 20/25\n",
      "452/452 [==============================] - 2s 4ms/step - loss: 1.1445 - val_loss: 1.1690\n",
      "Epoch 21/25\n",
      "452/452 [==============================] - 2s 4ms/step - loss: 1.1445 - val_loss: 1.1690\n",
      "Epoch 22/25\n",
      "452/452 [==============================] - 2s 4ms/step - loss: 1.1445 - val_loss: 1.1690\n",
      "Epoch 23/25\n",
      "452/452 [==============================] - 2s 4ms/step - loss: 1.1445 - val_loss: 1.1690\n",
      "Epoch 24/25\n",
      "452/452 [==============================] - 1s 3ms/step - loss: 1.1445 - val_loss: 1.1690\n",
      "Epoch 25/25\n",
      "452/452 [==============================] - 2s 4ms/step - loss: 1.1445 - val_loss: 1.1690\n"
     ]
    }
   ],
   "source": [
    "model_3 = Sequential()\n",
    "\n",
    "model_3.add(Dense(128, activation='tanh'))\n",
    "\n",
    "model_3.add(Dense(1, activation='tanh'))\n",
    "\n",
    "model_3.compile(\n",
    "    optimizer='adam',\n",
    "    loss='mae'\n",
    ")\n",
    "\n",
    "history_3 = model_3.fit(\n",
    "    X_train,\n",
    "    y_train,\n",
    "    validation_data=(X_test, y_test),\n",
    "    epochs=25\n",
    ")"
   ]
  },
  {
   "cell_type": "code",
   "execution_count": 147,
   "metadata": {
    "colab": {
     "base_uri": "https://localhost:8080/"
    },
    "id": "2R9llpAjAMgM",
    "outputId": "fc71cfc0-2787-4e3c-89aa-964afcb07218"
   },
   "outputs": [
    {
     "name": "stdout",
     "output_type": "stream",
     "text": [
      "Model: \"sequential_15\"\n",
      "_________________________________________________________________\n",
      " Layer (type)                Output Shape              Param #   \n",
      "=================================================================\n",
      " dense_33 (Dense)            (None, 128)               1152      \n",
      "                                                                 \n",
      " dense_34 (Dense)            (None, 1)                 129       \n",
      "                                                                 \n",
      "=================================================================\n",
      "Total params: 1,281\n",
      "Trainable params: 1,281\n",
      "Non-trainable params: 0\n",
      "_________________________________________________________________\n"
     ]
    }
   ],
   "source": [
    "model_3.summary()"
   ]
  },
  {
   "cell_type": "code",
   "execution_count": 148,
   "metadata": {
    "colab": {
     "base_uri": "https://localhost:8080/"
    },
    "id": "d4V0AqtCAMaT",
    "outputId": "f8df1a65-6f52-4a5f-a441-f0179de1d622"
   },
   "outputs": [
    {
     "name": "stdout",
     "output_type": "stream",
     "text": [
      "1152\n"
     ]
    }
   ],
   "source": [
    "print(128 * ( 8 + 1))"
   ]
  },
  {
   "cell_type": "code",
   "execution_count": null,
   "metadata": {
    "id": "KFolzzIUAMVD"
   },
   "outputs": [],
   "source": []
  },
  {
   "cell_type": "code",
   "execution_count": null,
   "metadata": {
    "id": "cExBN9hisl87"
   },
   "outputs": [],
   "source": []
  },
  {
   "cell_type": "markdown",
   "metadata": {
    "id": "u9CrZdlvlzUI"
   },
   "source": [
    "### 4th Model - Change the Activation algorithm\n",
    "\n",
    "Copy of Model 1\n",
    "\n",
    "Change the activation to 'relu'\n",
    "\n",
    "All other parameters remain the same"
   ]
  },
  {
   "cell_type": "code",
   "execution_count": 149,
   "metadata": {
    "colab": {
     "base_uri": "https://localhost:8080/"
    },
    "id": "SIARBdtuAOAD",
    "outputId": "07e4a985-f393-44fb-8db4-e4e91843cab8"
   },
   "outputs": [
    {
     "name": "stdout",
     "output_type": "stream",
     "text": [
      "Epoch 1/25\n",
      "452/452 [==============================] - 2s 4ms/step - loss: 1.0802 - val_loss: 0.8234\n",
      "Epoch 2/25\n",
      "452/452 [==============================] - 2s 4ms/step - loss: 0.7050 - val_loss: 0.6263\n",
      "Epoch 3/25\n",
      "452/452 [==============================] - 1s 3ms/step - loss: 0.5726 - val_loss: 0.5650\n",
      "Epoch 4/25\n",
      "452/452 [==============================] - 1s 3ms/step - loss: 0.5481 - val_loss: 0.5590\n",
      "Epoch 5/25\n",
      "452/452 [==============================] - 2s 4ms/step - loss: 0.5425 - val_loss: 0.5521\n",
      "Epoch 6/25\n",
      "452/452 [==============================] - 2s 4ms/step - loss: 0.5379 - val_loss: 0.5481\n",
      "Epoch 7/25\n",
      "452/452 [==============================] - 1s 3ms/step - loss: 0.5346 - val_loss: 0.5450\n",
      "Epoch 8/25\n",
      "452/452 [==============================] - 1s 3ms/step - loss: 0.5312 - val_loss: 0.5425\n",
      "Epoch 9/25\n",
      "452/452 [==============================] - 1s 3ms/step - loss: 0.5287 - val_loss: 0.5387\n",
      "Epoch 10/25\n",
      "452/452 [==============================] - 1s 3ms/step - loss: 0.5254 - val_loss: 0.5361\n",
      "Epoch 11/25\n",
      "452/452 [==============================] - 1s 3ms/step - loss: 0.5229 - val_loss: 0.5341\n",
      "Epoch 12/25\n",
      "452/452 [==============================] - 1s 2ms/step - loss: 0.5201 - val_loss: 0.5319\n",
      "Epoch 13/25\n",
      "452/452 [==============================] - 1s 3ms/step - loss: 0.5174 - val_loss: 0.5306\n",
      "Epoch 14/25\n",
      "452/452 [==============================] - 1s 3ms/step - loss: 0.5151 - val_loss: 0.5257\n",
      "Epoch 15/25\n",
      "452/452 [==============================] - 1s 3ms/step - loss: 0.5111 - val_loss: 0.5210\n",
      "Epoch 16/25\n",
      "452/452 [==============================] - 1s 3ms/step - loss: 0.5073 - val_loss: 0.5178\n",
      "Epoch 17/25\n",
      "452/452 [==============================] - 1s 3ms/step - loss: 0.5050 - val_loss: 0.5170\n",
      "Epoch 18/25\n",
      "452/452 [==============================] - 1s 3ms/step - loss: 0.5023 - val_loss: 0.5134\n",
      "Epoch 19/25\n",
      "452/452 [==============================] - 1s 3ms/step - loss: 0.4998 - val_loss: 0.5124\n",
      "Epoch 20/25\n",
      "452/452 [==============================] - 1s 3ms/step - loss: 0.4978 - val_loss: 0.5089\n",
      "Epoch 21/25\n",
      "452/452 [==============================] - 2s 3ms/step - loss: 0.4957 - val_loss: 0.5074\n",
      "Epoch 22/25\n",
      "452/452 [==============================] - 1s 3ms/step - loss: 0.4941 - val_loss: 0.5053\n",
      "Epoch 23/25\n",
      "452/452 [==============================] - 1s 3ms/step - loss: 0.4918 - val_loss: 0.5057\n",
      "Epoch 24/25\n",
      "452/452 [==============================] - 1s 3ms/step - loss: 0.4906 - val_loss: 0.5013\n",
      "Epoch 25/25\n",
      "452/452 [==============================] - 1s 3ms/step - loss: 0.4887 - val_loss: 0.4998\n"
     ]
    }
   ],
   "source": [
    "model_4 = Sequential()\n",
    "\n",
    "model_4.add(Dense(8, activation='relu'))\n",
    "\n",
    "model_4.add(Dense(1, activation='relu'))\n",
    "\n",
    "model_4.compile(\n",
    "    optimizer='adam',\n",
    "    loss='mae'\n",
    ")\n",
    "\n",
    "history_4 = model_4.fit(\n",
    "    X_train,\n",
    "    y_train,\n",
    "    validation_data=(X_test, y_test),\n",
    "    epochs=25\n",
    ")\n"
   ]
  },
  {
   "cell_type": "code",
   "execution_count": 150,
   "metadata": {
    "colab": {
     "base_uri": "https://localhost:8080/",
     "height": 283
    },
    "id": "q6hCoXnnAN5D",
    "outputId": "c1ad17af-65b2-40fe-eeac-4ee09035c79f"
   },
   "outputs": [
    {
     "data": {
      "text/plain": [
       "<matplotlib.axes._subplots.AxesSubplot at 0x7f8e22ca7090>"
      ]
     },
     "execution_count": 150,
     "metadata": {},
     "output_type": "execute_result"
    },
    {
     "data": {
      "image/png": "[encoded data removed]",
      "text/plain": [
       "<Figure size 432x288 with 1 Axes>"
      ]
     },
     "metadata": {
      "needs_background": "light"
     },
     "output_type": "display_data"
    }
   ],
   "source": [
    "pd.DataFrame(history_4.history).plot()"
   ]
  },
  {
   "cell_type": "code",
   "execution_count": null,
   "metadata": {
    "id": "l2LFx_dcANtD"
   },
   "outputs": [],
   "source": []
  },
  {
   "cell_type": "markdown",
   "metadata": {
    "id": "_51RSMBYpRJe"
   },
   "source": [
    "### 5th Model - Change the Learning Rate\n",
    "\n",
    "Copy of Model 1\n",
    "\n",
    "Reduce the learning rate to 0.01\n",
    "\n",
    "All other parameters remain the same"
   ]
  },
  {
   "cell_type": "code",
   "execution_count": 152,
   "metadata": {
    "colab": {
     "base_uri": "https://localhost:8080/"
    },
    "id": "gMGxGhf8AQGz",
    "outputId": "6d7972b3-9633-425f-b927-88ccd3992a42"
   },
   "outputs": [
    {
     "name": "stdout",
     "output_type": "stream",
     "text": [
      "Epoch 1/25\n",
      "452/452 [==============================] - 2s 3ms/step - loss: 1.1539 - val_loss: 1.1693\n",
      "Epoch 2/25\n",
      "452/452 [==============================] - 1s 3ms/step - loss: 1.1446 - val_loss: 1.1691\n",
      "Epoch 3/25\n",
      "452/452 [==============================] - 1s 3ms/step - loss: 1.1445 - val_loss: 1.1691\n",
      "Epoch 4/25\n",
      "452/452 [==============================] - 1s 3ms/step - loss: 1.1445 - val_loss: 1.1690\n",
      "Epoch 5/25\n",
      "452/452 [==============================] - 1s 3ms/step - loss: 1.1445 - val_loss: 1.1690\n",
      "Epoch 6/25\n",
      "452/452 [==============================] - 1s 3ms/step - loss: 1.1445 - val_loss: 1.1690\n",
      "Epoch 7/25\n",
      "452/452 [==============================] - 2s 3ms/step - loss: 1.1445 - val_loss: 1.1690\n",
      "Epoch 8/25\n",
      "452/452 [==============================] - 1s 3ms/step - loss: 1.1445 - val_loss: 1.1690\n",
      "Epoch 9/25\n",
      "452/452 [==============================] - 1s 3ms/step - loss: 1.1445 - val_loss: 1.1690\n",
      "Epoch 10/25\n",
      "452/452 [==============================] - 2s 4ms/step - loss: 1.1445 - val_loss: 1.1690\n",
      "Epoch 11/25\n",
      "452/452 [==============================] - 1s 3ms/step - loss: 1.1445 - val_loss: 1.1690\n",
      "Epoch 12/25\n",
      "452/452 [==============================] - 1s 3ms/step - loss: 1.1445 - val_loss: 1.1690\n",
      "Epoch 13/25\n",
      "452/452 [==============================] - 2s 4ms/step - loss: 1.1445 - val_loss: 1.1690\n",
      "Epoch 14/25\n",
      "452/452 [==============================] - 1s 3ms/step - loss: 1.1445 - val_loss: 1.1690\n",
      "Epoch 15/25\n",
      "452/452 [==============================] - 2s 4ms/step - loss: 1.1445 - val_loss: 1.1690\n",
      "Epoch 16/25\n",
      "452/452 [==============================] - 1s 3ms/step - loss: 1.1445 - val_loss: 1.1690\n",
      "Epoch 17/25\n",
      "452/452 [==============================] - 1s 3ms/step - loss: 1.1445 - val_loss: 1.1690\n",
      "Epoch 18/25\n",
      "452/452 [==============================] - 2s 4ms/step - loss: 1.1445 - val_loss: 1.1690\n",
      "Epoch 19/25\n",
      "452/452 [==============================] - 1s 3ms/step - loss: 1.1445 - val_loss: 1.1690\n",
      "Epoch 20/25\n",
      "452/452 [==============================] - 1s 3ms/step - loss: 1.1445 - val_loss: 1.1690\n",
      "Epoch 21/25\n",
      "452/452 [==============================] - 1s 3ms/step - loss: 1.1445 - val_loss: 1.1690\n",
      "Epoch 22/25\n",
      "452/452 [==============================] - 1s 3ms/step - loss: 1.1445 - val_loss: 1.1690\n",
      "Epoch 23/25\n",
      "452/452 [==============================] - 1s 3ms/step - loss: 1.1445 - val_loss: 1.1690\n",
      "Epoch 24/25\n",
      "452/452 [==============================] - 1s 3ms/step - loss: 1.1445 - val_loss: 1.1690\n",
      "Epoch 25/25\n",
      "452/452 [==============================] - 1s 3ms/step - loss: 1.1445 - val_loss: 1.1690\n"
     ]
    }
   ],
   "source": [
    "model_5 = tf.keras.models.clone_model(model_1)\n",
    "\n",
    "model_5.compile(\n",
    "    optimizer=tf.keras.optimizers.Adam(learning_rate=0.01),\n",
    "    loss='mae'\n",
    ")\n",
    "\n",
    "history_5 = model_5.fit(\n",
    "    X_train,\n",
    "    y_train,\n",
    "    validation_data=(X_test, y_test),\n",
    "    epochs=25\n",
    ")"
   ]
  },
  {
   "cell_type": "code",
   "execution_count": null,
   "metadata": {
    "id": "Z-kZeYxZAQAa"
   },
   "outputs": [],
   "source": []
  },
  {
   "cell_type": "code",
   "execution_count": null,
   "metadata": {
    "id": "I2HXLo1CAP0i"
   },
   "outputs": [],
   "source": []
  },
  {
   "cell_type": "code",
   "execution_count": null,
   "metadata": {
    "id": "tE1QJAwBssY0"
   },
   "outputs": [],
   "source": []
  },
  {
   "cell_type": "markdown",
   "metadata": {
    "id": "2xF467DWpdnq"
   },
   "source": [
    "### 6th Model - Change the Optimizer\n",
    "\n",
    "Copy of Model 1\n",
    "\n",
    "Change the Optimizer to 'rmsprop'\n",
    "\n",
    "All other parameters remain the same"
   ]
  },
  {
   "cell_type": "code",
   "execution_count": 153,
   "metadata": {
    "colab": {
     "base_uri": "https://localhost:8080/"
    },
    "id": "RAfaYKVnARkC",
    "outputId": "818cef8b-8527-4d46-c61d-1c376a9cc18c"
   },
   "outputs": [
    {
     "name": "stdout",
     "output_type": "stream",
     "text": [
      "Epoch 1/25\n",
      "452/452 [==============================] - 2s 3ms/step - loss: 1.2464 - val_loss: 1.1692\n",
      "Epoch 2/25\n",
      "452/452 [==============================] - 1s 3ms/step - loss: 1.1445 - val_loss: 1.1690\n",
      "Epoch 3/25\n",
      "452/452 [==============================] - 1s 3ms/step - loss: 1.1445 - val_loss: 1.1690\n",
      "Epoch 4/25\n",
      "452/452 [==============================] - 2s 4ms/step - loss: 1.1445 - val_loss: 1.1690\n",
      "Epoch 5/25\n",
      "452/452 [==============================] - 2s 4ms/step - loss: 1.1445 - val_loss: 1.1690\n",
      "Epoch 6/25\n",
      "452/452 [==============================] - 1s 3ms/step - loss: 1.1445 - val_loss: 1.1690\n",
      "Epoch 7/25\n",
      "452/452 [==============================] - 1s 3ms/step - loss: 1.1445 - val_loss: 1.1690\n",
      "Epoch 8/25\n",
      "452/452 [==============================] - 1s 3ms/step - loss: 1.1445 - val_loss: 1.1690\n",
      "Epoch 9/25\n",
      "452/452 [==============================] - 1s 3ms/step - loss: 1.1445 - val_loss: 1.1690\n",
      "Epoch 10/25\n",
      "452/452 [==============================] - 2s 3ms/step - loss: 1.1445 - val_loss: 1.1690\n",
      "Epoch 11/25\n",
      "452/452 [==============================] - 1s 3ms/step - loss: 1.1445 - val_loss: 1.1690\n",
      "Epoch 12/25\n",
      "452/452 [==============================] - 1s 3ms/step - loss: 1.1445 - val_loss: 1.1690\n",
      "Epoch 13/25\n",
      "452/452 [==============================] - 2s 4ms/step - loss: 1.1445 - val_loss: 1.1690\n",
      "Epoch 14/25\n",
      "452/452 [==============================] - 1s 3ms/step - loss: 1.1445 - val_loss: 1.1690\n",
      "Epoch 15/25\n",
      "452/452 [==============================] - 1s 3ms/step - loss: 1.1445 - val_loss: 1.1690\n",
      "Epoch 16/25\n",
      "452/452 [==============================] - 2s 4ms/step - loss: 1.1445 - val_loss: 1.1690\n",
      "Epoch 17/25\n",
      "452/452 [==============================] - 1s 3ms/step - loss: 1.1445 - val_loss: 1.1690\n",
      "Epoch 18/25\n",
      "452/452 [==============================] - 2s 3ms/step - loss: 1.1445 - val_loss: 1.1690\n",
      "Epoch 19/25\n",
      "452/452 [==============================] - 1s 3ms/step - loss: 1.1445 - val_loss: 1.1690\n",
      "Epoch 20/25\n",
      "452/452 [==============================] - 1s 3ms/step - loss: 1.1445 - val_loss: 1.1690\n",
      "Epoch 21/25\n",
      "452/452 [==============================] - 1s 3ms/step - loss: 1.1445 - val_loss: 1.1690\n",
      "Epoch 22/25\n",
      "452/452 [==============================] - 1s 3ms/step - loss: 1.1445 - val_loss: 1.1690\n",
      "Epoch 23/25\n",
      "452/452 [==============================] - 1s 3ms/step - loss: 1.1445 - val_loss: 1.1690\n",
      "Epoch 24/25\n",
      "452/452 [==============================] - 2s 3ms/step - loss: 1.1445 - val_loss: 1.1690\n",
      "Epoch 25/25\n",
      "452/452 [==============================] - 1s 3ms/step - loss: 1.1445 - val_loss: 1.1690\n"
     ]
    }
   ],
   "source": [
    "model_6 = tf.keras.models.clone_model(model_1)\n",
    "\n",
    "model_6.compile(\n",
    "    optimizer='rmsprop',\n",
    "    loss='mae'\n",
    ")\n",
    "\n",
    "history_6 = model_6.fit(\n",
    "    X_train, \n",
    "    y_train,\n",
    "    validation_data=(X_test, y_test),\n",
    "    epochs=25\n",
    ")"
   ]
  },
  {
   "cell_type": "code",
   "execution_count": null,
   "metadata": {
    "id": "FjDso1rqARdi"
   },
   "outputs": [],
   "source": []
  },
  {
   "cell_type": "code",
   "execution_count": null,
   "metadata": {
    "id": "y1GR-SseAREM"
   },
   "outputs": [],
   "source": []
  },
  {
   "cell_type": "code",
   "execution_count": null,
   "metadata": {
    "id": "SQ_WCP82stbk"
   },
   "outputs": [],
   "source": []
  },
  {
   "cell_type": "markdown",
   "metadata": {
    "id": "kW98x2lWpuNI"
   },
   "source": [
    "### 7th Model - Combining it all\n",
    "\n",
    "Copy of Model 1\n",
    "\n",
    "Increase the number of units to 128\n",
    "\n",
    "Change the activation algorithm to **'relu'**\n",
    "\n",
    "Add 2 more Dense Layers\n",
    "\n",
    "Reduce the learning rate to 0.01"
   ]
  },
  {
   "cell_type": "code",
   "execution_count": 154,
   "metadata": {
    "colab": {
     "base_uri": "https://localhost:8080/"
    },
    "id": "iJgCgKN3ATNS",
    "outputId": "3922520f-409e-499e-fc1e-a9541149753a"
   },
   "outputs": [
    {
     "name": "stdout",
     "output_type": "stream",
     "text": [
      "Epoch 1/25\n",
      "452/452 [==============================] - 3s 5ms/step - loss: 0.5668 - val_loss: 0.5183\n",
      "Epoch 2/25\n",
      "452/452 [==============================] - 2s 5ms/step - loss: 0.5058 - val_loss: 0.4859\n",
      "Epoch 3/25\n",
      "452/452 [==============================] - 2s 5ms/step - loss: 0.4777 - val_loss: 0.4675\n",
      "Epoch 4/25\n",
      "452/452 [==============================] - 2s 5ms/step - loss: 0.4614 - val_loss: 0.4505\n",
      "Epoch 5/25\n",
      "452/452 [==============================] - 2s 5ms/step - loss: 0.4506 - val_loss: 0.4773\n",
      "Epoch 6/25\n",
      "452/452 [==============================] - 2s 4ms/step - loss: 0.4449 - val_loss: 0.4402\n",
      "Epoch 7/25\n",
      "452/452 [==============================] - 2s 5ms/step - loss: 0.4403 - val_loss: 0.4586\n",
      "Epoch 8/25\n",
      "452/452 [==============================] - 2s 4ms/step - loss: 0.4369 - val_loss: 0.4216\n",
      "Epoch 9/25\n",
      "452/452 [==============================] - 2s 4ms/step - loss: 0.4310 - val_loss: 0.4220\n",
      "Epoch 10/25\n",
      "452/452 [==============================] - 2s 5ms/step - loss: 0.4227 - val_loss: 0.4389\n",
      "Epoch 11/25\n",
      "452/452 [==============================] - 2s 5ms/step - loss: 0.4242 - val_loss: 0.4178\n",
      "Epoch 12/25\n",
      "452/452 [==============================] - 2s 4ms/step - loss: 0.4163 - val_loss: 0.4103\n",
      "Epoch 13/25\n",
      "452/452 [==============================] - 2s 5ms/step - loss: 0.4196 - val_loss: 0.4409\n",
      "Epoch 14/25\n",
      "452/452 [==============================] - 2s 5ms/step - loss: 0.4187 - val_loss: 0.4396\n",
      "Epoch 15/25\n",
      "452/452 [==============================] - 2s 5ms/step - loss: 0.4172 - val_loss: 0.4150\n",
      "Epoch 16/25\n",
      "452/452 [==============================] - 2s 5ms/step - loss: 0.4077 - val_loss: 0.4452\n",
      "Epoch 17/25\n",
      "452/452 [==============================] - 2s 4ms/step - loss: 0.4085 - val_loss: 0.4667\n",
      "Epoch 18/25\n",
      "452/452 [==============================] - 2s 4ms/step - loss: 0.4053 - val_loss: 0.4331\n",
      "Epoch 19/25\n",
      "452/452 [==============================] - 2s 5ms/step - loss: 0.4018 - val_loss: 0.3981\n",
      "Epoch 20/25\n",
      "452/452 [==============================] - 2s 4ms/step - loss: 0.4028 - val_loss: 0.4018\n",
      "Epoch 21/25\n",
      "452/452 [==============================] - 2s 4ms/step - loss: 0.4045 - val_loss: 0.4062\n",
      "Epoch 22/25\n",
      "452/452 [==============================] - 2s 5ms/step - loss: 0.3999 - val_loss: 0.4108\n",
      "Epoch 23/25\n",
      "452/452 [==============================] - 3s 6ms/step - loss: 0.3989 - val_loss: 0.4017\n",
      "Epoch 24/25\n",
      "452/452 [==============================] - 2s 5ms/step - loss: 0.4021 - val_loss: 0.4014\n",
      "Epoch 25/25\n",
      "452/452 [==============================] - 2s 5ms/step - loss: 0.3956 - val_loss: 0.4100\n"
     ]
    }
   ],
   "source": [
    "model_7 = Sequential()\n",
    "\n",
    "model_7.add(Dense(128, activation='relu'))\n",
    "model_7.add(Dense(128, activation='relu'))\n",
    "model_7.add(Dense(128, activation='relu'))\n",
    "\n",
    "model_7.add(Dense(1, activation='relu'))\n",
    "\n",
    "model_7.compile(\n",
    "    optimizer=tf.keras.optimizers.Adam(learning_rate=0.01),\n",
    "    loss='mae'\n",
    ")\n",
    "\n",
    "history_7 = model_7.fit(\n",
    "    X_train,\n",
    "    y_train,\n",
    "    validation_data=(X_test, y_test),\n",
    "    epochs=25\n",
    ")"
   ]
  },
  {
   "cell_type": "code",
   "execution_count": 155,
   "metadata": {
    "colab": {
     "base_uri": "https://localhost:8080/",
     "height": 286
    },
    "id": "jmVXOGuxATEC",
    "outputId": "72ab3f4a-b79c-48fb-8927-a0420de152a7"
   },
   "outputs": [
    {
     "data": {
      "text/plain": [
       "<matplotlib.axes._subplots.AxesSubplot at 0x7f8e22869d10>"
      ]
     },
     "execution_count": 155,
     "metadata": {},
     "output_type": "execute_result"
    },
    {
     "data": {
      "image/png": "[encoded data removed]",
      "text/plain": [
       "<Figure size 432x288 with 1 Axes>"
      ]
     },
     "metadata": {
      "needs_background": "light"
     },
     "output_type": "display_data"
    }
   ],
   "source": [
    "pd.DataFrame(history_7.history).plot()"
   ]
  },
  {
   "cell_type": "code",
   "execution_count": null,
   "metadata": {
    "id": "shnI1VV0AS66"
   },
   "outputs": [],
   "source": []
  },
  {
   "cell_type": "code",
   "execution_count": null,
   "metadata": {
    "id": "2BfLHae7ASui"
   },
   "outputs": [],
   "source": []
  },
  {
   "cell_type": "code",
   "execution_count": null,
   "metadata": {
    "id": "HQB1V5xZ5mze"
   },
   "outputs": [],
   "source": []
  },
  {
   "cell_type": "markdown",
   "metadata": {
    "id": "oEgxAcfnAXEJ"
   },
   "source": [
    "### 8th Model - Callbacks (Early Stopping)\n",
    "\n",
    "Copy Model 7\n",
    "\n",
    "Add an Early Stopping Callback\n",
    "\n",
    "All other parameters remain the same"
   ]
  },
  {
   "cell_type": "code",
   "execution_count": 156,
   "metadata": {
    "id": "cIMXS2X_AW66"
   },
   "outputs": [],
   "source": [
    "from tensorflow.keras.callbacks import EarlyStopping"
   ]
  },
  {
   "cell_type": "code",
   "execution_count": 157,
   "metadata": {
    "colab": {
     "base_uri": "https://localhost:8080/"
    },
    "id": "1H7BiaBwC1_C",
    "outputId": "c95ce3c9-f701-4904-de55-b6dbccf88aec"
   },
   "outputs": [
    {
     "name": "stdout",
     "output_type": "stream",
     "text": [
      "Epoch 1/250\n",
      "452/452 [==============================] - 2s 3ms/step - loss: 0.5661 - val_loss: 0.5105\n",
      "Epoch 2/250\n",
      "452/452 [==============================] - 1s 2ms/step - loss: 0.4982 - val_loss: 0.4747\n",
      "Epoch 3/250\n",
      "452/452 [==============================] - 1s 2ms/step - loss: 0.4742 - val_loss: 0.4704\n",
      "Epoch 4/250\n",
      "452/452 [==============================] - 1s 3ms/step - loss: 0.4722 - val_loss: 0.5060\n",
      "Epoch 5/250\n",
      "452/452 [==============================] - 1s 2ms/step - loss: 0.4551 - val_loss: 0.4488\n",
      "Epoch 6/250\n",
      "452/452 [==============================] - 1s 3ms/step - loss: 0.4430 - val_loss: 0.4359\n",
      "Epoch 7/250\n",
      "452/452 [==============================] - 1s 2ms/step - loss: 0.4402 - val_loss: 0.4308\n",
      "Epoch 8/250\n",
      "452/452 [==============================] - 1s 3ms/step - loss: 0.4378 - val_loss: 0.4332\n",
      "Epoch 9/250\n",
      "452/452 [==============================] - 1s 2ms/step - loss: 0.4305 - val_loss: 0.4499\n",
      "Epoch 10/250\n",
      "452/452 [==============================] - 1s 3ms/step - loss: 0.4298 - val_loss: 0.4340\n",
      "Epoch 11/250\n",
      "452/452 [==============================] - 1s 2ms/step - loss: 0.4285 - val_loss: 0.4577\n",
      "Epoch 12/250\n",
      "452/452 [==============================] - 1s 2ms/step - loss: 0.4170 - val_loss: 0.5573\n",
      "Epoch 13/250\n",
      "452/452 [==============================] - 1s 3ms/step - loss: 0.4191 - val_loss: 0.4344\n",
      "Epoch 14/250\n",
      "452/452 [==============================] - 1s 3ms/step - loss: 0.4182 - val_loss: 0.4529\n",
      "Epoch 15/250\n",
      "452/452 [==============================] - 1s 2ms/step - loss: 0.4147 - val_loss: 0.4946\n",
      "Epoch 16/250\n",
      "452/452 [==============================] - 1s 3ms/step - loss: 0.4191 - val_loss: 0.4232\n",
      "Epoch 17/250\n",
      "452/452 [==============================] - 1s 3ms/step - loss: 0.4045 - val_loss: 0.4095\n",
      "Epoch 18/250\n",
      "452/452 [==============================] - 1s 2ms/step - loss: 0.4079 - val_loss: 0.4024\n",
      "Epoch 19/250\n",
      "452/452 [==============================] - 1s 2ms/step - loss: 0.4083 - val_loss: 0.4779\n",
      "Epoch 20/250\n",
      "452/452 [==============================] - 1s 3ms/step - loss: 0.4017 - val_loss: 0.4321\n",
      "Epoch 21/250\n",
      "452/452 [==============================] - 2s 4ms/step - loss: 0.4011 - val_loss: 0.4106\n",
      "Epoch 22/250\n",
      "452/452 [==============================] - 2s 4ms/step - loss: 0.3989 - val_loss: 0.4335\n",
      "Epoch 23/250\n",
      "452/452 [==============================] - 1s 3ms/step - loss: 0.3932 - val_loss: 0.3975\n",
      "Epoch 24/250\n",
      "452/452 [==============================] - 1s 3ms/step - loss: 0.3951 - val_loss: 0.4096\n",
      "Epoch 25/250\n",
      "452/452 [==============================] - 1s 2ms/step - loss: 0.3946 - val_loss: 0.4907\n",
      "Epoch 26/250\n",
      "452/452 [==============================] - 1s 3ms/step - loss: 0.3897 - val_loss: 0.3980\n",
      "Epoch 27/250\n",
      "452/452 [==============================] - 1s 3ms/step - loss: 0.3908 - val_loss: 0.4574\n",
      "Epoch 28/250\n",
      "452/452 [==============================] - 1s 2ms/step - loss: 0.3926 - val_loss: 0.3847\n",
      "Epoch 29/250\n",
      "452/452 [==============================] - 1s 2ms/step - loss: 0.3860 - val_loss: 0.4289\n",
      "Epoch 30/250\n",
      "452/452 [==============================] - 1s 2ms/step - loss: 0.3833 - val_loss: 0.4005\n",
      "Epoch 31/250\n",
      "452/452 [==============================] - 1s 3ms/step - loss: 0.3884 - val_loss: 0.3863\n",
      "Epoch 32/250\n",
      "452/452 [==============================] - 1s 3ms/step - loss: 0.3843 - val_loss: 0.3989\n",
      "Epoch 33/250\n",
      "452/452 [==============================] - 1s 2ms/step - loss: 0.3846 - val_loss: 0.3956\n",
      "Epoch 34/250\n",
      "452/452 [==============================] - 1s 3ms/step - loss: 0.3758 - val_loss: 0.4028\n",
      "Epoch 35/250\n",
      "452/452 [==============================] - 1s 2ms/step - loss: 0.3783 - val_loss: 0.3797\n",
      "Epoch 36/250\n",
      "452/452 [==============================] - 1s 2ms/step - loss: 0.3799 - val_loss: 0.4234\n",
      "Epoch 37/250\n",
      "452/452 [==============================] - 1s 3ms/step - loss: 0.3786 - val_loss: 0.3774\n",
      "Epoch 38/250\n",
      "452/452 [==============================] - 1s 2ms/step - loss: 0.3742 - val_loss: 0.3953\n",
      "Epoch 39/250\n",
      "452/452 [==============================] - 1s 2ms/step - loss: 0.3737 - val_loss: 0.3777\n",
      "Epoch 40/250\n",
      "452/452 [==============================] - 1s 3ms/step - loss: 0.3723 - val_loss: 0.3937\n",
      "Epoch 41/250\n",
      "452/452 [==============================] - 1s 3ms/step - loss: 0.3720 - val_loss: 0.3698\n",
      "Epoch 42/250\n",
      "452/452 [==============================] - 1s 2ms/step - loss: 0.3676 - val_loss: 0.3739\n",
      "Epoch 43/250\n",
      "452/452 [==============================] - 1s 3ms/step - loss: 0.3734 - val_loss: 0.3790\n",
      "Epoch 44/250\n",
      "452/452 [==============================] - 1s 2ms/step - loss: 0.3687 - val_loss: 0.3862\n",
      "Epoch 45/250\n",
      "452/452 [==============================] - 1s 2ms/step - loss: 0.3658 - val_loss: 0.4040\n",
      "Epoch 46/250\n",
      "452/452 [==============================] - 1s 3ms/step - loss: 0.3672 - val_loss: 0.3768\n",
      "Epoch 47/250\n",
      "452/452 [==============================] - 1s 3ms/step - loss: 0.3695 - val_loss: 0.3842\n",
      "Epoch 48/250\n",
      "452/452 [==============================] - 1s 3ms/step - loss: 0.3678 - val_loss: 0.4515\n",
      "Epoch 49/250\n",
      "452/452 [==============================] - 1s 3ms/step - loss: 0.3678 - val_loss: 0.3866\n",
      "Epoch 50/250\n",
      "452/452 [==============================] - 1s 3ms/step - loss: 0.3658 - val_loss: 0.4661\n",
      "Epoch 51/250\n",
      "452/452 [==============================] - 1s 2ms/step - loss: 0.3626 - val_loss: 0.3789\n",
      "Epoch 51: early stopping\n"
     ]
    }
   ],
   "source": [
    "model_8 = tf.keras.models.clone_model(model_7)\n",
    "\n",
    "model_8.compile(\n",
    "    optimizer=tf.keras.optimizers.Adam(learning_rate=0.01),\n",
    "    loss='mae'\n",
    ")\n",
    "\n",
    "\n",
    "# EarlyStopping Callback\n",
    "\n",
    "es = EarlyStopping(monitor='val_loss', mode='min', patience=10, verbose=1)\n",
    "\n",
    "history_8 = model_8.fit(\n",
    "    X_train,\n",
    "    y_train,\n",
    "    validation_data=(X_test, y_test),\n",
    "    epochs=250,\n",
    "    callbacks=[es]\n",
    ")"
   ]
  },
  {
   "cell_type": "code",
   "execution_count": 158,
   "metadata": {
    "colab": {
     "base_uri": "https://localhost:8080/",
     "height": 285
    },
    "id": "IzZEvISJC12h",
    "outputId": "bf9a69ca-0732-4412-f214-87bec2620128"
   },
   "outputs": [
    {
     "data": {
      "text/plain": [
       "<matplotlib.axes._subplots.AxesSubplot at 0x7f8e2269b3d0>"
      ]
     },
     "execution_count": 158,
     "metadata": {},
     "output_type": "execute_result"
    },
    {
     "data": {
      "image/png": "[encoded data removed]",
      "text/plain": [
       "<Figure size 432x288 with 1 Axes>"
      ]
     },
     "metadata": {
      "needs_background": "light"
     },
     "output_type": "display_data"
    }
   ],
   "source": [
    "pd.DataFrame(history_8.history).plot()"
   ]
  },
  {
   "cell_type": "code",
   "execution_count": 159,
   "metadata": {
    "colab": {
     "base_uri": "https://localhost:8080/"
    },
    "id": "-txOlJvOC1ox",
    "outputId": "450eacdf-6825-46f7-b7a6-b136bfdc2512"
   },
   "outputs": [
    {
     "name": "stdout",
     "output_type": "stream",
     "text": [
      "Model: \"sequential_17\"\n",
      "_________________________________________________________________\n",
      " Layer (type)                Output Shape              Param #   \n",
      "=================================================================\n",
      " dense_37 (Dense)            (None, 128)               1152      \n",
      "                                                                 \n",
      " dense_38 (Dense)            (None, 128)               16512     \n",
      "                                                                 \n",
      " dense_39 (Dense)            (None, 128)               16512     \n",
      "                                                                 \n",
      " dense_40 (Dense)            (None, 1)                 129       \n",
      "                                                                 \n",
      "=================================================================\n",
      "Total params: 34,305\n",
      "Trainable params: 34,305\n",
      "Non-trainable params: 0\n",
      "_________________________________________________________________\n"
     ]
    }
   ],
   "source": [
    "model_8.summary()"
   ]
  },
  {
   "cell_type": "code",
   "execution_count": null,
   "metadata": {
    "id": "dAHjfwK2AWwy"
   },
   "outputs": [],
   "source": []
  },
  {
   "cell_type": "markdown",
   "metadata": {
    "id": "-rsathXfqV4S"
   },
   "source": [
    "### Predictions\n",
    "\n",
    "Compare the evaluation results with the y_test/predictions with *mean_absolute_error*\n",
    "\n",
    "Create a dataset from the 0th element in the original dataframe and run a prediction on it\n",
    "\n",
    "How does it compare to the real price?"
   ]
  },
  {
   "cell_type": "code",
   "execution_count": 160,
   "metadata": {
    "id": "E-mrOocYAabR"
   },
   "outputs": [],
   "source": [
    "prediction_8 = model_8.predict(X_test)"
   ]
  },
  {
   "cell_type": "code",
   "execution_count": 161,
   "metadata": {
    "colab": {
     "base_uri": "https://localhost:8080/"
    },
    "id": "I-NERA1YAaR5",
    "outputId": "a7219967-bb71-484a-8364-925ee3121f51"
   },
   "outputs": [
    {
     "data": {
      "text/plain": [
       "0.37885652569447686"
      ]
     },
     "execution_count": 161,
     "metadata": {},
     "output_type": "execute_result"
    }
   ],
   "source": [
    "mean_absolute_error(y_test, prediction_8)"
   ]
  },
  {
   "cell_type": "code",
   "execution_count": 163,
   "metadata": {
    "colab": {
     "base_uri": "https://localhost:8080/"
    },
    "id": "SImBP5m_AaIh",
    "outputId": "99f3ac0f-f2fd-4626-c25e-b07bf450d03e"
   },
   "outputs": [
    {
     "name": "stdout",
     "output_type": "stream",
     "text": [
      "194/194 [==============================] - 0s 2ms/step - loss: 0.3789\n"
     ]
    },
    {
     "data": {
      "text/plain": [
       "0.37885645031929016"
      ]
     },
     "execution_count": 163,
     "metadata": {},
     "output_type": "execute_result"
    }
   ],
   "source": [
    "model_8.evaluate(X_test, y_test)"
   ]
  },
  {
   "cell_type": "code",
   "execution_count": 164,
   "metadata": {
    "colab": {
     "base_uri": "https://localhost:8080/"
    },
    "id": "6K7hPxyiAaBD",
    "outputId": "23a5b0c0-601e-485f-8be6-5a9a674c9b25"
   },
   "outputs": [
    {
     "data": {
      "text/plain": [
       "2.068558169089147"
      ]
     },
     "execution_count": 164,
     "metadata": {},
     "output_type": "execute_result"
    }
   ],
   "source": [
    "df['target'].mean()"
   ]
  },
  {
   "cell_type": "code",
   "execution_count": 165,
   "metadata": {
    "id": "ex4dieP_AZ5B"
   },
   "outputs": [],
   "source": [
    "test_data = df.loc[0]"
   ]
  },
  {
   "cell_type": "code",
   "execution_count": 166,
   "metadata": {
    "colab": {
     "base_uri": "https://localhost:8080/"
    },
    "id": "Vx0I3_Ea6Veg",
    "outputId": "095f646a-2bc0-4c3d-c3e0-0e591fc1fb69"
   },
   "outputs": [
    {
     "data": {
      "text/plain": [
       "MedInc          8.325200\n",
       "HouseAge       41.000000\n",
       "AveRooms        6.984127\n",
       "AveBedrms       1.023810\n",
       "Population    322.000000\n",
       "AveOccup        2.555556\n",
       "Latitude       37.880000\n",
       "Longitude    -122.230000\n",
       "target          4.526000\n",
       "Name: 0, dtype: float64"
      ]
     },
     "execution_count": 166,
     "metadata": {},
     "output_type": "execute_result"
    }
   ],
   "source": [
    "test_data"
   ]
  },
  {
   "cell_type": "code",
   "execution_count": 168,
   "metadata": {
    "id": "4WBHDPUJUZza"
   },
   "outputs": [],
   "source": [
    "test_data = test_data.drop('target').values.reshape(-1,8)"
   ]
  },
  {
   "cell_type": "code",
   "execution_count": 169,
   "metadata": {
    "colab": {
     "base_uri": "https://localhost:8080/"
    },
    "id": "pCC_wHV4Uilh",
    "outputId": "587f47c8-a0a2-4c29-e3e3-e81d929be7e8"
   },
   "outputs": [
    {
     "data": {
      "text/plain": [
       "array([[   8.3252    ,   41.        ,    6.98412698,    1.02380952,\n",
       "         322.        ,    2.55555556,   37.88      , -122.23      ]])"
      ]
     },
     "execution_count": 169,
     "metadata": {},
     "output_type": "execute_result"
    }
   ],
   "source": [
    "test_data"
   ]
  },
  {
   "cell_type": "code",
   "execution_count": 170,
   "metadata": {
    "id": "iuaQgxGEUmMI"
   },
   "outputs": [],
   "source": [
    "test_data = scaler.transform(test_data)"
   ]
  },
  {
   "cell_type": "code",
   "execution_count": 171,
   "metadata": {
    "colab": {
     "base_uri": "https://localhost:8080/"
    },
    "id": "L7qEeV_wUsPH",
    "outputId": "734fb2a4-401b-4bde-c7bd-ded179136a31"
   },
   "outputs": [
    {
     "data": {
      "text/plain": [
       "array([[0.53966842, 0.78431373, 0.04322245, 0.02046866, 0.0088575 ,\n",
       "        0.00264715, 0.5674814 , 0.21115538]])"
      ]
     },
     "execution_count": 171,
     "metadata": {},
     "output_type": "execute_result"
    }
   ],
   "source": [
    "test_data"
   ]
  },
  {
   "cell_type": "code",
   "execution_count": 172,
   "metadata": {
    "colab": {
     "base_uri": "https://localhost:8080/"
    },
    "id": "KmBo5Cg7UsxJ",
    "outputId": "4dc4dc8c-af3f-4685-bcb5-dcca443110ac"
   },
   "outputs": [
    {
     "data": {
      "text/plain": [
       "array([[4.7937355]], dtype=float32)"
      ]
     },
     "execution_count": 172,
     "metadata": {},
     "output_type": "execute_result"
    }
   ],
   "source": [
    "model_8.predict(test_data)"
   ]
  },
  {
   "cell_type": "code",
   "execution_count": null,
   "metadata": {
    "id": "PTqNhpiZUvQH"
   },
   "outputs": [],
   "source": []
  }
 ],
 "metadata": {
  "colab": {
   "collapsed_sections": [],
   "name": "Day 55 - TensorFlow Intro.ipynb",
   "provenance": [],
   "toc_visible": true
  },
  "gpuClass": "standard",
  "kernelspec": {
   "display_name": "Python 3 (ipykernel)",
   "language": "python",
   "name": "python3"
  },
  "language_info": {
   "codemirror_mode": {
    "name": "ipython",
    "version": 3
   },
   "file_extension": ".py",
   "mimetype": "text/x-python",
   "name": "python",
   "nbconvert_exporter": "python",
   "pygments_lexer": "ipython3",
   "version": "3.9.12"
  }
 },
 "nbformat": 4,
 "nbformat_minor": 1
}
