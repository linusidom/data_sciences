{
 "cells": [
  {
   "cell_type": "markdown",
   "metadata": {
    "id": "YRttIrurynsD"
   },
   "source": [
    "# Tensor Flow - Deep Learning - Exercises\n",
    "\n",
    "Data Set:\n",
    "\n",
    "https://www.kaggle.com/datasets/vedavyasv/usa-housing\n",
    "\n",
    "Recommended to use Google Colab Environment but not required"
   ]
  },
  {
   "cell_type": "code",
   "execution_count": 80,
   "metadata": {
    "id": "Ee9-IwIUrqFF"
   },
   "outputs": [],
   "source": [
    "# Import necessary libraries\n",
    "\n",
    "\n",
    "\n",
    "\n",
    "\n",
    "\n",
    "# Type your code above this line"
   ]
  },
  {
   "cell_type": "code",
   "execution_count": 81,
   "metadata": {
    "id": "Ef3oqhiQt-2i"
   },
   "outputs": [],
   "source": [
    "# Create a Tensor with 1 single value - t1\n",
    "\n",
    "\n",
    "\n",
    "# Type your code above this line"
   ]
  },
  {
   "cell_type": "code",
   "execution_count": 3,
   "metadata": {
    "colab": {
     "base_uri": "https://localhost:8080/"
    },
    "id": "HeIaSFT3_z3P",
    "outputId": "af1a2f29-d4ed-428d-88bd-fb8f6fed55ea"
   },
   "outputs": [],
   "source": [
    "# What is it's shape?\n",
    "\n",
    "\n",
    "\n",
    "# Type your code above this line"
   ]
  },
  {
   "cell_type": "code",
   "execution_count": 83,
   "metadata": {
    "id": "1gkA6tFQ_z9H"
   },
   "outputs": [],
   "source": [
    "# Create a Tensor array with 2 values - t2\n",
    "\n",
    "\n",
    "\n",
    "\n",
    "# Type your code above this line"
   ]
  },
  {
   "cell_type": "code",
   "execution_count": 2,
   "metadata": {
    "colab": {
     "base_uri": "https://localhost:8080/"
    },
    "id": "L0I59vQt_0C_",
    "outputId": "8dcb3e21-1607-409d-fe19-018bd437dda0"
   },
   "outputs": [],
   "source": [
    "# What is the tensor array's shape?\n",
    "\n",
    "\n",
    "\n",
    "\n",
    "# Type your code above this line"
   ]
  },
  {
   "cell_type": "code",
   "execution_count": 85,
   "metadata": {
    "id": "l6HH5K8V_0I_"
   },
   "outputs": [],
   "source": [
    "# Create a 2 - Dimensional Tensor with 3 values per array - t3\n",
    "\n",
    "\n",
    "\n",
    "# Type your code above this line"
   ]
  },
  {
   "cell_type": "code",
   "execution_count": 1,
   "metadata": {
    "colab": {
     "base_uri": "https://localhost:8080/"
    },
    "id": "MQVWlgUf_0Ov",
    "outputId": "22994bcf-a63a-4dfc-ca16-d1996216d6a4"
   },
   "outputs": [],
   "source": [
    "# What is the tensor array's shape?\n",
    "\n",
    "\n",
    "\n",
    "# Type your code above this line"
   ]
  },
  {
   "cell_type": "code",
   "execution_count": 87,
   "metadata": {
    "id": "ldyrxGYh_0Uv"
   },
   "outputs": [],
   "source": [
    "# Create a 6x8 tensor with random values. t4\n",
    "\n",
    "\n",
    "\n",
    "\n",
    "\n",
    "# Type your code above this line"
   ]
  },
  {
   "cell_type": "code",
   "execution_count": 6,
   "metadata": {
    "colab": {
     "base_uri": "https://localhost:8080/"
    },
    "id": "BSziMfxoGKiQ",
    "outputId": "a78dd7d4-506b-4c80-edaf-96857c754dfe"
   },
   "outputs": [],
   "source": [
    "# What is the tensor's shape and data type?\n",
    "\n",
    "\n",
    "\n",
    "# Type your code above this line"
   ]
  },
  {
   "cell_type": "code",
   "execution_count": 92,
   "metadata": {
    "id": "Dn-vtcCjGKtA"
   },
   "outputs": [],
   "source": [
    "# Reshape t4 to be a 3x4x4\n",
    "\n",
    "\n",
    "\n",
    "\n",
    "\n",
    "\n",
    "# Type your code above this line"
   ]
  },
  {
   "cell_type": "code",
   "execution_count": 5,
   "metadata": {
    "colab": {
     "base_uri": "https://localhost:8080/"
    },
    "id": "2AMJszsKG2GC",
    "outputId": "490b37a7-1b77-4a77-8670-4f5fdfbaa854"
   },
   "outputs": [],
   "source": [
    "# What is the shape of the reshaped Tensor t4?\n",
    "\n",
    "\n",
    "\n",
    "# Type your code above this line"
   ]
  },
  {
   "cell_type": "code",
   "execution_count": 4,
   "metadata": {
    "colab": {
     "base_uri": "https://localhost:8080/"
    },
    "id": "_fHJDC-VGK3Q",
    "outputId": "5a2248f0-b689-48bd-859e-698e1d93073d"
   },
   "outputs": [],
   "source": [
    "# Get the 2nd and 3rd values from the 2nd and 3rd row from the 1st and 2nd group\n",
    "\n",
    "\n",
    "\n",
    "\n",
    "# Type your code above this line"
   ]
  },
  {
   "cell_type": "code",
   "execution_count": 7,
   "metadata": {
    "colab": {
     "base_uri": "https://localhost:8080/"
    },
    "id": "i7vj6GwpGLBQ",
    "outputId": "0eadd564-f588-44a2-e938-7ca8b0574e3d"
   },
   "outputs": [],
   "source": [
    "# Expand the dimensions of the tensor (add a dimension on the 0 axis)\n",
    "\n",
    "\n",
    "\n",
    "\n",
    "# Type your code above this line"
   ]
  },
  {
   "cell_type": "code",
   "execution_count": 112,
   "metadata": {
    "id": "n22MGGj4GLLZ"
   },
   "outputs": [],
   "source": []
  },
  {
   "cell_type": "markdown",
   "metadata": {
    "id": "HfJcJgrNkWSg"
   },
   "source": [
    "### Read in the Data into a DataFrame"
   ]
  },
  {
   "cell_type": "code",
   "execution_count": 110,
   "metadata": {
    "id": "KLB6RIAW_3y-"
   },
   "outputs": [],
   "source": []
  },
  {
   "cell_type": "code",
   "execution_count": null,
   "metadata": {
    "colab": {
     "base_uri": "https://localhost:8080/",
     "height": 424
    },
    "id": "Kr3yp3sN_34Q",
    "outputId": "368f2b92-d694-4e9f-e156-4361d5749435"
   },
   "outputs": [],
   "source": []
  },
  {
   "cell_type": "code",
   "execution_count": null,
   "metadata": {
    "id": "6PGFPp_9_4C2"
   },
   "outputs": [],
   "source": []
  },
  {
   "cell_type": "code",
   "execution_count": null,
   "metadata": {
    "id": "4ZMhxoph_4JW"
   },
   "outputs": [],
   "source": []
  },
  {
   "cell_type": "markdown",
   "metadata": {
    "id": "8CFOP8ZykaKX"
   },
   "source": [
    "### Train Test Split and Scale the Data"
   ]
  },
  {
   "cell_type": "code",
   "execution_count": 113,
   "metadata": {
    "id": "MQXEWWoH_5rG"
   },
   "outputs": [],
   "source": []
  },
  {
   "cell_type": "code",
   "execution_count": 114,
   "metadata": {
    "id": "BxvDkzxM_5i2"
   },
   "outputs": [],
   "source": []
  },
  {
   "cell_type": "code",
   "execution_count": null,
   "metadata": {
    "colab": {
     "base_uri": "https://localhost:8080/"
    },
    "id": "VkZg7Wrq_5a2",
    "outputId": "92ae9485-99d3-4231-cce0-cab291694c50"
   },
   "outputs": [],
   "source": []
  },
  {
   "cell_type": "code",
   "execution_count": null,
   "metadata": {
    "id": "TgFkYoY7_5Ty"
   },
   "outputs": [],
   "source": []
  },
  {
   "cell_type": "code",
   "execution_count": null,
   "metadata": {
    "id": "XCLG_hkn_5M2"
   },
   "outputs": [],
   "source": []
  },
  {
   "cell_type": "code",
   "execution_count": null,
   "metadata": {
    "id": "8v_gZC_X_5E-"
   },
   "outputs": [],
   "source": []
  },
  {
   "cell_type": "code",
   "execution_count": 116,
   "metadata": {
    "id": "YVg_zq8jcck3"
   },
   "outputs": [],
   "source": []
  },
  {
   "cell_type": "markdown",
   "metadata": {
    "id": "llTIZAASk1UB"
   },
   "source": [
    "### Build our first Model - model_1\n",
    "\n",
    "Single Layer\n",
    "\n",
    "Number of units equals the number of features\n",
    "\n",
    "Use 'tanh' for activation\n",
    "\n",
    "Use the Adam Optimizer\n",
    "\n",
    "Train for 25 Epochs"
   ]
  },
  {
   "cell_type": "code",
   "execution_count": null,
   "metadata": {
    "colab": {
     "base_uri": "https://localhost:8080/"
    },
    "id": "qfzK-JAA_8jf",
    "outputId": "e17742e6-64a4-4919-9242-c415201922e5"
   },
   "outputs": [],
   "source": []
  },
  {
   "cell_type": "code",
   "execution_count": null,
   "metadata": {
    "colab": {
     "base_uri": "https://localhost:8080/"
    },
    "id": "s7oStaYm_8am",
    "outputId": "9ca5d7eb-c491-4993-832d-354ce12928bd"
   },
   "outputs": [],
   "source": []
  },
  {
   "cell_type": "code",
   "execution_count": null,
   "metadata": {
    "colab": {
     "base_uri": "https://localhost:8080/"
    },
    "id": "LeHCOr99_8UJ",
    "outputId": "1ccd7a56-981a-4fda-df9e-ab459d0b0bd8"
   },
   "outputs": [],
   "source": []
  },
  {
   "cell_type": "code",
   "execution_count": null,
   "metadata": {
    "colab": {
     "base_uri": "https://localhost:8080/"
    },
    "id": "B-8XGxSK_8Om",
    "outputId": "1e9801d1-fcf7-436a-ce51-4e5349b74791"
   },
   "outputs": [],
   "source": []
  },
  {
   "cell_type": "markdown",
   "metadata": {
    "id": "4td9bhR1_8IW"
   },
   "source": [
    "### What does Our Model Look like?\n",
    "\n",
    "Model Summary"
   ]
  },
  {
   "cell_type": "code",
   "execution_count": null,
   "metadata": {
    "id": "ucBvbHb7__F-"
   },
   "outputs": [],
   "source": []
  },
  {
   "cell_type": "markdown",
   "metadata": {
    "id": "GhApRSYVlQL1"
   },
   "source": [
    "### Evaluate the Model with Plots\n",
    "\n",
    "It's probably a good idea to create a function to plot all the things we want on separate graphs otherwise the data is going to be hard to read"
   ]
  },
  {
   "cell_type": "code",
   "execution_count": null,
   "metadata": {
    "colab": {
     "base_uri": "https://localhost:8080/",
     "height": 282
    },
    "id": "Fy8tRUZG_-Ud",
    "outputId": "b27d02ff-8d70-4ae1-aff2-27b7bc52601c"
   },
   "outputs": [],
   "source": []
  },
  {
   "cell_type": "code",
   "execution_count": null,
   "metadata": {
    "id": "CZVowVQkNzW8"
   },
   "outputs": [],
   "source": []
  },
  {
   "cell_type": "code",
   "execution_count": null,
   "metadata": {
    "id": "YrenLtkgNzF-"
   },
   "outputs": [],
   "source": []
  },
  {
   "cell_type": "markdown",
   "metadata": {
    "id": "aAht0YMjlbOC"
   },
   "source": [
    "### 2nd Model - Add a Hidden Layer\n",
    "\n",
    "Copy of Model 1\n",
    "\n",
    "Add another Hidden Layer\n",
    "\n",
    "All other parameters remain the same\n"
   ]
  },
  {
   "cell_type": "code",
   "execution_count": null,
   "metadata": {
    "colab": {
     "base_uri": "https://localhost:8080/"
    },
    "id": "rP1VvDjHALEr",
    "outputId": "200177b2-b15d-47b8-99ed-a2efb721fd59"
   },
   "outputs": [],
   "source": []
  },
  {
   "cell_type": "code",
   "execution_count": null,
   "metadata": {
    "colab": {
     "base_uri": "https://localhost:8080/"
    },
    "id": "I8gfMx6QAK9z",
    "outputId": "5d9a0f64-5c03-45fd-e3e1-000dc88b3b00"
   },
   "outputs": [],
   "source": []
  },
  {
   "cell_type": "code",
   "execution_count": null,
   "metadata": {
    "id": "bu-Opny1AK2z"
   },
   "outputs": [],
   "source": []
  },
  {
   "cell_type": "markdown",
   "metadata": {
    "id": "R3NRS2KtlopJ"
   },
   "source": [
    "### 3rd Model - Add Units to the layer\n",
    "\n",
    "Copy of Model 1\n",
    "\n",
    "Add units to the  Layer (128)\n",
    "\n",
    "All other parameters remain the same"
   ]
  },
  {
   "cell_type": "code",
   "execution_count": null,
   "metadata": {
    "colab": {
     "base_uri": "https://localhost:8080/"
    },
    "id": "0cbOU2e1AMrT",
    "outputId": "38a1c497-8605-4d8d-f01d-7ce1604d1794"
   },
   "outputs": [],
   "source": []
  },
  {
   "cell_type": "code",
   "execution_count": null,
   "metadata": {
    "colab": {
     "base_uri": "https://localhost:8080/"
    },
    "id": "2R9llpAjAMgM",
    "outputId": "fc71cfc0-2787-4e3c-89aa-964afcb07218"
   },
   "outputs": [],
   "source": []
  },
  {
   "cell_type": "code",
   "execution_count": null,
   "metadata": {
    "colab": {
     "base_uri": "https://localhost:8080/"
    },
    "id": "d4V0AqtCAMaT",
    "outputId": "f8df1a65-6f52-4a5f-a441-f0179de1d622"
   },
   "outputs": [],
   "source": []
  },
  {
   "cell_type": "code",
   "execution_count": null,
   "metadata": {
    "id": "KFolzzIUAMVD"
   },
   "outputs": [],
   "source": []
  },
  {
   "cell_type": "code",
   "execution_count": null,
   "metadata": {
    "id": "cExBN9hisl87"
   },
   "outputs": [],
   "source": []
  },
  {
   "cell_type": "markdown",
   "metadata": {
    "id": "u9CrZdlvlzUI"
   },
   "source": [
    "### 4th Model - Change the Activation algorithm\n",
    "\n",
    "Copy of Model 1\n",
    "\n",
    "Change the activation to 'relu'\n",
    "\n",
    "All other parameters remain the same"
   ]
  },
  {
   "cell_type": "code",
   "execution_count": null,
   "metadata": {
    "colab": {
     "base_uri": "https://localhost:8080/"
    },
    "id": "SIARBdtuAOAD",
    "outputId": "07e4a985-f393-44fb-8db4-e4e91843cab8"
   },
   "outputs": [],
   "source": []
  },
  {
   "cell_type": "code",
   "execution_count": null,
   "metadata": {
    "colab": {
     "base_uri": "https://localhost:8080/",
     "height": 283
    },
    "id": "q6hCoXnnAN5D",
    "outputId": "c1ad17af-65b2-40fe-eeac-4ee09035c79f"
   },
   "outputs": [],
   "source": []
  },
  {
   "cell_type": "code",
   "execution_count": null,
   "metadata": {
    "id": "l2LFx_dcANtD"
   },
   "outputs": [],
   "source": []
  },
  {
   "cell_type": "markdown",
   "metadata": {
    "id": "_51RSMBYpRJe"
   },
   "source": [
    "### 5th Model - Change the Learning Rate\n",
    "\n",
    "Copy of Model 1\n",
    "\n",
    "Reduce the learning rate to 0.01\n",
    "\n",
    "All other parameters remain the same"
   ]
  },
  {
   "cell_type": "code",
   "execution_count": null,
   "metadata": {
    "colab": {
     "base_uri": "https://localhost:8080/"
    },
    "id": "gMGxGhf8AQGz",
    "outputId": "6d7972b3-9633-425f-b927-88ccd3992a42"
   },
   "outputs": [],
   "source": []
  },
  {
   "cell_type": "code",
   "execution_count": null,
   "metadata": {
    "id": "Z-kZeYxZAQAa"
   },
   "outputs": [],
   "source": []
  },
  {
   "cell_type": "code",
   "execution_count": null,
   "metadata": {
    "id": "I2HXLo1CAP0i"
   },
   "outputs": [],
   "source": []
  },
  {
   "cell_type": "code",
   "execution_count": null,
   "metadata": {
    "id": "tE1QJAwBssY0"
   },
   "outputs": [],
   "source": []
  },
  {
   "cell_type": "markdown",
   "metadata": {
    "id": "2xF467DWpdnq"
   },
   "source": [
    "### 6th Model - Change the Optimizer\n",
    "\n",
    "Copy of Model 1\n",
    "\n",
    "Change the Optimizer to 'rmsprop'\n",
    "\n",
    "All other parameters remain the same"
   ]
  },
  {
   "cell_type": "code",
   "execution_count": null,
   "metadata": {
    "colab": {
     "base_uri": "https://localhost:8080/"
    },
    "id": "RAfaYKVnARkC",
    "outputId": "818cef8b-8527-4d46-c61d-1c376a9cc18c"
   },
   "outputs": [],
   "source": []
  },
  {
   "cell_type": "code",
   "execution_count": null,
   "metadata": {
    "id": "FjDso1rqARdi"
   },
   "outputs": [],
   "source": []
  },
  {
   "cell_type": "code",
   "execution_count": null,
   "metadata": {
    "id": "y1GR-SseAREM"
   },
   "outputs": [],
   "source": []
  },
  {
   "cell_type": "code",
   "execution_count": null,
   "metadata": {
    "id": "SQ_WCP82stbk"
   },
   "outputs": [],
   "source": []
  },
  {
   "cell_type": "markdown",
   "metadata": {
    "id": "kW98x2lWpuNI"
   },
   "source": [
    "### 7th Model - Combining it all\n",
    "\n",
    "Copy of Model 1\n",
    "\n",
    "Increase the number of units to 128\n",
    "\n",
    "Change the activation algorithm to **'relu'**\n",
    "\n",
    "Add 2 more Dense Layers\n",
    "\n",
    "Reduce the learning rate to 0.01"
   ]
  },
  {
   "cell_type": "code",
   "execution_count": null,
   "metadata": {
    "colab": {
     "base_uri": "https://localhost:8080/"
    },
    "id": "iJgCgKN3ATNS",
    "outputId": "3922520f-409e-499e-fc1e-a9541149753a"
   },
   "outputs": [],
   "source": []
  },
  {
   "cell_type": "code",
   "execution_count": null,
   "metadata": {
    "colab": {
     "base_uri": "https://localhost:8080/",
     "height": 286
    },
    "id": "jmVXOGuxATEC",
    "outputId": "72ab3f4a-b79c-48fb-8927-a0420de152a7"
   },
   "outputs": [],
   "source": []
  },
  {
   "cell_type": "code",
   "execution_count": null,
   "metadata": {
    "id": "shnI1VV0AS66"
   },
   "outputs": [],
   "source": []
  },
  {
   "cell_type": "code",
   "execution_count": null,
   "metadata": {
    "id": "2BfLHae7ASui"
   },
   "outputs": [],
   "source": []
  },
  {
   "cell_type": "code",
   "execution_count": null,
   "metadata": {
    "id": "HQB1V5xZ5mze"
   },
   "outputs": [],
   "source": []
  },
  {
   "cell_type": "markdown",
   "metadata": {
    "id": "oEgxAcfnAXEJ"
   },
   "source": [
    "### 8th Model - Callbacks (Early Stopping)\n",
    "\n",
    "Copy Model 7\n",
    "\n",
    "Add an Early Stopping Callback\n",
    "\n",
    "All other parameters remain the same"
   ]
  },
  {
   "cell_type": "code",
   "execution_count": null,
   "metadata": {
    "id": "cIMXS2X_AW66"
   },
   "outputs": [],
   "source": []
  },
  {
   "cell_type": "code",
   "execution_count": null,
   "metadata": {
    "colab": {
     "base_uri": "https://localhost:8080/"
    },
    "id": "1H7BiaBwC1_C",
    "outputId": "c95ce3c9-f701-4904-de55-b6dbccf88aec"
   },
   "outputs": [],
   "source": []
  },
  {
   "cell_type": "code",
   "execution_count": null,
   "metadata": {
    "colab": {
     "base_uri": "https://localhost:8080/",
     "height": 285
    },
    "id": "IzZEvISJC12h",
    "outputId": "bf9a69ca-0732-4412-f214-87bec2620128"
   },
   "outputs": [],
   "source": []
  },
  {
   "cell_type": "code",
   "execution_count": null,
   "metadata": {
    "colab": {
     "base_uri": "https://localhost:8080/"
    },
    "id": "-txOlJvOC1ox",
    "outputId": "450eacdf-6825-46f7-b7a6-b136bfdc2512"
   },
   "outputs": [],
   "source": []
  },
  {
   "cell_type": "code",
   "execution_count": null,
   "metadata": {
    "id": "dAHjfwK2AWwy"
   },
   "outputs": [],
   "source": []
  },
  {
   "cell_type": "markdown",
   "metadata": {
    "id": "-rsathXfqV4S"
   },
   "source": [
    "### Predictions\n",
    "\n",
    "Compare the evaluation results with the y_test/predictions with *mean_absolute_error*\n",
    "\n",
    "Create a dataset from the 0th element in the original dataframe and run a prediction on it\n",
    "\n",
    "How does it compare to the real price?"
   ]
  },
  {
   "cell_type": "code",
   "execution_count": null,
   "metadata": {
    "id": "PTqNhpiZUvQH"
   },
   "outputs": [],
   "source": []
  },
  {
   "cell_type": "code",
   "execution_count": null,
   "metadata": {},
   "outputs": [],
   "source": []
  },
  {
   "cell_type": "code",
   "execution_count": null,
   "metadata": {},
   "outputs": [],
   "source": []
  },
  {
   "cell_type": "code",
   "execution_count": null,
   "metadata": {},
   "outputs": [],
   "source": []
  },
  {
   "cell_type": "code",
   "execution_count": null,
   "metadata": {},
   "outputs": [],
   "source": []
  },
  {
   "cell_type": "code",
   "execution_count": null,
   "metadata": {},
   "outputs": [],
   "source": []
  },
  {
   "cell_type": "code",
   "execution_count": null,
   "metadata": {},
   "outputs": [],
   "source": []
  }
 ],
 "metadata": {
  "colab": {
   "collapsed_sections": [],
   "name": "Day 55 - TensorFlow Intro.ipynb",
   "provenance": [],
   "toc_visible": true
  },
  "gpuClass": "standard",
  "kernelspec": {
   "display_name": "Python 3 (ipykernel)",
   "language": "python",
   "name": "python3"
  },
  "language_info": {
   "codemirror_mode": {
    "name": "ipython",
    "version": 3
   },
   "file_extension": ".py",
   "mimetype": "text/x-python",
   "name": "python",
   "nbconvert_exporter": "python",
   "pygments_lexer": "ipython3",
   "version": "3.9.12"
  }
 },
 "nbformat": 4,
 "nbformat_minor": 1
}
