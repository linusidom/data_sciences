{
  "cells": [
    {
      "cell_type": "markdown",
      "metadata": {
        "id": "91hIPnD3nA3l"
      },
      "source": [
        "# TensorFlow Classification - Exercises\n",
        "\n",
        "Classification Test Set (Titanic Data Set)\n",
        "\n",
        "https://www.kaggle.com/datasets/brendan45774/test-file\n",
        "\n",
        "#### *Connect to Kaggle from Google Colab*\n",
        "\n",
        "- https://stackoverflow.com/questions/56816537/cant-find-kaggle-json-file-in-google-colab"
      ]
    },
    {
      "cell_type": "code",
      "execution_count": 2,
      "metadata": {
        "id": "P4jmK-ISpWzP"
      },
      "outputs": [],
      "source": [
        "# Import the necessary libraries\n",
        "\n",
        "import pandas as pd\n",
        "import numpy as np\n",
        "import matplotlib.pyplot as plt\n",
        "import datetime\n",
        "import tensorflow as tf\n",
        "\n",
        "from tensorflow.keras.models import Sequential\n",
        "from tensorflow.keras.layers import Dense, Dropout\n",
        "from tensorflow.keras.callbacks import EarlyStopping, TensorBoard\n",
        "from tensorflow.keras.optimizers import Adam\n",
        "\n",
        "from sklearn.model_selection import train_test_split\n",
        "from sklearn.preprocessing import MinMaxScaler, StandardScaler\n",
        "from sklearn.metrics import classification_report, confusion_matrix\n",
        "\n",
        "\n",
        "\n",
        "\n",
        "\n",
        "\n",
        "# Type your code above this line"
      ]
    },
    {
      "cell_type": "code",
      "source": [
        "!mkdir ~/.kaggle\n",
        "!touch ~/.kaggle/kaggle.json\n",
        "\n",
        "api_token = {\"username\":\"username\",\"key\":\"api-key\"}\n",
        "\n",
        "import json\n",
        "\n",
        "with open('/root/.kaggle/kaggle.json', 'w') as file:\n",
        "    json.dump(api_token, file)\n",
        "\n",
        "!chmod 600 ~/.kaggle/kaggle.json"
      ],
      "metadata": {
        "id": "exahN4CQ0fju"
      },
      "execution_count": 3,
      "outputs": []
    },
    {
      "cell_type": "code",
      "source": [
        "!kaggle datasets download -d brendan45774/test-file"
      ],
      "metadata": {
        "colab": {
          "base_uri": "https://localhost:8080/"
        },
        "id": "NvUhyxSc0rbd",
        "outputId": "1c5b7446-894f-4c16-b063-1a43e906936c"
      },
      "execution_count": 4,
      "outputs": [
        {
          "output_type": "stream",
          "name": "stdout",
          "text": [
            "Downloading test-file.zip to /content\n",
            "\r  0% 0.00/11.2k [00:00<?, ?B/s]\n",
            "\r100% 11.2k/11.2k [00:00<00:00, 9.67MB/s]\n"
          ]
        }
      ]
    },
    {
      "cell_type": "code",
      "source": [
        "import zipfile\n",
        "\n",
        "zip_file = zipfile.ZipFile('test-file.zip')\n",
        "zip_file.extractall()\n",
        "zip_file.close()"
      ],
      "metadata": {
        "id": "nred1smw0wk9"
      },
      "execution_count": 5,
      "outputs": []
    },
    {
      "cell_type": "markdown",
      "metadata": {
        "id": "HQ2AWVKzs2R0"
      },
      "source": [
        "### Load data and create DataFrame"
      ]
    },
    {
      "cell_type": "code",
      "execution_count": 13,
      "metadata": {
        "id": "eVf04f96p11h"
      },
      "outputs": [],
      "source": [
        "df = pd.read_csv('tested.csv')"
      ]
    },
    {
      "cell_type": "code",
      "execution_count": 9,
      "metadata": {
        "id": "4ttx2cTeqL0i",
        "colab": {
          "base_uri": "https://localhost:8080/",
          "height": 424
        },
        "outputId": "9785d431-8d63-4ed8-cda7-09cd82d7f922"
      },
      "outputs": [
        {
          "output_type": "execute_result",
          "data": {
            "text/plain": [
              "     PassengerId  Survived  Pclass  \\\n",
              "0            892         0       3   \n",
              "1            893         1       3   \n",
              "2            894         0       2   \n",
              "3            895         0       3   \n",
              "4            896         1       3   \n",
              "..           ...       ...     ...   \n",
              "413         1305         0       3   \n",
              "414         1306         1       1   \n",
              "415         1307         0       3   \n",
              "416         1308         0       3   \n",
              "417         1309         0       3   \n",
              "\n",
              "                                             Name     Sex   Age  SibSp  Parch  \\\n",
              "0                                Kelly, Mr. James    male  34.5      0      0   \n",
              "1                Wilkes, Mrs. James (Ellen Needs)  female  47.0      1      0   \n",
              "2                       Myles, Mr. Thomas Francis    male  62.0      0      0   \n",
              "3                                Wirz, Mr. Albert    male  27.0      0      0   \n",
              "4    Hirvonen, Mrs. Alexander (Helga E Lindqvist)  female  22.0      1      1   \n",
              "..                                            ...     ...   ...    ...    ...   \n",
              "413                            Spector, Mr. Woolf    male   NaN      0      0   \n",
              "414                  Oliva y Ocana, Dona. Fermina  female  39.0      0      0   \n",
              "415                  Saether, Mr. Simon Sivertsen    male  38.5      0      0   \n",
              "416                           Ware, Mr. Frederick    male   NaN      0      0   \n",
              "417                      Peter, Master. Michael J    male   NaN      1      1   \n",
              "\n",
              "                 Ticket      Fare Cabin Embarked  \n",
              "0                330911    7.8292   NaN        Q  \n",
              "1                363272    7.0000   NaN        S  \n",
              "2                240276    9.6875   NaN        Q  \n",
              "3                315154    8.6625   NaN        S  \n",
              "4               3101298   12.2875   NaN        S  \n",
              "..                  ...       ...   ...      ...  \n",
              "413           A.5. 3236    8.0500   NaN        S  \n",
              "414            PC 17758  108.9000  C105        C  \n",
              "415  SOTON/O.Q. 3101262    7.2500   NaN        S  \n",
              "416              359309    8.0500   NaN        S  \n",
              "417                2668   22.3583   NaN        C  \n",
              "\n",
              "[418 rows x 12 columns]"
            ],
            "text/html": [
              "\n",
              "  <div id=\"df-2f671997-d5dd-4fad-b965-47bb985bff1b\">\n",
              "    <div class=\"colab-df-container\">\n",
              "      <div>\n",
              "<style scoped>\n",
              "    .dataframe tbody tr th:only-of-type {\n",
              "        vertical-align: middle;\n",
              "    }\n",
              "\n",
              "    .dataframe tbody tr th {\n",
              "        vertical-align: top;\n",
              "    }\n",
              "\n",
              "    .dataframe thead th {\n",
              "        text-align: right;\n",
              "    }\n",
              "</style>\n",
              "<table border=\"1\" class=\"dataframe\">\n",
              "  <thead>\n",
              "    <tr style=\"text-align: right;\">\n",
              "      <th></th>\n",
              "      <th>PassengerId</th>\n",
              "      <th>Survived</th>\n",
              "      <th>Pclass</th>\n",
              "      <th>Name</th>\n",
              "      <th>Sex</th>\n",
              "      <th>Age</th>\n",
              "      <th>SibSp</th>\n",
              "      <th>Parch</th>\n",
              "      <th>Ticket</th>\n",
              "      <th>Fare</th>\n",
              "      <th>Cabin</th>\n",
              "      <th>Embarked</th>\n",
              "    </tr>\n",
              "  </thead>\n",
              "  <tbody>\n",
              "    <tr>\n",
              "      <th>0</th>\n",
              "      <td>892</td>\n",
              "      <td>0</td>\n",
              "      <td>3</td>\n",
              "      <td>Kelly, Mr. James</td>\n",
              "      <td>male</td>\n",
              "      <td>34.5</td>\n",
              "      <td>0</td>\n",
              "      <td>0</td>\n",
              "      <td>330911</td>\n",
              "      <td>7.8292</td>\n",
              "      <td>NaN</td>\n",
              "      <td>Q</td>\n",
              "    </tr>\n",
              "    <tr>\n",
              "      <th>1</th>\n",
              "      <td>893</td>\n",
              "      <td>1</td>\n",
              "      <td>3</td>\n",
              "      <td>Wilkes, Mrs. James (Ellen Needs)</td>\n",
              "      <td>female</td>\n",
              "      <td>47.0</td>\n",
              "      <td>1</td>\n",
              "      <td>0</td>\n",
              "      <td>363272</td>\n",
              "      <td>7.0000</td>\n",
              "      <td>NaN</td>\n",
              "      <td>S</td>\n",
              "    </tr>\n",
              "    <tr>\n",
              "      <th>2</th>\n",
              "      <td>894</td>\n",
              "      <td>0</td>\n",
              "      <td>2</td>\n",
              "      <td>Myles, Mr. Thomas Francis</td>\n",
              "      <td>male</td>\n",
              "      <td>62.0</td>\n",
              "      <td>0</td>\n",
              "      <td>0</td>\n",
              "      <td>240276</td>\n",
              "      <td>9.6875</td>\n",
              "      <td>NaN</td>\n",
              "      <td>Q</td>\n",
              "    </tr>\n",
              "    <tr>\n",
              "      <th>3</th>\n",
              "      <td>895</td>\n",
              "      <td>0</td>\n",
              "      <td>3</td>\n",
              "      <td>Wirz, Mr. Albert</td>\n",
              "      <td>male</td>\n",
              "      <td>27.0</td>\n",
              "      <td>0</td>\n",
              "      <td>0</td>\n",
              "      <td>315154</td>\n",
              "      <td>8.6625</td>\n",
              "      <td>NaN</td>\n",
              "      <td>S</td>\n",
              "    </tr>\n",
              "    <tr>\n",
              "      <th>4</th>\n",
              "      <td>896</td>\n",
              "      <td>1</td>\n",
              "      <td>3</td>\n",
              "      <td>Hirvonen, Mrs. Alexander (Helga E Lindqvist)</td>\n",
              "      <td>female</td>\n",
              "      <td>22.0</td>\n",
              "      <td>1</td>\n",
              "      <td>1</td>\n",
              "      <td>3101298</td>\n",
              "      <td>12.2875</td>\n",
              "      <td>NaN</td>\n",
              "      <td>S</td>\n",
              "    </tr>\n",
              "    <tr>\n",
              "      <th>...</th>\n",
              "      <td>...</td>\n",
              "      <td>...</td>\n",
              "      <td>...</td>\n",
              "      <td>...</td>\n",
              "      <td>...</td>\n",
              "      <td>...</td>\n",
              "      <td>...</td>\n",
              "      <td>...</td>\n",
              "      <td>...</td>\n",
              "      <td>...</td>\n",
              "      <td>...</td>\n",
              "      <td>...</td>\n",
              "    </tr>\n",
              "    <tr>\n",
              "      <th>413</th>\n",
              "      <td>1305</td>\n",
              "      <td>0</td>\n",
              "      <td>3</td>\n",
              "      <td>Spector, Mr. Woolf</td>\n",
              "      <td>male</td>\n",
              "      <td>NaN</td>\n",
              "      <td>0</td>\n",
              "      <td>0</td>\n",
              "      <td>A.5. 3236</td>\n",
              "      <td>8.0500</td>\n",
              "      <td>NaN</td>\n",
              "      <td>S</td>\n",
              "    </tr>\n",
              "    <tr>\n",
              "      <th>414</th>\n",
              "      <td>1306</td>\n",
              "      <td>1</td>\n",
              "      <td>1</td>\n",
              "      <td>Oliva y Ocana, Dona. Fermina</td>\n",
              "      <td>female</td>\n",
              "      <td>39.0</td>\n",
              "      <td>0</td>\n",
              "      <td>0</td>\n",
              "      <td>PC 17758</td>\n",
              "      <td>108.9000</td>\n",
              "      <td>C105</td>\n",
              "      <td>C</td>\n",
              "    </tr>\n",
              "    <tr>\n",
              "      <th>415</th>\n",
              "      <td>1307</td>\n",
              "      <td>0</td>\n",
              "      <td>3</td>\n",
              "      <td>Saether, Mr. Simon Sivertsen</td>\n",
              "      <td>male</td>\n",
              "      <td>38.5</td>\n",
              "      <td>0</td>\n",
              "      <td>0</td>\n",
              "      <td>SOTON/O.Q. 3101262</td>\n",
              "      <td>7.2500</td>\n",
              "      <td>NaN</td>\n",
              "      <td>S</td>\n",
              "    </tr>\n",
              "    <tr>\n",
              "      <th>416</th>\n",
              "      <td>1308</td>\n",
              "      <td>0</td>\n",
              "      <td>3</td>\n",
              "      <td>Ware, Mr. Frederick</td>\n",
              "      <td>male</td>\n",
              "      <td>NaN</td>\n",
              "      <td>0</td>\n",
              "      <td>0</td>\n",
              "      <td>359309</td>\n",
              "      <td>8.0500</td>\n",
              "      <td>NaN</td>\n",
              "      <td>S</td>\n",
              "    </tr>\n",
              "    <tr>\n",
              "      <th>417</th>\n",
              "      <td>1309</td>\n",
              "      <td>0</td>\n",
              "      <td>3</td>\n",
              "      <td>Peter, Master. Michael J</td>\n",
              "      <td>male</td>\n",
              "      <td>NaN</td>\n",
              "      <td>1</td>\n",
              "      <td>1</td>\n",
              "      <td>2668</td>\n",
              "      <td>22.3583</td>\n",
              "      <td>NaN</td>\n",
              "      <td>C</td>\n",
              "    </tr>\n",
              "  </tbody>\n",
              "</table>\n",
              "<p>418 rows × 12 columns</p>\n",
              "</div>\n",
              "      <button class=\"colab-df-convert\" onclick=\"convertToInteractive('df-2f671997-d5dd-4fad-b965-47bb985bff1b')\"\n",
              "              title=\"Convert this dataframe to an interactive table.\"\n",
              "              style=\"display:none;\">\n",
              "        \n",
              "  <svg xmlns=\"http://www.w3.org/2000/svg\" height=\"24px\"viewBox=\"0 0 24 24\"\n",
              "       width=\"24px\">\n",
              "    <path d=\"M0 0h24v24H0V0z\" fill=\"none\"/>\n",
              "    <path d=\"M18.56 5.44l.94 2.06.94-2.06 2.06-.94-2.06-.94-.94-2.06-.94 2.06-2.06.94zm-11 1L8.5 8.5l.94-2.06 2.06-.94-2.06-.94L8.5 2.5l-.94 2.06-2.06.94zm10 10l.94 2.06.94-2.06 2.06-.94-2.06-.94-.94-2.06-.94 2.06-2.06.94z\"/><path d=\"M17.41 7.96l-1.37-1.37c-.4-.4-.92-.59-1.43-.59-.52 0-1.04.2-1.43.59L10.3 9.45l-7.72 7.72c-.78.78-.78 2.05 0 2.83L4 21.41c.39.39.9.59 1.41.59.51 0 1.02-.2 1.41-.59l7.78-7.78 2.81-2.81c.8-.78.8-2.07 0-2.86zM5.41 20L4 18.59l7.72-7.72 1.47 1.35L5.41 20z\"/>\n",
              "  </svg>\n",
              "      </button>\n",
              "      \n",
              "  <style>\n",
              "    .colab-df-container {\n",
              "      display:flex;\n",
              "      flex-wrap:wrap;\n",
              "      gap: 12px;\n",
              "    }\n",
              "\n",
              "    .colab-df-convert {\n",
              "      background-color: #E8F0FE;\n",
              "      border: none;\n",
              "      border-radius: 50%;\n",
              "      cursor: pointer;\n",
              "      display: none;\n",
              "      fill: #1967D2;\n",
              "      height: 32px;\n",
              "      padding: 0 0 0 0;\n",
              "      width: 32px;\n",
              "    }\n",
              "\n",
              "    .colab-df-convert:hover {\n",
              "      background-color: #E2EBFA;\n",
              "      box-shadow: 0px 1px 2px rgba(60, 64, 67, 0.3), 0px 1px 3px 1px rgba(60, 64, 67, 0.15);\n",
              "      fill: #174EA6;\n",
              "    }\n",
              "\n",
              "    [theme=dark] .colab-df-convert {\n",
              "      background-color: #3B4455;\n",
              "      fill: #D2E3FC;\n",
              "    }\n",
              "\n",
              "    [theme=dark] .colab-df-convert:hover {\n",
              "      background-color: #434B5C;\n",
              "      box-shadow: 0px 1px 3px 1px rgba(0, 0, 0, 0.15);\n",
              "      filter: drop-shadow(0px 1px 2px rgba(0, 0, 0, 0.3));\n",
              "      fill: #FFFFFF;\n",
              "    }\n",
              "  </style>\n",
              "\n",
              "      <script>\n",
              "        const buttonEl =\n",
              "          document.querySelector('#df-2f671997-d5dd-4fad-b965-47bb985bff1b button.colab-df-convert');\n",
              "        buttonEl.style.display =\n",
              "          google.colab.kernel.accessAllowed ? 'block' : 'none';\n",
              "\n",
              "        async function convertToInteractive(key) {\n",
              "          const element = document.querySelector('#df-2f671997-d5dd-4fad-b965-47bb985bff1b');\n",
              "          const dataTable =\n",
              "            await google.colab.kernel.invokeFunction('convertToInteractive',\n",
              "                                                     [key], {});\n",
              "          if (!dataTable) return;\n",
              "\n",
              "          const docLinkHtml = 'Like what you see? Visit the ' +\n",
              "            '<a target=\"_blank\" href=https://colab.research.google.com/notebooks/data_table.ipynb>data table notebook</a>'\n",
              "            + ' to learn more about interactive tables.';\n",
              "          element.innerHTML = '';\n",
              "          dataTable['output_type'] = 'display_data';\n",
              "          await google.colab.output.renderOutput(dataTable, element);\n",
              "          const docLink = document.createElement('div');\n",
              "          docLink.innerHTML = docLinkHtml;\n",
              "          element.appendChild(docLink);\n",
              "        }\n",
              "      </script>\n",
              "    </div>\n",
              "  </div>\n",
              "  "
            ]
          },
          "metadata": {},
          "execution_count": 9
        }
      ],
      "source": [
        "df"
      ]
    },
    {
      "cell_type": "code",
      "execution_count": 9,
      "metadata": {
        "id": "byhaugMdqOrz"
      },
      "outputs": [],
      "source": [
        ""
      ]
    },
    {
      "cell_type": "code",
      "source": [
        ""
      ],
      "metadata": {
        "id": "AjfXw4Dh_UFz"
      },
      "execution_count": null,
      "outputs": []
    },
    {
      "cell_type": "code",
      "source": [
        ""
      ],
      "metadata": {
        "id": "CAtxTziK_Wwi"
      },
      "execution_count": null,
      "outputs": []
    },
    {
      "cell_type": "code",
      "source": [
        ""
      ],
      "metadata": {
        "id": "prGUNl82_cQa"
      },
      "execution_count": null,
      "outputs": []
    },
    {
      "cell_type": "markdown",
      "metadata": {
        "id": "2nRuIjK5qUjb",
        "outputId": "eaf2bbdd-7863-423c-ce27-6b2ea6e4b0ee"
      },
      "source": [
        "### Data Cleanup\n",
        "\n",
        "Fill in all the NA's of the age column\n",
        "- Avg age of NA's in Class1: 41\n",
        "- Avg age of NA's in Class2: 29\n",
        "- Avg age of NA's in Class3: 24\n",
        "\n",
        "OneHotEncode (get_dummies)\n",
        "- Embarked\n",
        "- Pclass\n",
        "\n",
        "Drop the unnecessary colums\n",
        "- Pclass, Embarked, Name, Cabin, Sex, Ticket, PassengerID\n",
        "\n",
        "Drop any other NA values"
      ]
    },
    {
      "cell_type": "code",
      "execution_count": 10,
      "metadata": {
        "id": "yejKuVGb9F9G",
        "colab": {
          "base_uri": "https://localhost:8080/"
        },
        "outputId": "3b2a6976-c7c0-4ccb-90a6-24c728beeb8b"
      },
      "outputs": [
        {
          "output_type": "execute_result",
          "data": {
            "text/plain": [
              "PassengerId      0\n",
              "Survived         0\n",
              "Pclass           0\n",
              "Name             0\n",
              "Sex              0\n",
              "Age             86\n",
              "SibSp            0\n",
              "Parch            0\n",
              "Ticket           0\n",
              "Fare             1\n",
              "Cabin          327\n",
              "Embarked         0\n",
              "dtype: int64"
            ]
          },
          "metadata": {},
          "execution_count": 10
        }
      ],
      "source": [
        "df.isnull().sum()"
      ]
    },
    {
      "cell_type": "code",
      "source": [
        "def fill_in_age(cols):\n",
        "  age = cols[0]\n",
        "  pclass = cols[1]\n",
        "\n",
        "  if np.isnan(age):\n",
        "    if pclass == 1:\n",
        "      return 41\n",
        "    elif pclass == 2:\n",
        "      return 29\n",
        "    else:\n",
        "      return 24\n",
        "  else:\n",
        "    return age\n",
        "\n",
        "\n",
        "df['Age'] = df[['Age', 'Pclass']].apply(fill_in_age, axis=1)\n",
        "\n",
        "\n",
        "embarked = pd.get_dummies(df['Embarked'], drop_first=True)\n",
        "pclass = pd.get_dummies(df['Pclass'], drop_first=True).rename({2:'P2',3:'P3'}, axis=1)\n",
        "\n",
        "\n",
        "df = pd.concat([df, pclass, embarked], axis=1)\n",
        "\n",
        "df = df.drop(['PassengerId','Pclass', 'Embarked', 'Sex', 'Name', 'Ticket', 'Cabin'], axis=1)\n",
        "\n",
        "df = df.dropna()\n",
        "\n",
        "df"
      ],
      "metadata": {
        "colab": {
          "base_uri": "https://localhost:8080/",
          "height": 424
        },
        "id": "B1gxdHEqAiHf",
        "outputId": "468fbfdf-d0b8-4173-dbaf-af9b8c698afe"
      },
      "execution_count": 14,
      "outputs": [
        {
          "output_type": "execute_result",
          "data": {
            "text/plain": [
              "     Survived   Age  SibSp  Parch      Fare  P2  P3  Q  S\n",
              "0           0  34.5      0      0    7.8292   0   1  1  0\n",
              "1           1  47.0      1      0    7.0000   0   1  0  1\n",
              "2           0  62.0      0      0    9.6875   1   0  1  0\n",
              "3           0  27.0      0      0    8.6625   0   1  0  1\n",
              "4           1  22.0      1      1   12.2875   0   1  0  1\n",
              "..        ...   ...    ...    ...       ...  ..  .. .. ..\n",
              "413         0  24.0      0      0    8.0500   0   1  0  1\n",
              "414         1  39.0      0      0  108.9000   0   0  0  0\n",
              "415         0  38.5      0      0    7.2500   0   1  0  1\n",
              "416         0  24.0      0      0    8.0500   0   1  0  1\n",
              "417         0  24.0      1      1   22.3583   0   1  0  0\n",
              "\n",
              "[417 rows x 9 columns]"
            ],
            "text/html": [
              "\n",
              "  <div id=\"df-8245f6b0-7897-4eed-b9ae-3705852dfe27\">\n",
              "    <div class=\"colab-df-container\">\n",
              "      <div>\n",
              "<style scoped>\n",
              "    .dataframe tbody tr th:only-of-type {\n",
              "        vertical-align: middle;\n",
              "    }\n",
              "\n",
              "    .dataframe tbody tr th {\n",
              "        vertical-align: top;\n",
              "    }\n",
              "\n",
              "    .dataframe thead th {\n",
              "        text-align: right;\n",
              "    }\n",
              "</style>\n",
              "<table border=\"1\" class=\"dataframe\">\n",
              "  <thead>\n",
              "    <tr style=\"text-align: right;\">\n",
              "      <th></th>\n",
              "      <th>Survived</th>\n",
              "      <th>Age</th>\n",
              "      <th>SibSp</th>\n",
              "      <th>Parch</th>\n",
              "      <th>Fare</th>\n",
              "      <th>P2</th>\n",
              "      <th>P3</th>\n",
              "      <th>Q</th>\n",
              "      <th>S</th>\n",
              "    </tr>\n",
              "  </thead>\n",
              "  <tbody>\n",
              "    <tr>\n",
              "      <th>0</th>\n",
              "      <td>0</td>\n",
              "      <td>34.5</td>\n",
              "      <td>0</td>\n",
              "      <td>0</td>\n",
              "      <td>7.8292</td>\n",
              "      <td>0</td>\n",
              "      <td>1</td>\n",
              "      <td>1</td>\n",
              "      <td>0</td>\n",
              "    </tr>\n",
              "    <tr>\n",
              "      <th>1</th>\n",
              "      <td>1</td>\n",
              "      <td>47.0</td>\n",
              "      <td>1</td>\n",
              "      <td>0</td>\n",
              "      <td>7.0000</td>\n",
              "      <td>0</td>\n",
              "      <td>1</td>\n",
              "      <td>0</td>\n",
              "      <td>1</td>\n",
              "    </tr>\n",
              "    <tr>\n",
              "      <th>2</th>\n",
              "      <td>0</td>\n",
              "      <td>62.0</td>\n",
              "      <td>0</td>\n",
              "      <td>0</td>\n",
              "      <td>9.6875</td>\n",
              "      <td>1</td>\n",
              "      <td>0</td>\n",
              "      <td>1</td>\n",
              "      <td>0</td>\n",
              "    </tr>\n",
              "    <tr>\n",
              "      <th>3</th>\n",
              "      <td>0</td>\n",
              "      <td>27.0</td>\n",
              "      <td>0</td>\n",
              "      <td>0</td>\n",
              "      <td>8.6625</td>\n",
              "      <td>0</td>\n",
              "      <td>1</td>\n",
              "      <td>0</td>\n",
              "      <td>1</td>\n",
              "    </tr>\n",
              "    <tr>\n",
              "      <th>4</th>\n",
              "      <td>1</td>\n",
              "      <td>22.0</td>\n",
              "      <td>1</td>\n",
              "      <td>1</td>\n",
              "      <td>12.2875</td>\n",
              "      <td>0</td>\n",
              "      <td>1</td>\n",
              "      <td>0</td>\n",
              "      <td>1</td>\n",
              "    </tr>\n",
              "    <tr>\n",
              "      <th>...</th>\n",
              "      <td>...</td>\n",
              "      <td>...</td>\n",
              "      <td>...</td>\n",
              "      <td>...</td>\n",
              "      <td>...</td>\n",
              "      <td>...</td>\n",
              "      <td>...</td>\n",
              "      <td>...</td>\n",
              "      <td>...</td>\n",
              "    </tr>\n",
              "    <tr>\n",
              "      <th>413</th>\n",
              "      <td>0</td>\n",
              "      <td>24.0</td>\n",
              "      <td>0</td>\n",
              "      <td>0</td>\n",
              "      <td>8.0500</td>\n",
              "      <td>0</td>\n",
              "      <td>1</td>\n",
              "      <td>0</td>\n",
              "      <td>1</td>\n",
              "    </tr>\n",
              "    <tr>\n",
              "      <th>414</th>\n",
              "      <td>1</td>\n",
              "      <td>39.0</td>\n",
              "      <td>0</td>\n",
              "      <td>0</td>\n",
              "      <td>108.9000</td>\n",
              "      <td>0</td>\n",
              "      <td>0</td>\n",
              "      <td>0</td>\n",
              "      <td>0</td>\n",
              "    </tr>\n",
              "    <tr>\n",
              "      <th>415</th>\n",
              "      <td>0</td>\n",
              "      <td>38.5</td>\n",
              "      <td>0</td>\n",
              "      <td>0</td>\n",
              "      <td>7.2500</td>\n",
              "      <td>0</td>\n",
              "      <td>1</td>\n",
              "      <td>0</td>\n",
              "      <td>1</td>\n",
              "    </tr>\n",
              "    <tr>\n",
              "      <th>416</th>\n",
              "      <td>0</td>\n",
              "      <td>24.0</td>\n",
              "      <td>0</td>\n",
              "      <td>0</td>\n",
              "      <td>8.0500</td>\n",
              "      <td>0</td>\n",
              "      <td>1</td>\n",
              "      <td>0</td>\n",
              "      <td>1</td>\n",
              "    </tr>\n",
              "    <tr>\n",
              "      <th>417</th>\n",
              "      <td>0</td>\n",
              "      <td>24.0</td>\n",
              "      <td>1</td>\n",
              "      <td>1</td>\n",
              "      <td>22.3583</td>\n",
              "      <td>0</td>\n",
              "      <td>1</td>\n",
              "      <td>0</td>\n",
              "      <td>0</td>\n",
              "    </tr>\n",
              "  </tbody>\n",
              "</table>\n",
              "<p>417 rows × 9 columns</p>\n",
              "</div>\n",
              "      <button class=\"colab-df-convert\" onclick=\"convertToInteractive('df-8245f6b0-7897-4eed-b9ae-3705852dfe27')\"\n",
              "              title=\"Convert this dataframe to an interactive table.\"\n",
              "              style=\"display:none;\">\n",
              "        \n",
              "  <svg xmlns=\"http://www.w3.org/2000/svg\" height=\"24px\"viewBox=\"0 0 24 24\"\n",
              "       width=\"24px\">\n",
              "    <path d=\"M0 0h24v24H0V0z\" fill=\"none\"/>\n",
              "    <path d=\"M18.56 5.44l.94 2.06.94-2.06 2.06-.94-2.06-.94-.94-2.06-.94 2.06-2.06.94zm-11 1L8.5 8.5l.94-2.06 2.06-.94-2.06-.94L8.5 2.5l-.94 2.06-2.06.94zm10 10l.94 2.06.94-2.06 2.06-.94-2.06-.94-.94-2.06-.94 2.06-2.06.94z\"/><path d=\"M17.41 7.96l-1.37-1.37c-.4-.4-.92-.59-1.43-.59-.52 0-1.04.2-1.43.59L10.3 9.45l-7.72 7.72c-.78.78-.78 2.05 0 2.83L4 21.41c.39.39.9.59 1.41.59.51 0 1.02-.2 1.41-.59l7.78-7.78 2.81-2.81c.8-.78.8-2.07 0-2.86zM5.41 20L4 18.59l7.72-7.72 1.47 1.35L5.41 20z\"/>\n",
              "  </svg>\n",
              "      </button>\n",
              "      \n",
              "  <style>\n",
              "    .colab-df-container {\n",
              "      display:flex;\n",
              "      flex-wrap:wrap;\n",
              "      gap: 12px;\n",
              "    }\n",
              "\n",
              "    .colab-df-convert {\n",
              "      background-color: #E8F0FE;\n",
              "      border: none;\n",
              "      border-radius: 50%;\n",
              "      cursor: pointer;\n",
              "      display: none;\n",
              "      fill: #1967D2;\n",
              "      height: 32px;\n",
              "      padding: 0 0 0 0;\n",
              "      width: 32px;\n",
              "    }\n",
              "\n",
              "    .colab-df-convert:hover {\n",
              "      background-color: #E2EBFA;\n",
              "      box-shadow: 0px 1px 2px rgba(60, 64, 67, 0.3), 0px 1px 3px 1px rgba(60, 64, 67, 0.15);\n",
              "      fill: #174EA6;\n",
              "    }\n",
              "\n",
              "    [theme=dark] .colab-df-convert {\n",
              "      background-color: #3B4455;\n",
              "      fill: #D2E3FC;\n",
              "    }\n",
              "\n",
              "    [theme=dark] .colab-df-convert:hover {\n",
              "      background-color: #434B5C;\n",
              "      box-shadow: 0px 1px 3px 1px rgba(0, 0, 0, 0.15);\n",
              "      filter: drop-shadow(0px 1px 2px rgba(0, 0, 0, 0.3));\n",
              "      fill: #FFFFFF;\n",
              "    }\n",
              "  </style>\n",
              "\n",
              "      <script>\n",
              "        const buttonEl =\n",
              "          document.querySelector('#df-8245f6b0-7897-4eed-b9ae-3705852dfe27 button.colab-df-convert');\n",
              "        buttonEl.style.display =\n",
              "          google.colab.kernel.accessAllowed ? 'block' : 'none';\n",
              "\n",
              "        async function convertToInteractive(key) {\n",
              "          const element = document.querySelector('#df-8245f6b0-7897-4eed-b9ae-3705852dfe27');\n",
              "          const dataTable =\n",
              "            await google.colab.kernel.invokeFunction('convertToInteractive',\n",
              "                                                     [key], {});\n",
              "          if (!dataTable) return;\n",
              "\n",
              "          const docLinkHtml = 'Like what you see? Visit the ' +\n",
              "            '<a target=\"_blank\" href=https://colab.research.google.com/notebooks/data_table.ipynb>data table notebook</a>'\n",
              "            + ' to learn more about interactive tables.';\n",
              "          element.innerHTML = '';\n",
              "          dataTable['output_type'] = 'display_data';\n",
              "          await google.colab.output.renderOutput(dataTable, element);\n",
              "          const docLink = document.createElement('div');\n",
              "          docLink.innerHTML = docLinkHtml;\n",
              "          element.appendChild(docLink);\n",
              "        }\n",
              "      </script>\n",
              "    </div>\n",
              "  </div>\n",
              "  "
            ]
          },
          "metadata": {},
          "execution_count": 14
        }
      ]
    },
    {
      "cell_type": "code",
      "source": [
        ""
      ],
      "metadata": {
        "id": "KIpP8e5bAtTV"
      },
      "execution_count": null,
      "outputs": []
    },
    {
      "cell_type": "markdown",
      "metadata": {
        "id": "E14rdgGysErG"
      },
      "source": [
        "### Train Test Split and Scale"
      ]
    },
    {
      "cell_type": "code",
      "execution_count": 15,
      "metadata": {
        "id": "vwzmzFBBqU4_"
      },
      "outputs": [],
      "source": [
        "X = df[df.columns[1:]].values\n",
        "\n",
        "y = df['Survived'].values\n",
        "\n",
        "X_train, X_test, y_train, y_test = train_test_split(X, y, test_size=0.30)"
      ]
    },
    {
      "cell_type": "code",
      "execution_count": 16,
      "metadata": {
        "id": "fkOk2zgzqlGd"
      },
      "outputs": [],
      "source": [
        "# Min Max Scaler\n",
        "\n",
        "mm = MinMaxScaler()\n",
        "\n",
        "X_train = mm.fit_transform(X_train)\n",
        "X_test = mm.transform(X_test)"
      ]
    },
    {
      "cell_type": "code",
      "execution_count": 18,
      "metadata": {
        "id": "_dr9z5znsIPf"
      },
      "outputs": [],
      "source": [
        "ss = StandardScaler()\n",
        "\n",
        "X_train = ss.fit_transform(X_train)\n",
        "X_test = ss.transform(X_test)"
      ]
    },
    {
      "cell_type": "markdown",
      "metadata": {
        "id": "F6kttZh7sIGW"
      },
      "source": [
        "### TensorBoard Configuration"
      ]
    },
    {
      "cell_type": "code",
      "execution_count": 20,
      "metadata": {
        "id": "hVaDggdcsHd-"
      },
      "outputs": [],
      "source": [
        "# def tb(desc):\n",
        "#   return TensorBoard(\n",
        "#     log_dir='tf_logs/' \\\n",
        "#     + desc \\\n",
        "#     + '_' \\\n",
        "#     + datetime.datetime.now().strftime('%Y%m%d_%H:%M:%S')\n",
        "# )\n",
        "  \n",
        "tb = lambda desc: TensorBoard(\n",
        "    log_dir='tf_logs/' \\\n",
        "    + desc \\\n",
        "    + '_' \\\n",
        "    + datetime.datetime.now().strftime('%Y%m%d_%H:%M:%S'))\n"
      ]
    },
    {
      "cell_type": "markdown",
      "metadata": {
        "id": "Nop2Px4VrnCE"
      },
      "source": [
        "### Build Model\n",
        "\n",
        "3 Hidden Layers\n",
        "- Activation **relu**\n",
        "- 8 Units per layer\n",
        "\n",
        "Compiler\n",
        "- Optimizer: Adam\n",
        "- Loss: binary_crossentropy\n",
        "- Metric: accuracy\n",
        "\n",
        "Callbacks\n",
        "- TensorBoard\n",
        "- EarlyStopping"
      ]
    },
    {
      "cell_type": "code",
      "execution_count": 22,
      "metadata": {
        "id": "X6VB5ih5qr-2",
        "colab": {
          "base_uri": "https://localhost:8080/"
        },
        "outputId": "de178040-62c9-4563-f49b-665160ec697c"
      },
      "outputs": [
        {
          "output_type": "stream",
          "name": "stdout",
          "text": [
            "Epoch 1/250\n",
            "10/10 [==============================] - 2s 43ms/step - loss: 0.7051 - accuracy: 0.4502 - val_loss: 0.6854 - val_accuracy: 0.4841\n",
            "Epoch 2/250\n",
            "10/10 [==============================] - 0s 9ms/step - loss: 0.6934 - accuracy: 0.5361 - val_loss: 0.6797 - val_accuracy: 0.5952\n",
            "Epoch 3/250\n",
            "10/10 [==============================] - 0s 9ms/step - loss: 0.6852 - accuracy: 0.6323 - val_loss: 0.6772 - val_accuracy: 0.6825\n",
            "Epoch 4/250\n",
            "10/10 [==============================] - 0s 9ms/step - loss: 0.6804 - accuracy: 0.6186 - val_loss: 0.6747 - val_accuracy: 0.6746\n",
            "Epoch 5/250\n",
            "10/10 [==============================] - 0s 9ms/step - loss: 0.6753 - accuracy: 0.6426 - val_loss: 0.6721 - val_accuracy: 0.6429\n",
            "Epoch 6/250\n",
            "10/10 [==============================] - 0s 13ms/step - loss: 0.6700 - accuracy: 0.6564 - val_loss: 0.6701 - val_accuracy: 0.6508\n",
            "Epoch 7/250\n",
            "10/10 [==============================] - 0s 10ms/step - loss: 0.6655 - accuracy: 0.6357 - val_loss: 0.6683 - val_accuracy: 0.6508\n",
            "Epoch 8/250\n",
            "10/10 [==============================] - 0s 10ms/step - loss: 0.6609 - accuracy: 0.6254 - val_loss: 0.6661 - val_accuracy: 0.6349\n",
            "Epoch 9/250\n",
            "10/10 [==============================] - 0s 11ms/step - loss: 0.6552 - accuracy: 0.6357 - val_loss: 0.6646 - val_accuracy: 0.6349\n",
            "Epoch 10/250\n",
            "10/10 [==============================] - 0s 10ms/step - loss: 0.6513 - accuracy: 0.6426 - val_loss: 0.6633 - val_accuracy: 0.6270\n",
            "Epoch 11/250\n",
            "10/10 [==============================] - 0s 9ms/step - loss: 0.6470 - accuracy: 0.6392 - val_loss: 0.6618 - val_accuracy: 0.6270\n",
            "Epoch 12/250\n",
            "10/10 [==============================] - 0s 9ms/step - loss: 0.6434 - accuracy: 0.6392 - val_loss: 0.6608 - val_accuracy: 0.6270\n",
            "Epoch 13/250\n",
            "10/10 [==============================] - 0s 11ms/step - loss: 0.6400 - accuracy: 0.6392 - val_loss: 0.6604 - val_accuracy: 0.6270\n",
            "Epoch 14/250\n",
            "10/10 [==============================] - 0s 12ms/step - loss: 0.6365 - accuracy: 0.6392 - val_loss: 0.6598 - val_accuracy: 0.6349\n",
            "Epoch 15/250\n",
            "10/10 [==============================] - 0s 11ms/step - loss: 0.6333 - accuracy: 0.6426 - val_loss: 0.6592 - val_accuracy: 0.6349\n",
            "Epoch 16/250\n",
            "10/10 [==============================] - 0s 10ms/step - loss: 0.6312 - accuracy: 0.6426 - val_loss: 0.6583 - val_accuracy: 0.6349\n",
            "Epoch 17/250\n",
            "10/10 [==============================] - 0s 9ms/step - loss: 0.6296 - accuracy: 0.6392 - val_loss: 0.6573 - val_accuracy: 0.6270\n",
            "Epoch 18/250\n",
            "10/10 [==============================] - 0s 9ms/step - loss: 0.6275 - accuracy: 0.6323 - val_loss: 0.6564 - val_accuracy: 0.6270\n",
            "Epoch 19/250\n",
            "10/10 [==============================] - 0s 9ms/step - loss: 0.6254 - accuracy: 0.6323 - val_loss: 0.6557 - val_accuracy: 0.6349\n",
            "Epoch 20/250\n",
            "10/10 [==============================] - 0s 9ms/step - loss: 0.6231 - accuracy: 0.6323 - val_loss: 0.6552 - val_accuracy: 0.6270\n",
            "Epoch 21/250\n",
            "10/10 [==============================] - 0s 8ms/step - loss: 0.6207 - accuracy: 0.6323 - val_loss: 0.6555 - val_accuracy: 0.6190\n",
            "Epoch 22/250\n",
            "10/10 [==============================] - 0s 10ms/step - loss: 0.6184 - accuracy: 0.6392 - val_loss: 0.6554 - val_accuracy: 0.6270\n",
            "Epoch 23/250\n",
            "10/10 [==============================] - 0s 9ms/step - loss: 0.6158 - accuracy: 0.6426 - val_loss: 0.6557 - val_accuracy: 0.6190\n",
            "Epoch 24/250\n",
            "10/10 [==============================] - 0s 9ms/step - loss: 0.6125 - accuracy: 0.6460 - val_loss: 0.6557 - val_accuracy: 0.6032\n",
            "Epoch 25/250\n",
            "10/10 [==============================] - 0s 8ms/step - loss: 0.6097 - accuracy: 0.6495 - val_loss: 0.6554 - val_accuracy: 0.6032\n",
            "Epoch 26/250\n",
            "10/10 [==============================] - 0s 9ms/step - loss: 0.6070 - accuracy: 0.6495 - val_loss: 0.6550 - val_accuracy: 0.5952\n",
            "Epoch 27/250\n",
            "10/10 [==============================] - 0s 8ms/step - loss: 0.6042 - accuracy: 0.6598 - val_loss: 0.6543 - val_accuracy: 0.5952\n",
            "Epoch 28/250\n",
            "10/10 [==============================] - 0s 9ms/step - loss: 0.6025 - accuracy: 0.6770 - val_loss: 0.6538 - val_accuracy: 0.5714\n",
            "Epoch 29/250\n",
            "10/10 [==============================] - 0s 10ms/step - loss: 0.5992 - accuracy: 0.6804 - val_loss: 0.6537 - val_accuracy: 0.5794\n",
            "Epoch 30/250\n",
            "10/10 [==============================] - 0s 11ms/step - loss: 0.5964 - accuracy: 0.6804 - val_loss: 0.6545 - val_accuracy: 0.5794\n",
            "Epoch 31/250\n",
            "10/10 [==============================] - 0s 10ms/step - loss: 0.5937 - accuracy: 0.6838 - val_loss: 0.6565 - val_accuracy: 0.5714\n",
            "Epoch 32/250\n",
            "10/10 [==============================] - 0s 17ms/step - loss: 0.5909 - accuracy: 0.6804 - val_loss: 0.6573 - val_accuracy: 0.5794\n",
            "Epoch 33/250\n",
            "10/10 [==============================] - 0s 11ms/step - loss: 0.5888 - accuracy: 0.6838 - val_loss: 0.6576 - val_accuracy: 0.5794\n",
            "Epoch 34/250\n",
            "10/10 [==============================] - 0s 9ms/step - loss: 0.5863 - accuracy: 0.6907 - val_loss: 0.6579 - val_accuracy: 0.5794\n",
            "Epoch 35/250\n",
            "10/10 [==============================] - 0s 11ms/step - loss: 0.5839 - accuracy: 0.6942 - val_loss: 0.6589 - val_accuracy: 0.5873\n",
            "Epoch 36/250\n",
            "10/10 [==============================] - 0s 10ms/step - loss: 0.5816 - accuracy: 0.6976 - val_loss: 0.6607 - val_accuracy: 0.5873\n",
            "Epoch 37/250\n",
            "10/10 [==============================] - 0s 9ms/step - loss: 0.5795 - accuracy: 0.7010 - val_loss: 0.6615 - val_accuracy: 0.5873\n",
            "Epoch 38/250\n",
            "10/10 [==============================] - 0s 10ms/step - loss: 0.5780 - accuracy: 0.6942 - val_loss: 0.6613 - val_accuracy: 0.5873\n",
            "Epoch 39/250\n",
            "10/10 [==============================] - 0s 10ms/step - loss: 0.5762 - accuracy: 0.6907 - val_loss: 0.6610 - val_accuracy: 0.5873\n",
            "Epoch 39: early stopping\n"
          ]
        }
      ],
      "source": [
        "model_1 = Sequential()\n",
        "\n",
        "model_1.add(Dense(8, activation='relu'))\n",
        "model_1.add(Dense(8, activation='relu'))\n",
        "model_1.add(Dense(8, activation='relu'))\n",
        "\n",
        "model_1.add(Dense(1, activation='sigmoid'))\n",
        "\n",
        "model_1.compile(\n",
        "    optimizer=Adam(),\n",
        "    loss='binary_crossentropy',\n",
        "    metrics=['accuracy']\n",
        ")\n",
        "\n",
        "\n",
        "es = EarlyStopping(monitor='val_loss', mode='min', patience=10, verbose=1)\n",
        "\n",
        "\n",
        "\n",
        "history_1 = model_1.fit(\n",
        "    X_train,\n",
        "    y_train,\n",
        "    validation_data=(X_test, y_test),\n",
        "    epochs=250,\n",
        "    callbacks=[es, tb('model_1')]\n",
        ")"
      ]
    },
    {
      "cell_type": "code",
      "execution_count": 23,
      "metadata": {
        "id": "stX-7FMSrBDR",
        "colab": {
          "base_uri": "https://localhost:8080/",
          "height": 282
        },
        "outputId": "98713c2d-87a7-49a0-ad62-f0edac129a72"
      },
      "outputs": [
        {
          "output_type": "execute_result",
          "data": {
            "text/plain": [
              "<matplotlib.axes._subplots.AxesSubplot at 0x7fae32186e90>"
            ]
          },
          "metadata": {},
          "execution_count": 23
        },
        {
          "output_type": "display_data",
          "data": {
            "text/plain": [
              "<Figure size 432x288 with 1 Axes>"
            ],
            "image/png": "[encoded data removed]"
          },
          "metadata": {
            "needs_background": "light"
          }
        }
      ],
      "source": [
        "pd.DataFrame(history_1.history).plot()"
      ]
    },
    {
      "cell_type": "code",
      "execution_count": 26,
      "metadata": {
        "id": "BPGhp1O2rVxQ"
      },
      "outputs": [],
      "source": [
        "def plot_losses(history):\n",
        "  loss = history.history['loss']\n",
        "  val_loss = history.history['val_loss']\n",
        "  accuracy = history.history['accuracy']\n",
        "  val_accuracy = history.history['val_accuracy']\n",
        "\n",
        "\n",
        "  plt.plot(loss, label='loss')\n",
        "  plt.plot(val_loss, label='val_loss')\n",
        "  plt.title(\"Losses\")\n",
        "  plt.legend()\n",
        "\n",
        "  plt.figure()\n",
        "  plt.plot(accuracy, label='acc')\n",
        "  plt.plot(val_accuracy, label='val_acc')\n",
        "  plt.title('Accuracy')\n",
        "  plt.legend()"
      ]
    },
    {
      "cell_type": "code",
      "source": [
        "plot_losses(history_1)"
      ],
      "metadata": {
        "colab": {
          "base_uri": "https://localhost:8080/",
          "height": 545
        },
        "id": "Rc99Yrj0DJEk",
        "outputId": "b272bc14-7f4e-49a3-9d18-47072b0de295"
      },
      "execution_count": 27,
      "outputs": [
        {
          "output_type": "display_data",
          "data": {
            "text/plain": [
              "<Figure size 432x288 with 1 Axes>"
            ],
            "image/png": "[encoded data removed]"
          },
          "metadata": {
            "needs_background": "light"
          }
        },
        {
          "output_type": "display_data",
          "data": {
            "text/plain": [
              "<Figure size 432x288 with 1 Axes>"
            ],
            "image/png": "[encoded data removed]"
          },
          "metadata": {
            "needs_background": "light"
          }
        }
      ]
    },
    {
      "cell_type": "markdown",
      "metadata": {
        "id": "EcH0SIWHrjsU"
      },
      "source": [
        "### Model 2 - Add Dropout - Prevent Overfitting\n",
        "\n",
        "Add a dropout layer at 50% drop rate after every Hidden Dense Layer\n",
        "\n"
      ]
    },
    {
      "cell_type": "code",
      "execution_count": 28,
      "metadata": {
        "id": "D0vT_PShrc1i",
        "colab": {
          "base_uri": "https://localhost:8080/"
        },
        "outputId": "23ce733b-44ee-4955-f210-3cf196eeb259"
      },
      "outputs": [
        {
          "output_type": "stream",
          "name": "stdout",
          "text": [
            "Epoch 1/250\n",
            "10/10 [==============================] - 1s 34ms/step - loss: 0.9792 - accuracy: 0.4880 - val_loss: 0.8307 - val_accuracy: 0.3968\n",
            "Epoch 2/250\n",
            "10/10 [==============================] - 0s 11ms/step - loss: 1.0263 - accuracy: 0.4605 - val_loss: 0.7993 - val_accuracy: 0.4206\n",
            "Epoch 3/250\n",
            "10/10 [==============================] - 0s 10ms/step - loss: 0.9930 - accuracy: 0.5155 - val_loss: 0.7729 - val_accuracy: 0.4206\n",
            "Epoch 4/250\n",
            "10/10 [==============================] - 0s 11ms/step - loss: 1.1436 - accuracy: 0.5052 - val_loss: 0.7514 - val_accuracy: 0.4286\n",
            "Epoch 5/250\n",
            "10/10 [==============================] - 0s 10ms/step - loss: 0.9811 - accuracy: 0.5052 - val_loss: 0.7349 - val_accuracy: 0.4206\n",
            "Epoch 6/250\n",
            "10/10 [==============================] - 0s 11ms/step - loss: 0.9223 - accuracy: 0.4777 - val_loss: 0.7227 - val_accuracy: 0.4127\n",
            "Epoch 7/250\n",
            "10/10 [==============================] - 0s 16ms/step - loss: 0.8363 - accuracy: 0.5223 - val_loss: 0.7116 - val_accuracy: 0.4206\n",
            "Epoch 8/250\n",
            "10/10 [==============================] - 0s 11ms/step - loss: 0.8625 - accuracy: 0.5326 - val_loss: 0.7030 - val_accuracy: 0.4444\n",
            "Epoch 9/250\n",
            "10/10 [==============================] - 0s 10ms/step - loss: 0.7989 - accuracy: 0.5052 - val_loss: 0.6945 - val_accuracy: 0.5317\n",
            "Epoch 10/250\n",
            "10/10 [==============================] - 0s 11ms/step - loss: 0.8482 - accuracy: 0.5636 - val_loss: 0.6876 - val_accuracy: 0.6190\n",
            "Epoch 11/250\n",
            "10/10 [==============================] - 0s 10ms/step - loss: 0.8132 - accuracy: 0.4914 - val_loss: 0.6822 - val_accuracy: 0.6190\n",
            "Epoch 12/250\n",
            "10/10 [==============================] - 0s 11ms/step - loss: 0.8276 - accuracy: 0.5395 - val_loss: 0.6784 - val_accuracy: 0.6190\n",
            "Epoch 13/250\n",
            "10/10 [==============================] - 0s 11ms/step - loss: 0.7629 - accuracy: 0.5430 - val_loss: 0.6753 - val_accuracy: 0.6190\n",
            "Epoch 14/250\n",
            "10/10 [==============================] - 0s 10ms/step - loss: 0.7658 - accuracy: 0.5911 - val_loss: 0.6727 - val_accuracy: 0.6429\n",
            "Epoch 15/250\n",
            "10/10 [==============================] - 0s 12ms/step - loss: 0.7358 - accuracy: 0.5945 - val_loss: 0.6709 - val_accuracy: 0.6349\n",
            "Epoch 16/250\n",
            "10/10 [==============================] - 0s 11ms/step - loss: 0.7557 - accuracy: 0.5601 - val_loss: 0.6696 - val_accuracy: 0.6270\n",
            "Epoch 17/250\n",
            "10/10 [==============================] - 0s 11ms/step - loss: 0.7275 - accuracy: 0.5498 - val_loss: 0.6683 - val_accuracy: 0.6349\n",
            "Epoch 18/250\n",
            "10/10 [==============================] - 0s 11ms/step - loss: 0.7139 - accuracy: 0.5670 - val_loss: 0.6671 - val_accuracy: 0.6349\n",
            "Epoch 19/250\n",
            "10/10 [==============================] - 0s 9ms/step - loss: 0.7022 - accuracy: 0.5842 - val_loss: 0.6665 - val_accuracy: 0.6429\n",
            "Epoch 20/250\n",
            "10/10 [==============================] - 0s 9ms/step - loss: 0.7231 - accuracy: 0.5739 - val_loss: 0.6659 - val_accuracy: 0.6349\n",
            "Epoch 21/250\n",
            "10/10 [==============================] - 0s 7ms/step - loss: 0.7238 - accuracy: 0.5739 - val_loss: 0.6650 - val_accuracy: 0.6270\n",
            "Epoch 22/250\n",
            "10/10 [==============================] - 0s 8ms/step - loss: 0.7102 - accuracy: 0.5567 - val_loss: 0.6644 - val_accuracy: 0.6111\n",
            "Epoch 23/250\n",
            "10/10 [==============================] - 0s 9ms/step - loss: 0.6850 - accuracy: 0.6082 - val_loss: 0.6638 - val_accuracy: 0.6111\n",
            "Epoch 24/250\n",
            "10/10 [==============================] - 0s 10ms/step - loss: 0.7015 - accuracy: 0.5773 - val_loss: 0.6629 - val_accuracy: 0.6270\n",
            "Epoch 25/250\n",
            "10/10 [==============================] - 0s 9ms/step - loss: 0.7178 - accuracy: 0.5670 - val_loss: 0.6623 - val_accuracy: 0.6349\n",
            "Epoch 26/250\n",
            "10/10 [==============================] - 0s 8ms/step - loss: 0.7281 - accuracy: 0.6082 - val_loss: 0.6620 - val_accuracy: 0.6349\n",
            "Epoch 27/250\n",
            "10/10 [==============================] - 0s 9ms/step - loss: 0.6754 - accuracy: 0.5739 - val_loss: 0.6618 - val_accuracy: 0.6349\n",
            "Epoch 28/250\n",
            "10/10 [==============================] - 0s 8ms/step - loss: 0.6929 - accuracy: 0.6151 - val_loss: 0.6618 - val_accuracy: 0.6349\n",
            "Epoch 29/250\n",
            "10/10 [==============================] - 0s 8ms/step - loss: 0.6884 - accuracy: 0.6289 - val_loss: 0.6614 - val_accuracy: 0.6349\n",
            "Epoch 30/250\n",
            "10/10 [==============================] - 0s 8ms/step - loss: 0.6961 - accuracy: 0.5979 - val_loss: 0.6612 - val_accuracy: 0.6349\n",
            "Epoch 31/250\n",
            "10/10 [==============================] - 0s 9ms/step - loss: 0.6856 - accuracy: 0.6048 - val_loss: 0.6610 - val_accuracy: 0.6349\n",
            "Epoch 32/250\n",
            "10/10 [==============================] - 0s 8ms/step - loss: 0.6665 - accuracy: 0.6289 - val_loss: 0.6608 - val_accuracy: 0.6349\n",
            "Epoch 33/250\n",
            "10/10 [==============================] - 0s 9ms/step - loss: 0.6880 - accuracy: 0.5979 - val_loss: 0.6605 - val_accuracy: 0.6349\n",
            "Epoch 34/250\n",
            "10/10 [==============================] - 0s 8ms/step - loss: 0.6594 - accuracy: 0.6392 - val_loss: 0.6603 - val_accuracy: 0.6349\n",
            "Epoch 35/250\n",
            "10/10 [==============================] - 0s 9ms/step - loss: 0.6837 - accuracy: 0.6014 - val_loss: 0.6599 - val_accuracy: 0.6349\n",
            "Epoch 36/250\n",
            "10/10 [==============================] - 0s 9ms/step - loss: 0.7013 - accuracy: 0.6014 - val_loss: 0.6596 - val_accuracy: 0.6349\n",
            "Epoch 37/250\n",
            "10/10 [==============================] - 0s 8ms/step - loss: 0.6490 - accuracy: 0.6564 - val_loss: 0.6594 - val_accuracy: 0.6349\n",
            "Epoch 38/250\n",
            "10/10 [==============================] - 0s 10ms/step - loss: 0.6555 - accuracy: 0.6529 - val_loss: 0.6593 - val_accuracy: 0.6349\n",
            "Epoch 39/250\n",
            "10/10 [==============================] - 0s 8ms/step - loss: 0.6698 - accuracy: 0.6186 - val_loss: 0.6593 - val_accuracy: 0.6349\n",
            "Epoch 40/250\n",
            "10/10 [==============================] - 0s 8ms/step - loss: 0.6783 - accuracy: 0.6014 - val_loss: 0.6593 - val_accuracy: 0.6349\n",
            "Epoch 41/250\n",
            "10/10 [==============================] - 0s 9ms/step - loss: 0.6523 - accuracy: 0.6392 - val_loss: 0.6592 - val_accuracy: 0.6270\n",
            "Epoch 42/250\n",
            "10/10 [==============================] - 0s 8ms/step - loss: 0.6566 - accuracy: 0.6220 - val_loss: 0.6591 - val_accuracy: 0.6270\n",
            "Epoch 43/250\n",
            "10/10 [==============================] - 0s 8ms/step - loss: 0.6587 - accuracy: 0.6529 - val_loss: 0.6589 - val_accuracy: 0.6270\n",
            "Epoch 44/250\n",
            "10/10 [==============================] - 0s 8ms/step - loss: 0.6599 - accuracy: 0.6151 - val_loss: 0.6589 - val_accuracy: 0.6270\n",
            "Epoch 45/250\n",
            "10/10 [==============================] - 0s 8ms/step - loss: 0.6636 - accuracy: 0.6460 - val_loss: 0.6589 - val_accuracy: 0.6270\n",
            "Epoch 46/250\n",
            "10/10 [==============================] - 0s 8ms/step - loss: 0.6671 - accuracy: 0.6392 - val_loss: 0.6588 - val_accuracy: 0.6190\n",
            "Epoch 47/250\n",
            "10/10 [==============================] - 0s 8ms/step - loss: 0.6647 - accuracy: 0.6495 - val_loss: 0.6589 - val_accuracy: 0.6190\n",
            "Epoch 48/250\n",
            "10/10 [==============================] - 0s 8ms/step - loss: 0.6686 - accuracy: 0.6220 - val_loss: 0.6592 - val_accuracy: 0.6190\n",
            "Epoch 49/250\n",
            "10/10 [==============================] - 0s 8ms/step - loss: 0.6661 - accuracy: 0.6323 - val_loss: 0.6594 - val_accuracy: 0.6190\n",
            "Epoch 50/250\n",
            "10/10 [==============================] - 0s 9ms/step - loss: 0.6821 - accuracy: 0.6254 - val_loss: 0.6594 - val_accuracy: 0.6190\n",
            "Epoch 51/250\n",
            "10/10 [==============================] - 0s 9ms/step - loss: 0.6592 - accuracy: 0.6392 - val_loss: 0.6594 - val_accuracy: 0.6190\n",
            "Epoch 52/250\n",
            "10/10 [==============================] - 0s 9ms/step - loss: 0.6772 - accuracy: 0.6151 - val_loss: 0.6593 - val_accuracy: 0.6190\n",
            "Epoch 53/250\n",
            "10/10 [==============================] - 0s 9ms/step - loss: 0.6756 - accuracy: 0.6254 - val_loss: 0.6595 - val_accuracy: 0.6190\n",
            "Epoch 54/250\n",
            "10/10 [==============================] - 0s 9ms/step - loss: 0.6590 - accuracy: 0.6529 - val_loss: 0.6595 - val_accuracy: 0.6190\n",
            "Epoch 55/250\n",
            "10/10 [==============================] - 0s 9ms/step - loss: 0.6746 - accuracy: 0.6357 - val_loss: 0.6595 - val_accuracy: 0.6190\n",
            "Epoch 56/250\n",
            "10/10 [==============================] - 0s 9ms/step - loss: 0.6732 - accuracy: 0.6082 - val_loss: 0.6596 - val_accuracy: 0.6190\n",
            "Epoch 56: early stopping\n"
          ]
        }
      ],
      "source": [
        "model_2 = Sequential()\n",
        "\n",
        "model_2.add(Dense(8, activation='relu', name='DenseLayer1'))\n",
        "model_2.add(Dropout(0.5, name='DropoutLayer1'))\n",
        "\n",
        "model_2.add(Dense(8, activation='relu', name='DenseLayer2'))\n",
        "model_2.add(Dropout(0.5, name='DropoutLayer2'))\n",
        "\n",
        "model_2.add(Dense(8, activation='relu', name='DenseLayer3'))\n",
        "model_2.add(Dropout(0.5, name='DropoutLayer3'))\n",
        "\n",
        "\n",
        "model_2.add(Dense(1, activation='sigmoid'))\n",
        "\n",
        "model_2.compile(\n",
        "    optimizer=Adam(),\n",
        "    loss='binary_crossentropy',\n",
        "    metrics=['accuracy']\n",
        ")\n",
        "\n",
        "es = EarlyStopping(monitor='val_loss', mode='min', patience=10, verbose=1)\n",
        "\n",
        "history_2 = model_2.fit(\n",
        "    X_train,\n",
        "    y_train,\n",
        "    validation_data=(X_test, y_test),\n",
        "    epochs=250,\n",
        "    callbacks=[es, tb('model_2_dropout')]\n",
        ")"
      ]
    },
    {
      "cell_type": "code",
      "execution_count": 29,
      "metadata": {
        "id": "MdWH0o4ztGbd",
        "colab": {
          "base_uri": "https://localhost:8080/",
          "height": 545
        },
        "outputId": "abb03ee9-b58e-4c00-a649-3037f2c1d3de"
      },
      "outputs": [
        {
          "output_type": "display_data",
          "data": {
            "text/plain": [
              "<Figure size 432x288 with 1 Axes>"
            ],
            "image/png": "[encoded data removed]"
          },
          "metadata": {
            "needs_background": "light"
          }
        },
        {
          "output_type": "display_data",
          "data": {
            "text/plain": [
              "<Figure size 432x288 with 1 Axes>"
            ],
            "image/png": "[encoded data removed]"
          },
          "metadata": {
            "needs_background": "light"
          }
        }
      ],
      "source": [
        "plot_losses(history_2)"
      ]
    },
    {
      "cell_type": "markdown",
      "metadata": {
        "id": "1j1vE4l4trj4"
      },
      "source": [
        "### Model 3 - Reduce the Units - Reduce Units\n",
        "\n",
        "Reduce the number of units to 4 for each Hidden Layer"
      ]
    },
    {
      "cell_type": "code",
      "execution_count": 32,
      "metadata": {
        "id": "yBxasuKKtLiM",
        "colab": {
          "base_uri": "https://localhost:8080/"
        },
        "outputId": "f7cda468-9d84-49f9-8790-cf09eb1d140c"
      },
      "outputs": [
        {
          "output_type": "stream",
          "name": "stdout",
          "text": [
            "Epoch 1/250\n",
            "10/10 [==============================] - 1s 38ms/step - loss: 0.6776 - accuracy: 0.6254 - val_loss: 0.7757 - val_accuracy: 0.5159\n",
            "Epoch 2/250\n",
            "10/10 [==============================] - 0s 10ms/step - loss: 0.6701 - accuracy: 0.6392 - val_loss: 0.7675 - val_accuracy: 0.5079\n",
            "Epoch 3/250\n",
            "10/10 [==============================] - 0s 10ms/step - loss: 0.6639 - accuracy: 0.6460 - val_loss: 0.7627 - val_accuracy: 0.5159\n",
            "Epoch 4/250\n",
            "10/10 [==============================] - 0s 10ms/step - loss: 0.6592 - accuracy: 0.6426 - val_loss: 0.7560 - val_accuracy: 0.5079\n",
            "Epoch 5/250\n",
            "10/10 [==============================] - 0s 9ms/step - loss: 0.6547 - accuracy: 0.6529 - val_loss: 0.7488 - val_accuracy: 0.5238\n",
            "Epoch 6/250\n",
            "10/10 [==============================] - 0s 9ms/step - loss: 0.6509 - accuracy: 0.6598 - val_loss: 0.7444 - val_accuracy: 0.5317\n",
            "Epoch 7/250\n",
            "10/10 [==============================] - 0s 10ms/step - loss: 0.6483 - accuracy: 0.6667 - val_loss: 0.7401 - val_accuracy: 0.5397\n",
            "Epoch 8/250\n",
            "10/10 [==============================] - 0s 8ms/step - loss: 0.6457 - accuracy: 0.6667 - val_loss: 0.7372 - val_accuracy: 0.5556\n",
            "Epoch 9/250\n",
            "10/10 [==============================] - 0s 8ms/step - loss: 0.6431 - accuracy: 0.6804 - val_loss: 0.7349 - val_accuracy: 0.5556\n",
            "Epoch 10/250\n",
            "10/10 [==============================] - 0s 11ms/step - loss: 0.6407 - accuracy: 0.6838 - val_loss: 0.7346 - val_accuracy: 0.5556\n",
            "Epoch 11/250\n",
            "10/10 [==============================] - 0s 8ms/step - loss: 0.6388 - accuracy: 0.6838 - val_loss: 0.7335 - val_accuracy: 0.5556\n",
            "Epoch 12/250\n",
            "10/10 [==============================] - 0s 8ms/step - loss: 0.6368 - accuracy: 0.6873 - val_loss: 0.7322 - val_accuracy: 0.5556\n",
            "Epoch 13/250\n",
            "10/10 [==============================] - 0s 8ms/step - loss: 0.6350 - accuracy: 0.6838 - val_loss: 0.7286 - val_accuracy: 0.5556\n",
            "Epoch 14/250\n",
            "10/10 [==============================] - 0s 8ms/step - loss: 0.6327 - accuracy: 0.6838 - val_loss: 0.7270 - val_accuracy: 0.5635\n",
            "Epoch 15/250\n",
            "10/10 [==============================] - 0s 8ms/step - loss: 0.6310 - accuracy: 0.6873 - val_loss: 0.7255 - val_accuracy: 0.5635\n",
            "Epoch 16/250\n",
            "10/10 [==============================] - 0s 9ms/step - loss: 0.6294 - accuracy: 0.6873 - val_loss: 0.7241 - val_accuracy: 0.5714\n",
            "Epoch 17/250\n",
            "10/10 [==============================] - 0s 9ms/step - loss: 0.6279 - accuracy: 0.6873 - val_loss: 0.7246 - val_accuracy: 0.5714\n",
            "Epoch 18/250\n",
            "10/10 [==============================] - 0s 9ms/step - loss: 0.6259 - accuracy: 0.6873 - val_loss: 0.7233 - val_accuracy: 0.5714\n",
            "Epoch 19/250\n",
            "10/10 [==============================] - 0s 10ms/step - loss: 0.6248 - accuracy: 0.6873 - val_loss: 0.7243 - val_accuracy: 0.5714\n",
            "Epoch 20/250\n",
            "10/10 [==============================] - 0s 9ms/step - loss: 0.6232 - accuracy: 0.6873 - val_loss: 0.7225 - val_accuracy: 0.5714\n",
            "Epoch 21/250\n",
            "10/10 [==============================] - 0s 9ms/step - loss: 0.6215 - accuracy: 0.6873 - val_loss: 0.7203 - val_accuracy: 0.5794\n",
            "Epoch 22/250\n",
            "10/10 [==============================] - 0s 10ms/step - loss: 0.6198 - accuracy: 0.6907 - val_loss: 0.7173 - val_accuracy: 0.5714\n",
            "Epoch 23/250\n",
            "10/10 [==============================] - 0s 9ms/step - loss: 0.6186 - accuracy: 0.6907 - val_loss: 0.7160 - val_accuracy: 0.5794\n",
            "Epoch 24/250\n",
            "10/10 [==============================] - 0s 10ms/step - loss: 0.6171 - accuracy: 0.6907 - val_loss: 0.7153 - val_accuracy: 0.5794\n",
            "Epoch 25/250\n",
            "10/10 [==============================] - 0s 11ms/step - loss: 0.6162 - accuracy: 0.6942 - val_loss: 0.7119 - val_accuracy: 0.5794\n",
            "Epoch 26/250\n",
            "10/10 [==============================] - 0s 9ms/step - loss: 0.6148 - accuracy: 0.6976 - val_loss: 0.7102 - val_accuracy: 0.5794\n",
            "Epoch 27/250\n",
            "10/10 [==============================] - 0s 9ms/step - loss: 0.6139 - accuracy: 0.6907 - val_loss: 0.7065 - val_accuracy: 0.5794\n",
            "Epoch 28/250\n",
            "10/10 [==============================] - 0s 10ms/step - loss: 0.6129 - accuracy: 0.6907 - val_loss: 0.7058 - val_accuracy: 0.5873\n",
            "Epoch 29/250\n",
            "10/10 [==============================] - 0s 10ms/step - loss: 0.6116 - accuracy: 0.6907 - val_loss: 0.7073 - val_accuracy: 0.5794\n",
            "Epoch 30/250\n",
            "10/10 [==============================] - 0s 10ms/step - loss: 0.6101 - accuracy: 0.6873 - val_loss: 0.7070 - val_accuracy: 0.5873\n",
            "Epoch 31/250\n",
            "10/10 [==============================] - 0s 12ms/step - loss: 0.6087 - accuracy: 0.6907 - val_loss: 0.7047 - val_accuracy: 0.5873\n",
            "Epoch 32/250\n",
            "10/10 [==============================] - 0s 11ms/step - loss: 0.6068 - accuracy: 0.6942 - val_loss: 0.7046 - val_accuracy: 0.5794\n",
            "Epoch 33/250\n",
            "10/10 [==============================] - 0s 10ms/step - loss: 0.6054 - accuracy: 0.6942 - val_loss: 0.7038 - val_accuracy: 0.5714\n",
            "Epoch 34/250\n",
            "10/10 [==============================] - 0s 10ms/step - loss: 0.6039 - accuracy: 0.6907 - val_loss: 0.7019 - val_accuracy: 0.5714\n",
            "Epoch 35/250\n",
            "10/10 [==============================] - 0s 10ms/step - loss: 0.6025 - accuracy: 0.6976 - val_loss: 0.6999 - val_accuracy: 0.5714\n",
            "Epoch 36/250\n",
            "10/10 [==============================] - 0s 11ms/step - loss: 0.6013 - accuracy: 0.6976 - val_loss: 0.6987 - val_accuracy: 0.5794\n",
            "Epoch 37/250\n",
            "10/10 [==============================] - 0s 9ms/step - loss: 0.6000 - accuracy: 0.6976 - val_loss: 0.6971 - val_accuracy: 0.5794\n",
            "Epoch 38/250\n",
            "10/10 [==============================] - 0s 10ms/step - loss: 0.5988 - accuracy: 0.6976 - val_loss: 0.6921 - val_accuracy: 0.5873\n",
            "Epoch 39/250\n",
            "10/10 [==============================] - 0s 10ms/step - loss: 0.5977 - accuracy: 0.6942 - val_loss: 0.6872 - val_accuracy: 0.5873\n",
            "Epoch 40/250\n",
            "10/10 [==============================] - 0s 10ms/step - loss: 0.5967 - accuracy: 0.6907 - val_loss: 0.6858 - val_accuracy: 0.5873\n",
            "Epoch 41/250\n",
            "10/10 [==============================] - 0s 14ms/step - loss: 0.5953 - accuracy: 0.6907 - val_loss: 0.6855 - val_accuracy: 0.5873\n",
            "Epoch 42/250\n",
            "10/10 [==============================] - 0s 11ms/step - loss: 0.5944 - accuracy: 0.6976 - val_loss: 0.6879 - val_accuracy: 0.5873\n",
            "Epoch 43/250\n",
            "10/10 [==============================] - 0s 10ms/step - loss: 0.5933 - accuracy: 0.6976 - val_loss: 0.6914 - val_accuracy: 0.5873\n",
            "Epoch 44/250\n",
            "10/10 [==============================] - 0s 9ms/step - loss: 0.5925 - accuracy: 0.7010 - val_loss: 0.6899 - val_accuracy: 0.5873\n",
            "Epoch 45/250\n",
            "10/10 [==============================] - 0s 10ms/step - loss: 0.5921 - accuracy: 0.6976 - val_loss: 0.6883 - val_accuracy: 0.5873\n",
            "Epoch 46/250\n",
            "10/10 [==============================] - 0s 9ms/step - loss: 0.5905 - accuracy: 0.6976 - val_loss: 0.6876 - val_accuracy: 0.5873\n",
            "Epoch 47/250\n",
            "10/10 [==============================] - 0s 9ms/step - loss: 0.5897 - accuracy: 0.6976 - val_loss: 0.6854 - val_accuracy: 0.5873\n",
            "Epoch 48/250\n",
            "10/10 [==============================] - 0s 10ms/step - loss: 0.5889 - accuracy: 0.6976 - val_loss: 0.6837 - val_accuracy: 0.5873\n",
            "Epoch 49/250\n",
            "10/10 [==============================] - 0s 9ms/step - loss: 0.5882 - accuracy: 0.6942 - val_loss: 0.6842 - val_accuracy: 0.5873\n",
            "Epoch 50/250\n",
            "10/10 [==============================] - 0s 8ms/step - loss: 0.5877 - accuracy: 0.6942 - val_loss: 0.6850 - val_accuracy: 0.5873\n",
            "Epoch 51/250\n",
            "10/10 [==============================] - 0s 8ms/step - loss: 0.5869 - accuracy: 0.6942 - val_loss: 0.6850 - val_accuracy: 0.5873\n",
            "Epoch 52/250\n",
            "10/10 [==============================] - 0s 8ms/step - loss: 0.5862 - accuracy: 0.6942 - val_loss: 0.6851 - val_accuracy: 0.5873\n",
            "Epoch 53/250\n",
            "10/10 [==============================] - 0s 8ms/step - loss: 0.5855 - accuracy: 0.6942 - val_loss: 0.6851 - val_accuracy: 0.5873\n",
            "Epoch 54/250\n",
            "10/10 [==============================] - 0s 9ms/step - loss: 0.5849 - accuracy: 0.6976 - val_loss: 0.6846 - val_accuracy: 0.5873\n",
            "Epoch 55/250\n",
            "10/10 [==============================] - 0s 8ms/step - loss: 0.5844 - accuracy: 0.6976 - val_loss: 0.6846 - val_accuracy: 0.5873\n",
            "Epoch 56/250\n",
            "10/10 [==============================] - 0s 8ms/step - loss: 0.5836 - accuracy: 0.6942 - val_loss: 0.6867 - val_accuracy: 0.5873\n",
            "Epoch 57/250\n",
            "10/10 [==============================] - 0s 8ms/step - loss: 0.5830 - accuracy: 0.7010 - val_loss: 0.6872 - val_accuracy: 0.5873\n",
            "Epoch 58/250\n",
            "10/10 [==============================] - 0s 9ms/step - loss: 0.5820 - accuracy: 0.7010 - val_loss: 0.6855 - val_accuracy: 0.5873\n",
            "Epoch 58: early stopping\n"
          ]
        }
      ],
      "source": [
        "model_3 = Sequential()\n",
        "\n",
        "model_3.add(Dense(4, activation='relu'))\n",
        "model_3.add(Dense(4, activation='relu'))\n",
        "model_3.add(Dense(4, activation='relu'))\n",
        "\n",
        "model_3.add(Dense(1, activation='sigmoid'))\n",
        "\n",
        "model_3.compile(\n",
        "    optimizer=Adam(),\n",
        "    loss='binary_crossentropy',\n",
        "    metrics=['accuracy']\n",
        ")\n",
        "\n",
        "es = EarlyStopping(monitor='val_loss', mode='min', patience=10, verbose=1)\n",
        "\n",
        "history_3 = model_3.fit(\n",
        "    X_train,\n",
        "    y_train,\n",
        "    validation_data=(X_test, y_test),\n",
        "    epochs=250,\n",
        "    callbacks=[es, tb('model_3_4units')]\n",
        ")"
      ]
    },
    {
      "cell_type": "code",
      "source": [
        "plot_losses(history_3)\n"
      ],
      "metadata": {
        "colab": {
          "base_uri": "https://localhost:8080/",
          "height": 545
        },
        "id": "X2SJfYWWEbnw",
        "outputId": "767f9d39-c5f6-4fc4-a738-e11c97393f2f"
      },
      "execution_count": 33,
      "outputs": [
        {
          "output_type": "display_data",
          "data": {
            "text/plain": [
              "<Figure size 432x288 with 1 Axes>"
            ],
            "image/png": "[encoded data removed]"
          },
          "metadata": {
            "needs_background": "light"
          }
        },
        {
          "output_type": "display_data",
          "data": {
            "text/plain": [
              "<Figure size 432x288 with 1 Axes>"
            ],
            "image/png": "[encoded data removed]"
          },
          "metadata": {
            "needs_background": "light"
          }
        }
      ]
    },
    {
      "cell_type": "code",
      "source": [
        "model_3.summary()"
      ],
      "metadata": {
        "colab": {
          "base_uri": "https://localhost:8080/"
        },
        "id": "9bmN6xepEou4",
        "outputId": "055e758f-cd94-480c-9b2c-e01091a239aa"
      },
      "execution_count": 34,
      "outputs": [
        {
          "output_type": "stream",
          "name": "stdout",
          "text": [
            "Model: \"sequential_4\"\n",
            "_________________________________________________________________\n",
            " Layer (type)                Output Shape              Param #   \n",
            "=================================================================\n",
            " dense_12 (Dense)            (None, 4)                 36        \n",
            "                                                                 \n",
            " dense_13 (Dense)            (None, 4)                 20        \n",
            "                                                                 \n",
            " dense_14 (Dense)            (None, 4)                 20        \n",
            "                                                                 \n",
            " dense_15 (Dense)            (None, 1)                 5         \n",
            "                                                                 \n",
            "=================================================================\n",
            "Total params: 81\n",
            "Trainable params: 81\n",
            "Non-trainable params: 0\n",
            "_________________________________________________________________\n"
          ]
        }
      ]
    },
    {
      "cell_type": "code",
      "source": [
        "model_2.summary()"
      ],
      "metadata": {
        "colab": {
          "base_uri": "https://localhost:8080/"
        },
        "id": "0GHcU6AkFRa-",
        "outputId": "d3cd3a23-75b3-4c3e-8fce-da141efd50d1"
      },
      "execution_count": 35,
      "outputs": [
        {
          "output_type": "stream",
          "name": "stdout",
          "text": [
            "Model: \"sequential_1\"\n",
            "_________________________________________________________________\n",
            " Layer (type)                Output Shape              Param #   \n",
            "=================================================================\n",
            " DenseLayer1 (Dense)         (None, 8)                 72        \n",
            "                                                                 \n",
            " DropoutLayer1 (Dropout)     (None, 8)                 0         \n",
            "                                                                 \n",
            " DenseLayer2 (Dense)         (None, 8)                 72        \n",
            "                                                                 \n",
            " DropoutLayer2 (Dropout)     (None, 8)                 0         \n",
            "                                                                 \n",
            " DenseLayer3 (Dense)         (None, 8)                 72        \n",
            "                                                                 \n",
            " DropoutLayer3 (Dropout)     (None, 8)                 0         \n",
            "                                                                 \n",
            " dense_4 (Dense)             (None, 1)                 9         \n",
            "                                                                 \n",
            "=================================================================\n",
            "Total params: 225\n",
            "Trainable params: 225\n",
            "Non-trainable params: 0\n",
            "_________________________________________________________________\n"
          ]
        }
      ]
    },
    {
      "cell_type": "code",
      "source": [
        "model_1.summary()"
      ],
      "metadata": {
        "colab": {
          "base_uri": "https://localhost:8080/"
        },
        "id": "If6tAp9UFnCU",
        "outputId": "cc14e8bb-54d4-4655-9b8b-f25cfc9e3988"
      },
      "execution_count": 36,
      "outputs": [
        {
          "output_type": "stream",
          "name": "stdout",
          "text": [
            "Model: \"sequential\"\n",
            "_________________________________________________________________\n",
            " Layer (type)                Output Shape              Param #   \n",
            "=================================================================\n",
            " dense (Dense)               (None, 8)                 72        \n",
            "                                                                 \n",
            " dense_1 (Dense)             (None, 8)                 72        \n",
            "                                                                 \n",
            " dense_2 (Dense)             (None, 8)                 72        \n",
            "                                                                 \n",
            " dense_3 (Dense)             (None, 1)                 9         \n",
            "                                                                 \n",
            "=================================================================\n",
            "Total params: 225\n",
            "Trainable params: 225\n",
            "Non-trainable params: 0\n",
            "_________________________________________________________________\n"
          ]
        }
      ]
    },
    {
      "cell_type": "code",
      "execution_count": null,
      "metadata": {
        "id": "HIDnVtN_tgPe"
      },
      "outputs": [],
      "source": [
        ""
      ]
    },
    {
      "cell_type": "markdown",
      "metadata": {
        "id": "yTr0fDy8tlxn"
      },
      "source": [
        "### Predictions\n",
        "\n",
        "Comapre the 3 models accuracy rates\n",
        "\n",
        "Run predictions on the best one\n",
        "\n",
        "Change the prediction values to be 0 or 1 instead of float values"
      ]
    },
    {
      "cell_type": "code",
      "source": [
        "model_1.evaluate(X_test, y_test)"
      ],
      "metadata": {
        "colab": {
          "base_uri": "https://localhost:8080/"
        },
        "id": "GIcQ666MyVGa",
        "outputId": "ad84eb78-a634-49bf-e03d-30de39e38ac6"
      },
      "execution_count": 37,
      "outputs": [
        {
          "output_type": "stream",
          "name": "stdout",
          "text": [
            "4/4 [==============================] - 0s 3ms/step - loss: 0.6610 - accuracy: 0.5873\n"
          ]
        },
        {
          "output_type": "execute_result",
          "data": {
            "text/plain": [
              "[0.6610180139541626, 0.5873016119003296]"
            ]
          },
          "metadata": {},
          "execution_count": 37
        }
      ]
    },
    {
      "cell_type": "code",
      "source": [
        "model_2.evaluate(X_test, y_test)"
      ],
      "metadata": {
        "colab": {
          "base_uri": "https://localhost:8080/"
        },
        "id": "etYSQK98yU-T",
        "outputId": "454a876a-20fa-47f9-d2a7-4d85006bcc58"
      },
      "execution_count": 38,
      "outputs": [
        {
          "output_type": "stream",
          "name": "stdout",
          "text": [
            "4/4 [==============================] - 0s 5ms/step - loss: 0.6596 - accuracy: 0.6190\n"
          ]
        },
        {
          "output_type": "execute_result",
          "data": {
            "text/plain": [
              "[0.6595885753631592, 0.6190476417541504]"
            ]
          },
          "metadata": {},
          "execution_count": 38
        }
      ]
    },
    {
      "cell_type": "code",
      "source": [
        "model_3.evaluate(X_test, y_test)"
      ],
      "metadata": {
        "colab": {
          "base_uri": "https://localhost:8080/"
        },
        "id": "V5iPoqG9yU1b",
        "outputId": "ea927cb8-a118-4253-9ed1-5412714d4c25"
      },
      "execution_count": 40,
      "outputs": [
        {
          "output_type": "stream",
          "name": "stdout",
          "text": [
            "4/4 [==============================] - 0s 4ms/step - loss: 0.6855 - accuracy: 0.5873\n"
          ]
        },
        {
          "output_type": "execute_result",
          "data": {
            "text/plain": [
              "[0.68548184633255, 0.5873016119003296]"
            ]
          },
          "metadata": {},
          "execution_count": 40
        }
      ]
    },
    {
      "cell_type": "code",
      "source": [
        "prediction_2 = (model_2.predict(X_test) > 0.5) * 1"
      ],
      "metadata": {
        "id": "29J3S7OTyUtb"
      },
      "execution_count": 41,
      "outputs": []
    },
    {
      "cell_type": "code",
      "source": [
        "confusion_matrix(y_test, prediction_2)"
      ],
      "metadata": {
        "colab": {
          "base_uri": "https://localhost:8080/"
        },
        "id": "gEa3ZTzhyUmD",
        "outputId": "7e93f425-f702-4373-9123-d690656076ad"
      },
      "execution_count": 42,
      "outputs": [
        {
          "output_type": "execute_result",
          "data": {
            "text/plain": [
              "array([[78,  0],\n",
              "       [48,  0]])"
            ]
          },
          "metadata": {},
          "execution_count": 42
        }
      ]
    },
    {
      "cell_type": "code",
      "source": [
        "print(classification_report(y_test, prediction_2))"
      ],
      "metadata": {
        "colab": {
          "base_uri": "https://localhost:8080/"
        },
        "id": "wZiTI6pByUd8",
        "outputId": "8354c03b-121b-4e45-e7db-eda8c1635709"
      },
      "execution_count": 43,
      "outputs": [
        {
          "output_type": "stream",
          "name": "stdout",
          "text": [
            "              precision    recall  f1-score   support\n",
            "\n",
            "           0       0.62      1.00      0.76        78\n",
            "           1       0.00      0.00      0.00        48\n",
            "\n",
            "    accuracy                           0.62       126\n",
            "   macro avg       0.31      0.50      0.38       126\n",
            "weighted avg       0.38      0.62      0.47       126\n",
            "\n"
          ]
        },
        {
          "output_type": "stream",
          "name": "stderr",
          "text": [
            "/usr/local/lib/python3.7/dist-packages/sklearn/metrics/_classification.py:1318: UndefinedMetricWarning: Precision and F-score are ill-defined and being set to 0.0 in labels with no predicted samples. Use `zero_division` parameter to control this behavior.\n",
            "  _warn_prf(average, modifier, msg_start, len(result))\n",
            "/usr/local/lib/python3.7/dist-packages/sklearn/metrics/_classification.py:1318: UndefinedMetricWarning: Precision and F-score are ill-defined and being set to 0.0 in labels with no predicted samples. Use `zero_division` parameter to control this behavior.\n",
            "  _warn_prf(average, modifier, msg_start, len(result))\n",
            "/usr/local/lib/python3.7/dist-packages/sklearn/metrics/_classification.py:1318: UndefinedMetricWarning: Precision and F-score are ill-defined and being set to 0.0 in labels with no predicted samples. Use `zero_division` parameter to control this behavior.\n",
            "  _warn_prf(average, modifier, msg_start, len(result))\n"
          ]
        }
      ]
    },
    {
      "cell_type": "code",
      "source": [
        ""
      ],
      "metadata": {
        "id": "ZL9tB9w8yUWs"
      },
      "execution_count": null,
      "outputs": []
    },
    {
      "cell_type": "markdown",
      "metadata": {
        "id": "whCccM400O9p"
      },
      "source": [
        "### Tensorboard\n",
        "\n",
        "Upload Data to Google TensorBoard\n",
        "- Requires auth with Google account\n",
        "- Will be public for everyone to see\n",
        "- Do not upload private or sensitive data\n",
        "\n",
        "Delete your Tensorboard before closing the notebook"
      ]
    },
    {
      "cell_type": "code",
      "execution_count": null,
      "metadata": {
        "id": "QSUWdWQtuS3s"
      },
      "outputs": [],
      "source": [
        "!tensorboard dev upload --logdir tf_logs --one_shot"
      ]
    },
    {
      "cell_type": "code",
      "execution_count": null,
      "metadata": {
        "id": "E7XyEBrjunel"
      },
      "outputs": [],
      "source": [
        ""
      ]
    },
    {
      "cell_type": "code",
      "execution_count": null,
      "metadata": {
        "id": "HFi_IIp-xTvv"
      },
      "outputs": [],
      "source": [
        ""
      ]
    },
    {
      "cell_type": "code",
      "execution_count": null,
      "metadata": {
        "id": "qyTo2S3Ox8Ui"
      },
      "outputs": [],
      "source": [
        ""
      ]
    },
    {
      "cell_type": "code",
      "execution_count": null,
      "metadata": {
        "id": "KJqPrZD1yEvS"
      },
      "outputs": [],
      "source": [
        ""
      ]
    },
    {
      "cell_type": "code",
      "execution_count": null,
      "metadata": {
        "id": "_7B_8pxTy93b"
      },
      "outputs": [],
      "source": [
        ""
      ]
    },
    {
      "cell_type": "code",
      "execution_count": null,
      "metadata": {
        "id": "SgKJloegzIRZ"
      },
      "outputs": [],
      "source": [
        ""
      ]
    },
    {
      "cell_type": "code",
      "execution_count": null,
      "metadata": {
        "id": "BZe0r5oszRly"
      },
      "outputs": [],
      "source": [
        ""
      ]
    }
  ],
  "metadata": {
    "colab": {
      "collapsed_sections": [],
      "name": "58 - Exercises - Solutions - TensorFlow Binary Classification.ipynb",
      "provenance": []
    },
    "kernelspec": {
      "display_name": "Python 3 (ipykernel)",
      "language": "python",
      "name": "python3"
    },
    "language_info": {
      "codemirror_mode": {
        "name": "ipython",
        "version": 3
      },
      "file_extension": ".py",
      "mimetype": "text/x-python",
      "name": "python",
      "nbconvert_exporter": "python",
      "pygments_lexer": "ipython3",
      "version": "3.9.12"
    }
  },
  "nbformat": 4,
  "nbformat_minor": 0
}