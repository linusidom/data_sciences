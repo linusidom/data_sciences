{
 "cells": [
  {
   "cell_type": "markdown",
   "metadata": {
    "id": "nO3F2S8pQkZi"
   },
   "source": [
    "# Tensorflow CNN Multi-Category Image Classification - Exercises\n",
    "\n",
    "Dataset:\n",
    "- https://www.kaggle.com/datasets/gpiosenka/balls-image-classification"
   ]
  },
  {
   "cell_type": "code",
   "execution_count": null,
   "metadata": {
    "id": "wZWiqwMASPrj"
   },
   "outputs": [],
   "source": []
  },
  {
   "cell_type": "code",
   "execution_count": null,
   "metadata": {
    "id": "Kal0yaOhSQgz"
   },
   "outputs": [],
   "source": [
    "###"
   ]
  },
  {
   "cell_type": "markdown",
   "metadata": {
    "id": "3ut4A3FaSUa8"
   },
   "source": [
    "### Import the Libraries"
   ]
  },
  {
   "cell_type": "code",
   "execution_count": null,
   "metadata": {
    "id": "WkIN_SJxDOqf"
   },
   "outputs": [],
   "source": []
  },
  {
   "cell_type": "markdown",
   "metadata": {
    "id": "vK30nkccS7QN"
   },
   "source": [
    "# Import and Unzip the Dataset from Kaggle\n",
    "\n",
    "Connect to Kaggle and then download the dataset\n",
    "\n",
    "- https://stackoverflow.com/questions/56816537/cant-find-kaggle-json-file-in-google-colab\n",
    "\n",
    "- Unzip the dataset"
   ]
  },
  {
   "cell_type": "code",
   "execution_count": null,
   "metadata": {
    "id": "BqQrqM7JDt8D"
   },
   "outputs": [],
   "source": []
  },
  {
   "cell_type": "code",
   "execution_count": null,
   "metadata": {
    "colab": {
     "base_uri": "https://localhost:8080/"
    },
    "id": "b5YtHF4_D4iz",
    "outputId": "a09a07e1-37ec-434d-da17-60841a428184"
   },
   "outputs": [],
   "source": []
  },
  {
   "cell_type": "code",
   "execution_count": null,
   "metadata": {
    "id": "7UCH_XsuEAGq"
   },
   "outputs": [],
   "source": []
  },
  {
   "cell_type": "markdown",
   "metadata": {
    "id": "M3C8fbxBTJ06"
   },
   "source": [
    "### Data Exploration\n",
    "\n",
    "- How many different categories are there?\n",
    "- How many files per category?\n",
    "- How many files in total?\n",
    "- What is the shape of the files?\n",
    "- Plot a few images from random categories"
   ]
  },
  {
   "cell_type": "code",
   "execution_count": null,
   "metadata": {
    "colab": {
     "base_uri": "https://localhost:8080/"
    },
    "id": "c2SnL2qTEHjq",
    "outputId": "9e93f1b0-f0a5-40e9-aa5a-0f8f3258ee59"
   },
   "outputs": [],
   "source": []
  },
  {
   "cell_type": "code",
   "execution_count": null,
   "metadata": {
    "colab": {
     "base_uri": "https://localhost:8080/",
     "height": 304
    },
    "id": "kXcMvOv7EQmr",
    "outputId": "cfbaa089-e6fd-4d8f-a803-d272359a267a"
   },
   "outputs": [],
   "source": []
  },
  {
   "cell_type": "code",
   "execution_count": null,
   "metadata": {
    "id": "nb_amm2XEkMp"
   },
   "outputs": [],
   "source": []
  },
  {
   "cell_type": "markdown",
   "metadata": {
    "id": "oTUSfAOOTbow"
   },
   "source": [
    "### Normalize and Batch the Data\n",
    "\n",
    "- Rescale the Data\n",
    "\n",
    "- Split the data into batches\n",
    "- Class Mode: `categorical`\n",
    "- Target Size: 150,150\n",
    "- All other default values can remain"
   ]
  },
  {
   "cell_type": "code",
   "execution_count": null,
   "metadata": {
    "colab": {
     "base_uri": "https://localhost:8080/"
    },
    "id": "0t0gYA4gFGra",
    "outputId": "51af221a-d055-46c4-bd55-fba40b5e6c2e"
   },
   "outputs": [],
   "source": []
  },
  {
   "cell_type": "code",
   "execution_count": null,
   "metadata": {
    "colab": {
     "base_uri": "https://localhost:8080/"
    },
    "id": "UegocBRy8HPI",
    "outputId": "3606c09b-a1b5-4dfd-e389-b0c70fc263b2"
   },
   "outputs": [],
   "source": []
  },
  {
   "cell_type": "markdown",
   "metadata": {
    "id": "wtlSCqOhTsqe"
   },
   "source": [
    "### Model Creation\n",
    "\n",
    "Create the model from the CNN Explainer\n",
    "- https://poloclub.github.io/cnn-explainer/\n",
    "\n",
    "For the final output layer\n",
    "- Units: Number of categories\n",
    "- Activation: `softmax`\n",
    "\n",
    "Compile Layer Loss: `categorical_crossentropy`\n",
    "\n",
    "Optional:\n",
    "Build the model before fitting and explore the summary\n"
   ]
  },
  {
   "cell_type": "code",
   "execution_count": null,
   "metadata": {
    "colab": {
     "base_uri": "https://localhost:8080/"
    },
    "id": "x5Fc_F_MFh8x",
    "outputId": "85a87fa8-f923-4f68-951e-f46da72b0af2"
   },
   "outputs": [],
   "source": []
  },
  {
   "cell_type": "markdown",
   "metadata": {
    "id": "QyF42Rp5T_SK"
   },
   "source": [
    "### Model Analysis\n",
    "\n",
    "Plot the Loss/Accuracy Curves\n",
    "\n",
    "Was this over or under fit?"
   ]
  },
  {
   "cell_type": "code",
   "execution_count": null,
   "metadata": {
    "colab": {
     "base_uri": "https://localhost:8080/",
     "height": 282
    },
    "id": "NAfFj6nKF_ZD",
    "outputId": "ed824380-7371-4cdd-b2df-36cc7789f919"
   },
   "outputs": [],
   "source": []
  },
  {
   "cell_type": "code",
   "execution_count": null,
   "metadata": {
    "id": "CEAyi4Gc_Yyj"
   },
   "outputs": [],
   "source": []
  },
  {
   "cell_type": "code",
   "execution_count": null,
   "metadata": {
    "colab": {
     "base_uri": "https://localhost:8080/",
     "height": 545
    },
    "id": "r8Z2pNgm_w5G",
    "outputId": "ba0fddbc-ef8c-41b5-c948-51b049263795"
   },
   "outputs": [],
   "source": []
  },
  {
   "cell_type": "markdown",
   "metadata": {
    "id": "n3Xu-8n04REb"
   },
   "source": [
    "### Run Predictions\n",
    "\n",
    "- Run a prediction on a Single Image from the test set\n",
    "- Run predictions on all images from the test set\n",
    " - Create a function\n",
    " - Save results in y_true and predictions\n",
    "- Run y_test and predictions through the confusion_matrix and classification_report"
   ]
  },
  {
   "cell_type": "code",
   "execution_count": null,
   "metadata": {
    "colab": {
     "base_uri": "https://localhost:8080/"
    },
    "id": "OaEkDSKlMiC0",
    "outputId": "1b0b5005-beda-4e84-eca5-711e78744348"
   },
   "outputs": [],
   "source": []
  },
  {
   "cell_type": "code",
   "execution_count": null,
   "metadata": {
    "colab": {
     "base_uri": "https://localhost:8080/",
     "height": 286
    },
    "id": "EYbq2frrNCHR",
    "outputId": "7b7738e4-8b45-4608-ac1f-054156746cca"
   },
   "outputs": [],
   "source": []
  },
  {
   "cell_type": "code",
   "execution_count": null,
   "metadata": {
    "id": "lDmpHecCNcYd"
   },
   "outputs": [],
   "source": []
  },
  {
   "cell_type": "code",
   "execution_count": null,
   "metadata": {
    "colab": {
     "base_uri": "https://localhost:8080/"
    },
    "id": "k4GfFEvyNuo6",
    "outputId": "24f528bf-ef4c-4ebe-f292-d591a5806e79"
   },
   "outputs": [],
   "source": []
  },
  {
   "cell_type": "code",
   "execution_count": null,
   "metadata": {
    "colab": {
     "base_uri": "https://localhost:8080/"
    },
    "id": "QaTicLHdCaEq",
    "outputId": "980ccb0f-5247-4dd2-944e-198a64430894"
   },
   "outputs": [],
   "source": []
  },
  {
   "cell_type": "code",
   "execution_count": null,
   "metadata": {
    "id": "dFZrbbZs4qZ_"
   },
   "outputs": [],
   "source": []
  },
  {
   "cell_type": "code",
   "execution_count": null,
   "metadata": {
    "id": "nRccwgWO4qd_"
   },
   "outputs": [],
   "source": []
  },
  {
   "cell_type": "code",
   "execution_count": null,
   "metadata": {
    "id": "xOo2owb14qh5"
   },
   "outputs": [],
   "source": []
  },
  {
   "cell_type": "code",
   "execution_count": null,
   "metadata": {
    "id": "pSmRTCeD4qlf"
   },
   "outputs": [],
   "source": []
  },
  {
   "cell_type": "code",
   "execution_count": null,
   "metadata": {
    "id": "a2qxn0mo4qpH"
   },
   "outputs": [],
   "source": []
  },
  {
   "cell_type": "code",
   "execution_count": null,
   "metadata": {
    "id": "Cm6xryFC4qsn"
   },
   "outputs": [],
   "source": []
  },
  {
   "cell_type": "code",
   "execution_count": null,
   "metadata": {
    "id": "lMS2Xchg4qvv"
   },
   "outputs": [],
   "source": []
  },
  {
   "cell_type": "code",
   "execution_count": null,
   "metadata": {
    "id": "4FO26M9l4qy3"
   },
   "outputs": [],
   "source": []
  },
  {
   "cell_type": "code",
   "execution_count": null,
   "metadata": {
    "id": "-5tbBoTy4q1_"
   },
   "outputs": [],
   "source": []
  },
  {
   "cell_type": "code",
   "execution_count": null,
   "metadata": {
    "id": "M6T2TUxu4q4-"
   },
   "outputs": [],
   "source": []
  },
  {
   "cell_type": "code",
   "execution_count": null,
   "metadata": {
    "id": "pg3TtLKV4q72"
   },
   "outputs": [],
   "source": []
  },
  {
   "cell_type": "code",
   "execution_count": null,
   "metadata": {
    "id": "_HOFAyNG4q-2"
   },
   "outputs": [],
   "source": []
  },
  {
   "cell_type": "code",
   "execution_count": null,
   "metadata": {
    "id": "Fwn4330x4rBm"
   },
   "outputs": [],
   "source": []
  },
  {
   "cell_type": "code",
   "execution_count": null,
   "metadata": {
    "id": "BE_SubZz4rEe"
   },
   "outputs": [],
   "source": []
  },
  {
   "cell_type": "code",
   "execution_count": null,
   "metadata": {
    "id": "iEZDb2qo4rHa"
   },
   "outputs": [],
   "source": []
  },
  {
   "cell_type": "code",
   "execution_count": null,
   "metadata": {
    "id": "JBg7GDfs4rKS"
   },
   "outputs": [],
   "source": []
  },
  {
   "cell_type": "code",
   "execution_count": null,
   "metadata": {
    "id": "0NVUlbj14rM-"
   },
   "outputs": [],
   "source": []
  },
  {
   "cell_type": "code",
   "execution_count": null,
   "metadata": {
    "id": "SglhqbXc4rP4"
   },
   "outputs": [],
   "source": []
  },
  {
   "cell_type": "code",
   "execution_count": null,
   "metadata": {
    "id": "f0VaLgJW4rSO"
   },
   "outputs": [],
   "source": []
  }
 ],
 "metadata": {
  "accelerator": "GPU",
  "colab": {
   "collapsed_sections": [],
   "name": "63 - Tensorflow CNN Multi-Category Classification.ipynb",
   "provenance": []
  },
  "gpuClass": "standard",
  "kernelspec": {
   "display_name": "Python 3 (ipykernel)",
   "language": "python",
   "name": "python3"
  },
  "language_info": {
   "codemirror_mode": {
    "name": "ipython",
    "version": 3
   },
   "file_extension": ".py",
   "mimetype": "text/x-python",
   "name": "python",
   "nbconvert_exporter": "python",
   "pygments_lexer": "ipython3",
   "version": "3.9.12"
  }
 },
 "nbformat": 4,
 "nbformat_minor": 1
}
