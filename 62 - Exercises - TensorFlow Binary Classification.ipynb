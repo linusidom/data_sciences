{
  "nbformat": 4,
  "nbformat_minor": 0,
  "metadata": {
    "colab": {
      "name": "62 - Exercises - TensorFlow Binary Classification.ipynb",
      "provenance": []
    },
    "kernelspec": {
      "name": "python3",
      "display_name": "Python 3"
    },
    "language_info": {
      "name": "python"
    },
    "accelerator": "GPU",
    "gpuClass": "standard"
  },
  "cells": [
    {
      "cell_type": "markdown",
      "source": [
        "# Tensorflow Binary Classification Exercises\n",
        "\n",
        "Dataset:\n",
        "\n",
        "- https://www.kaggle.com/datasets/saadpd/menwomen-classification\n",
        "\n",
        "\n",
        "*Kaggle Connect to Google Colab*\n",
        "- https://stackoverflow.com/questions/56816537/cant-find-kaggle-json-file-in-google-colab"
      ],
      "metadata": {
        "id": "fzaBNC6YCfk4"
      }
    },
    {
      "cell_type": "markdown",
      "source": [
        "### Import Libraries\n",
        "\n",
        "- Pandas, NumPy, OS, random, matplotlib.pyplot, matplotlib.image, ZipFile\n",
        "- TensorFlow\n",
        " - Sequential\n",
        " - Dense, Flatten, Conv2D, MaxPool2D\n",
        " - ImageDataGenerator\n",
        " - Adam\n",
        "\n",
        "- SkLearn\n",
        " - Confusion Report and Classification Matrix"
      ],
      "metadata": {
        "id": "RltB4Y1pCuU-"
      }
    },
    {
      "cell_type": "code",
      "execution_count": null,
      "metadata": {
        "id": "9emWDxs3wcJx"
      },
      "outputs": [],
      "source": [
        ""
      ]
    },
    {
      "cell_type": "markdown",
      "source": [
        "### Download the dataset from Kaggle\n",
        "\n",
        "- Optional but highly recommended"
      ],
      "metadata": {
        "id": "6PC-_uglDILS"
      }
    },
    {
      "cell_type": "code",
      "source": [
        ""
      ],
      "metadata": {
        "id": "IzpTcs2Ew9Eh"
      },
      "execution_count": null,
      "outputs": []
    },
    {
      "cell_type": "code",
      "source": [
        ""
      ],
      "metadata": {
        "id": "PwFeX1xCxUGc"
      },
      "execution_count": null,
      "outputs": []
    },
    {
      "cell_type": "markdown",
      "source": [
        "### Unizp the data"
      ],
      "metadata": {
        "id": "0hnuBLooDOUZ"
      }
    },
    {
      "cell_type": "code",
      "source": [
        ""
      ],
      "metadata": {
        "id": "0S9u7ecixbQL"
      },
      "execution_count": null,
      "outputs": []
    },
    {
      "cell_type": "code",
      "source": [
        ""
      ],
      "metadata": {
        "id": "TZLLboA9zot9"
      },
      "execution_count": null,
      "outputs": []
    },
    {
      "cell_type": "markdown",
      "source": [
        "### Check out the data\n",
        "\n",
        "- Walk the directory tree and see how many images are in the set\n",
        "- Get a random image\n",
        "- Print the shape\n",
        "- Print the image\n",
        "- How many images are there in total?"
      ],
      "metadata": {
        "id": "bXWS4J-W0Q8H"
      }
    },
    {
      "cell_type": "code",
      "source": [
        ""
      ],
      "metadata": {
        "id": "P6r1r45cyGUF"
      },
      "execution_count": null,
      "outputs": []
    },
    {
      "cell_type": "code",
      "source": [
        ""
      ],
      "metadata": {
        "id": "naKK-Rdu0Rjv"
      },
      "execution_count": null,
      "outputs": []
    },
    {
      "cell_type": "markdown",
      "source": [
        "### Normalize and Batch the Data\n",
        "\n",
        "- Scale the data\n",
        "- Target Size: (128,128)\n",
        "- Class Mode: binary"
      ],
      "metadata": {
        "id": "eqkWVsRE7djW"
      }
    },
    {
      "cell_type": "code",
      "source": [
        ""
      ],
      "metadata": {
        "id": "41qRyunaxwgI"
      },
      "execution_count": null,
      "outputs": []
    },
    {
      "cell_type": "markdown",
      "source": [
        "### Create the Model\n",
        "\n",
        "Hidden Layers\n",
        "- 7 Hidden Layers\n",
        "- 2x Conv2D, Conv2D, MaxPool2D Layers\n",
        "- Flatten Layer\n",
        "- Filters: 128\n",
        "- Kernels: 3\n",
        "- Activation: 'relu'\n",
        "\n",
        "Compile\n",
        "- Optimizer: Adam\n",
        "- Loss: binary_crossentropy\n",
        "- Metrics: Accuracy"
      ],
      "metadata": {
        "id": "PiUv7jFC6NWf"
      }
    },
    {
      "cell_type": "code",
      "source": [
        ""
      ],
      "metadata": {
        "id": "DvNHhckWyO8f"
      },
      "execution_count": null,
      "outputs": []
    },
    {
      "cell_type": "code",
      "source": [
        ""
      ],
      "metadata": {
        "id": "qFZkuPDW06i6"
      },
      "execution_count": null,
      "outputs": []
    },
    {
      "cell_type": "markdown",
      "source": [
        "### Evaluate and Predict on the Model\n",
        "\n",
        "- Evaluate the performance of the model on the test_data\n",
        "- Predict on a single image of man or woman\n",
        "- Create a prediction function that saves to y_test and preds\n",
        "- Run a confusion_matrix and classification_report between y_test and preds"
      ],
      "metadata": {
        "id": "UySChseRDZ54"
      }
    },
    {
      "cell_type": "code",
      "source": [
        ""
      ],
      "metadata": {
        "id": "sJheGpOU4YX-"
      },
      "execution_count": null,
      "outputs": []
    },
    {
      "cell_type": "code",
      "source": [
        ""
      ],
      "metadata": {
        "id": "FxtgtUDT-1L5"
      },
      "execution_count": null,
      "outputs": []
    },
    {
      "cell_type": "code",
      "source": [
        ""
      ],
      "metadata": {
        "id": "tVgNIYfs5qib"
      },
      "execution_count": null,
      "outputs": []
    },
    {
      "cell_type": "code",
      "source": [
        ""
      ],
      "metadata": {
        "id": "GjJqdWXl9wOq"
      },
      "execution_count": null,
      "outputs": []
    },
    {
      "cell_type": "code",
      "source": [
        ""
      ],
      "metadata": {
        "id": "eCvcfYxD8AkJ"
      },
      "execution_count": null,
      "outputs": []
    },
    {
      "cell_type": "code",
      "source": [
        ""
      ],
      "metadata": {
        "id": "9EuD6IyB56mh"
      },
      "execution_count": null,
      "outputs": []
    },
    {
      "cell_type": "code",
      "source": [
        ""
      ],
      "metadata": {
        "id": "18wd87aI8iqG"
      },
      "execution_count": null,
      "outputs": []
    },
    {
      "cell_type": "code",
      "source": [
        ""
      ],
      "metadata": {
        "id": "URafmhjJ80ei"
      },
      "execution_count": null,
      "outputs": []
    },
    {
      "cell_type": "code",
      "source": [
        ""
      ],
      "metadata": {
        "id": "6YzT-xQv-ZBe"
      },
      "execution_count": null,
      "outputs": []
    }
  ]
}