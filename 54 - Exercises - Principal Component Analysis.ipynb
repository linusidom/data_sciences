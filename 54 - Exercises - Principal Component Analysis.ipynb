{
 "cells": [
  {
   "cell_type": "markdown",
   "id": "93442aac",
   "metadata": {},
   "source": [
    "# Principal Component Analysis Exercises\n",
    "\n",
    "Classification Data set\n",
    "\n",
    "https://www.kaggle.com/datasets/praveengovi/credit-risk-classification-dataset"
   ]
  },
  {
   "cell_type": "code",
   "execution_count": 143,
   "id": "28d0ad21",
   "metadata": {},
   "outputs": [],
   "source": [
    "# Import the necessary libraries\n",
    "# Pandas, Numpy, Seaborn, plotly, matplotlib\n",
    "# SKLearn - MinMaxScaler, PCA\n",
    "# Optionally - LogisiticRegression, KMeans\n",
    "\n",
    "\n",
    "\n",
    "\n",
    "\n",
    "\n",
    "# Type your code above this line"
   ]
  },
  {
   "cell_type": "code",
   "execution_count": 1,
   "id": "49b4d310",
   "metadata": {},
   "outputs": [],
   "source": [
    "# Let's create a dataframe for the customer_data.csv file and drop the 'id' column\n",
    "\n",
    "\n",
    "\n",
    "\n",
    "# Type your code above this line"
   ]
  },
  {
   "cell_type": "code",
   "execution_count": 2,
   "id": "a2b3574d",
   "metadata": {},
   "outputs": [],
   "source": [
    "# What is the size of the dataframe\n",
    "\n",
    "\n",
    "\n",
    "\n",
    "\n",
    "# Type your code above this line"
   ]
  },
  {
   "cell_type": "code",
   "execution_count": 3,
   "id": "d6319a55",
   "metadata": {},
   "outputs": [],
   "source": [
    "# Fix any Nan Values with the interpolate method\n",
    "\n",
    "\n",
    "\n",
    "\n",
    "\n",
    "# Type your code above this line"
   ]
  },
  {
   "cell_type": "code",
   "execution_count": 4,
   "id": "156be490",
   "metadata": {},
   "outputs": [],
   "source": [
    "# Create a Pair Plot of the dataframe with the label as the hue\n",
    "\n",
    "\n",
    "\n",
    "\n",
    "\n",
    "# Type your code above this line"
   ]
  },
  {
   "cell_type": "code",
   "execution_count": 5,
   "id": "6f50d1dc",
   "metadata": {},
   "outputs": [],
   "source": [
    "# Create an X value and apply minmaxScaler to the X values\n",
    "\n",
    "\n",
    "\n",
    "\n",
    "\n",
    "\n",
    "\n",
    "\n",
    "\n",
    "\n",
    "# Type your code above this line"
   ]
  },
  {
   "cell_type": "code",
   "execution_count": 6,
   "id": "34c97a0d",
   "metadata": {},
   "outputs": [],
   "source": [
    "# Instantiate our PCA component and fit our model, start with 5 components\n",
    "\n",
    "\n",
    "\n",
    "# Type your code above this line"
   ]
  },
  {
   "cell_type": "code",
   "execution_count": 7,
   "id": "641b78e1",
   "metadata": {},
   "outputs": [],
   "source": [
    "# What are the feature names in the model created?\n",
    "\n",
    "\n",
    "\n",
    "\n",
    "\n",
    "\n",
    "# Type your code above this line"
   ]
  },
  {
   "cell_type": "code",
   "execution_count": 8,
   "id": "2ab55f50",
   "metadata": {},
   "outputs": [],
   "source": [
    "# What are the components of the model?\n",
    "\n",
    "\n",
    "\n",
    "\n",
    "\n",
    "# Type your code above this line"
   ]
  },
  {
   "cell_type": "code",
   "execution_count": 9,
   "id": "6d4683d9",
   "metadata": {},
   "outputs": [],
   "source": [
    "# Create a dataframe from the model components\n",
    "\n",
    "\n",
    "\n",
    "\n",
    "\n",
    "# Type your code above this line"
   ]
  },
  {
   "cell_type": "code",
   "execution_count": 10,
   "id": "5b6f2f52",
   "metadata": {},
   "outputs": [],
   "source": [
    "# Create an SNS Heatmap for these components and get an idea of where they came from\n",
    "\n",
    "\n",
    "\n",
    "\n",
    "\n",
    "# Type your code above this line"
   ]
  },
  {
   "cell_type": "code",
   "execution_count": 11,
   "id": "916bb9e8",
   "metadata": {},
   "outputs": [],
   "source": [
    "# Create a Cluster map to see what components might actually have a relationship\n",
    "\n",
    "\n",
    "\n",
    "\n",
    "\n",
    "\n",
    "\n",
    "# Type your code above this line"
   ]
  },
  {
   "cell_type": "code",
   "execution_count": 12,
   "id": "71101cb5",
   "metadata": {},
   "outputs": [],
   "source": [
    "# Plot the Model explained variance in a bar plot\n",
    "# How many features are important in this dataset?\n",
    "\n",
    "\n",
    "\n",
    "\n",
    "\n",
    "\n",
    "\n",
    "# Type your code above this line"
   ]
  },
  {
   "cell_type": "code",
   "execution_count": 13,
   "id": "7e43c721",
   "metadata": {},
   "outputs": [],
   "source": [
    "# Re-Run the PCA model with the number of components that are appropriate\n",
    "\n",
    "# and use the transform method to get the actual data, store the data in a variable called model_output\n",
    "\n",
    "\n",
    "\n",
    "\n",
    "\n",
    "# Type your code above this line"
   ]
  },
  {
   "cell_type": "code",
   "execution_count": 14,
   "id": "e42b322b",
   "metadata": {},
   "outputs": [],
   "source": [
    "# What does the data in model output look like?\n",
    "\n",
    "\n",
    "\n",
    "\n",
    "\n",
    "\n",
    "# Type your code above this line"
   ]
  },
  {
   "cell_type": "code",
   "execution_count": 15,
   "id": "59bf63ff",
   "metadata": {},
   "outputs": [],
   "source": [
    "# Create a dataframe called df_output from model_output\n",
    "# Call the columns col1 and col2\n",
    "\n",
    "\n",
    "\n",
    "\n",
    "\n",
    "\n",
    "# Type your code above this line"
   ]
  },
  {
   "cell_type": "code",
   "execution_count": 16,
   "id": "f2c4f73c",
   "metadata": {},
   "outputs": [],
   "source": [
    "# What is the size of df_output compared to the original df\n",
    "\n",
    "\n",
    "\n",
    "\n",
    "\n",
    "\n",
    "\n",
    "# Type your code above this line"
   ]
  },
  {
   "cell_type": "markdown",
   "id": "b9cd0632",
   "metadata": {},
   "source": [
    "###### Bonus"
   ]
  },
  {
   "cell_type": "code",
   "execution_count": 17,
   "id": "5dfb5fdb",
   "metadata": {},
   "outputs": [],
   "source": [
    "# Add the labels of the original dataframe to the df_output dataframe\n",
    "\n",
    "\n",
    "\n",
    "\n",
    "\n",
    "\n",
    "\n",
    "# Type your code above this line"
   ]
  },
  {
   "cell_type": "code",
   "execution_count": 18,
   "id": "563da9c3",
   "metadata": {},
   "outputs": [],
   "source": [
    "# Compare between Logistic Regression with the original DataFrame and this one\n",
    "# Train Test and split the data on the Original Dataframe\n",
    "\n",
    "\n",
    "\n",
    "\n",
    "\n",
    "\n",
    "\n",
    "# Type your code above this line"
   ]
  },
  {
   "cell_type": "code",
   "execution_count": 19,
   "id": "37c69c8f",
   "metadata": {},
   "outputs": [],
   "source": [
    "# Use Pipeline with LogisticRegression and MinMaxScaler\n",
    "# Create the pipe, fit, predict and evaluate the pipe results\n",
    "\n",
    "\n",
    "\n",
    "\n",
    "\n",
    "\n",
    "\n",
    "\n",
    "# Type your code above this line"
   ]
  },
  {
   "cell_type": "code",
   "execution_count": 182,
   "id": "2b5d5cc4",
   "metadata": {},
   "outputs": [],
   "source": [
    "# Train Test and split the data on the df_output\n",
    "\n",
    "\n",
    "\n",
    "\n",
    "\n",
    "\n",
    "\n",
    "\n",
    "# Type your code above this line"
   ]
  },
  {
   "cell_type": "code",
   "execution_count": 20,
   "id": "17939b76",
   "metadata": {},
   "outputs": [],
   "source": [
    "# Use Pipeline with LogisticRegression and MinMaxScaler\n",
    "# Create the pipe, fit, predict and evaluate the pipe results\n",
    "\n",
    "\n",
    "\n",
    "\n",
    "\n",
    "\n",
    "# Type your code above this line"
   ]
  },
  {
   "cell_type": "code",
   "execution_count": 21,
   "id": "6e821b6e",
   "metadata": {},
   "outputs": [],
   "source": [
    "# Compare with KMeans\n",
    "# Create an X value from df_output\n",
    "# No y value needed\n",
    "\n",
    "\n",
    "\n",
    "\n",
    "\n",
    "\n",
    "# Type your code above this line"
   ]
  },
  {
   "cell_type": "code",
   "execution_count": 22,
   "id": "cc6a9ea2",
   "metadata": {},
   "outputs": [],
   "source": [
    "# Find the Ideal K value from the dataset\n",
    "\n",
    "\n",
    "\n",
    "\n",
    "\n",
    "\n",
    "\n",
    "# Type your code above this line"
   ]
  },
  {
   "cell_type": "code",
   "execution_count": 23,
   "id": "ff91782b",
   "metadata": {},
   "outputs": [],
   "source": [
    "# Graph the output to find the best K value\n",
    "\n",
    "\n",
    "\n",
    "\n",
    "# Type your code above this line"
   ]
  },
  {
   "cell_type": "code",
   "execution_count": 24,
   "id": "62059deb",
   "metadata": {},
   "outputs": [],
   "source": [
    "# Re-Run the KMeans model with the approximated K value\n",
    "\n",
    "\n",
    "\n",
    "\n",
    "\n",
    "\n",
    "# Type your code above this line"
   ]
  },
  {
   "cell_type": "code",
   "execution_count": 25,
   "id": "363697f2",
   "metadata": {},
   "outputs": [],
   "source": [
    "# Graph the data and the clusters from the model on a scatterplot\n",
    "\n",
    "\n",
    "\n",
    "\n",
    "\n",
    "# Type your code above this line"
   ]
  },
  {
   "cell_type": "code",
   "execution_count": null,
   "id": "50a60025",
   "metadata": {},
   "outputs": [],
   "source": []
  },
  {
   "cell_type": "code",
   "execution_count": null,
   "id": "8b7019ad",
   "metadata": {},
   "outputs": [],
   "source": []
  },
  {
   "cell_type": "code",
   "execution_count": null,
   "id": "48d0f2ee",
   "metadata": {},
   "outputs": [],
   "source": []
  },
  {
   "cell_type": "code",
   "execution_count": null,
   "id": "23f29d1c",
   "metadata": {},
   "outputs": [],
   "source": []
  },
  {
   "cell_type": "code",
   "execution_count": null,
   "id": "1b40e1b1",
   "metadata": {},
   "outputs": [],
   "source": []
  },
  {
   "cell_type": "code",
   "execution_count": null,
   "id": "e499bf48",
   "metadata": {},
   "outputs": [],
   "source": []
  },
  {
   "cell_type": "code",
   "execution_count": null,
   "id": "73f2ccf4",
   "metadata": {},
   "outputs": [],
   "source": []
  },
  {
   "cell_type": "code",
   "execution_count": null,
   "id": "626ead1d",
   "metadata": {},
   "outputs": [],
   "source": []
  },
  {
   "cell_type": "code",
   "execution_count": null,
   "id": "a1e6378c",
   "metadata": {},
   "outputs": [],
   "source": []
  },
  {
   "cell_type": "code",
   "execution_count": null,
   "id": "bbffed2a",
   "metadata": {},
   "outputs": [],
   "source": []
  },
  {
   "cell_type": "code",
   "execution_count": null,
   "id": "8103b670",
   "metadata": {},
   "outputs": [],
   "source": []
  }
 ],
 "metadata": {
  "kernelspec": {
   "display_name": "Python 3 (ipykernel)",
   "language": "python",
   "name": "python3"
  },
  "language_info": {
   "codemirror_mode": {
    "name": "ipython",
    "version": 3
   },
   "file_extension": ".py",
   "mimetype": "text/x-python",
   "name": "python",
   "nbconvert_exporter": "python",
   "pygments_lexer": "ipython3",
   "version": "3.9.12"
  }
 },
 "nbformat": 4,
 "nbformat_minor": 5
}
