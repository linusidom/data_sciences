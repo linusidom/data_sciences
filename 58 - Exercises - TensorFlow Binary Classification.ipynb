{
 "cells": [
  {
   "cell_type": "markdown",
   "metadata": {
    "id": "91hIPnD3nA3l"
   },
   "source": [
    "# TensorFlow Classification - Exercises\n",
    "\n",
    "Classification Test Set (Titanic Data Set)\n",
    "\n",
    "https://www.kaggle.com/datasets/brendan45774/test-file"
   ]
  },
  {
   "cell_type": "code",
   "execution_count": 71,
   "metadata": {
    "id": "P4jmK-ISpWzP"
   },
   "outputs": [],
   "source": [
    "# Import the necessary libraries\n",
    "\n",
    "\n",
    "\n",
    "\n",
    "\n",
    "\n",
    "# Type your code above this line"
   ]
  },
  {
   "cell_type": "markdown",
   "metadata": {
    "id": "HQ2AWVKzs2R0"
   },
   "source": [
    "### Load data and create DataFrame"
   ]
  },
  {
   "cell_type": "code",
   "execution_count": 61,
   "metadata": {
    "id": "eVf04f96p11h"
   },
   "outputs": [],
   "source": []
  },
  {
   "cell_type": "code",
   "execution_count": 62,
   "metadata": {
    "id": "4ttx2cTeqL0i"
   },
   "outputs": [],
   "source": []
  },
  {
   "cell_type": "code",
   "execution_count": 63,
   "metadata": {
    "id": "byhaugMdqOrz"
   },
   "outputs": [],
   "source": []
  },
  {
   "cell_type": "markdown",
   "metadata": {
    "colab": {
     "base_uri": "https://localhost:8080/",
     "height": 522
    },
    "id": "2nRuIjK5qUjb",
    "outputId": "eaf2bbdd-7863-423c-ce27-6b2ea6e4b0ee"
   },
   "source": [
    "### Data Cleanup\n",
    "\n",
    "Fill in all the NA's of the age column\n",
    "- Avg age of NA's in Class1: 41\n",
    "- Avg age of NA's in Class2: 29\n",
    "- Avg age of NA's in Class3: 24\n",
    "\n",
    "Fill in the value for the missing fare: 12.46\n",
    "\n",
    "OneHotEncode (get_dummies)\n",
    "- Embarked\n",
    "- Pclass\n",
    "\n",
    "Drop the unnecessary colums\n",
    "- Pclass, Embarked, Name, Cabin, Sex, Fare, PassengerID"
   ]
  },
  {
   "cell_type": "code",
   "execution_count": null,
   "metadata": {
    "colab": {
     "base_uri": "https://localhost:8080/",
     "height": 428
    },
    "id": "yejKuVGb9F9G",
    "outputId": "c7688a7d-ac65-40f5-dc82-f3d4f34a018c"
   },
   "outputs": [],
   "source": []
  },
  {
   "cell_type": "markdown",
   "metadata": {
    "id": "E14rdgGysErG"
   },
   "source": [
    "### Train Test Split and Scale"
   ]
  },
  {
   "cell_type": "code",
   "execution_count": 66,
   "metadata": {
    "id": "vwzmzFBBqU4_"
   },
   "outputs": [],
   "source": []
  },
  {
   "cell_type": "code",
   "execution_count": 67,
   "metadata": {
    "id": "fkOk2zgzqlGd"
   },
   "outputs": [],
   "source": []
  },
  {
   "cell_type": "code",
   "execution_count": null,
   "metadata": {
    "colab": {
     "base_uri": "https://localhost:8080/"
    },
    "id": "_dr9z5znsIPf",
    "outputId": "f7df5ea7-2057-4abf-fed5-71cab23bc0ef"
   },
   "outputs": [],
   "source": []
  },
  {
   "cell_type": "markdown",
   "metadata": {
    "id": "F6kttZh7sIGW"
   },
   "source": [
    "### TensorBoard Configuration"
   ]
  },
  {
   "cell_type": "code",
   "execution_count": 72,
   "metadata": {
    "id": "hVaDggdcsHd-"
   },
   "outputs": [],
   "source": []
  },
  {
   "cell_type": "markdown",
   "metadata": {
    "id": "Nop2Px4VrnCE"
   },
   "source": [
    "### Build Model\n",
    "\n",
    "3 Hidden Layers\n",
    "- Activation **relu**\n",
    "- 128 Units per layer\n",
    "\n",
    "Compiler\n",
    "- Optimizer: Adam\n",
    "- Loss: binary_crossentropy\n",
    "- Metric: accuracy\n",
    "\n",
    "Callbacks\n",
    "- TensorBoard\n",
    "- EarlyStopping"
   ]
  },
  {
   "cell_type": "code",
   "execution_count": null,
   "metadata": {
    "colab": {
     "base_uri": "https://localhost:8080/"
    },
    "id": "X6VB5ih5qr-2",
    "outputId": "544d3d9b-94a3-4025-a9c8-8ecfd2d649b9"
   },
   "outputs": [],
   "source": []
  },
  {
   "cell_type": "code",
   "execution_count": null,
   "metadata": {
    "colab": {
     "base_uri": "https://localhost:8080/",
     "height": 282
    },
    "id": "stX-7FMSrBDR",
    "outputId": "b5b6d507-389c-44ad-f5f0-c8d6adb0b1ce"
   },
   "outputs": [],
   "source": []
  },
  {
   "cell_type": "code",
   "execution_count": null,
   "metadata": {
    "id": "BPGhp1O2rVxQ"
   },
   "outputs": [],
   "source": []
  },
  {
   "cell_type": "markdown",
   "metadata": {
    "id": "EcH0SIWHrjsU"
   },
   "source": [
    "### Model 2 - Add Dropout - Prevent Overfitting\n",
    "\n",
    "Add a dropout layer after every Hidden Dense Layer\n",
    "\n"
   ]
  },
  {
   "cell_type": "code",
   "execution_count": null,
   "metadata": {
    "colab": {
     "base_uri": "https://localhost:8080/"
    },
    "id": "D0vT_PShrc1i",
    "outputId": "6ec9575e-eb5f-4c07-dd45-7b42a74bb0e8"
   },
   "outputs": [],
   "source": []
  },
  {
   "cell_type": "code",
   "execution_count": null,
   "metadata": {
    "colab": {
     "base_uri": "https://localhost:8080/",
     "height": 282
    },
    "id": "MdWH0o4ztGbd",
    "outputId": "d859a644-345e-4fcb-e4b7-6067a7ef0b8c"
   },
   "outputs": [],
   "source": []
  },
  {
   "cell_type": "markdown",
   "metadata": {
    "id": "1j1vE4l4trj4"
   },
   "source": [
    "### Model 3 - Reduce the Units - Reduce Units\n",
    "\n",
    "Reduce the number of units to 8 for each Hidden Layer"
   ]
  },
  {
   "cell_type": "code",
   "execution_count": null,
   "metadata": {
    "colab": {
     "base_uri": "https://localhost:8080/"
    },
    "id": "yBxasuKKtLiM",
    "outputId": "a09cabfe-488b-4c1f-a54b-e4cabf6bb71c"
   },
   "outputs": [],
   "source": []
  },
  {
   "cell_type": "code",
   "execution_count": null,
   "metadata": {
    "colab": {
     "base_uri": "https://localhost:8080/",
     "height": 282
    },
    "id": "HIDnVtN_tgPe",
    "outputId": "24eb2245-b129-466f-e10a-bfe5a0b3149b"
   },
   "outputs": [],
   "source": []
  },
  {
   "cell_type": "markdown",
   "metadata": {
    "id": "yTr0fDy8tlxn"
   },
   "source": [
    "### Predictions\n",
    "\n",
    "Comapre the 3 models accuracy rates\n",
    "\n",
    "Run predictions on the best one\n",
    "\n",
    "Change the prediction values to be 0 or 1 instead of float values"
   ]
  },
  {
   "cell_type": "code",
   "execution_count": null,
   "metadata": {
    "colab": {
     "base_uri": "https://localhost:8080/"
    },
    "id": "xlmBPIFOt1pJ",
    "outputId": "bb2fa461-4d16-49ac-8860-7c5186badf10"
   },
   "outputs": [],
   "source": []
  },
  {
   "cell_type": "code",
   "execution_count": null,
   "metadata": {
    "colab": {
     "base_uri": "https://localhost:8080/"
    },
    "id": "g0GHMjHMt5dp",
    "outputId": "11fff130-ab23-4a52-9c2e-ff992f9424bc"
   },
   "outputs": [],
   "source": []
  },
  {
   "cell_type": "code",
   "execution_count": null,
   "metadata": {
    "colab": {
     "base_uri": "https://localhost:8080/"
    },
    "id": "rKs-iVveuAGC",
    "outputId": "c549919b-eedf-4aa1-845c-f192f3cbd22d"
   },
   "outputs": [],
   "source": []
  },
  {
   "cell_type": "code",
   "execution_count": 86,
   "metadata": {
    "id": "85lDNPezuBoK"
   },
   "outputs": [],
   "source": []
  },
  {
   "cell_type": "code",
   "execution_count": null,
   "metadata": {
    "colab": {
     "base_uri": "https://localhost:8080/"
    },
    "id": "kzFfP8wEuP4j",
    "outputId": "c7272dfb-e216-4bf2-b433-b5475a622f56"
   },
   "outputs": [],
   "source": []
  },
  {
   "cell_type": "code",
   "execution_count": null,
   "metadata": {
    "colab": {
     "base_uri": "https://localhost:8080/"
    },
    "id": "IyjDIGbfB0ws",
    "outputId": "3aeed577-3fad-4b3c-a9b4-014628c5af03"
   },
   "outputs": [],
   "source": []
  },
  {
   "cell_type": "code",
   "execution_count": null,
   "metadata": {
    "colab": {
     "base_uri": "https://localhost:8080/"
    },
    "id": "sHVbexkiB077",
    "outputId": "a27ab2e8-f847-470c-ce01-5a24a827d439"
   },
   "outputs": [],
   "source": []
  },
  {
   "cell_type": "code",
   "execution_count": null,
   "metadata": {
    "colab": {
     "base_uri": "https://localhost:8080/"
    },
    "id": "OrD7Ibn-B1Fz",
    "outputId": "0da98034-5cbf-42a2-81bb-efa2e699ee82"
   },
   "outputs": [],
   "source": []
  },
  {
   "cell_type": "code",
   "execution_count": null,
   "metadata": {
    "id": "kDt-RoESB1OT"
   },
   "outputs": [],
   "source": []
  },
  {
   "cell_type": "code",
   "execution_count": null,
   "metadata": {
    "id": "2Rh9660LB1Wj"
   },
   "outputs": [],
   "source": []
  },
  {
   "cell_type": "markdown",
   "metadata": {
    "id": "whCccM400O9p"
   },
   "source": [
    "### Tensorboard\n",
    "\n",
    "Upload Data to Google TensorBoard\n",
    "- Requires auth with Google account\n",
    "- Will be public for everyone to see\n",
    "- Do not upload private or sensitive data\n",
    "\n",
    "Delete your Tensorboard before closing the notebook"
   ]
  },
  {
   "cell_type": "code",
   "execution_count": null,
   "metadata": {
    "colab": {
     "base_uri": "https://localhost:8080/"
    },
    "id": "QSUWdWQtuS3s",
    "outputId": "8b522e31-e07f-4914-fc70-44c34e175fd6"
   },
   "outputs": [],
   "source": []
  },
  {
   "cell_type": "code",
   "execution_count": null,
   "metadata": {
    "colab": {
     "base_uri": "https://localhost:8080/"
    },
    "id": "E7XyEBrjunel",
    "outputId": "10b17c89-97dc-48b4-be4c-90adc29a07a5"
   },
   "outputs": [],
   "source": []
  },
  {
   "cell_type": "code",
   "execution_count": null,
   "metadata": {
    "colab": {
     "base_uri": "https://localhost:8080/"
    },
    "id": "HFi_IIp-xTvv",
    "outputId": "fe99f8d6-6c9b-464d-93da-39a6ebe6b69b"
   },
   "outputs": [],
   "source": []
  },
  {
   "cell_type": "code",
   "execution_count": null,
   "metadata": {
    "colab": {
     "base_uri": "https://localhost:8080/"
    },
    "id": "qyTo2S3Ox8Ui",
    "outputId": "ef3675fa-5fb3-4b99-bd6e-65b2d60a02b0"
   },
   "outputs": [],
   "source": []
  },
  {
   "cell_type": "code",
   "execution_count": null,
   "metadata": {
    "id": "KJqPrZD1yEvS"
   },
   "outputs": [],
   "source": []
  },
  {
   "cell_type": "code",
   "execution_count": null,
   "metadata": {
    "id": "_7B_8pxTy93b"
   },
   "outputs": [],
   "source": []
  },
  {
   "cell_type": "code",
   "execution_count": null,
   "metadata": {
    "id": "SgKJloegzIRZ"
   },
   "outputs": [],
   "source": []
  },
  {
   "cell_type": "code",
   "execution_count": null,
   "metadata": {
    "id": "BZe0r5oszRly"
   },
   "outputs": [],
   "source": []
  }
 ],
 "metadata": {
  "colab": {
   "collapsed_sections": [],
   "name": "57 - TensorFlow Binary Classification.ipynb",
   "provenance": []
  },
  "kernelspec": {
   "display_name": "Python 3 (ipykernel)",
   "language": "python",
   "name": "python3"
  },
  "language_info": {
   "codemirror_mode": {
    "name": "ipython",
    "version": 3
   },
   "file_extension": ".py",
   "mimetype": "text/x-python",
   "name": "python",
   "nbconvert_exporter": "python",
   "pygments_lexer": "ipython3",
   "version": "3.9.12"
  }
 },
 "nbformat": 4,
 "nbformat_minor": 1
}
