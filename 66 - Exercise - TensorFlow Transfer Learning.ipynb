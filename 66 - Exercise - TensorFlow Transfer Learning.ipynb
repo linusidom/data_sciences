{
 "cells": [
  {
   "cell_type": "markdown",
   "metadata": {
    "id": "0c_WUmPgUVK3"
   },
   "source": [
    "# TensorFlow Transfer Learning - Exercises\n",
    "\n",
    "Dataset:\n",
    "\n",
    "- https://www.kaggle.com/datasets/gpiosenka/balls-image-classification"
   ]
  },
  {
   "cell_type": "markdown",
   "metadata": {
    "id": "Zz5CBVhBu5ZY"
   },
   "source": [
    "### Import Libraries\n",
    "\n",
    "- Import VGG16"
   ]
  },
  {
   "cell_type": "code",
   "execution_count": null,
   "metadata": {
    "id": "UvtiwQ3oVHAV"
   },
   "outputs": [],
   "source": []
  },
  {
   "cell_type": "markdown",
   "metadata": {},
   "source": [
    "### Enable Mixed Precision\n",
    "\n",
    "- Ensure a capable GPU is attached to the Google Colab Workbook"
   ]
  },
  {
   "cell_type": "code",
   "execution_count": null,
   "metadata": {
    "colab": {
     "base_uri": "https://localhost:8080/"
    },
    "id": "NU_e5Dx9YdZf",
    "outputId": "009a01cc-4f43-4ab9-cad8-3fee33986a0c"
   },
   "outputs": [],
   "source": []
  },
  {
   "cell_type": "code",
   "execution_count": null,
   "metadata": {
    "colab": {
     "base_uri": "https://localhost:8080/"
    },
    "id": "3CLzyTd4GeUD",
    "outputId": "f67e4410-78f1-4328-ba0d-a705cd26688c"
   },
   "outputs": [],
   "source": []
  },
  {
   "cell_type": "markdown",
   "metadata": {
    "id": "JZ7JRjaDu71Q"
   },
   "source": [
    "### Connect Colab to Kaggle and Get Dataset\n",
    "\n",
    "- Download and unzip the Dataset\n",
    "\n",
    "- https://stackoverflow.com/questions/56816537/cant-find-kaggle-json-file-in-google-colab"
   ]
  },
  {
   "cell_type": "code",
   "execution_count": null,
   "metadata": {
    "id": "m61ZblF8Y-mY"
   },
   "outputs": [],
   "source": []
  },
  {
   "cell_type": "code",
   "execution_count": null,
   "metadata": {
    "colab": {
     "base_uri": "https://localhost:8080/"
    },
    "id": "Ryw4Cg7dZAzQ",
    "outputId": "75658b08-e69f-489a-e27f-44f6e41c6439"
   },
   "outputs": [],
   "source": []
  },
  {
   "cell_type": "code",
   "execution_count": null,
   "metadata": {
    "id": "j7AGm-XsZEqM"
   },
   "outputs": [],
   "source": []
  },
  {
   "cell_type": "code",
   "execution_count": null,
   "metadata": {
    "id": "-73JOEGXZOJ3"
   },
   "outputs": [],
   "source": []
  },
  {
   "cell_type": "markdown",
   "metadata": {
    "id": "X4aRAep0vETe"
   },
   "source": [
    "### Explore the Data\n",
    "\n",
    "- How many images?\n",
    "- What is the size of the images?\n",
    "- What percent do we need to be above?"
   ]
  },
  {
   "cell_type": "code",
   "execution_count": null,
   "metadata": {
    "colab": {
     "base_uri": "https://localhost:8080/"
    },
    "id": "7ooHjxLxvkmi",
    "outputId": "36a7a5c8-4bbb-49bc-cb29-12577b1b9ff9"
   },
   "outputs": [],
   "source": []
  },
  {
   "cell_type": "code",
   "execution_count": null,
   "metadata": {
    "colab": {
     "base_uri": "https://localhost:8080/"
    },
    "id": "-AZ8okkUvkep",
    "outputId": "5938afcb-0a6d-478f-e339-773c521b8c3c"
   },
   "outputs": [],
   "source": []
  },
  {
   "cell_type": "code",
   "execution_count": null,
   "metadata": {
    "colab": {
     "base_uri": "https://localhost:8080/"
    },
    "id": "NozsdThfvkWB",
    "outputId": "470c8d99-248d-4dea-dcda-29dc799ae12f"
   },
   "outputs": [],
   "source": []
  },
  {
   "cell_type": "code",
   "execution_count": null,
   "metadata": {
    "colab": {
     "base_uri": "https://localhost:8080/",
     "height": 304
    },
    "id": "mizmvDwivj_Z",
    "outputId": "260b0b3c-4941-4149-8ac6-22860ef39674"
   },
   "outputs": [],
   "source": []
  },
  {
   "cell_type": "code",
   "execution_count": null,
   "metadata": {
    "id": "BhvvOW04vlcZ"
   },
   "outputs": [],
   "source": []
  },
  {
   "cell_type": "code",
   "execution_count": null,
   "metadata": {
    "id": "jc-JvQi3vlU5"
   },
   "outputs": [],
   "source": []
  },
  {
   "cell_type": "markdown",
   "metadata": {
    "id": "2NVGoo_7vjuq"
   },
   "source": [
    "### Noramlize and Batch the Data\n",
    "\n",
    "- Use image_dataset_from_directory\n",
    "- Get the class_names from test_data\n",
    "- Enable Prefetching and Caching on the datasets"
   ]
  },
  {
   "cell_type": "code",
   "execution_count": null,
   "metadata": {
    "colab": {
     "base_uri": "https://localhost:8080/"
    },
    "id": "_Ox7mmCqZh8n",
    "outputId": "d13dc155-9d2b-4c9b-914c-a68118c350c9"
   },
   "outputs": [],
   "source": []
  },
  {
   "cell_type": "code",
   "execution_count": null,
   "metadata": {
    "id": "YOf7KPvqaqJf"
   },
   "outputs": [],
   "source": []
  },
  {
   "cell_type": "code",
   "execution_count": null,
   "metadata": {
    "colab": {
     "base_uri": "https://localhost:8080/"
    },
    "id": "5shDcOjc4KOi",
    "outputId": "094fedf4-ad84-4420-ddd2-0aaab4420698"
   },
   "outputs": [],
   "source": []
  },
  {
   "cell_type": "code",
   "execution_count": null,
   "metadata": {
    "colab": {
     "base_uri": "https://localhost:8080/",
     "height": 166
    },
    "id": "PNKtbcxP4tSC",
    "outputId": "6b150cb9-272d-4e07-afdf-e322eafd4567"
   },
   "outputs": [],
   "source": []
  },
  {
   "cell_type": "code",
   "execution_count": null,
   "metadata": {
    "id": "6GXO2oFM4ztJ"
   },
   "outputs": [],
   "source": []
  },
  {
   "cell_type": "code",
   "execution_count": null,
   "metadata": {
    "colab": {
     "base_uri": "https://localhost:8080/"
    },
    "id": "S0AR2rs25GAe",
    "outputId": "4d0709df-f8fb-4d54-96e0-4cb8d05ae7e8"
   },
   "outputs": [],
   "source": []
  },
  {
   "cell_type": "markdown",
   "metadata": {
    "id": "XuyCNmMk28Tn"
   },
   "source": [
    "### 1st Model - VGG16 Default\n",
    "\n",
    "- Create a model with VGG16 with Defaults\n",
    " - Add the Input Layesr \n",
    "- Add in the Dense Layer\n",
    "\n",
    "- Build the model and look at the summary\n",
    "\n",
    "- Train the Model"
   ]
  },
  {
   "cell_type": "code",
   "execution_count": null,
   "metadata": {
    "id": "ETckKfR5bZtE"
   },
   "outputs": [],
   "source": []
  },
  {
   "cell_type": "code",
   "execution_count": null,
   "metadata": {
    "colab": {
     "base_uri": "https://localhost:8080/"
    },
    "id": "JfMBMKo9YXNv",
    "outputId": "e0c73f92-02a8-462f-9a0c-c49213c53d92"
   },
   "outputs": [],
   "source": []
  },
  {
   "cell_type": "code",
   "execution_count": null,
   "metadata": {
    "colab": {
     "base_uri": "https://localhost:8080/"
    },
    "id": "6QdvWsgG60Tp",
    "outputId": "e0523531-197b-47ae-e9a2-8ffeb038aa8c"
   },
   "outputs": [],
   "source": []
  },
  {
   "cell_type": "code",
   "execution_count": null,
   "metadata": {
    "colab": {
     "base_uri": "https://localhost:8080/"
    },
    "id": "xYrvBr4w6V9a",
    "outputId": "960ba728-4c03-4048-f87b-0d13b4939df7"
   },
   "outputs": [],
   "source": []
  },
  {
   "cell_type": "code",
   "execution_count": null,
   "metadata": {
    "colab": {
     "base_uri": "https://localhost:8080/",
     "height": 282
    },
    "id": "gJ7a89pG8MkP",
    "outputId": "150491d4-b5d4-41b5-e41e-9d4b17d94a70"
   },
   "outputs": [],
   "source": []
  },
  {
   "cell_type": "markdown",
   "metadata": {
    "id": "COboGL853hQC"
   },
   "source": [
    "### 2nd Model - VGG16 Trainable False\n",
    "\n",
    "- Disable Training on all Layers\n",
    "\n",
    "- What is the difference in time between the first and second model?"
   ]
  },
  {
   "cell_type": "code",
   "execution_count": null,
   "metadata": {
    "colab": {
     "base_uri": "https://localhost:8080/"
    },
    "id": "YXHr-CxlYOBy",
    "outputId": "8eb1f644-9765-4ae3-a1e8-9b7f6168c471"
   },
   "outputs": [],
   "source": []
  },
  {
   "cell_type": "code",
   "execution_count": null,
   "metadata": {
    "colab": {
     "base_uri": "https://localhost:8080/"
    },
    "id": "meHZhUVNZpJr",
    "outputId": "aa647f82-1d19-48d6-f904-df30d9da71ca"
   },
   "outputs": [],
   "source": []
  },
  {
   "cell_type": "code",
   "execution_count": null,
   "metadata": {
    "colab": {
     "base_uri": "https://localhost:8080/",
     "height": 282
    },
    "id": "tT770wNtaMHO",
    "outputId": "11b1907c-6480-4f58-a2ee-aff42d9ece1a"
   },
   "outputs": [],
   "source": []
  },
  {
   "cell_type": "code",
   "execution_count": null,
   "metadata": {
    "id": "uVE2SCnYbTlO"
   },
   "outputs": [],
   "source": []
  },
  {
   "cell_type": "code",
   "execution_count": null,
   "metadata": {
    "id": "95qhUTdDayJA"
   },
   "outputs": [],
   "source": []
  },
  {
   "cell_type": "markdown",
   "metadata": {
    "id": "gBNf3c-I4AiE"
   },
   "source": [
    "### 3rd Model - VGG16 - Include Top False\n",
    "\n",
    "- Include Top: False\n",
    "- Have to specify Input Shape\n",
    "- Have to have some kind of pooling, either max or average\n",
    " - can change it in the model or add a layer\n",
    " - 'avg' is the default with include_top\n",
    "- Disable Training on all layers"
   ]
  },
  {
   "cell_type": "code",
   "execution_count": null,
   "metadata": {
    "colab": {
     "base_uri": "https://localhost:8080/"
    },
    "id": "GvEjkdY2bXuH",
    "outputId": "785ff9c4-b1c8-4ded-9862-3135a6baff64"
   },
   "outputs": [],
   "source": []
  },
  {
   "cell_type": "code",
   "execution_count": null,
   "metadata": {
    "colab": {
     "base_uri": "https://localhost:8080/"
    },
    "id": "eWdHp64xbw-i",
    "outputId": "96c45215-6116-4f43-ad91-778692c93599"
   },
   "outputs": [],
   "source": []
  },
  {
   "cell_type": "code",
   "execution_count": null,
   "metadata": {
    "colab": {
     "base_uri": "https://localhost:8080/"
    },
    "id": "ea_M-jnaBAxU",
    "outputId": "9362f20a-ea29-4bb9-b060-4bf13763c6e9"
   },
   "outputs": [],
   "source": []
  },
  {
   "cell_type": "code",
   "execution_count": null,
   "metadata": {
    "colab": {
     "base_uri": "https://localhost:8080/"
    },
    "id": "s9y1c2CUBMxU",
    "outputId": "594aceb5-9f73-4c95-e2b0-d937c5e8a36f"
   },
   "outputs": [],
   "source": []
  },
  {
   "cell_type": "code",
   "execution_count": null,
   "metadata": {
    "colab": {
     "base_uri": "https://localhost:8080/",
     "height": 282
    },
    "id": "dptSuPEVcnIx",
    "outputId": "d22dd8f6-5bba-45e8-dd65-6b8506d0f226"
   },
   "outputs": [],
   "source": []
  },
  {
   "cell_type": "code",
   "execution_count": null,
   "metadata": {
    "id": "T0Cv_ZfO0vMf"
   },
   "outputs": [],
   "source": []
  },
  {
   "cell_type": "markdown",
   "metadata": {
    "id": "h9BhwKcp4pJW"
   },
   "source": [
    "### 4th Model - VGG16 - Top False w/ Extra Dense Layer\n",
    "\n",
    "- Add an extra Dense layer with 1000 units before the output layer"
   ]
  },
  {
   "cell_type": "code",
   "execution_count": null,
   "metadata": {
    "colab": {
     "base_uri": "https://localhost:8080/"
    },
    "id": "2xpu0HfI2fbm",
    "outputId": "1fdfb648-99ae-4399-fbd3-c307ae503756"
   },
   "outputs": [],
   "source": []
  },
  {
   "cell_type": "code",
   "execution_count": null,
   "metadata": {
    "colab": {
     "base_uri": "https://localhost:8080/"
    },
    "id": "loa5hTkCCbk3",
    "outputId": "41a39f29-ee76-4045-d8f2-004856d987a6"
   },
   "outputs": [],
   "source": []
  },
  {
   "cell_type": "markdown",
   "metadata": {
    "id": "gk_Dug3o44pT"
   },
   "source": [
    "### Run evaluations and predictions\n",
    "\n",
    "- Use Model 4"
   ]
  },
  {
   "cell_type": "code",
   "execution_count": null,
   "metadata": {
    "colab": {
     "base_uri": "https://localhost:8080/"
    },
    "id": "lTckI_FR21sa",
    "outputId": "cc9ee136-deab-4966-b232-632a2994974d"
   },
   "outputs": [],
   "source": []
  },
  {
   "cell_type": "code",
   "execution_count": null,
   "metadata": {
    "colab": {
     "base_uri": "https://localhost:8080/"
    },
    "id": "8vk8DAV96-bx",
    "outputId": "70328272-2d35-4ac7-e9c6-ff7bea4c2620"
   },
   "outputs": [],
   "source": []
  },
  {
   "cell_type": "code",
   "execution_count": null,
   "metadata": {
    "id": "e9PAdytB8cqy"
   },
   "outputs": [],
   "source": []
  },
  {
   "cell_type": "code",
   "execution_count": null,
   "metadata": {
    "id": "s79ay8rqHssP"
   },
   "outputs": [],
   "source": []
  },
  {
   "cell_type": "code",
   "execution_count": null,
   "metadata": {
    "id": "rZDS-3wGHs3Q"
   },
   "outputs": [],
   "source": []
  },
  {
   "cell_type": "code",
   "execution_count": null,
   "metadata": {
    "id": "4arVXnmnHtBw"
   },
   "outputs": [],
   "source": []
  },
  {
   "cell_type": "code",
   "execution_count": null,
   "metadata": {
    "id": "dLOjEOoAHtM4"
   },
   "outputs": [],
   "source": []
  },
  {
   "cell_type": "code",
   "execution_count": null,
   "metadata": {
    "id": "2K77QO1fHtXC"
   },
   "outputs": [],
   "source": []
  }
 ],
 "metadata": {
  "accelerator": "GPU",
  "colab": {
   "name": "65 - TensorFlow Transfer Learning.ipynb",
   "provenance": []
  },
  "gpuClass": "standard",
  "kernelspec": {
   "display_name": "Python 3 (ipykernel)",
   "language": "python",
   "name": "python3"
  },
  "language_info": {
   "codemirror_mode": {
    "name": "ipython",
    "version": 3
   },
   "file_extension": ".py",
   "mimetype": "text/x-python",
   "name": "python",
   "nbconvert_exporter": "python",
   "pygments_lexer": "ipython3",
   "version": "3.9.12"
  }
 },
 "nbformat": 4,
 "nbformat_minor": 1
}
