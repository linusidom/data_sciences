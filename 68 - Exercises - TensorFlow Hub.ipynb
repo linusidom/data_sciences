{
 "cells": [
  {
   "cell_type": "markdown",
   "metadata": {
    "id": "LkgOSG2PyAYH"
   },
   "source": [
    "# TensorFlow Hub - Exercises\n",
    "\n",
    "Dataset:\n",
    "\n",
    "https://www.kaggle.com/datasets/puneet6060/intel-image-classification"
   ]
  },
  {
   "cell_type": "markdown",
   "metadata": {
    "id": "_-Oh5SIlyDcl"
   },
   "source": [
    "### Import the Libraries"
   ]
  },
  {
   "cell_type": "code",
   "execution_count": null,
   "metadata": {
    "id": "NmC6YnPiyIKN"
   },
   "outputs": [],
   "source": []
  },
  {
   "cell_type": "code",
   "execution_count": null,
   "metadata": {
    "id": "XvYd4GHXyITO"
   },
   "outputs": [],
   "source": []
  },
  {
   "cell_type": "markdown",
   "metadata": {
    "id": "PJENI8t8yIa3"
   },
   "source": [
    "### Connect to Kaggle, Download and unzip the dataset\n",
    "\n",
    "- Explore the data"
   ]
  },
  {
   "cell_type": "code",
   "execution_count": null,
   "metadata": {
    "id": "ZcbNEIh0yIhE"
   },
   "outputs": [],
   "source": []
  },
  {
   "cell_type": "code",
   "execution_count": null,
   "metadata": {
    "colab": {
     "base_uri": "https://localhost:8080/"
    },
    "id": "MFfUwbkFyIn8",
    "outputId": "ab7ed2d6-ce96-437c-b155-336a9ef47c5f"
   },
   "outputs": [],
   "source": []
  },
  {
   "cell_type": "code",
   "execution_count": null,
   "metadata": {
    "id": "Us6LZiwbyIul"
   },
   "outputs": [],
   "source": []
  },
  {
   "cell_type": "code",
   "execution_count": null,
   "metadata": {
    "colab": {
     "base_uri": "https://localhost:8080/"
    },
    "id": "PlPfqZY3yI08",
    "outputId": "67992d6b-c442-41ef-9a88-99aeb74e48a0"
   },
   "outputs": [],
   "source": []
  },
  {
   "cell_type": "code",
   "execution_count": null,
   "metadata": {
    "colab": {
     "base_uri": "https://localhost:8080/"
    },
    "id": "lldgK2_IyI6s",
    "outputId": "327fd981-5cb6-4a4c-a892-61d167935c44"
   },
   "outputs": [],
   "source": []
  },
  {
   "cell_type": "markdown",
   "metadata": {},
   "source": [
    "### Explore the Data\n",
    "\n",
    "- How many categories?\n",
    "- How many images per directory?\n",
    "- What is the size of the images?"
   ]
  },
  {
   "cell_type": "code",
   "execution_count": null,
   "metadata": {},
   "outputs": [],
   "source": []
  },
  {
   "cell_type": "code",
   "execution_count": null,
   "metadata": {},
   "outputs": [],
   "source": []
  },
  {
   "cell_type": "code",
   "execution_count": null,
   "metadata": {},
   "outputs": [],
   "source": []
  },
  {
   "cell_type": "code",
   "execution_count": null,
   "metadata": {
    "colab": {
     "base_uri": "https://localhost:8080/",
     "height": 304
    },
    "id": "2-D1kAK8yJAl",
    "outputId": "5672b2f7-6121-4198-9e77-bc84f56693c4"
   },
   "outputs": [],
   "source": []
  },
  {
   "cell_type": "markdown",
   "metadata": {
    "id": "nX9a_KdayJGM"
   },
   "source": [
    "### Batch and Normalize the Data\n",
    "\n",
    "- Create ImageDataGenetor train_data_ff and test_ff batches\n",
    "- Create image_dataset_from_directory train_img and test_img batches\n",
    "- Get the class_names and create a dictionary"
   ]
  },
  {
   "cell_type": "code",
   "execution_count": null,
   "metadata": {
    "id": "N-ky3rZ6yJL8"
   },
   "outputs": [],
   "source": []
  },
  {
   "cell_type": "code",
   "execution_count": null,
   "metadata": {
    "colab": {
     "base_uri": "https://localhost:8080/"
    },
    "id": "w8UCVGV2yJR0",
    "outputId": "8559f7b6-9369-4d17-c467-d64e37a38167"
   },
   "outputs": [],
   "source": []
  },
  {
   "cell_type": "code",
   "execution_count": null,
   "metadata": {
    "colab": {
     "base_uri": "https://localhost:8080/"
    },
    "id": "KcnL6FyByJXf",
    "outputId": "086266b6-dab4-404e-a059-e008fd1f66db"
   },
   "outputs": [],
   "source": []
  },
  {
   "cell_type": "code",
   "execution_count": null,
   "metadata": {
    "colab": {
     "base_uri": "https://localhost:8080/"
    },
    "id": "BgIk5iDcyJdU",
    "outputId": "c6103299-3f5a-486e-88d9-0a3308c3c811"
   },
   "outputs": [],
   "source": []
  },
  {
   "cell_type": "code",
   "execution_count": null,
   "metadata": {
    "colab": {
     "base_uri": "https://localhost:8080/"
    },
    "id": "1D0jyPGFyJjO",
    "outputId": "4d89e2e4-4585-44ff-aebc-4661446f9c46"
   },
   "outputs": [],
   "source": []
  },
  {
   "cell_type": "code",
   "execution_count": null,
   "metadata": {
    "id": "sJsD1FH5yJok"
   },
   "outputs": [],
   "source": []
  },
  {
   "cell_type": "code",
   "execution_count": null,
   "metadata": {
    "colab": {
     "base_uri": "https://localhost:8080/"
    },
    "id": "nEro_j8CyJuc",
    "outputId": "50b6c2d5-8127-4a37-e12e-dc6e10032572"
   },
   "outputs": [],
   "source": []
  },
  {
   "cell_type": "markdown",
   "metadata": {
    "id": "5jtPrifsyJzs"
   },
   "source": [
    "### Model 1 - Create a Model with EfficientNetB0 - ff\n",
    "\n",
    "- Setup the TFHub EfficientNetB0 Model\n",
    "- Get a summary of the model\n",
    "- Compile the model\n",
    "- Fit the model on the train_data_ff for 5 epochs"
   ]
  },
  {
   "cell_type": "code",
   "execution_count": null,
   "metadata": {
    "colab": {
     "base_uri": "https://localhost:8080/"
    },
    "id": "Cn1bcVdNyJ5V",
    "outputId": "f39284d1-897b-49c6-8b36-d00028f53ead"
   },
   "outputs": [],
   "source": []
  },
  {
   "cell_type": "code",
   "execution_count": null,
   "metadata": {
    "colab": {
     "base_uri": "https://localhost:8080/"
    },
    "id": "W3xjI9k2yJ-m",
    "outputId": "8e2f7ac0-4488-4ffc-80a9-003f6c915914"
   },
   "outputs": [],
   "source": []
  },
  {
   "cell_type": "code",
   "execution_count": null,
   "metadata": {},
   "outputs": [],
   "source": []
  },
  {
   "cell_type": "markdown",
   "metadata": {},
   "source": [
    "### Model 2 - Create a Model with EfficientNetB0 - img\n",
    "\n",
    "- Setup the TFHub EfficientNetB0 Model\n",
    "- Get a summary of the model\n",
    "- Compile the model\n",
    "- Fit the model on the train_data_img for 5 epochs"
   ]
  },
  {
   "cell_type": "code",
   "execution_count": null,
   "metadata": {},
   "outputs": [],
   "source": []
  },
  {
   "cell_type": "code",
   "execution_count": null,
   "metadata": {
    "colab": {
     "base_uri": "https://localhost:8080/"
    },
    "id": "8rCIMot0yKEc",
    "outputId": "378acaed-f4a4-4664-e4ba-5553a68d566a"
   },
   "outputs": [],
   "source": []
  },
  {
   "cell_type": "code",
   "execution_count": null,
   "metadata": {
    "id": "wMXS9aXAyKJU"
   },
   "outputs": [],
   "source": []
  },
  {
   "cell_type": "markdown",
   "metadata": {
    "id": "aKByHkXhyKO0"
   },
   "source": [
    "### Model 3 - EfficientNet Add A Rescaling Layer\n",
    "\n",
    "- Break out the KerasLayer and add it to the Sequential model\n",
    "- Add a Rescaling Layer between the Sequential Layer and the KerasLayer\n",
    "- Add a Fully connected Dense layer with 1000 units after the Keras Layer\n",
    "- Create the output Layer\n",
    "- Build the model and look at the summary\n",
    "- Compile and Fit the model on the train_data_img for 5 epochs"
   ]
  },
  {
   "cell_type": "code",
   "execution_count": null,
   "metadata": {
    "colab": {
     "base_uri": "https://localhost:8080/"
    },
    "id": "SGPXAcpVyKUM",
    "outputId": "157217e2-5ca9-4272-d1e5-8a30db40b942"
   },
   "outputs": [],
   "source": []
  },
  {
   "cell_type": "code",
   "execution_count": null,
   "metadata": {
    "colab": {
     "base_uri": "https://localhost:8080/"
    },
    "id": "yhcqFXycyKZk",
    "outputId": "29ab17c1-812e-4594-d655-75a06006ee94"
   },
   "outputs": [],
   "source": []
  },
  {
   "cell_type": "code",
   "execution_count": null,
   "metadata": {
    "colab": {
     "base_uri": "https://localhost:8080/"
    },
    "id": "yx-6lwvnyeWx",
    "outputId": "426bc880-08f9-4ff9-e405-60f1fe9e07ec"
   },
   "outputs": [],
   "source": []
  },
  {
   "cell_type": "code",
   "execution_count": null,
   "metadata": {
    "id": "yKwTBduEyebK"
   },
   "outputs": [],
   "source": []
  },
  {
   "cell_type": "markdown",
   "metadata": {
    "id": "jYkYRFxCyefM"
   },
   "source": [
    "### Model 4 - Create a Model with ResNet50V2\n",
    "\n",
    "- Setup the TFHub ResNet50V2 Model\n",
    "- Break out the KerasLayer and add it to the Sequential model\n",
    "- Add a Rescaling Layer between the Sequential Layer and the KerasLayer\n",
    "- Add a Fully connected Dense layer with 1000 units after the Keras Layer\n",
    "- Create the output Layer\n",
    "- Build the model and look at the summary\n",
    "- Compile and Fit the model on the train_data_img for 5 epochs"
   ]
  },
  {
   "cell_type": "code",
   "execution_count": null,
   "metadata": {
    "colab": {
     "base_uri": "https://localhost:8080/"
    },
    "id": "5WISnzkLyejJ",
    "outputId": "f47b0001-21f3-4bac-ba7f-d617fdf9cdfa"
   },
   "outputs": [],
   "source": []
  },
  {
   "cell_type": "code",
   "execution_count": null,
   "metadata": {
    "colab": {
     "base_uri": "https://localhost:8080/"
    },
    "id": "aOFLSMiPyemx",
    "outputId": "eff3a8c6-ce15-45a1-8598-66adb2386761"
   },
   "outputs": [],
   "source": []
  },
  {
   "cell_type": "code",
   "execution_count": null,
   "metadata": {
    "colab": {
     "base_uri": "https://localhost:8080/"
    },
    "id": "bcMWg7-gyeqS",
    "outputId": "7e7d4616-51d2-4c2a-9c09-95868cdc383c"
   },
   "outputs": [],
   "source": []
  },
  {
   "cell_type": "code",
   "execution_count": null,
   "metadata": {
    "id": "VXUsbLMvyet7"
   },
   "outputs": [],
   "source": []
  },
  {
   "cell_type": "code",
   "execution_count": null,
   "metadata": {
    "id": "hN9_UJ-SyexR"
   },
   "outputs": [],
   "source": []
  },
  {
   "cell_type": "markdown",
   "metadata": {
    "id": "7RnMqE9oye0p"
   },
   "source": [
    "### Model 5 - Create a Model with InceptionResNetV2\n",
    "\n",
    "- Setup the TFHub IncetpionsResNetV2 Model\n",
    "- Break out the KerasLayer and add it to the Sequential model\n",
    "- Add a Rescaling Layer between the Sequential Layer and the KerasLayer\n",
    "- Add a Fully connected Dense layer with 1000 units after the Keras Layer\n",
    "- Create the output Layer\n",
    "- Build the model and look at the summary\n",
    "- Compile and Fit the model on the train_data_img for 5 epochs"
   ]
  },
  {
   "cell_type": "code",
   "execution_count": null,
   "metadata": {
    "colab": {
     "base_uri": "https://localhost:8080/"
    },
    "id": "mNhhlj0Pye4B",
    "outputId": "371599cd-d5a7-4624-f54a-54f31c1a3068"
   },
   "outputs": [],
   "source": []
  },
  {
   "cell_type": "code",
   "execution_count": null,
   "metadata": {
    "colab": {
     "base_uri": "https://localhost:8080/"
    },
    "id": "QjBaAQ1Dye7W",
    "outputId": "c2962bd3-b3de-4b7b-d2b3-f2b685ce92cf"
   },
   "outputs": [],
   "source": []
  },
  {
   "cell_type": "code",
   "execution_count": null,
   "metadata": {
    "colab": {
     "base_uri": "https://localhost:8080/"
    },
    "id": "kaJVC6rTye-s",
    "outputId": "2724d06c-7e77-4086-d1fc-9693a406e15f"
   },
   "outputs": [],
   "source": []
  },
  {
   "cell_type": "code",
   "execution_count": null,
   "metadata": {
    "colab": {
     "base_uri": "https://localhost:8080/"
    },
    "id": "kVk6DYLCyfB5",
    "outputId": "803d0ab3-da0c-4b44-aca5-eaed8fb58124"
   },
   "outputs": [],
   "source": []
  },
  {
   "cell_type": "markdown",
   "metadata": {
    "id": "h-HpuES5yfFB"
   },
   "source": [
    "### Run predictions on Model (your choice)"
   ]
  },
  {
   "cell_type": "code",
   "execution_count": null,
   "metadata": {
    "id": "ejQBSeBhyfIR"
   },
   "outputs": [],
   "source": []
  },
  {
   "cell_type": "code",
   "execution_count": null,
   "metadata": {
    "id": "1Imb7ci3yfLp"
   },
   "outputs": [],
   "source": []
  },
  {
   "cell_type": "code",
   "execution_count": null,
   "metadata": {},
   "outputs": [],
   "source": []
  },
  {
   "cell_type": "code",
   "execution_count": null,
   "metadata": {},
   "outputs": [],
   "source": []
  },
  {
   "cell_type": "code",
   "execution_count": null,
   "metadata": {
    "id": "tqOEBht2yfOp"
   },
   "outputs": [],
   "source": []
  }
 ],
 "metadata": {
  "accelerator": "GPU",
  "colab": {
   "collapsed_sections": [],
   "name": "67 - Tensorflow Hub.ipynb",
   "provenance": []
  },
  "gpuClass": "standard",
  "kernelspec": {
   "display_name": "Python 3 (ipykernel)",
   "language": "python",
   "name": "python3"
  },
  "language_info": {
   "codemirror_mode": {
    "name": "ipython",
    "version": 3
   },
   "file_extension": ".py",
   "mimetype": "text/x-python",
   "name": "python",
   "nbconvert_exporter": "python",
   "pygments_lexer": "ipython3",
   "version": "3.9.12"
  }
 },
 "nbformat": 4,
 "nbformat_minor": 1
}
