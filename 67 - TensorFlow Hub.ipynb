{
 "cells": [
  {
   "cell_type": "markdown",
   "metadata": {
    "id": "LkgOSG2PyAYH"
   },
   "source": [
    "# TensorFlow Hub\n",
    "\n",
    "Using models others have made and applying it our dataset\n",
    "\n",
    "- https://tfhub.dev/\n",
    "\n",
    "### Getting Started\n",
    "\n",
    "Dataset:\n",
    "- https://www.kaggle.com/datasets/gpiosenka/balls-image-classification\n",
    "\n",
    "### Batching the Data\n",
    "\n",
    "```\n",
    "train_dir = 'train/'\n",
    "test_dir = 'test/'\n",
    "\n",
    "train_data = image_dataset_from_directory(\n",
    "    train_dir,\n",
    "    label_mode='categorical',\n",
    "    image_size=(224,224)\n",
    ")\n",
    "\n",
    "test_data = image_dataset_from_directory(\n",
    "    test_dir,\n",
    "    label_mode='categorical',\n",
    "    image_size=(224,224)\n",
    ")\n",
    "\n",
    "train_data = train_data.cache().prefetch(tf.data.AUTOTUNE)\n",
    "test_data = test_data.cache().prefetch(tf.data.AUTOTUNE)\n",
    "\n",
    "```\n",
    "\n",
    "### Training the Model\n",
    "\n",
    "```\n",
    "model_1 = tf.keras.Sequential()\n",
    "\n",
    "model_1.add(tf.keras.layers.Rescaling(1./255))\n",
    "\n",
    "model_1.add(\n",
    "    hub.KerasLayer(\"https://tfhub.dev/google/imagenet/inception_resnet_v2/feature_vector/5\",\n",
    "                   trainable=False),  # Can be True, see below.\n",
    "    \n",
    ")\n",
    "\n",
    "model_1.add(tf.keras.layers.Dense(26, activation='softmax'))\n",
    "\n",
    "model_1.build([None, 224, 224, 3])  # Batch input shape.\n",
    "\n",
    "model_1.compile(\n",
    "    optimizer='adam',\n",
    "    loss='categorical_crossentropy',\n",
    "    metrics=['accuracy']\n",
    ")\n",
    "\n",
    "history_1 = model_1.fit(\n",
    "    train_data,\n",
    "    validation_data=test_data,\n",
    "    epochs=5\n",
    ")\n",
    "\n",
    "```\n",
    "\n",
    "### Predictions\n",
    "\n",
    "```\n",
    "y_true = []\n",
    "preds = []\n",
    "\n",
    "def predictor(path, image):\n",
    "  target = path + '/' + image\n",
    "  category = path.split('/')[1]\n",
    "\n",
    "  img = tf.io.read_file(target)\n",
    "  img = tf.io.decode_file(img)\n",
    "  img = tf.image.resize(img, [224,224])\n",
    "  img = img/255.\n",
    "  img = tf.expand_dims(img, axis=0)\n",
    "  pred = np.argmax(model_1.predict(img), axis=1)\n",
    "  preds.append(pred[0])\n",
    "\n",
    "  y_true.append(class_names[category])\n",
    "\n",
    "for dirs, fols, files in os.walk('test'):\n",
    "  if len(fols) < 1:\n",
    "    for file in files:\n",
    "      predictor(dirs, file)\n",
    "\n",
    "print(classification_report(y_true, preds))\n",
    "sns.heatmap(confusion_matrix(y_true, preds), annot=True)\n",
    "```\n",
    "\n"
   ]
  },
  {
   "cell_type": "markdown",
   "metadata": {
    "id": "_-Oh5SIlyDcl"
   },
   "source": [
    "### Import the Libraries"
   ]
  },
  {
   "cell_type": "code",
   "execution_count": 4,
   "metadata": {
    "id": "NmC6YnPiyIKN"
   },
   "outputs": [],
   "source": [
    "import pandas as pd\n",
    "import numpy as np\n",
    "import matplotlib.pyplot as plt\n",
    "import matplotlib.image as mpimage\n",
    "import tensorflow as tf\n",
    "\n",
    "import tensorflow_hub as hub\n",
    "\n",
    "import os\n",
    "import random\n",
    "\n",
    "from zipfile import ZipFile\n",
    "\n",
    "from sklearn.metrics import confusion_matrix, classification_report"
   ]
  },
  {
   "cell_type": "code",
   "execution_count": null,
   "metadata": {
    "id": "XvYd4GHXyITO"
   },
   "outputs": [],
   "source": []
  },
  {
   "cell_type": "markdown",
   "metadata": {
    "id": "PJENI8t8yIa3"
   },
   "source": [
    "### Connect to Kaggle, Download and unzip the dataset\n",
    "\n",
    "- Explore the data"
   ]
  },
  {
   "cell_type": "code",
   "execution_count": 1,
   "metadata": {
    "id": "ZcbNEIh0yIhE"
   },
   "outputs": [],
   "source": [
    "!mkdir ~/.kaggle\n",
    "!touch ~/.kaggle/kaggle.json\n",
    "\n",
    "api_token = {\"username\":\"username\",\"key\":\"api-key\"}\n",
    "\n",
    "import json\n",
    "\n",
    "with open('/root/.kaggle/kaggle.json', 'w') as file:\n",
    "    json.dump(api_token, file)\n",
    "\n",
    "!chmod 600 ~/.kaggle/kaggle.json"
   ]
  },
  {
   "cell_type": "code",
   "execution_count": 2,
   "metadata": {
    "colab": {
     "base_uri": "https://localhost:8080/"
    },
    "id": "MFfUwbkFyIn8",
    "outputId": "ab7ed2d6-ce96-437c-b155-336a9ef47c5f"
   },
   "outputs": [
    {
     "name": "stdout",
     "output_type": "stream",
     "text": [
      "Downloading balls-image-classification.zip to /content\n",
      "100% 183M/183M [00:04<00:00, 42.4MB/s]\n",
      "100% 183M/183M [00:04<00:00, 39.4MB/s]\n"
     ]
    }
   ],
   "source": [
    "!kaggle datasets download -d gpiosenka/balls-image-classification"
   ]
  },
  {
   "cell_type": "code",
   "execution_count": 5,
   "metadata": {
    "id": "Us6LZiwbyIul"
   },
   "outputs": [],
   "source": [
    "uz = ZipFile('balls-image-classification.zip')\n",
    "uz.extractall()\n",
    "uz.close()"
   ]
  },
  {
   "cell_type": "code",
   "execution_count": 7,
   "metadata": {
    "colab": {
     "base_uri": "https://localhost:8080/"
    },
    "id": "PlPfqZY3yI08",
    "outputId": "67992d6b-c442-41ef-9a88-99aeb74e48a0"
   },
   "outputs": [
    {
     "name": "stdout",
     "output_type": "stream",
     "text": [
      "train, 26, 0\n",
      "train/pokeman balls, 0, 86\n",
      "train/baseball, 0, 112\n",
      "train/tennis ball, 0, 139\n",
      "train/volley ball, 0, 131\n",
      "train/meat ball, 0, 137\n",
      "train/marble, 0, 131\n",
      "train/paint balls, 0, 32\n",
      "train/golf ball, 0, 106\n",
      "train/medicine ball, 0, 77\n",
      "train/football, 0, 112\n",
      "train/brass, 0, 113\n",
      "train/bowling ball, 0, 145\n",
      "train/eyeballs, 0, 139\n",
      "train/cannon ball, 0, 183\n",
      "train/water polo ball, 0, 139\n",
      "train/basketball, 0, 116\n",
      "train/soccer ball, 0, 167\n",
      "train/billiard ball, 0, 143\n",
      "train/puffballs, 0, 106\n",
      "train/screwballs, 0, 140\n",
      "train/cricket ball, 0, 150\n",
      "train/wrecking ball, 0, 69\n",
      "train/beachballs, 0, 92\n",
      "train/wiffle ball, 0, 99\n",
      "train/tether ball, 0, 105\n",
      "train/buckeyballs, 0, 82\n",
      "total files 3051\n"
     ]
    }
   ],
   "source": [
    "total=0\n",
    "\n",
    "for dirs, fols, files in os.walk('train'):\n",
    "  print(f'{dirs}, {len(fols)}, {len(files)}')\n",
    "  if len(fols) < 1:\n",
    "    total += len(files)\n",
    "\n",
    "print(f'total files {total}')"
   ]
  },
  {
   "cell_type": "code",
   "execution_count": 8,
   "metadata": {
    "colab": {
     "base_uri": "https://localhost:8080/"
    },
    "id": "lldgK2_IyI6s",
    "outputId": "327fd981-5cb6-4a4c-a892-61d167935c44"
   },
   "outputs": [
    {
     "name": "stdout",
     "output_type": "stream",
     "text": [
      "117.34615384615384\n"
     ]
    }
   ],
   "source": [
    "print(3051/26)"
   ]
  },
  {
   "cell_type": "code",
   "execution_count": 13,
   "metadata": {
    "colab": {
     "base_uri": "https://localhost:8080/",
     "height": 304
    },
    "id": "2-D1kAK8yJAl",
    "outputId": "5672b2f7-6121-4198-9e77-bc84f56693c4"
   },
   "outputs": [
    {
     "name": "stdout",
     "output_type": "stream",
     "text": [
      "(224, 224, 3)\n"
     ]
    },
    {
     "data": {
      "text/plain": [
       "<matplotlib.image.AxesImage at 0x7fbec5788f50>"
      ]
     },
     "execution_count": 13,
     "metadata": {},
     "output_type": "execute_result"
    },
    {
     "data": {
      "image/png": "[encoded data removed]",
      "text/plain": [
       "<Figure size 432x288 with 1 Axes>"
      ]
     },
     "metadata": {
      "needs_background": "light"
     },
     "output_type": "display_data"
    }
   ],
   "source": [
    "path = 'train/'\n",
    "category = 'golf ball/'\n",
    "target = path + category\n",
    "\n",
    "image = random.choice(os.listdir(target))\n",
    "\n",
    "img = mpimage.imread(target + image)\n",
    "print(img.shape)\n",
    "\n",
    "plt.imshow(img)"
   ]
  },
  {
   "cell_type": "markdown",
   "metadata": {
    "id": "nX9a_KdayJGM"
   },
   "source": [
    "### Batch and Normalize the Data\n",
    "\n",
    "- Get the class_names and create a dictionary\n",
    "- Optional: Prefetch the data\n"
   ]
  },
  {
   "cell_type": "code",
   "execution_count": 14,
   "metadata": {
    "id": "N-ky3rZ6yJL8"
   },
   "outputs": [],
   "source": [
    "# I want to show 2 ways to batch and normalize the data\n",
    "\n",
    "train_dir = 'train/'\n",
    "test_dir = 'test/'\n",
    "\n"
   ]
  },
  {
   "cell_type": "code",
   "execution_count": 18,
   "metadata": {
    "colab": {
     "base_uri": "https://localhost:8080/"
    },
    "id": "w8UCVGV2yJR0",
    "outputId": "8559f7b6-9369-4d17-c467-d64e37a38167"
   },
   "outputs": [
    {
     "name": "stdout",
     "output_type": "stream",
     "text": [
      "Found 3051 images belonging to 26 classes.\n",
      "Found 130 images belonging to 26 classes.\n"
     ]
    }
   ],
   "source": [
    "# Flow from directory with rescaling - ImageDataGenerator\n",
    "\n",
    "train_data_gen = tf.keras.preprocessing.image.ImageDataGenerator(rescale=1./255)\n",
    "test_data_gen = tf.keras.preprocessing.image.ImageDataGenerator(rescale=1./255)\n",
    "\n",
    "train_data_ff = train_data_gen.flow_from_directory(\n",
    "    train_dir,\n",
    "    target_size=(224,224),\n",
    "    class_mode='categorical'\n",
    ")\n",
    "\n",
    "test_data_ff = test_data_gen.flow_from_directory(\n",
    "    test_dir,\n",
    "    target_size=(224,224),\n",
    "    class_mode='categorical'\n",
    ")"
   ]
  },
  {
   "cell_type": "code",
   "execution_count": 38,
   "metadata": {
    "colab": {
     "base_uri": "https://localhost:8080/"
    },
    "id": "KcnL6FyByJXf",
    "outputId": "086266b6-dab4-404e-a059-e008fd1f66db"
   },
   "outputs": [
    {
     "name": "stdout",
     "output_type": "stream",
     "text": [
      "Found 3051 files belonging to 26 classes.\n",
      "Found 130 files belonging to 26 classes.\n"
     ]
    }
   ],
   "source": [
    "# Image_dataset_from_directory\n",
    "\n",
    "train_data_img = tf.keras.utils.image_dataset_from_directory(\n",
    "    train_dir,\n",
    "    image_size=(224,224),\n",
    "    label_mode='categorical'\n",
    ")\n",
    "\n",
    "\n",
    "test_data_img = tf.keras.utils.image_dataset_from_directory(\n",
    "    test_dir,\n",
    "    image_size=(224,224),\n",
    "    label_mode='categorical'\n",
    ")\n",
    "\n",
    "train_data_img = train_data_img.cache().prefetch(buffer_size=tf.data.AUTOTUNE)\n",
    "test_data_img = test_data_img.cache().prefetch(buffer_size=tf.data.AUTOTUNE)\n"
   ]
  },
  {
   "cell_type": "code",
   "execution_count": 19,
   "metadata": {
    "colab": {
     "base_uri": "https://localhost:8080/"
    },
    "id": "BgIk5iDcyJdU",
    "outputId": "c6103299-3f5a-486e-88d9-0a3308c3c811"
   },
   "outputs": [
    {
     "data": {
      "text/plain": [
       "{'baseball': 0,\n",
       " 'basketball': 1,\n",
       " 'beachballs': 2,\n",
       " 'billiard ball': 3,\n",
       " 'bowling ball': 4,\n",
       " 'brass': 5,\n",
       " 'buckeyballs': 6,\n",
       " 'cannon ball': 7,\n",
       " 'cricket ball': 8,\n",
       " 'eyeballs': 9,\n",
       " 'football': 10,\n",
       " 'golf ball': 11,\n",
       " 'marble': 12,\n",
       " 'meat ball': 13,\n",
       " 'medicine ball': 14,\n",
       " 'paint balls': 15,\n",
       " 'pokeman balls': 16,\n",
       " 'puffballs': 17,\n",
       " 'screwballs': 18,\n",
       " 'soccer ball': 19,\n",
       " 'tennis ball': 20,\n",
       " 'tether ball': 21,\n",
       " 'volley ball': 22,\n",
       " 'water polo ball': 23,\n",
       " 'wiffle ball': 24,\n",
       " 'wrecking ball': 25}"
      ]
     },
     "execution_count": 19,
     "metadata": {},
     "output_type": "execute_result"
    }
   ],
   "source": [
    "# With image_dataset_from_directory and prefetching we lost class_indices\n",
    "\n",
    "train_data_ff.class_indices"
   ]
  },
  {
   "cell_type": "code",
   "execution_count": 20,
   "metadata": {
    "colab": {
     "base_uri": "https://localhost:8080/"
    },
    "id": "1D0jyPGFyJjO",
    "outputId": "4d89e2e4-4585-44ff-aebc-4661446f9c46"
   },
   "outputs": [
    {
     "data": {
      "text/plain": [
       "['baseball',\n",
       " 'basketball',\n",
       " 'beachballs',\n",
       " 'billiard ball',\n",
       " 'bowling ball',\n",
       " 'brass',\n",
       " 'buckeyballs',\n",
       " 'cannon ball',\n",
       " 'cricket ball',\n",
       " 'eyeballs',\n",
       " 'football',\n",
       " 'golf ball',\n",
       " 'marble',\n",
       " 'meat ball',\n",
       " 'medicine ball',\n",
       " 'paint balls',\n",
       " 'pokeman balls',\n",
       " 'puffballs',\n",
       " 'screwballs',\n",
       " 'soccer ball',\n",
       " 'tennis ball',\n",
       " 'tether ball',\n",
       " 'volley ball',\n",
       " 'water polo ball',\n",
       " 'wiffle ball',\n",
       " 'wrecking ball']"
      ]
     },
     "execution_count": 20,
     "metadata": {},
     "output_type": "execute_result"
    }
   ],
   "source": [
    "train_data_img.class_names"
   ]
  },
  {
   "cell_type": "code",
   "execution_count": 21,
   "metadata": {
    "id": "sJsD1FH5yJok"
   },
   "outputs": [],
   "source": [
    "class_indices = dict(zip(\n",
    "    test_data_img.class_names,\n",
    "    np.arange(len(test_data_img.class_names))\n",
    "))"
   ]
  },
  {
   "cell_type": "code",
   "execution_count": 22,
   "metadata": {
    "colab": {
     "base_uri": "https://localhost:8080/"
    },
    "id": "nEro_j8CyJuc",
    "outputId": "50b6c2d5-8127-4a37-e12e-dc6e10032572"
   },
   "outputs": [
    {
     "data": {
      "text/plain": [
       "{'baseball': 0,\n",
       " 'basketball': 1,\n",
       " 'beachballs': 2,\n",
       " 'billiard ball': 3,\n",
       " 'bowling ball': 4,\n",
       " 'brass': 5,\n",
       " 'buckeyballs': 6,\n",
       " 'cannon ball': 7,\n",
       " 'cricket ball': 8,\n",
       " 'eyeballs': 9,\n",
       " 'football': 10,\n",
       " 'golf ball': 11,\n",
       " 'marble': 12,\n",
       " 'meat ball': 13,\n",
       " 'medicine ball': 14,\n",
       " 'paint balls': 15,\n",
       " 'pokeman balls': 16,\n",
       " 'puffballs': 17,\n",
       " 'screwballs': 18,\n",
       " 'soccer ball': 19,\n",
       " 'tennis ball': 20,\n",
       " 'tether ball': 21,\n",
       " 'volley ball': 22,\n",
       " 'water polo ball': 23,\n",
       " 'wiffle ball': 24,\n",
       " 'wrecking ball': 25}"
      ]
     },
     "execution_count": 22,
     "metadata": {},
     "output_type": "execute_result"
    }
   ],
   "source": [
    "class_indices"
   ]
  },
  {
   "cell_type": "markdown",
   "metadata": {
    "id": "5jtPrifsyJzs"
   },
   "source": [
    "### Model 1 - Create a Model with EfficientNetB0\n",
    "\n",
    "- Setup the TFHub EfficientNetB0 Model\n",
    "- Get a summary of the model\n",
    "- Compile the model\n",
    "- Fit the model for 5 epochs"
   ]
  },
  {
   "cell_type": "code",
   "execution_count": 25,
   "metadata": {
    "colab": {
     "base_uri": "https://localhost:8080/"
    },
    "id": "Cn1bcVdNyJ5V",
    "outputId": "f39284d1-897b-49c6-8b36-d00028f53ead"
   },
   "outputs": [
    {
     "name": "stdout",
     "output_type": "stream",
     "text": [
      "Epoch 1/5\n",
      "96/96 [==============================] - 28s 87ms/step - loss: 1735.6097 - accuracy: 0.0587 - val_loss: 1492.0793 - val_accuracy: 0.0615\n",
      "Epoch 2/5\n",
      "96/96 [==============================] - 7s 71ms/step - loss: 1160.0522 - accuracy: 0.0914 - val_loss: 1295.9504 - val_accuracy: 0.0538\n",
      "Epoch 3/5\n",
      "96/96 [==============================] - 7s 71ms/step - loss: 905.0039 - accuracy: 0.1252 - val_loss: 1337.5396 - val_accuracy: 0.0462\n",
      "Epoch 4/5\n",
      "96/96 [==============================] - 7s 70ms/step - loss: 816.3314 - accuracy: 0.1481 - val_loss: 1233.7668 - val_accuracy: 0.0615\n",
      "Epoch 5/5\n",
      "96/96 [==============================] - 7s 71ms/step - loss: 694.5344 - accuracy: 0.1708 - val_loss: 1225.5054 - val_accuracy: 0.0385\n"
     ]
    }
   ],
   "source": [
    "model_1 = tf.keras.Sequential([\n",
    "    hub.KerasLayer(\"https://tfhub.dev/tensorflow/efficientnet/b0/feature-vector/1\",\n",
    "                   trainable=False),  # Can be True, see below.\n",
    "    tf.keras.layers.Dense(26, activation='softmax')\n",
    "])\n",
    "model_1.build([None, 224, 224, 3])  # Batch input shape.\n",
    "\n",
    "model_1.compile(\n",
    "    optimizer='adam',\n",
    "    loss='categorical_crossentropy',\n",
    "    metrics=['accuracy']\n",
    ")\n",
    "\n",
    "history_1 = model_1.fit(\n",
    "    train_data_img,\n",
    "    validation_data=test_data_img,\n",
    "    epochs=5\n",
    ")"
   ]
  },
  {
   "cell_type": "code",
   "execution_count": 24,
   "metadata": {
    "colab": {
     "base_uri": "https://localhost:8080/"
    },
    "id": "W3xjI9k2yJ-m",
    "outputId": "8e2f7ac0-4488-4ffc-80a9-003f6c915914"
   },
   "outputs": [
    {
     "name": "stdout",
     "output_type": "stream",
     "text": [
      "Model: \"sequential\"\n",
      "_________________________________________________________________\n",
      " Layer (type)                Output Shape              Param #   \n",
      "=================================================================\n",
      " keras_layer (KerasLayer)    (None, 1280)              4049564   \n",
      "                                                                 \n",
      " dense (Dense)               (None, 26)                33306     \n",
      "                                                                 \n",
      "=================================================================\n",
      "Total params: 4,082,870\n",
      "Trainable params: 33,306\n",
      "Non-trainable params: 4,049,564\n",
      "_________________________________________________________________\n"
     ]
    }
   ],
   "source": [
    "m.summary()"
   ]
  },
  {
   "cell_type": "code",
   "execution_count": 26,
   "metadata": {
    "colab": {
     "base_uri": "https://localhost:8080/"
    },
    "id": "8rCIMot0yKEc",
    "outputId": "378acaed-f4a4-4664-e4ba-5553a68d566a"
   },
   "outputs": [
    {
     "name": "stdout",
     "output_type": "stream",
     "text": [
      "Epoch 1/5\n",
      "96/96 [==============================] - 18s 95ms/step - loss: 1.1763 - accuracy: 0.7745 - val_loss: 0.3803 - val_accuracy: 0.9462\n",
      "Epoch 2/5\n",
      "96/96 [==============================] - 8s 79ms/step - loss: 0.2840 - accuracy: 0.9515 - val_loss: 0.2083 - val_accuracy: 0.9769\n",
      "Epoch 3/5\n",
      "96/96 [==============================] - 8s 79ms/step - loss: 0.1690 - accuracy: 0.9715 - val_loss: 0.1512 - val_accuracy: 0.9846\n",
      "Epoch 4/5\n",
      "96/96 [==============================] - 8s 78ms/step - loss: 0.1166 - accuracy: 0.9843 - val_loss: 0.1200 - val_accuracy: 0.9769\n",
      "Epoch 5/5\n",
      "96/96 [==============================] - 8s 78ms/step - loss: 0.0861 - accuracy: 0.9902 - val_loss: 0.1074 - val_accuracy: 0.9846\n"
     ]
    }
   ],
   "source": [
    "model_1 = tf.keras.Sequential([\n",
    "    hub.KerasLayer(\"https://tfhub.dev/tensorflow/efficientnet/b0/feature-vector/1\",\n",
    "                   trainable=False),  # Can be True, see below.\n",
    "    tf.keras.layers.Dense(26, activation='softmax')\n",
    "])\n",
    "model_1.build([None, 224, 224, 3])  # Batch input shape.\n",
    "\n",
    "model_1.compile(\n",
    "    optimizer='adam',\n",
    "    loss='categorical_crossentropy',\n",
    "    metrics=['accuracy']\n",
    ")\n",
    "\n",
    "history_1 = model_1.fit(\n",
    "    train_data_ff,\n",
    "    validation_data=test_data_ff,\n",
    "    epochs=5\n",
    ")"
   ]
  },
  {
   "cell_type": "code",
   "execution_count": null,
   "metadata": {
    "id": "wMXS9aXAyKJU"
   },
   "outputs": [],
   "source": []
  },
  {
   "cell_type": "markdown",
   "metadata": {
    "id": "aKByHkXhyKO0"
   },
   "source": [
    "### Model 2 - EfficientNet Add A Rescaling Layer and Dense Fully Connected Layer\n",
    "\n",
    "- Break out the KerasLayer and add it to the Sequential model\n",
    "- Add a Rescaling Layer between the Sequential Layer and the KerasLayer\n",
    "- Add a Fully connected Dense layer with 1000 units after the Keras Layer\n",
    "- Create the output Layer\n",
    "- Build the model and look at the summary\n",
    "- Compile and Fit the model for 5 epochs"
   ]
  },
  {
   "cell_type": "code",
   "execution_count": 30,
   "metadata": {
    "colab": {
     "base_uri": "https://localhost:8080/"
    },
    "id": "SGPXAcpVyKUM",
    "outputId": "157217e2-5ca9-4272-d1e5-8a30db40b942"
   },
   "outputs": [
    {
     "name": "stdout",
     "output_type": "stream",
     "text": [
      "Epoch 1/5\n",
      "96/96 [==============================] - 15s 80ms/step - loss: 1.2055 - accuracy: 0.7630 - val_loss: 0.4016 - val_accuracy: 0.9231\n",
      "Epoch 2/5\n",
      "96/96 [==============================] - 7s 71ms/step - loss: 0.2834 - accuracy: 0.9544 - val_loss: 0.2148 - val_accuracy: 0.9692\n",
      "Epoch 3/5\n",
      "96/96 [==============================] - 7s 71ms/step - loss: 0.1688 - accuracy: 0.9738 - val_loss: 0.1542 - val_accuracy: 0.9769\n",
      "Epoch 4/5\n",
      "96/96 [==============================] - 9s 87ms/step - loss: 0.1167 - accuracy: 0.9839 - val_loss: 0.1260 - val_accuracy: 0.9846\n",
      "Epoch 5/5\n",
      "96/96 [==============================] - 7s 70ms/step - loss: 0.0860 - accuracy: 0.9908 - val_loss: 0.1101 - val_accuracy: 0.9846\n"
     ]
    }
   ],
   "source": [
    "model_2 = tf.keras.Sequential()\n",
    "\n",
    "# Rescaling Layer\n",
    "model_2.add(tf.keras.layers.Rescaling(scale=1./255))\n",
    "\n",
    "model_2.add(hub.KerasLayer(\n",
    "    \"https://tfhub.dev/tensorflow/efficientnet/b0/feature-vector/1\",\n",
    "     trainable=False))\n",
    "\n",
    "model_2.add(tf.keras.layers.Dense(26, activation='softmax'))\n",
    "\n",
    "model_2.build([None, 224, 224, 3])  # Batch input shape.\n",
    "\n",
    "model_2.compile(\n",
    "    optimizer='adam',\n",
    "    loss='categorical_crossentropy',\n",
    "    metrics=['accuracy']\n",
    ")\n",
    "\n",
    "history_2 = model_2.fit(\n",
    "    train_data_img,\n",
    "    validation_data=test_data_img,\n",
    "    epochs=5\n",
    ")"
   ]
  },
  {
   "cell_type": "code",
   "execution_count": 28,
   "metadata": {
    "colab": {
     "base_uri": "https://localhost:8080/"
    },
    "id": "yhcqFXycyKZk",
    "outputId": "29ab17c1-812e-4594-d655-75a06006ee94"
   },
   "outputs": [
    {
     "name": "stdout",
     "output_type": "stream",
     "text": [
      "Model: \"sequential_3\"\n",
      "_________________________________________________________________\n",
      " Layer (type)                Output Shape              Param #   \n",
      "=================================================================\n",
      " keras_layer_3 (KerasLayer)  (None, 1280)              4049564   \n",
      "                                                                 \n",
      " dense_3 (Dense)             (None, 26)                33306     \n",
      "                                                                 \n",
      "=================================================================\n",
      "Total params: 4,082,870\n",
      "Trainable params: 33,306\n",
      "Non-trainable params: 4,049,564\n",
      "_________________________________________________________________\n"
     ]
    }
   ],
   "source": [
    "model_2.summary()"
   ]
  },
  {
   "cell_type": "code",
   "execution_count": 29,
   "metadata": {
    "colab": {
     "base_uri": "https://localhost:8080/"
    },
    "id": "yx-6lwvnyeWx",
    "outputId": "426bc880-08f9-4ff9-e405-60f1fe9e07ec"
   },
   "outputs": [
    {
     "name": "stdout",
     "output_type": "stream",
     "text": [
      "Model: \"sequential_2\"\n",
      "_________________________________________________________________\n",
      " Layer (type)                Output Shape              Param #   \n",
      "=================================================================\n",
      " keras_layer_2 (KerasLayer)  (None, 1280)              4049564   \n",
      "                                                                 \n",
      " dense_2 (Dense)             (None, 26)                33306     \n",
      "                                                                 \n",
      "=================================================================\n",
      "Total params: 4,082,870\n",
      "Trainable params: 33,306\n",
      "Non-trainable params: 4,049,564\n",
      "_________________________________________________________________\n"
     ]
    }
   ],
   "source": [
    "model_1.summary()"
   ]
  },
  {
   "cell_type": "code",
   "execution_count": null,
   "metadata": {
    "id": "yKwTBduEyebK"
   },
   "outputs": [],
   "source": []
  },
  {
   "cell_type": "markdown",
   "metadata": {
    "id": "jYkYRFxCyefM"
   },
   "source": [
    "### Model 3 - Create a Model with ResNet50V2\n",
    "\n",
    "- Setup the TFHub ResNet50V2 Model\n",
    "- Get a summary of the model\n",
    "- Compile the model\n",
    "- Fit the model for 5 epochs"
   ]
  },
  {
   "cell_type": "code",
   "execution_count": 33,
   "metadata": {
    "colab": {
     "base_uri": "https://localhost:8080/"
    },
    "id": "5WISnzkLyejJ",
    "outputId": "f47b0001-21f3-4bac-ba7f-d617fdf9cdfa"
   },
   "outputs": [
    {
     "name": "stdout",
     "output_type": "stream",
     "text": [
      "Epoch 1/5\n",
      "96/96 [==============================] - 15s 112ms/step - loss: 109.2570 - accuracy: 0.1147 - val_loss: 50.0460 - val_accuracy: 0.2154\n",
      "Epoch 2/5\n",
      "96/96 [==============================] - 9s 95ms/step - loss: 48.9994 - accuracy: 0.2429 - val_loss: 51.3581 - val_accuracy: 0.2769\n",
      "Epoch 3/5\n",
      "96/96 [==============================] - 9s 95ms/step - loss: 38.6381 - accuracy: 0.3058 - val_loss: 59.2096 - val_accuracy: 0.2385\n",
      "Epoch 4/5\n",
      "96/96 [==============================] - 9s 94ms/step - loss: 37.1600 - accuracy: 0.3412 - val_loss: 33.3425 - val_accuracy: 0.4385\n",
      "Epoch 5/5\n",
      "96/96 [==============================] - 9s 95ms/step - loss: 29.3735 - accuracy: 0.4022 - val_loss: 44.0896 - val_accuracy: 0.3462\n"
     ]
    }
   ],
   "source": [
    "model_3 = tf.keras.Sequential()\n",
    "\n",
    "\n",
    "\n",
    "model_3.add(hub.KerasLayer(\n",
    "    \"https://tfhub.dev/google/imagenet/resnet_v2_50/feature_vector/5\",\n",
    "    trainable=False))\n",
    "\n",
    "model_3.add(tf.keras.layers.Dense(26, activation='softmax'))\n",
    "\n",
    "model_3.build([None, 224, 224, 3])  # Batch input shape.\n",
    "\n",
    "model_3.compile(\n",
    "    optimizer='adam',\n",
    "    loss='categorical_crossentropy',\n",
    "    metrics=['accuracy']\n",
    ")\n",
    "\n",
    "history_3 = model_3.fit(\n",
    "    train_data_img,\n",
    "    validation_data=test_data_img,\n",
    "    epochs=5\n",
    ")"
   ]
  },
  {
   "cell_type": "code",
   "execution_count": 32,
   "metadata": {
    "colab": {
     "base_uri": "https://localhost:8080/"
    },
    "id": "aOFLSMiPyemx",
    "outputId": "eff3a8c6-ce15-45a1-8598-66adb2386761"
   },
   "outputs": [
    {
     "name": "stdout",
     "output_type": "stream",
     "text": [
      "Model: \"sequential_5\"\n",
      "_________________________________________________________________\n",
      " Layer (type)                Output Shape              Param #   \n",
      "=================================================================\n",
      " keras_layer_5 (KerasLayer)  (None, 2048)              23564800  \n",
      "                                                                 \n",
      " dense_5 (Dense)             (None, 26)                53274     \n",
      "                                                                 \n",
      "=================================================================\n",
      "Total params: 23,618,074\n",
      "Trainable params: 53,274\n",
      "Non-trainable params: 23,564,800\n",
      "_________________________________________________________________\n"
     ]
    }
   ],
   "source": [
    "model_3.summary()"
   ]
  },
  {
   "cell_type": "code",
   "execution_count": 34,
   "metadata": {
    "colab": {
     "base_uri": "https://localhost:8080/"
    },
    "id": "bcMWg7-gyeqS",
    "outputId": "7e7d4616-51d2-4c2a-9c09-95868cdc383c"
   },
   "outputs": [
    {
     "name": "stdout",
     "output_type": "stream",
     "text": [
      "Epoch 1/5\n",
      "96/96 [==============================] - 13s 100ms/step - loss: 0.9381 - accuracy: 0.7535 - val_loss: 0.2338 - val_accuracy: 0.9385\n",
      "Epoch 2/5\n",
      "96/96 [==============================] - 9s 95ms/step - loss: 0.1778 - accuracy: 0.9571 - val_loss: 0.1556 - val_accuracy: 0.9615\n",
      "Epoch 3/5\n",
      "96/96 [==============================] - 9s 96ms/step - loss: 0.0995 - accuracy: 0.9813 - val_loss: 0.1219 - val_accuracy: 0.9615\n",
      "Epoch 4/5\n",
      "96/96 [==============================] - 9s 96ms/step - loss: 0.0654 - accuracy: 0.9912 - val_loss: 0.1106 - val_accuracy: 0.9615\n",
      "Epoch 5/5\n",
      "96/96 [==============================] - 9s 96ms/step - loss: 0.0447 - accuracy: 0.9951 - val_loss: 0.0996 - val_accuracy: 0.9692\n"
     ]
    }
   ],
   "source": [
    "model_3 = tf.keras.Sequential()\n",
    "\n",
    "model_3.add(tf.keras.layers.Rescaling(scale=1./255))\n",
    "\n",
    "model_3.add(hub.KerasLayer(\n",
    "    \"https://tfhub.dev/google/imagenet/resnet_v2_50/feature_vector/5\",\n",
    "    trainable=False))\n",
    "\n",
    "model_3.add(tf.keras.layers.Dense(26, activation='softmax'))\n",
    "\n",
    "model_3.build([None, 224, 224, 3])  # Batch input shape.\n",
    "\n",
    "model_3.compile(\n",
    "    optimizer='adam',\n",
    "    loss='categorical_crossentropy',\n",
    "    metrics=['accuracy']\n",
    ")\n",
    "\n",
    "history_3 = model_3.fit(\n",
    "    train_data_img,\n",
    "    validation_data=test_data_img,\n",
    "    epochs=5\n",
    ")"
   ]
  },
  {
   "cell_type": "code",
   "execution_count": null,
   "metadata": {
    "id": "VXUsbLMvyet7"
   },
   "outputs": [],
   "source": []
  },
  {
   "cell_type": "code",
   "execution_count": null,
   "metadata": {
    "id": "hN9_UJ-SyexR"
   },
   "outputs": [],
   "source": []
  },
  {
   "cell_type": "markdown",
   "metadata": {
    "id": "7RnMqE9oye0p"
   },
   "source": [
    "### Model 4 - Create a Model with InceptionResNetV2\n",
    "\n",
    "- Setup the TFHub IncetpionsResNetV2 Model\n",
    "- Get a summary of the model\n",
    "- Compile the model\n",
    "- Fit the model for 5 epochs"
   ]
  },
  {
   "cell_type": "code",
   "execution_count": 35,
   "metadata": {
    "colab": {
     "base_uri": "https://localhost:8080/"
    },
    "id": "mNhhlj0Pye4B",
    "outputId": "371599cd-d5a7-4624-f54a-54f31c1a3068"
   },
   "outputs": [
    {
     "name": "stdout",
     "output_type": "stream",
     "text": [
      "Epoch 1/5\n",
      "96/96 [==============================] - 38s 236ms/step - loss: 0.8551 - accuracy: 0.7686 - val_loss: 0.2838 - val_accuracy: 0.9231\n",
      "Epoch 2/5\n",
      "96/96 [==============================] - 19s 195ms/step - loss: 0.2952 - accuracy: 0.9131 - val_loss: 0.1879 - val_accuracy: 0.9462\n",
      "Epoch 3/5\n",
      "96/96 [==============================] - 19s 198ms/step - loss: 0.2134 - accuracy: 0.9394 - val_loss: 0.1508 - val_accuracy: 0.9692\n",
      "Epoch 4/5\n",
      "96/96 [==============================] - 19s 197ms/step - loss: 0.1623 - accuracy: 0.9554 - val_loss: 0.1353 - val_accuracy: 0.9538\n",
      "Epoch 5/5\n",
      "96/96 [==============================] - 19s 195ms/step - loss: 0.1344 - accuracy: 0.9656 - val_loss: 0.1456 - val_accuracy: 0.9462\n"
     ]
    }
   ],
   "source": [
    "model_4 = tf.keras.Sequential()\n",
    "\n",
    "model_4.add(tf.keras.layers.Rescaling(scale=1./255))\n",
    "\n",
    "model_4.add(hub.KerasLayer(\n",
    "    \"https://tfhub.dev/google/imagenet/inception_resnet_v2/feature_vector/5\",\n",
    "    trainable=False))\n",
    "\n",
    "model_4.add(tf.keras.layers.Dense(26, activation='softmax'))\n",
    "model_4.build([None, 299, 299, 3])  # Batch input shape.\n",
    "\n",
    "model_4.compile(\n",
    "    optimizer='adam',\n",
    "    loss='categorical_crossentropy',\n",
    "    metrics=['accuracy']\n",
    ")\n",
    "\n",
    "history_4 = model_4.fit(\n",
    "    train_data_img,\n",
    "    validation_data=test_data_img,\n",
    "    epochs=5\n",
    ")"
   ]
  },
  {
   "cell_type": "code",
   "execution_count": 36,
   "metadata": {
    "colab": {
     "base_uri": "https://localhost:8080/"
    },
    "id": "QjBaAQ1Dye7W",
    "outputId": "c2962bd3-b3de-4b7b-d2b3-f2b685ce92cf"
   },
   "outputs": [
    {
     "name": "stdout",
     "output_type": "stream",
     "text": [
      "Model: \"sequential_8\"\n",
      "_________________________________________________________________\n",
      " Layer (type)                Output Shape              Param #   \n",
      "=================================================================\n",
      " rescaling_2 (Rescaling)     (None, None, None, 3)     0         \n",
      "                                                                 \n",
      " keras_layer_8 (KerasLayer)  (None, 1536)              54336736  \n",
      "                                                                 \n",
      " dense_8 (Dense)             (None, 26)                39962     \n",
      "                                                                 \n",
      "=================================================================\n",
      "Total params: 54,376,698\n",
      "Trainable params: 39,962\n",
      "Non-trainable params: 54,336,736\n",
      "_________________________________________________________________\n"
     ]
    }
   ],
   "source": [
    "model_4.summary()"
   ]
  },
  {
   "cell_type": "code",
   "execution_count": 40,
   "metadata": {
    "colab": {
     "base_uri": "https://localhost:8080/"
    },
    "id": "kaJVC6rTye-s",
    "outputId": "2724d06c-7e77-4086-d1fc-9693a406e15f"
   },
   "outputs": [
    {
     "name": "stdout",
     "output_type": "stream",
     "text": [
      "Epoch 1/5\n",
      "96/96 [==============================] - 35s 219ms/step - loss: 0.9166 - accuracy: 0.7496 - val_loss: 0.2573 - val_accuracy: 0.9308\n",
      "Epoch 2/5\n",
      "96/96 [==============================] - 18s 188ms/step - loss: 0.2903 - accuracy: 0.9112 - val_loss: 0.1881 - val_accuracy: 0.9538\n",
      "Epoch 3/5\n",
      "96/96 [==============================] - 18s 184ms/step - loss: 0.2084 - accuracy: 0.9407 - val_loss: 0.1588 - val_accuracy: 0.9462\n",
      "Epoch 4/5\n",
      "96/96 [==============================] - 18s 184ms/step - loss: 0.1639 - accuracy: 0.9554 - val_loss: 0.1438 - val_accuracy: 0.9538\n",
      "Epoch 5/5\n",
      "96/96 [==============================] - 18s 185ms/step - loss: 0.1352 - accuracy: 0.9643 - val_loss: 0.1350 - val_accuracy: 0.9538\n"
     ]
    }
   ],
   "source": [
    "model_4 = tf.keras.Sequential()\n",
    "\n",
    "model_4.add(tf.keras.layers.Rescaling(scale=1./255))\n",
    "\n",
    "model_4.add(hub.KerasLayer(\n",
    "    \"https://tfhub.dev/google/imagenet/inception_resnet_v2/feature_vector/5\",\n",
    "    trainable=False))\n",
    "\n",
    "model_4.add(tf.keras.layers.Dense(26, activation='softmax'))\n",
    "model_4.build([None, 299, 299, 3])  # Batch input shape.\n",
    "\n",
    "model_4.compile(\n",
    "    optimizer='adam',\n",
    "    loss='categorical_crossentropy',\n",
    "    metrics=['accuracy']\n",
    ")\n",
    "\n",
    "history_4 = model_4.fit(\n",
    "    train_data_img,\n",
    "    validation_data=test_data_img,\n",
    "    epochs=5\n",
    ")"
   ]
  },
  {
   "cell_type": "code",
   "execution_count": 39,
   "metadata": {
    "colab": {
     "base_uri": "https://localhost:8080/"
    },
    "id": "kVk6DYLCyfB5",
    "outputId": "803d0ab3-da0c-4b44-aca5-eaed8fb58124"
   },
   "outputs": [
    {
     "data": {
      "text/plain": [
       "<PrefetchDataset element_spec=(TensorSpec(shape=(None, 224, 224, 3), dtype=tf.float32, name=None), TensorSpec(shape=(None, 26), dtype=tf.float32, name=None))>"
      ]
     },
     "execution_count": 39,
     "metadata": {},
     "output_type": "execute_result"
    }
   ],
   "source": [
    "train_data_img"
   ]
  },
  {
   "cell_type": "code",
   "execution_count": null,
   "metadata": {
    "id": "h-HpuES5yfFB"
   },
   "outputs": [],
   "source": []
  },
  {
   "cell_type": "code",
   "execution_count": null,
   "metadata": {
    "id": "ejQBSeBhyfIR"
   },
   "outputs": [],
   "source": []
  },
  {
   "cell_type": "code",
   "execution_count": null,
   "metadata": {
    "id": "1Imb7ci3yfLp"
   },
   "outputs": [],
   "source": []
  },
  {
   "cell_type": "code",
   "execution_count": null,
   "metadata": {
    "id": "tqOEBht2yfOp"
   },
   "outputs": [],
   "source": []
  }
 ],
 "metadata": {
  "accelerator": "GPU",
  "colab": {
   "collapsed_sections": [],
   "name": "67 - Tensorflow Hub.ipynb",
   "provenance": []
  },
  "gpuClass": "standard",
  "kernelspec": {
   "display_name": "Python 3 (ipykernel)",
   "language": "python",
   "name": "python3"
  },
  "language_info": {
   "codemirror_mode": {
    "name": "ipython",
    "version": 3
   },
   "file_extension": ".py",
   "mimetype": "text/x-python",
   "name": "python",
   "nbconvert_exporter": "python",
   "pygments_lexer": "ipython3",
   "version": "3.9.12"
  }
 },
 "nbformat": 4,
 "nbformat_minor": 1
}
