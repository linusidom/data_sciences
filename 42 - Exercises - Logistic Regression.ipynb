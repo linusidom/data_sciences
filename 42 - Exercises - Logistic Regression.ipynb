{
 "cells": [
  {
   "cell_type": "markdown",
   "id": "d96cc9bc",
   "metadata": {},
   "source": [
    "# Logistic Regression Exercises"
   ]
  },
  {
   "cell_type": "code",
   "execution_count": 2,
   "id": "8fd51497",
   "metadata": {},
   "outputs": [],
   "source": [
    "# Import pandas as pd, numpy as np, seaborn as sns, sklearns train_test_split, LogisticRegression, classification_report and confusion_matrix\n",
    "\n",
    "\n",
    "\n",
    "\n",
    "\n",
    "# Type your code above this line\n"
   ]
  },
  {
   "cell_type": "code",
   "execution_count": 110,
   "id": "997c049e",
   "metadata": {},
   "outputs": [],
   "source": [
    "# Load the dataset into a dataframe\n",
    "\n",
    "# Location: 'https://www.kaggle.com/datasets/kamilpytlak/personal-key-indicators-of-heart-disease'\n",
    "\n",
    "\n",
    "\n",
    "\n",
    "# Type your code above this line"
   ]
  },
  {
   "cell_type": "code",
   "execution_count": 111,
   "id": "fbb1e3e0",
   "metadata": {},
   "outputs": [],
   "source": [
    "# Data Exploration\n",
    "\n",
    "# Create a countplot with HeartDisease and compare it against some of the other attributes such as smoking, alcohol, stroke, genhealth, etc\n",
    "\n",
    "\n",
    "\n",
    "\n",
    "\n",
    "# Type your code above this line"
   ]
  },
  {
   "cell_type": "code",
   "execution_count": null,
   "id": "a957a3ba",
   "metadata": {},
   "outputs": [],
   "source": [
    "# Create a Heatmap from the correlated dataframe\n",
    "\n",
    "\n",
    "\n",
    "\n",
    "# Type your code above this line"
   ]
  },
  {
   "cell_type": "code",
   "execution_count": null,
   "id": "9829fe42",
   "metadata": {},
   "outputs": [],
   "source": [
    "# Create a Clustermap from the correlated dataframe\n",
    "\n",
    "\n",
    "\n",
    "\n",
    "# Type your code above this line"
   ]
  },
  {
   "cell_type": "code",
   "execution_count": 105,
   "id": "828499b3",
   "metadata": {},
   "outputs": [],
   "source": [
    "# Column Investigation and Evaluation\n",
    "# What are the columns that have String categories that we can split (hint: there are quite a few, about 12)\n",
    "# What are some of the categories beyond Yes/No?\n",
    "# What about the Age Category column...can we use that?\n",
    "\n",
    "\n",
    "\n",
    "\n",
    "\n",
    "# Type your code above this line"
   ]
  },
  {
   "cell_type": "code",
   "execution_count": 112,
   "id": "1c326734",
   "metadata": {},
   "outputs": [],
   "source": [
    "# Split out columns that have String values into numeric values\n",
    "# rename the column heading and be sure to indicate the correct axis\n",
    "\n",
    "\n",
    "\n",
    "\n",
    "\n",
    "\n",
    "\n",
    "# Type your code above this line\n"
   ]
  },
  {
   "cell_type": "code",
   "execution_count": 113,
   "id": "411c2d83",
   "metadata": {},
   "outputs": [],
   "source": [
    "# Concatenate the new columns into the existing DataFrame\n",
    "\n",
    "\n",
    "\n",
    "\n",
    "# Type your code above this line"
   ]
  },
  {
   "cell_type": "code",
   "execution_count": 114,
   "id": "7f519d93",
   "metadata": {},
   "outputs": [],
   "source": [
    "# Drop the original columns that we converted\n",
    "\n",
    "\n",
    "\n",
    "\n",
    "# Type your code above this line"
   ]
  },
  {
   "cell_type": "code",
   "execution_count": 115,
   "id": "25285e6d",
   "metadata": {},
   "outputs": [],
   "source": [
    "# Create a dataframe with all the columns other than that 'Target' data column called 'X'\n",
    "\n",
    "\n",
    "\n",
    "\n",
    "\n",
    "# Type your code above this line"
   ]
  },
  {
   "cell_type": "code",
   "execution_count": 116,
   "id": "9158ca80",
   "metadata": {},
   "outputs": [],
   "source": [
    "# Create a dataframe with the 'HeartDisease' column from the dataframe called 'y'\n",
    "\n",
    "\n",
    "\n",
    "\n",
    "\n",
    "# Type your code above this line"
   ]
  },
  {
   "cell_type": "code",
   "execution_count": 102,
   "id": "61135fca",
   "metadata": {},
   "outputs": [],
   "source": [
    "# train_test_split the X and y data and the test_size should be 30%\n",
    "\n",
    "\n",
    "\n",
    "\n",
    "\n",
    "# Type your code above this line"
   ]
  },
  {
   "cell_type": "code",
   "execution_count": 103,
   "id": "9fd0415d",
   "metadata": {},
   "outputs": [],
   "source": [
    "# Instantiate the Logistic Regression model into 'lm'\n",
    "\n",
    "\n",
    "\n",
    "# Type your code above this line"
   ]
  },
  {
   "cell_type": "code",
   "execution_count": 119,
   "id": "574a5006",
   "metadata": {},
   "outputs": [],
   "source": [
    "# Fit the model with X_train, y_train\n",
    "# Note: We might have to alter our max_iter\n",
    "\n",
    "\n",
    "\n",
    "\n",
    "\n",
    "# Type your code above this line"
   ]
  },
  {
   "cell_type": "code",
   "execution_count": 118,
   "id": "7a77d6a7",
   "metadata": {},
   "outputs": [],
   "source": [
    "# Run the model prediction on the X_test dataset\n",
    "\n",
    "\n",
    "\n",
    "\n",
    "# Type your code above this line"
   ]
  },
  {
   "cell_type": "code",
   "execution_count": 117,
   "id": "ed0b8b30",
   "metadata": {},
   "outputs": [],
   "source": [
    "# Take a look at the Confusion Matrix\n",
    "# Calculate the accuracy, recall, precision and f1-Score for the Positives and Negatives\n",
    "\n",
    "\n",
    "\n",
    "\n",
    "\n",
    "# Type your code above this line"
   ]
  },
  {
   "cell_type": "code",
   "execution_count": 120,
   "id": "19f68145",
   "metadata": {},
   "outputs": [],
   "source": [
    "# Does the classification_report match your findings?\n",
    "\n",
    "\n",
    "\n",
    "\n",
    "\n",
    "# Type your code above this line"
   ]
  },
  {
   "cell_type": "code",
   "execution_count": 83,
   "id": "2b4b2088",
   "metadata": {},
   "outputs": [],
   "source": [
    "# Create a dataframe from the coefficients from the logisitic regression model\n",
    "\n",
    "\n",
    "\n",
    "\n",
    "# Type your code above this line"
   ]
  },
  {
   "cell_type": "code",
   "execution_count": null,
   "id": "72be04ff",
   "metadata": {},
   "outputs": [],
   "source": []
  },
  {
   "cell_type": "code",
   "execution_count": null,
   "id": "a7150de6",
   "metadata": {},
   "outputs": [],
   "source": []
  }
 ],
 "metadata": {
  "kernelspec": {
   "display_name": "Python 3 (ipykernel)",
   "language": "python",
   "name": "python3"
  },
  "language_info": {
   "codemirror_mode": {
    "name": "ipython",
    "version": 3
   },
   "file_extension": ".py",
   "mimetype": "text/x-python",
   "name": "python",
   "nbconvert_exporter": "python",
   "pygments_lexer": "ipython3",
   "version": "3.9.12"
  }
 },
 "nbformat": 4,
 "nbformat_minor": 5
}
