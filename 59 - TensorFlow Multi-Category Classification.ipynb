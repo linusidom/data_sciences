{
  "nbformat": 4,
  "nbformat_minor": 0,
  "metadata": {
    "colab": {
      "name": "59 - TensorFlow Multi-Category Classification.ipynb",
      "provenance": [],
      "toc_visible": true
    },
    "kernelspec": {
      "name": "python3",
      "display_name": "Python 3"
    },
    "language_info": {
      "name": "python"
    }
  },
  "cells": [
    {
      "cell_type": "markdown",
      "source": [
        "# Tensor Flow Model Multi-Category Classification\n",
        "\n",
        "Multi-Category Classification (0/1/2, A/B/C, Yes/No/Maybe, etc)"
      ],
      "metadata": {
        "id": "4UXCr8kxFkkn"
      }
    },
    {
      "cell_type": "markdown",
      "source": [
        "### Getting Started\n",
        "\n",
        "Dataset\n",
        "\n",
        "Iris Dataset from SKLearn\n",
        "\n",
        "`from sklearn.datasets import load_iris`\n",
        "\n",
        "\n",
        "\n",
        "### Clean, Manipulate and Prepare the data\n",
        "\n",
        "#### Train Test Split\n",
        "\n",
        "For Multi-Category Classifications the categories have to split the Target into independent columns\n",
        "\n",
        "```\n",
        "X = df.drop('target', axis=1).values\n",
        "\n",
        "# One Hot Encode the Target Values\n",
        "y = pd.get_dummies(df['target']).values\n",
        "\n",
        "X_train, X_test, y_train, y_test = train_test_split(X, y, test_size=0.30, random_state=42)\n",
        "```\n",
        "\n",
        "#### Scaling the data\n",
        "\n",
        "```\n",
        "scaler = MinMaxScaler()\n",
        "scaler.fit(X_train)\n",
        "X_train = scaler.transform(X_train)\n",
        "X_test = scaler.transform(X_test)\n",
        "```"
      ],
      "metadata": {
        "id": "4-xz_aGmHGLm"
      }
    },
    {
      "cell_type": "markdown",
      "source": [
        "### Training the model\n",
        "\n",
        "#### Instantiation\n",
        "\n",
        "`model = Sequential()`\n",
        "\n",
        "#### Layers\n",
        "\n",
        "Activation functions is `relu`\n",
        "\n",
        "The number of units can be up adjusted\n",
        "\n",
        "\n",
        "#### Output Layer\n",
        "\n",
        "Units of the output layer should be equivalent to the target categories\n",
        "\n",
        "The activation function changes to `softmax`\n",
        "\n",
        "Ex Dataset has 3 outcomes (A,B,C)\n",
        "\n",
        "Output Layer\n",
        "\n",
        "`model.add(Dense(3,activation='softmax'))`\n",
        "\n",
        "#### Compile\n",
        "\n",
        "Loss metric for categorical classification is `categorical_crossentropy`\n",
        "\n",
        "```\n",
        "model.compile(\n",
        "  optimizer='adam',\n",
        "  loss='categorical_crossentropy',\n",
        "  metrics=['accuracy'])\n",
        "```\n"
      ],
      "metadata": {
        "id": "SBMLazqWG-9g"
      }
    },
    {
      "cell_type": "markdown",
      "source": [
        "### Evaluations and Predictions\n",
        "\n",
        "We can evaluate the training data and the test data\n",
        "\n",
        "```\n",
        "model.evaluate(X_test, y_test, verbose=1)\n",
        "model.evaluate(X_train, y_train, verbose=1)\n",
        "```\n",
        "\n",
        "Predictions for multi-category classification are a little different than sklearn\n",
        "\n",
        "```\n",
        "# Run predictions\n",
        "predictions = model.predict(X_test)\n",
        "\n",
        "# Get the position of the higest value in the array\n",
        "actual = np.argmax(y_test, axis=1)\n",
        "preds = np.argmax(predictions, axis=1)\n",
        "\n",
        "# Run the reports\n",
        "print(confusion_matrix(actual, preds))\n",
        "print(classification_report(actual, preds))\n",
        "```"
      ],
      "metadata": {
        "id": "AI7Izq7qGxFq"
      }
    },
    {
      "cell_type": "code",
      "source": [
        "import pandas as pd\n",
        "import numpy as np\n",
        "import matplotlib.pyplot as plt\n",
        "import tensorflow as tf\n",
        "\n",
        "from tensorflow.keras.models import Sequential\n",
        "from tensorflow.keras.layers import Dense\n",
        "from tensorflow.keras.callbacks import EarlyStopping\n",
        "from tensorflow.keras.optimizers import Adam\n",
        "\n",
        "from sklearn.model_selection import train_test_split\n",
        "from sklearn.preprocessing import MinMaxScaler\n",
        "from sklearn.metrics import confusion_matrix, classification_report\n",
        "from sklearn.datasets import load_iris"
      ],
      "metadata": {
        "id": "SOoAIrRtG83v"
      },
      "execution_count": 2,
      "outputs": []
    },
    {
      "cell_type": "markdown",
      "source": [
        "### Create DataFrame from Data"
      ],
      "metadata": {
        "id": "8vi_vY43NSUO"
      }
    },
    {
      "cell_type": "code",
      "source": [
        "data = load_iris()"
      ],
      "metadata": {
        "id": "BbMcjvOOMaQF"
      },
      "execution_count": 3,
      "outputs": []
    },
    {
      "cell_type": "code",
      "source": [
        "df = pd.DataFrame(data.data, columns=data.feature_names)"
      ],
      "metadata": {
        "id": "dzMfVOLrMaXd"
      },
      "execution_count": 4,
      "outputs": []
    },
    {
      "cell_type": "code",
      "source": [
        "df"
      ],
      "metadata": {
        "colab": {
          "base_uri": "https://localhost:8080/",
          "height": 424
        },
        "id": "h6l5p-_GMad9",
        "outputId": "9017fc0f-d1e7-4858-9fcb-3edd3897b1a3"
      },
      "execution_count": 5,
      "outputs": [
        {
          "output_type": "execute_result",
          "data": {
            "text/plain": [
              "     sepal length (cm)  sepal width (cm)  petal length (cm)  petal width (cm)\n",
              "0                  5.1               3.5                1.4               0.2\n",
              "1                  4.9               3.0                1.4               0.2\n",
              "2                  4.7               3.2                1.3               0.2\n",
              "3                  4.6               3.1                1.5               0.2\n",
              "4                  5.0               3.6                1.4               0.2\n",
              "..                 ...               ...                ...               ...\n",
              "145                6.7               3.0                5.2               2.3\n",
              "146                6.3               2.5                5.0               1.9\n",
              "147                6.5               3.0                5.2               2.0\n",
              "148                6.2               3.4                5.4               2.3\n",
              "149                5.9               3.0                5.1               1.8\n",
              "\n",
              "[150 rows x 4 columns]"
            ],
            "text/html": [
              "\n",
              "  <div id=\"df-b7f7ee7b-0c33-4c40-8091-a61dfcaa4b0c\">\n",
              "    <div class=\"colab-df-container\">\n",
              "      <div>\n",
              "<style scoped>\n",
              "    .dataframe tbody tr th:only-of-type {\n",
              "        vertical-align: middle;\n",
              "    }\n",
              "\n",
              "    .dataframe tbody tr th {\n",
              "        vertical-align: top;\n",
              "    }\n",
              "\n",
              "    .dataframe thead th {\n",
              "        text-align: right;\n",
              "    }\n",
              "</style>\n",
              "<table border=\"1\" class=\"dataframe\">\n",
              "  <thead>\n",
              "    <tr style=\"text-align: right;\">\n",
              "      <th></th>\n",
              "      <th>sepal length (cm)</th>\n",
              "      <th>sepal width (cm)</th>\n",
              "      <th>petal length (cm)</th>\n",
              "      <th>petal width (cm)</th>\n",
              "    </tr>\n",
              "  </thead>\n",
              "  <tbody>\n",
              "    <tr>\n",
              "      <th>0</th>\n",
              "      <td>5.1</td>\n",
              "      <td>3.5</td>\n",
              "      <td>1.4</td>\n",
              "      <td>0.2</td>\n",
              "    </tr>\n",
              "    <tr>\n",
              "      <th>1</th>\n",
              "      <td>4.9</td>\n",
              "      <td>3.0</td>\n",
              "      <td>1.4</td>\n",
              "      <td>0.2</td>\n",
              "    </tr>\n",
              "    <tr>\n",
              "      <th>2</th>\n",
              "      <td>4.7</td>\n",
              "      <td>3.2</td>\n",
              "      <td>1.3</td>\n",
              "      <td>0.2</td>\n",
              "    </tr>\n",
              "    <tr>\n",
              "      <th>3</th>\n",
              "      <td>4.6</td>\n",
              "      <td>3.1</td>\n",
              "      <td>1.5</td>\n",
              "      <td>0.2</td>\n",
              "    </tr>\n",
              "    <tr>\n",
              "      <th>4</th>\n",
              "      <td>5.0</td>\n",
              "      <td>3.6</td>\n",
              "      <td>1.4</td>\n",
              "      <td>0.2</td>\n",
              "    </tr>\n",
              "    <tr>\n",
              "      <th>...</th>\n",
              "      <td>...</td>\n",
              "      <td>...</td>\n",
              "      <td>...</td>\n",
              "      <td>...</td>\n",
              "    </tr>\n",
              "    <tr>\n",
              "      <th>145</th>\n",
              "      <td>6.7</td>\n",
              "      <td>3.0</td>\n",
              "      <td>5.2</td>\n",
              "      <td>2.3</td>\n",
              "    </tr>\n",
              "    <tr>\n",
              "      <th>146</th>\n",
              "      <td>6.3</td>\n",
              "      <td>2.5</td>\n",
              "      <td>5.0</td>\n",
              "      <td>1.9</td>\n",
              "    </tr>\n",
              "    <tr>\n",
              "      <th>147</th>\n",
              "      <td>6.5</td>\n",
              "      <td>3.0</td>\n",
              "      <td>5.2</td>\n",
              "      <td>2.0</td>\n",
              "    </tr>\n",
              "    <tr>\n",
              "      <th>148</th>\n",
              "      <td>6.2</td>\n",
              "      <td>3.4</td>\n",
              "      <td>5.4</td>\n",
              "      <td>2.3</td>\n",
              "    </tr>\n",
              "    <tr>\n",
              "      <th>149</th>\n",
              "      <td>5.9</td>\n",
              "      <td>3.0</td>\n",
              "      <td>5.1</td>\n",
              "      <td>1.8</td>\n",
              "    </tr>\n",
              "  </tbody>\n",
              "</table>\n",
              "<p>150 rows × 4 columns</p>\n",
              "</div>\n",
              "      <button class=\"colab-df-convert\" onclick=\"convertToInteractive('df-b7f7ee7b-0c33-4c40-8091-a61dfcaa4b0c')\"\n",
              "              title=\"Convert this dataframe to an interactive table.\"\n",
              "              style=\"display:none;\">\n",
              "        \n",
              "  <svg xmlns=\"http://www.w3.org/2000/svg\" height=\"24px\"viewBox=\"0 0 24 24\"\n",
              "       width=\"24px\">\n",
              "    <path d=\"M0 0h24v24H0V0z\" fill=\"none\"/>\n",
              "    <path d=\"M18.56 5.44l.94 2.06.94-2.06 2.06-.94-2.06-.94-.94-2.06-.94 2.06-2.06.94zm-11 1L8.5 8.5l.94-2.06 2.06-.94-2.06-.94L8.5 2.5l-.94 2.06-2.06.94zm10 10l.94 2.06.94-2.06 2.06-.94-2.06-.94-.94-2.06-.94 2.06-2.06.94z\"/><path d=\"M17.41 7.96l-1.37-1.37c-.4-.4-.92-.59-1.43-.59-.52 0-1.04.2-1.43.59L10.3 9.45l-7.72 7.72c-.78.78-.78 2.05 0 2.83L4 21.41c.39.39.9.59 1.41.59.51 0 1.02-.2 1.41-.59l7.78-7.78 2.81-2.81c.8-.78.8-2.07 0-2.86zM5.41 20L4 18.59l7.72-7.72 1.47 1.35L5.41 20z\"/>\n",
              "  </svg>\n",
              "      </button>\n",
              "      \n",
              "  <style>\n",
              "    .colab-df-container {\n",
              "      display:flex;\n",
              "      flex-wrap:wrap;\n",
              "      gap: 12px;\n",
              "    }\n",
              "\n",
              "    .colab-df-convert {\n",
              "      background-color: #E8F0FE;\n",
              "      border: none;\n",
              "      border-radius: 50%;\n",
              "      cursor: pointer;\n",
              "      display: none;\n",
              "      fill: #1967D2;\n",
              "      height: 32px;\n",
              "      padding: 0 0 0 0;\n",
              "      width: 32px;\n",
              "    }\n",
              "\n",
              "    .colab-df-convert:hover {\n",
              "      background-color: #E2EBFA;\n",
              "      box-shadow: 0px 1px 2px rgba(60, 64, 67, 0.3), 0px 1px 3px 1px rgba(60, 64, 67, 0.15);\n",
              "      fill: #174EA6;\n",
              "    }\n",
              "\n",
              "    [theme=dark] .colab-df-convert {\n",
              "      background-color: #3B4455;\n",
              "      fill: #D2E3FC;\n",
              "    }\n",
              "\n",
              "    [theme=dark] .colab-df-convert:hover {\n",
              "      background-color: #434B5C;\n",
              "      box-shadow: 0px 1px 3px 1px rgba(0, 0, 0, 0.15);\n",
              "      filter: drop-shadow(0px 1px 2px rgba(0, 0, 0, 0.3));\n",
              "      fill: #FFFFFF;\n",
              "    }\n",
              "  </style>\n",
              "\n",
              "      <script>\n",
              "        const buttonEl =\n",
              "          document.querySelector('#df-b7f7ee7b-0c33-4c40-8091-a61dfcaa4b0c button.colab-df-convert');\n",
              "        buttonEl.style.display =\n",
              "          google.colab.kernel.accessAllowed ? 'block' : 'none';\n",
              "\n",
              "        async function convertToInteractive(key) {\n",
              "          const element = document.querySelector('#df-b7f7ee7b-0c33-4c40-8091-a61dfcaa4b0c');\n",
              "          const dataTable =\n",
              "            await google.colab.kernel.invokeFunction('convertToInteractive',\n",
              "                                                     [key], {});\n",
              "          if (!dataTable) return;\n",
              "\n",
              "          const docLinkHtml = 'Like what you see? Visit the ' +\n",
              "            '<a target=\"_blank\" href=https://colab.research.google.com/notebooks/data_table.ipynb>data table notebook</a>'\n",
              "            + ' to learn more about interactive tables.';\n",
              "          element.innerHTML = '';\n",
              "          dataTable['output_type'] = 'display_data';\n",
              "          await google.colab.output.renderOutput(dataTable, element);\n",
              "          const docLink = document.createElement('div');\n",
              "          docLink.innerHTML = docLinkHtml;\n",
              "          element.appendChild(docLink);\n",
              "        }\n",
              "      </script>\n",
              "    </div>\n",
              "  </div>\n",
              "  "
            ]
          },
          "metadata": {},
          "execution_count": 5
        }
      ]
    },
    {
      "cell_type": "code",
      "source": [
        "df['target'] = data.target"
      ],
      "metadata": {
        "id": "32l9ercLMamV"
      },
      "execution_count": 6,
      "outputs": []
    },
    {
      "cell_type": "code",
      "source": [
        "df"
      ],
      "metadata": {
        "colab": {
          "base_uri": "https://localhost:8080/",
          "height": 424
        },
        "id": "K9fpxxJLMauN",
        "outputId": "3d3205bf-1491-40a0-a739-2f7999ad8c14"
      },
      "execution_count": 7,
      "outputs": [
        {
          "output_type": "execute_result",
          "data": {
            "text/plain": [
              "     sepal length (cm)  sepal width (cm)  petal length (cm)  petal width (cm)  \\\n",
              "0                  5.1               3.5                1.4               0.2   \n",
              "1                  4.9               3.0                1.4               0.2   \n",
              "2                  4.7               3.2                1.3               0.2   \n",
              "3                  4.6               3.1                1.5               0.2   \n",
              "4                  5.0               3.6                1.4               0.2   \n",
              "..                 ...               ...                ...               ...   \n",
              "145                6.7               3.0                5.2               2.3   \n",
              "146                6.3               2.5                5.0               1.9   \n",
              "147                6.5               3.0                5.2               2.0   \n",
              "148                6.2               3.4                5.4               2.3   \n",
              "149                5.9               3.0                5.1               1.8   \n",
              "\n",
              "     target  \n",
              "0         0  \n",
              "1         0  \n",
              "2         0  \n",
              "3         0  \n",
              "4         0  \n",
              "..      ...  \n",
              "145       2  \n",
              "146       2  \n",
              "147       2  \n",
              "148       2  \n",
              "149       2  \n",
              "\n",
              "[150 rows x 5 columns]"
            ],
            "text/html": [
              "\n",
              "  <div id=\"df-29fafcf2-fc49-40aa-943a-4943e173ccb8\">\n",
              "    <div class=\"colab-df-container\">\n",
              "      <div>\n",
              "<style scoped>\n",
              "    .dataframe tbody tr th:only-of-type {\n",
              "        vertical-align: middle;\n",
              "    }\n",
              "\n",
              "    .dataframe tbody tr th {\n",
              "        vertical-align: top;\n",
              "    }\n",
              "\n",
              "    .dataframe thead th {\n",
              "        text-align: right;\n",
              "    }\n",
              "</style>\n",
              "<table border=\"1\" class=\"dataframe\">\n",
              "  <thead>\n",
              "    <tr style=\"text-align: right;\">\n",
              "      <th></th>\n",
              "      <th>sepal length (cm)</th>\n",
              "      <th>sepal width (cm)</th>\n",
              "      <th>petal length (cm)</th>\n",
              "      <th>petal width (cm)</th>\n",
              "      <th>target</th>\n",
              "    </tr>\n",
              "  </thead>\n",
              "  <tbody>\n",
              "    <tr>\n",
              "      <th>0</th>\n",
              "      <td>5.1</td>\n",
              "      <td>3.5</td>\n",
              "      <td>1.4</td>\n",
              "      <td>0.2</td>\n",
              "      <td>0</td>\n",
              "    </tr>\n",
              "    <tr>\n",
              "      <th>1</th>\n",
              "      <td>4.9</td>\n",
              "      <td>3.0</td>\n",
              "      <td>1.4</td>\n",
              "      <td>0.2</td>\n",
              "      <td>0</td>\n",
              "    </tr>\n",
              "    <tr>\n",
              "      <th>2</th>\n",
              "      <td>4.7</td>\n",
              "      <td>3.2</td>\n",
              "      <td>1.3</td>\n",
              "      <td>0.2</td>\n",
              "      <td>0</td>\n",
              "    </tr>\n",
              "    <tr>\n",
              "      <th>3</th>\n",
              "      <td>4.6</td>\n",
              "      <td>3.1</td>\n",
              "      <td>1.5</td>\n",
              "      <td>0.2</td>\n",
              "      <td>0</td>\n",
              "    </tr>\n",
              "    <tr>\n",
              "      <th>4</th>\n",
              "      <td>5.0</td>\n",
              "      <td>3.6</td>\n",
              "      <td>1.4</td>\n",
              "      <td>0.2</td>\n",
              "      <td>0</td>\n",
              "    </tr>\n",
              "    <tr>\n",
              "      <th>...</th>\n",
              "      <td>...</td>\n",
              "      <td>...</td>\n",
              "      <td>...</td>\n",
              "      <td>...</td>\n",
              "      <td>...</td>\n",
              "    </tr>\n",
              "    <tr>\n",
              "      <th>145</th>\n",
              "      <td>6.7</td>\n",
              "      <td>3.0</td>\n",
              "      <td>5.2</td>\n",
              "      <td>2.3</td>\n",
              "      <td>2</td>\n",
              "    </tr>\n",
              "    <tr>\n",
              "      <th>146</th>\n",
              "      <td>6.3</td>\n",
              "      <td>2.5</td>\n",
              "      <td>5.0</td>\n",
              "      <td>1.9</td>\n",
              "      <td>2</td>\n",
              "    </tr>\n",
              "    <tr>\n",
              "      <th>147</th>\n",
              "      <td>6.5</td>\n",
              "      <td>3.0</td>\n",
              "      <td>5.2</td>\n",
              "      <td>2.0</td>\n",
              "      <td>2</td>\n",
              "    </tr>\n",
              "    <tr>\n",
              "      <th>148</th>\n",
              "      <td>6.2</td>\n",
              "      <td>3.4</td>\n",
              "      <td>5.4</td>\n",
              "      <td>2.3</td>\n",
              "      <td>2</td>\n",
              "    </tr>\n",
              "    <tr>\n",
              "      <th>149</th>\n",
              "      <td>5.9</td>\n",
              "      <td>3.0</td>\n",
              "      <td>5.1</td>\n",
              "      <td>1.8</td>\n",
              "      <td>2</td>\n",
              "    </tr>\n",
              "  </tbody>\n",
              "</table>\n",
              "<p>150 rows × 5 columns</p>\n",
              "</div>\n",
              "      <button class=\"colab-df-convert\" onclick=\"convertToInteractive('df-29fafcf2-fc49-40aa-943a-4943e173ccb8')\"\n",
              "              title=\"Convert this dataframe to an interactive table.\"\n",
              "              style=\"display:none;\">\n",
              "        \n",
              "  <svg xmlns=\"http://www.w3.org/2000/svg\" height=\"24px\"viewBox=\"0 0 24 24\"\n",
              "       width=\"24px\">\n",
              "    <path d=\"M0 0h24v24H0V0z\" fill=\"none\"/>\n",
              "    <path d=\"M18.56 5.44l.94 2.06.94-2.06 2.06-.94-2.06-.94-.94-2.06-.94 2.06-2.06.94zm-11 1L8.5 8.5l.94-2.06 2.06-.94-2.06-.94L8.5 2.5l-.94 2.06-2.06.94zm10 10l.94 2.06.94-2.06 2.06-.94-2.06-.94-.94-2.06-.94 2.06-2.06.94z\"/><path d=\"M17.41 7.96l-1.37-1.37c-.4-.4-.92-.59-1.43-.59-.52 0-1.04.2-1.43.59L10.3 9.45l-7.72 7.72c-.78.78-.78 2.05 0 2.83L4 21.41c.39.39.9.59 1.41.59.51 0 1.02-.2 1.41-.59l7.78-7.78 2.81-2.81c.8-.78.8-2.07 0-2.86zM5.41 20L4 18.59l7.72-7.72 1.47 1.35L5.41 20z\"/>\n",
              "  </svg>\n",
              "      </button>\n",
              "      \n",
              "  <style>\n",
              "    .colab-df-container {\n",
              "      display:flex;\n",
              "      flex-wrap:wrap;\n",
              "      gap: 12px;\n",
              "    }\n",
              "\n",
              "    .colab-df-convert {\n",
              "      background-color: #E8F0FE;\n",
              "      border: none;\n",
              "      border-radius: 50%;\n",
              "      cursor: pointer;\n",
              "      display: none;\n",
              "      fill: #1967D2;\n",
              "      height: 32px;\n",
              "      padding: 0 0 0 0;\n",
              "      width: 32px;\n",
              "    }\n",
              "\n",
              "    .colab-df-convert:hover {\n",
              "      background-color: #E2EBFA;\n",
              "      box-shadow: 0px 1px 2px rgba(60, 64, 67, 0.3), 0px 1px 3px 1px rgba(60, 64, 67, 0.15);\n",
              "      fill: #174EA6;\n",
              "    }\n",
              "\n",
              "    [theme=dark] .colab-df-convert {\n",
              "      background-color: #3B4455;\n",
              "      fill: #D2E3FC;\n",
              "    }\n",
              "\n",
              "    [theme=dark] .colab-df-convert:hover {\n",
              "      background-color: #434B5C;\n",
              "      box-shadow: 0px 1px 3px 1px rgba(0, 0, 0, 0.15);\n",
              "      filter: drop-shadow(0px 1px 2px rgba(0, 0, 0, 0.3));\n",
              "      fill: #FFFFFF;\n",
              "    }\n",
              "  </style>\n",
              "\n",
              "      <script>\n",
              "        const buttonEl =\n",
              "          document.querySelector('#df-29fafcf2-fc49-40aa-943a-4943e173ccb8 button.colab-df-convert');\n",
              "        buttonEl.style.display =\n",
              "          google.colab.kernel.accessAllowed ? 'block' : 'none';\n",
              "\n",
              "        async function convertToInteractive(key) {\n",
              "          const element = document.querySelector('#df-29fafcf2-fc49-40aa-943a-4943e173ccb8');\n",
              "          const dataTable =\n",
              "            await google.colab.kernel.invokeFunction('convertToInteractive',\n",
              "                                                     [key], {});\n",
              "          if (!dataTable) return;\n",
              "\n",
              "          const docLinkHtml = 'Like what you see? Visit the ' +\n",
              "            '<a target=\"_blank\" href=https://colab.research.google.com/notebooks/data_table.ipynb>data table notebook</a>'\n",
              "            + ' to learn more about interactive tables.';\n",
              "          element.innerHTML = '';\n",
              "          dataTable['output_type'] = 'display_data';\n",
              "          await google.colab.output.renderOutput(dataTable, element);\n",
              "          const docLink = document.createElement('div');\n",
              "          docLink.innerHTML = docLinkHtml;\n",
              "          element.appendChild(docLink);\n",
              "        }\n",
              "      </script>\n",
              "    </div>\n",
              "  </div>\n",
              "  "
            ]
          },
          "metadata": {},
          "execution_count": 7
        }
      ]
    },
    {
      "cell_type": "code",
      "source": [
        "df['target'].value_counts()"
      ],
      "metadata": {
        "colab": {
          "base_uri": "https://localhost:8080/"
        },
        "id": "MK12NGRmMa2V",
        "outputId": "9a00b090-8f8f-4307-b660-ea9aa447d9fa"
      },
      "execution_count": 8,
      "outputs": [
        {
          "output_type": "execute_result",
          "data": {
            "text/plain": [
              "0    50\n",
              "1    50\n",
              "2    50\n",
              "Name: target, dtype: int64"
            ]
          },
          "metadata": {},
          "execution_count": 8
        }
      ]
    },
    {
      "cell_type": "code",
      "source": [
        ""
      ],
      "metadata": {
        "id": "r-D1KTGHNQDu"
      },
      "execution_count": null,
      "outputs": []
    },
    {
      "cell_type": "markdown",
      "source": [
        "### Train Test Split"
      ],
      "metadata": {
        "id": "U4haeO3sMa9N"
      }
    },
    {
      "cell_type": "code",
      "source": [
        "X = df[df.columns[:-1]].values\n",
        "\n",
        "y = pd.get_dummies(df['target']).values"
      ],
      "metadata": {
        "id": "DVmXoaDxMbE1"
      },
      "execution_count": 11,
      "outputs": []
    },
    {
      "cell_type": "code",
      "source": [
        "y"
      ],
      "metadata": {
        "colab": {
          "base_uri": "https://localhost:8080/"
        },
        "id": "YbIXVyxvMbLt",
        "outputId": "813d0e2f-daa2-4622-ceb4-a0c5fd8d3e99"
      },
      "execution_count": 12,
      "outputs": [
        {
          "output_type": "execute_result",
          "data": {
            "text/plain": [
              "array([[1, 0, 0],\n",
              "       [1, 0, 0],\n",
              "       [1, 0, 0],\n",
              "       [1, 0, 0],\n",
              "       [1, 0, 0],\n",
              "       [1, 0, 0],\n",
              "       [1, 0, 0],\n",
              "       [1, 0, 0],\n",
              "       [1, 0, 0],\n",
              "       [1, 0, 0],\n",
              "       [1, 0, 0],\n",
              "       [1, 0, 0],\n",
              "       [1, 0, 0],\n",
              "       [1, 0, 0],\n",
              "       [1, 0, 0],\n",
              "       [1, 0, 0],\n",
              "       [1, 0, 0],\n",
              "       [1, 0, 0],\n",
              "       [1, 0, 0],\n",
              "       [1, 0, 0],\n",
              "       [1, 0, 0],\n",
              "       [1, 0, 0],\n",
              "       [1, 0, 0],\n",
              "       [1, 0, 0],\n",
              "       [1, 0, 0],\n",
              "       [1, 0, 0],\n",
              "       [1, 0, 0],\n",
              "       [1, 0, 0],\n",
              "       [1, 0, 0],\n",
              "       [1, 0, 0],\n",
              "       [1, 0, 0],\n",
              "       [1, 0, 0],\n",
              "       [1, 0, 0],\n",
              "       [1, 0, 0],\n",
              "       [1, 0, 0],\n",
              "       [1, 0, 0],\n",
              "       [1, 0, 0],\n",
              "       [1, 0, 0],\n",
              "       [1, 0, 0],\n",
              "       [1, 0, 0],\n",
              "       [1, 0, 0],\n",
              "       [1, 0, 0],\n",
              "       [1, 0, 0],\n",
              "       [1, 0, 0],\n",
              "       [1, 0, 0],\n",
              "       [1, 0, 0],\n",
              "       [1, 0, 0],\n",
              "       [1, 0, 0],\n",
              "       [1, 0, 0],\n",
              "       [1, 0, 0],\n",
              "       [0, 1, 0],\n",
              "       [0, 1, 0],\n",
              "       [0, 1, 0],\n",
              "       [0, 1, 0],\n",
              "       [0, 1, 0],\n",
              "       [0, 1, 0],\n",
              "       [0, 1, 0],\n",
              "       [0, 1, 0],\n",
              "       [0, 1, 0],\n",
              "       [0, 1, 0],\n",
              "       [0, 1, 0],\n",
              "       [0, 1, 0],\n",
              "       [0, 1, 0],\n",
              "       [0, 1, 0],\n",
              "       [0, 1, 0],\n",
              "       [0, 1, 0],\n",
              "       [0, 1, 0],\n",
              "       [0, 1, 0],\n",
              "       [0, 1, 0],\n",
              "       [0, 1, 0],\n",
              "       [0, 1, 0],\n",
              "       [0, 1, 0],\n",
              "       [0, 1, 0],\n",
              "       [0, 1, 0],\n",
              "       [0, 1, 0],\n",
              "       [0, 1, 0],\n",
              "       [0, 1, 0],\n",
              "       [0, 1, 0],\n",
              "       [0, 1, 0],\n",
              "       [0, 1, 0],\n",
              "       [0, 1, 0],\n",
              "       [0, 1, 0],\n",
              "       [0, 1, 0],\n",
              "       [0, 1, 0],\n",
              "       [0, 1, 0],\n",
              "       [0, 1, 0],\n",
              "       [0, 1, 0],\n",
              "       [0, 1, 0],\n",
              "       [0, 1, 0],\n",
              "       [0, 1, 0],\n",
              "       [0, 1, 0],\n",
              "       [0, 1, 0],\n",
              "       [0, 1, 0],\n",
              "       [0, 1, 0],\n",
              "       [0, 1, 0],\n",
              "       [0, 1, 0],\n",
              "       [0, 1, 0],\n",
              "       [0, 1, 0],\n",
              "       [0, 1, 0],\n",
              "       [0, 1, 0],\n",
              "       [0, 0, 1],\n",
              "       [0, 0, 1],\n",
              "       [0, 0, 1],\n",
              "       [0, 0, 1],\n",
              "       [0, 0, 1],\n",
              "       [0, 0, 1],\n",
              "       [0, 0, 1],\n",
              "       [0, 0, 1],\n",
              "       [0, 0, 1],\n",
              "       [0, 0, 1],\n",
              "       [0, 0, 1],\n",
              "       [0, 0, 1],\n",
              "       [0, 0, 1],\n",
              "       [0, 0, 1],\n",
              "       [0, 0, 1],\n",
              "       [0, 0, 1],\n",
              "       [0, 0, 1],\n",
              "       [0, 0, 1],\n",
              "       [0, 0, 1],\n",
              "       [0, 0, 1],\n",
              "       [0, 0, 1],\n",
              "       [0, 0, 1],\n",
              "       [0, 0, 1],\n",
              "       [0, 0, 1],\n",
              "       [0, 0, 1],\n",
              "       [0, 0, 1],\n",
              "       [0, 0, 1],\n",
              "       [0, 0, 1],\n",
              "       [0, 0, 1],\n",
              "       [0, 0, 1],\n",
              "       [0, 0, 1],\n",
              "       [0, 0, 1],\n",
              "       [0, 0, 1],\n",
              "       [0, 0, 1],\n",
              "       [0, 0, 1],\n",
              "       [0, 0, 1],\n",
              "       [0, 0, 1],\n",
              "       [0, 0, 1],\n",
              "       [0, 0, 1],\n",
              "       [0, 0, 1],\n",
              "       [0, 0, 1],\n",
              "       [0, 0, 1],\n",
              "       [0, 0, 1],\n",
              "       [0, 0, 1],\n",
              "       [0, 0, 1],\n",
              "       [0, 0, 1],\n",
              "       [0, 0, 1],\n",
              "       [0, 0, 1],\n",
              "       [0, 0, 1],\n",
              "       [0, 0, 1]], dtype=uint8)"
            ]
          },
          "metadata": {},
          "execution_count": 12
        }
      ]
    },
    {
      "cell_type": "code",
      "source": [
        "X_train, X_test, y_train, y_test = train_test_split(X, y, test_size=0.30)"
      ],
      "metadata": {
        "id": "w8XIUwg1MbT1"
      },
      "execution_count": 13,
      "outputs": []
    },
    {
      "cell_type": "code",
      "source": [
        "scaler = MinMaxScaler()\n",
        "\n",
        "X_train = scaler.fit_transform(X_train)\n",
        "X_test = scaler.transform(X_test)"
      ],
      "metadata": {
        "id": "NDlTctCvMbal"
      },
      "execution_count": 14,
      "outputs": []
    },
    {
      "cell_type": "code",
      "source": [
        "X_test"
      ],
      "metadata": {
        "colab": {
          "base_uri": "https://localhost:8080/"
        },
        "id": "1Pg_jDVMMbjl",
        "outputId": "0f54ba2a-5210-4e01-aa20-e962cf9071ab"
      },
      "execution_count": 15,
      "outputs": [
        {
          "output_type": "execute_result",
          "data": {
            "text/plain": [
              "array([[0.63888889, 0.375     , 0.61016949, 0.5       ],\n",
              "       [0.5       , 0.33333333, 0.50847458, 0.5       ],\n",
              "       [0.66666667, 0.45833333, 0.57627119, 0.54166667],\n",
              "       [0.80555556, 0.5       , 0.84745763, 0.70833333],\n",
              "       [0.22222222, 0.625     , 0.06779661, 0.04166667],\n",
              "       [0.02777778, 0.5       , 0.05084746, 0.04166667],\n",
              "       [0.36111111, 0.375     , 0.44067797, 0.5       ],\n",
              "       [0.41666667, 0.29166667, 0.69491525, 0.75      ],\n",
              "       [0.72222222, 0.45833333, 0.74576271, 0.83333333],\n",
              "       [0.19444444, 0.5       , 0.03389831, 0.04166667],\n",
              "       [0.25      , 0.875     , 0.08474576, 0.        ],\n",
              "       [0.66666667, 0.45833333, 0.77966102, 0.95833333],\n",
              "       [0.19444444, 0.125     , 0.38983051, 0.375     ],\n",
              "       [0.47222222, 0.41666667, 0.6440678 , 0.70833333],\n",
              "       [0.52777778, 0.33333333, 0.6440678 , 0.70833333],\n",
              "       [0.94444444, 0.33333333, 0.96610169, 0.79166667],\n",
              "       [0.66666667, 0.41666667, 0.71186441, 0.91666667],\n",
              "       [0.47222222, 0.08333333, 0.6779661 , 0.58333333],\n",
              "       [0.52777778, 0.08333333, 0.59322034, 0.58333333],\n",
              "       [0.41666667, 0.33333333, 0.69491525, 0.95833333],\n",
              "       [0.22222222, 0.625     , 0.06779661, 0.08333333],\n",
              "       [0.38888889, 0.33333333, 0.52542373, 0.5       ],\n",
              "       [0.02777778, 0.375     , 0.06779661, 0.04166667],\n",
              "       [0.41666667, 0.29166667, 0.69491525, 0.75      ],\n",
              "       [0.61111111, 0.41666667, 0.81355932, 0.875     ],\n",
              "       [0.5       , 0.375     , 0.62711864, 0.54166667],\n",
              "       [0.41666667, 0.29166667, 0.52542373, 0.375     ],\n",
              "       [0.91666667, 0.41666667, 0.94915254, 0.83333333],\n",
              "       [0.36111111, 0.41666667, 0.52542373, 0.5       ],\n",
              "       [0.52777778, 0.58333333, 0.74576271, 0.91666667],\n",
              "       [0.58333333, 0.29166667, 0.72881356, 0.75      ],\n",
              "       [0.36111111, 0.41666667, 0.59322034, 0.58333333],\n",
              "       [0.30555556, 0.79166667, 0.11864407, 0.125     ],\n",
              "       [0.36111111, 0.29166667, 0.54237288, 0.5       ],\n",
              "       [0.66666667, 0.54166667, 0.79661017, 1.        ],\n",
              "       [0.16666667, 0.66666667, 0.06779661, 0.        ],\n",
              "       [0.77777778, 0.41666667, 0.83050847, 0.83333333],\n",
              "       [0.5       , 0.41666667, 0.66101695, 0.70833333],\n",
              "       [0.30555556, 0.58333333, 0.11864407, 0.04166667],\n",
              "       [0.13888889, 0.45833333, 0.10169492, 0.04166667],\n",
              "       [0.44444444, 0.41666667, 0.54237288, 0.58333333],\n",
              "       [0.22222222, 0.75      , 0.10169492, 0.04166667],\n",
              "       [0.33333333, 0.16666667, 0.47457627, 0.41666667],\n",
              "       [0.75      , 0.5       , 0.62711864, 0.54166667],\n",
              "       [0.13888889, 0.41666667, 0.06779661, 0.        ]])"
            ]
          },
          "metadata": {},
          "execution_count": 15
        }
      ]
    },
    {
      "cell_type": "code",
      "source": [
        "y_test"
      ],
      "metadata": {
        "colab": {
          "base_uri": "https://localhost:8080/"
        },
        "id": "d5zKtvTKN44P",
        "outputId": "bd3a83d3-d4ce-443f-85e1-3f2c3ba01dc2"
      },
      "execution_count": 16,
      "outputs": [
        {
          "output_type": "execute_result",
          "data": {
            "text/plain": [
              "array([[0, 1, 0],\n",
              "       [0, 1, 0],\n",
              "       [0, 1, 0],\n",
              "       [0, 0, 1],\n",
              "       [1, 0, 0],\n",
              "       [1, 0, 0],\n",
              "       [0, 1, 0],\n",
              "       [0, 0, 1],\n",
              "       [0, 0, 1],\n",
              "       [1, 0, 0],\n",
              "       [1, 0, 0],\n",
              "       [0, 0, 1],\n",
              "       [0, 1, 0],\n",
              "       [0, 0, 1],\n",
              "       [0, 0, 1],\n",
              "       [0, 0, 1],\n",
              "       [0, 0, 1],\n",
              "       [0, 0, 1],\n",
              "       [0, 1, 0],\n",
              "       [0, 0, 1],\n",
              "       [1, 0, 0],\n",
              "       [0, 1, 0],\n",
              "       [1, 0, 0],\n",
              "       [0, 0, 1],\n",
              "       [0, 0, 1],\n",
              "       [0, 1, 0],\n",
              "       [0, 1, 0],\n",
              "       [0, 0, 1],\n",
              "       [0, 1, 0],\n",
              "       [0, 0, 1],\n",
              "       [0, 0, 1],\n",
              "       [0, 1, 0],\n",
              "       [1, 0, 0],\n",
              "       [0, 1, 0],\n",
              "       [0, 0, 1],\n",
              "       [1, 0, 0],\n",
              "       [0, 0, 1],\n",
              "       [0, 0, 1],\n",
              "       [1, 0, 0],\n",
              "       [1, 0, 0],\n",
              "       [0, 1, 0],\n",
              "       [1, 0, 0],\n",
              "       [0, 1, 0],\n",
              "       [0, 1, 0],\n",
              "       [1, 0, 0]], dtype=uint8)"
            ]
          },
          "metadata": {},
          "execution_count": 16
        }
      ]
    },
    {
      "cell_type": "markdown",
      "source": [
        "### Build our Model\n",
        "\n",
        "Hidden Layers\n",
        "- 3 Layers\n",
        "- 4 units per layer\n",
        "- 'relu' for the activation\n",
        "\n",
        "Compile\n",
        "- Adam optimizer\n",
        "- loss: categorical_crossentropy\n",
        "- metrics: accuracy\n",
        "\n",
        "Callbacks - Early Stopping"
      ],
      "metadata": {
        "id": "3bwK4dALN6i_"
      }
    },
    {
      "cell_type": "code",
      "source": [
        "model_1 = Sequential()\n",
        "\n",
        "model_1.add(Dense(4, activation='relu'))\n",
        "model_1.add(Dense(4, activation='relu'))\n",
        "model_1.add(Dense(4, activation='relu'))\n",
        "\n",
        "# Output layer is slightly different\n",
        "model_1.add(Dense(3, activation='softmax'))\n",
        "\n",
        "# Compile\n",
        "model_1.compile(\n",
        "    optimizer=Adam(),\n",
        "    loss='categorical_crossentropy',\n",
        "    metrics=['accuracy']\n",
        ")\n",
        "\n",
        "es = EarlyStopping(monitor='val_loss', mode='min', patience=10, verbose=1)\n",
        "\n",
        "history_1 = model_1.fit(\n",
        "    X_train,\n",
        "    y_train,\n",
        "    validation_data=(X_test, y_test),\n",
        "    epochs=250,\n",
        "    callbacks=[es]\n",
        ")"
      ],
      "metadata": {
        "colab": {
          "base_uri": "https://localhost:8080/"
        },
        "id": "Ey4bi7TxN-sW",
        "outputId": "124a9a0b-4ff1-47d8-a837-51695ea61601"
      },
      "execution_count": 18,
      "outputs": [
        {
          "output_type": "stream",
          "name": "stdout",
          "text": [
            "Epoch 1/250\n",
            "4/4 [==============================] - 2s 139ms/step - loss: 1.1036 - accuracy: 0.3048 - val_loss: 1.0311 - val_accuracy: 0.4000\n",
            "Epoch 2/250\n",
            "4/4 [==============================] - 0s 23ms/step - loss: 1.0953 - accuracy: 0.3048 - val_loss: 1.0257 - val_accuracy: 0.4000\n",
            "Epoch 3/250\n",
            "4/4 [==============================] - 0s 21ms/step - loss: 1.0868 - accuracy: 0.3048 - val_loss: 1.0208 - val_accuracy: 0.4000\n",
            "Epoch 4/250\n",
            "4/4 [==============================] - 0s 22ms/step - loss: 1.0805 - accuracy: 0.3048 - val_loss: 1.0163 - val_accuracy: 0.4000\n",
            "Epoch 5/250\n",
            "4/4 [==============================] - 0s 22ms/step - loss: 1.0729 - accuracy: 0.3048 - val_loss: 1.0118 - val_accuracy: 0.4000\n",
            "Epoch 6/250\n",
            "4/4 [==============================] - 0s 17ms/step - loss: 1.0662 - accuracy: 0.3048 - val_loss: 1.0073 - val_accuracy: 0.4000\n",
            "Epoch 7/250\n",
            "4/4 [==============================] - 0s 17ms/step - loss: 1.0594 - accuracy: 0.3048 - val_loss: 1.0030 - val_accuracy: 0.4000\n",
            "Epoch 8/250\n",
            "4/4 [==============================] - 0s 17ms/step - loss: 1.0534 - accuracy: 0.3048 - val_loss: 0.9986 - val_accuracy: 0.4000\n",
            "Epoch 9/250\n",
            "4/4 [==============================] - 0s 19ms/step - loss: 1.0472 - accuracy: 0.3143 - val_loss: 0.9947 - val_accuracy: 0.4000\n",
            "Epoch 10/250\n",
            "4/4 [==============================] - 0s 18ms/step - loss: 1.0414 - accuracy: 0.3143 - val_loss: 0.9911 - val_accuracy: 0.4000\n",
            "Epoch 11/250\n",
            "4/4 [==============================] - 0s 15ms/step - loss: 1.0358 - accuracy: 0.3143 - val_loss: 0.9876 - val_accuracy: 0.4000\n",
            "Epoch 12/250\n",
            "4/4 [==============================] - 0s 21ms/step - loss: 1.0309 - accuracy: 0.3143 - val_loss: 0.9842 - val_accuracy: 0.4000\n",
            "Epoch 13/250\n",
            "4/4 [==============================] - 0s 15ms/step - loss: 1.0258 - accuracy: 0.3238 - val_loss: 0.9809 - val_accuracy: 0.4222\n",
            "Epoch 14/250\n",
            "4/4 [==============================] - 0s 22ms/step - loss: 1.0209 - accuracy: 0.3333 - val_loss: 0.9779 - val_accuracy: 0.4222\n",
            "Epoch 15/250\n",
            "4/4 [==============================] - 0s 17ms/step - loss: 1.0166 - accuracy: 0.3333 - val_loss: 0.9750 - val_accuracy: 0.4444\n",
            "Epoch 16/250\n",
            "4/4 [==============================] - 0s 16ms/step - loss: 1.0122 - accuracy: 0.3333 - val_loss: 0.9721 - val_accuracy: 0.4444\n",
            "Epoch 17/250\n",
            "4/4 [==============================] - 0s 21ms/step - loss: 1.0077 - accuracy: 0.3333 - val_loss: 0.9690 - val_accuracy: 0.4667\n",
            "Epoch 18/250\n",
            "4/4 [==============================] - 0s 17ms/step - loss: 1.0035 - accuracy: 0.3619 - val_loss: 0.9659 - val_accuracy: 0.4667\n",
            "Epoch 19/250\n",
            "4/4 [==============================] - 0s 16ms/step - loss: 0.9993 - accuracy: 0.3905 - val_loss: 0.9628 - val_accuracy: 0.5111\n",
            "Epoch 20/250\n",
            "4/4 [==============================] - 0s 15ms/step - loss: 0.9948 - accuracy: 0.4190 - val_loss: 0.9596 - val_accuracy: 0.5111\n",
            "Epoch 21/250\n",
            "4/4 [==============================] - 0s 19ms/step - loss: 0.9906 - accuracy: 0.4381 - val_loss: 0.9565 - val_accuracy: 0.5111\n",
            "Epoch 22/250\n",
            "4/4 [==============================] - 0s 18ms/step - loss: 0.9864 - accuracy: 0.4571 - val_loss: 0.9530 - val_accuracy: 0.5111\n",
            "Epoch 23/250\n",
            "4/4 [==============================] - 0s 15ms/step - loss: 0.9821 - accuracy: 0.4667 - val_loss: 0.9493 - val_accuracy: 0.5333\n",
            "Epoch 24/250\n",
            "4/4 [==============================] - 0s 26ms/step - loss: 0.9780 - accuracy: 0.4857 - val_loss: 0.9456 - val_accuracy: 0.5778\n",
            "Epoch 25/250\n",
            "4/4 [==============================] - 0s 22ms/step - loss: 0.9740 - accuracy: 0.5238 - val_loss: 0.9419 - val_accuracy: 0.5778\n",
            "Epoch 26/250\n",
            "4/4 [==============================] - 0s 16ms/step - loss: 0.9697 - accuracy: 0.5524 - val_loss: 0.9382 - val_accuracy: 0.5778\n",
            "Epoch 27/250\n",
            "4/4 [==============================] - 0s 22ms/step - loss: 0.9655 - accuracy: 0.5524 - val_loss: 0.9346 - val_accuracy: 0.5778\n",
            "Epoch 28/250\n",
            "4/4 [==============================] - 0s 18ms/step - loss: 0.9613 - accuracy: 0.5810 - val_loss: 0.9311 - val_accuracy: 0.6000\n",
            "Epoch 29/250\n",
            "4/4 [==============================] - 0s 19ms/step - loss: 0.9570 - accuracy: 0.6000 - val_loss: 0.9279 - val_accuracy: 0.6222\n",
            "Epoch 30/250\n",
            "4/4 [==============================] - 0s 18ms/step - loss: 0.9525 - accuracy: 0.6095 - val_loss: 0.9246 - val_accuracy: 0.6222\n",
            "Epoch 31/250\n",
            "4/4 [==============================] - 0s 18ms/step - loss: 0.9481 - accuracy: 0.6286 - val_loss: 0.9208 - val_accuracy: 0.6444\n",
            "Epoch 32/250\n",
            "4/4 [==============================] - 0s 16ms/step - loss: 0.9436 - accuracy: 0.6286 - val_loss: 0.9167 - val_accuracy: 0.6667\n",
            "Epoch 33/250\n",
            "4/4 [==============================] - 0s 22ms/step - loss: 0.9388 - accuracy: 0.6286 - val_loss: 0.9122 - val_accuracy: 0.6667\n",
            "Epoch 34/250\n",
            "4/4 [==============================] - 0s 16ms/step - loss: 0.9340 - accuracy: 0.6286 - val_loss: 0.9075 - val_accuracy: 0.6667\n",
            "Epoch 35/250\n",
            "4/4 [==============================] - 0s 16ms/step - loss: 0.9291 - accuracy: 0.6476 - val_loss: 0.9025 - val_accuracy: 0.6667\n",
            "Epoch 36/250\n",
            "4/4 [==============================] - 0s 23ms/step - loss: 0.9245 - accuracy: 0.6476 - val_loss: 0.8975 - val_accuracy: 0.6667\n",
            "Epoch 37/250\n",
            "4/4 [==============================] - 0s 18ms/step - loss: 0.9196 - accuracy: 0.6571 - val_loss: 0.8930 - val_accuracy: 0.6667\n",
            "Epoch 38/250\n",
            "4/4 [==============================] - 0s 21ms/step - loss: 0.9147 - accuracy: 0.6571 - val_loss: 0.8882 - val_accuracy: 0.6667\n",
            "Epoch 39/250\n",
            "4/4 [==============================] - 0s 17ms/step - loss: 0.9099 - accuracy: 0.6571 - val_loss: 0.8831 - val_accuracy: 0.6667\n",
            "Epoch 40/250\n",
            "4/4 [==============================] - 0s 18ms/step - loss: 0.9049 - accuracy: 0.6571 - val_loss: 0.8780 - val_accuracy: 0.6667\n",
            "Epoch 41/250\n",
            "4/4 [==============================] - 0s 18ms/step - loss: 0.9000 - accuracy: 0.6667 - val_loss: 0.8730 - val_accuracy: 0.6667\n",
            "Epoch 42/250\n",
            "4/4 [==============================] - 0s 18ms/step - loss: 0.8949 - accuracy: 0.6667 - val_loss: 0.8677 - val_accuracy: 0.6667\n",
            "Epoch 43/250\n",
            "4/4 [==============================] - 0s 20ms/step - loss: 0.8901 - accuracy: 0.6667 - val_loss: 0.8623 - val_accuracy: 0.6667\n",
            "Epoch 44/250\n",
            "4/4 [==============================] - 0s 18ms/step - loss: 0.8846 - accuracy: 0.6667 - val_loss: 0.8571 - val_accuracy: 0.6667\n",
            "Epoch 45/250\n",
            "4/4 [==============================] - 0s 24ms/step - loss: 0.8796 - accuracy: 0.6667 - val_loss: 0.8517 - val_accuracy: 0.6667\n",
            "Epoch 46/250\n",
            "4/4 [==============================] - 0s 17ms/step - loss: 0.8744 - accuracy: 0.6667 - val_loss: 0.8467 - val_accuracy: 0.6667\n",
            "Epoch 47/250\n",
            "4/4 [==============================] - 0s 18ms/step - loss: 0.8694 - accuracy: 0.6667 - val_loss: 0.8415 - val_accuracy: 0.6667\n",
            "Epoch 48/250\n",
            "4/4 [==============================] - 0s 16ms/step - loss: 0.8641 - accuracy: 0.6667 - val_loss: 0.8364 - val_accuracy: 0.6667\n",
            "Epoch 49/250\n",
            "4/4 [==============================] - 0s 16ms/step - loss: 0.8587 - accuracy: 0.6667 - val_loss: 0.8304 - val_accuracy: 0.6667\n",
            "Epoch 50/250\n",
            "4/4 [==============================] - 0s 22ms/step - loss: 0.8532 - accuracy: 0.6667 - val_loss: 0.8234 - val_accuracy: 0.6667\n",
            "Epoch 51/250\n",
            "4/4 [==============================] - 0s 30ms/step - loss: 0.8475 - accuracy: 0.6667 - val_loss: 0.8149 - val_accuracy: 0.6667\n",
            "Epoch 52/250\n",
            "4/4 [==============================] - 0s 18ms/step - loss: 0.8409 - accuracy: 0.6667 - val_loss: 0.8074 - val_accuracy: 0.6667\n",
            "Epoch 53/250\n",
            "4/4 [==============================] - 0s 22ms/step - loss: 0.8350 - accuracy: 0.6667 - val_loss: 0.8002 - val_accuracy: 0.6667\n",
            "Epoch 54/250\n",
            "4/4 [==============================] - 0s 18ms/step - loss: 0.8289 - accuracy: 0.6667 - val_loss: 0.7940 - val_accuracy: 0.6667\n",
            "Epoch 55/250\n",
            "4/4 [==============================] - 0s 21ms/step - loss: 0.8233 - accuracy: 0.6667 - val_loss: 0.7879 - val_accuracy: 0.6667\n",
            "Epoch 56/250\n",
            "4/4 [==============================] - 0s 18ms/step - loss: 0.8175 - accuracy: 0.6667 - val_loss: 0.7823 - val_accuracy: 0.6667\n",
            "Epoch 57/250\n",
            "4/4 [==============================] - 0s 16ms/step - loss: 0.8113 - accuracy: 0.6667 - val_loss: 0.7766 - val_accuracy: 0.6667\n",
            "Epoch 58/250\n",
            "4/4 [==============================] - 0s 15ms/step - loss: 0.8056 - accuracy: 0.6667 - val_loss: 0.7712 - val_accuracy: 0.6667\n",
            "Epoch 59/250\n",
            "4/4 [==============================] - 0s 15ms/step - loss: 0.7997 - accuracy: 0.6667 - val_loss: 0.7653 - val_accuracy: 0.6667\n",
            "Epoch 60/250\n",
            "4/4 [==============================] - 0s 16ms/step - loss: 0.7940 - accuracy: 0.6667 - val_loss: 0.7592 - val_accuracy: 0.6667\n",
            "Epoch 61/250\n",
            "4/4 [==============================] - 0s 17ms/step - loss: 0.7886 - accuracy: 0.6667 - val_loss: 0.7534 - val_accuracy: 0.6667\n",
            "Epoch 62/250\n",
            "4/4 [==============================] - 0s 21ms/step - loss: 0.7832 - accuracy: 0.6667 - val_loss: 0.7477 - val_accuracy: 0.6667\n",
            "Epoch 63/250\n",
            "4/4 [==============================] - 0s 22ms/step - loss: 0.7777 - accuracy: 0.6667 - val_loss: 0.7426 - val_accuracy: 0.6667\n",
            "Epoch 64/250\n",
            "4/4 [==============================] - 0s 19ms/step - loss: 0.7721 - accuracy: 0.6667 - val_loss: 0.7374 - val_accuracy: 0.6667\n",
            "Epoch 65/250\n",
            "4/4 [==============================] - 0s 25ms/step - loss: 0.7668 - accuracy: 0.6667 - val_loss: 0.7319 - val_accuracy: 0.6667\n",
            "Epoch 66/250\n",
            "4/4 [==============================] - 0s 20ms/step - loss: 0.7616 - accuracy: 0.6667 - val_loss: 0.7269 - val_accuracy: 0.6667\n",
            "Epoch 67/250\n",
            "4/4 [==============================] - 0s 18ms/step - loss: 0.7570 - accuracy: 0.6667 - val_loss: 0.7224 - val_accuracy: 0.6667\n",
            "Epoch 68/250\n",
            "4/4 [==============================] - 0s 17ms/step - loss: 0.7514 - accuracy: 0.6667 - val_loss: 0.7172 - val_accuracy: 0.6667\n",
            "Epoch 69/250\n",
            "4/4 [==============================] - 0s 24ms/step - loss: 0.7466 - accuracy: 0.6667 - val_loss: 0.7124 - val_accuracy: 0.6667\n",
            "Epoch 70/250\n",
            "4/4 [==============================] - 0s 20ms/step - loss: 0.7415 - accuracy: 0.6667 - val_loss: 0.7081 - val_accuracy: 0.6667\n",
            "Epoch 71/250\n",
            "4/4 [==============================] - 0s 22ms/step - loss: 0.7366 - accuracy: 0.6667 - val_loss: 0.7033 - val_accuracy: 0.6667\n",
            "Epoch 72/250\n",
            "4/4 [==============================] - 0s 18ms/step - loss: 0.7317 - accuracy: 0.6762 - val_loss: 0.6981 - val_accuracy: 0.6667\n",
            "Epoch 73/250\n",
            "4/4 [==============================] - 0s 18ms/step - loss: 0.7270 - accuracy: 0.6762 - val_loss: 0.6933 - val_accuracy: 0.6667\n",
            "Epoch 74/250\n",
            "4/4 [==============================] - 0s 18ms/step - loss: 0.7218 - accuracy: 0.6762 - val_loss: 0.6899 - val_accuracy: 0.6889\n",
            "Epoch 75/250\n",
            "4/4 [==============================] - 0s 19ms/step - loss: 0.7168 - accuracy: 0.6857 - val_loss: 0.6856 - val_accuracy: 0.6889\n",
            "Epoch 76/250\n",
            "4/4 [==============================] - 0s 16ms/step - loss: 0.7120 - accuracy: 0.6857 - val_loss: 0.6802 - val_accuracy: 0.6889\n",
            "Epoch 77/250\n",
            "4/4 [==============================] - 0s 17ms/step - loss: 0.7070 - accuracy: 0.6857 - val_loss: 0.6754 - val_accuracy: 0.6889\n",
            "Epoch 78/250\n",
            "4/4 [==============================] - 0s 21ms/step - loss: 0.7024 - accuracy: 0.6857 - val_loss: 0.6707 - val_accuracy: 0.6889\n",
            "Epoch 79/250\n",
            "4/4 [==============================] - 0s 17ms/step - loss: 0.6975 - accuracy: 0.6952 - val_loss: 0.6665 - val_accuracy: 0.6889\n",
            "Epoch 80/250\n",
            "4/4 [==============================] - 0s 16ms/step - loss: 0.6927 - accuracy: 0.6952 - val_loss: 0.6618 - val_accuracy: 0.6889\n",
            "Epoch 81/250\n",
            "4/4 [==============================] - 0s 22ms/step - loss: 0.6880 - accuracy: 0.6952 - val_loss: 0.6569 - val_accuracy: 0.6889\n",
            "Epoch 82/250\n",
            "4/4 [==============================] - 0s 23ms/step - loss: 0.6836 - accuracy: 0.6952 - val_loss: 0.6524 - val_accuracy: 0.6889\n",
            "Epoch 83/250\n",
            "4/4 [==============================] - 0s 24ms/step - loss: 0.6787 - accuracy: 0.6952 - val_loss: 0.6487 - val_accuracy: 0.6889\n",
            "Epoch 84/250\n",
            "4/4 [==============================] - 0s 17ms/step - loss: 0.6739 - accuracy: 0.6952 - val_loss: 0.6463 - val_accuracy: 0.6889\n",
            "Epoch 85/250\n",
            "4/4 [==============================] - 0s 22ms/step - loss: 0.6690 - accuracy: 0.6952 - val_loss: 0.6427 - val_accuracy: 0.6889\n",
            "Epoch 86/250\n",
            "4/4 [==============================] - 0s 21ms/step - loss: 0.6645 - accuracy: 0.6952 - val_loss: 0.6397 - val_accuracy: 0.6889\n",
            "Epoch 87/250\n",
            "4/4 [==============================] - 0s 17ms/step - loss: 0.6597 - accuracy: 0.6952 - val_loss: 0.6348 - val_accuracy: 0.6889\n",
            "Epoch 88/250\n",
            "4/4 [==============================] - 0s 21ms/step - loss: 0.6545 - accuracy: 0.6952 - val_loss: 0.6288 - val_accuracy: 0.6889\n",
            "Epoch 89/250\n",
            "4/4 [==============================] - 0s 16ms/step - loss: 0.6499 - accuracy: 0.6952 - val_loss: 0.6230 - val_accuracy: 0.6889\n",
            "Epoch 90/250\n",
            "4/4 [==============================] - 0s 23ms/step - loss: 0.6460 - accuracy: 0.6952 - val_loss: 0.6181 - val_accuracy: 0.6889\n",
            "Epoch 91/250\n",
            "4/4 [==============================] - 0s 16ms/step - loss: 0.6417 - accuracy: 0.6952 - val_loss: 0.6137 - val_accuracy: 0.6889\n",
            "Epoch 92/250\n",
            "4/4 [==============================] - 0s 25ms/step - loss: 0.6374 - accuracy: 0.6952 - val_loss: 0.6097 - val_accuracy: 0.6889\n",
            "Epoch 93/250\n",
            "4/4 [==============================] - 0s 17ms/step - loss: 0.6323 - accuracy: 0.6952 - val_loss: 0.6057 - val_accuracy: 0.6889\n",
            "Epoch 94/250\n",
            "4/4 [==============================] - 0s 24ms/step - loss: 0.6277 - accuracy: 0.6952 - val_loss: 0.6027 - val_accuracy: 0.6889\n",
            "Epoch 95/250\n",
            "4/4 [==============================] - 0s 23ms/step - loss: 0.6228 - accuracy: 0.6952 - val_loss: 0.5994 - val_accuracy: 0.6889\n",
            "Epoch 96/250\n",
            "4/4 [==============================] - 0s 17ms/step - loss: 0.6178 - accuracy: 0.6952 - val_loss: 0.5950 - val_accuracy: 0.6889\n",
            "Epoch 97/250\n",
            "4/4 [==============================] - 0s 23ms/step - loss: 0.6132 - accuracy: 0.6952 - val_loss: 0.5901 - val_accuracy: 0.6889\n",
            "Epoch 98/250\n",
            "4/4 [==============================] - 0s 25ms/step - loss: 0.6090 - accuracy: 0.6952 - val_loss: 0.5857 - val_accuracy: 0.6889\n",
            "Epoch 99/250\n",
            "4/4 [==============================] - 0s 17ms/step - loss: 0.6047 - accuracy: 0.6952 - val_loss: 0.5819 - val_accuracy: 0.6889\n",
            "Epoch 100/250\n",
            "4/4 [==============================] - 0s 17ms/step - loss: 0.6000 - accuracy: 0.6952 - val_loss: 0.5786 - val_accuracy: 0.6889\n",
            "Epoch 101/250\n",
            "4/4 [==============================] - 0s 16ms/step - loss: 0.5954 - accuracy: 0.6952 - val_loss: 0.5770 - val_accuracy: 0.6889\n",
            "Epoch 102/250\n",
            "4/4 [==============================] - 0s 20ms/step - loss: 0.5904 - accuracy: 0.6952 - val_loss: 0.5739 - val_accuracy: 0.6889\n",
            "Epoch 103/250\n",
            "4/4 [==============================] - 0s 24ms/step - loss: 0.5858 - accuracy: 0.6952 - val_loss: 0.5689 - val_accuracy: 0.6889\n",
            "Epoch 104/250\n",
            "4/4 [==============================] - 0s 17ms/step - loss: 0.5809 - accuracy: 0.6952 - val_loss: 0.5652 - val_accuracy: 0.6889\n",
            "Epoch 105/250\n",
            "4/4 [==============================] - 0s 22ms/step - loss: 0.5764 - accuracy: 0.7048 - val_loss: 0.5606 - val_accuracy: 0.6889\n",
            "Epoch 106/250\n",
            "4/4 [==============================] - 0s 16ms/step - loss: 0.5711 - accuracy: 0.7143 - val_loss: 0.5576 - val_accuracy: 0.7111\n",
            "Epoch 107/250\n",
            "4/4 [==============================] - 0s 16ms/step - loss: 0.5665 - accuracy: 0.7143 - val_loss: 0.5550 - val_accuracy: 0.7111\n",
            "Epoch 108/250\n",
            "4/4 [==============================] - 0s 18ms/step - loss: 0.5621 - accuracy: 0.7143 - val_loss: 0.5503 - val_accuracy: 0.7111\n",
            "Epoch 109/250\n",
            "4/4 [==============================] - 0s 17ms/step - loss: 0.5572 - accuracy: 0.7238 - val_loss: 0.5449 - val_accuracy: 0.7333\n",
            "Epoch 110/250\n",
            "4/4 [==============================] - 0s 16ms/step - loss: 0.5522 - accuracy: 0.7238 - val_loss: 0.5399 - val_accuracy: 0.7333\n",
            "Epoch 111/250\n",
            "4/4 [==============================] - 0s 18ms/step - loss: 0.5476 - accuracy: 0.7238 - val_loss: 0.5349 - val_accuracy: 0.7333\n",
            "Epoch 112/250\n",
            "4/4 [==============================] - 0s 16ms/step - loss: 0.5429 - accuracy: 0.7238 - val_loss: 0.5304 - val_accuracy: 0.7556\n",
            "Epoch 113/250\n",
            "4/4 [==============================] - 0s 18ms/step - loss: 0.5382 - accuracy: 0.7238 - val_loss: 0.5275 - val_accuracy: 0.7556\n",
            "Epoch 114/250\n",
            "4/4 [==============================] - 0s 21ms/step - loss: 0.5334 - accuracy: 0.7429 - val_loss: 0.5228 - val_accuracy: 0.7778\n",
            "Epoch 115/250\n",
            "4/4 [==============================] - 0s 16ms/step - loss: 0.5288 - accuracy: 0.7429 - val_loss: 0.5187 - val_accuracy: 0.7778\n",
            "Epoch 116/250\n",
            "4/4 [==============================] - 0s 16ms/step - loss: 0.5241 - accuracy: 0.7429 - val_loss: 0.5140 - val_accuracy: 0.7778\n",
            "Epoch 117/250\n",
            "4/4 [==============================] - 0s 19ms/step - loss: 0.5194 - accuracy: 0.7619 - val_loss: 0.5103 - val_accuracy: 0.8000\n",
            "Epoch 118/250\n",
            "4/4 [==============================] - 0s 15ms/step - loss: 0.5148 - accuracy: 0.7619 - val_loss: 0.5087 - val_accuracy: 0.8000\n",
            "Epoch 119/250\n",
            "4/4 [==============================] - 0s 16ms/step - loss: 0.5099 - accuracy: 0.7905 - val_loss: 0.5057 - val_accuracy: 0.8222\n",
            "Epoch 120/250\n",
            "4/4 [==============================] - 0s 17ms/step - loss: 0.5054 - accuracy: 0.7905 - val_loss: 0.5020 - val_accuracy: 0.8222\n",
            "Epoch 121/250\n",
            "4/4 [==============================] - 0s 15ms/step - loss: 0.5005 - accuracy: 0.8000 - val_loss: 0.4965 - val_accuracy: 0.8444\n",
            "Epoch 122/250\n",
            "4/4 [==============================] - 0s 17ms/step - loss: 0.4961 - accuracy: 0.8000 - val_loss: 0.4910 - val_accuracy: 0.8222\n",
            "Epoch 123/250\n",
            "4/4 [==============================] - 0s 17ms/step - loss: 0.4910 - accuracy: 0.8000 - val_loss: 0.4882 - val_accuracy: 0.8444\n",
            "Epoch 124/250\n",
            "4/4 [==============================] - 0s 16ms/step - loss: 0.4866 - accuracy: 0.8095 - val_loss: 0.4862 - val_accuracy: 0.8667\n",
            "Epoch 125/250\n",
            "4/4 [==============================] - 0s 15ms/step - loss: 0.4822 - accuracy: 0.8190 - val_loss: 0.4824 - val_accuracy: 0.8667\n",
            "Epoch 126/250\n",
            "4/4 [==============================] - 0s 22ms/step - loss: 0.4778 - accuracy: 0.8381 - val_loss: 0.4779 - val_accuracy: 0.8667\n",
            "Epoch 127/250\n",
            "4/4 [==============================] - 0s 17ms/step - loss: 0.4734 - accuracy: 0.8286 - val_loss: 0.4710 - val_accuracy: 0.8667\n",
            "Epoch 128/250\n",
            "4/4 [==============================] - 0s 16ms/step - loss: 0.4687 - accuracy: 0.8286 - val_loss: 0.4661 - val_accuracy: 0.8444\n",
            "Epoch 129/250\n",
            "4/4 [==============================] - 0s 17ms/step - loss: 0.4645 - accuracy: 0.8286 - val_loss: 0.4620 - val_accuracy: 0.8667\n",
            "Epoch 130/250\n",
            "4/4 [==============================] - 0s 16ms/step - loss: 0.4604 - accuracy: 0.8286 - val_loss: 0.4590 - val_accuracy: 0.8667\n",
            "Epoch 131/250\n",
            "4/4 [==============================] - 0s 17ms/step - loss: 0.4557 - accuracy: 0.8381 - val_loss: 0.4555 - val_accuracy: 0.8889\n",
            "Epoch 132/250\n",
            "4/4 [==============================] - 0s 23ms/step - loss: 0.4513 - accuracy: 0.8476 - val_loss: 0.4519 - val_accuracy: 0.8889\n",
            "Epoch 133/250\n",
            "4/4 [==============================] - 0s 17ms/step - loss: 0.4467 - accuracy: 0.8571 - val_loss: 0.4497 - val_accuracy: 0.9111\n",
            "Epoch 134/250\n",
            "4/4 [==============================] - 0s 16ms/step - loss: 0.4429 - accuracy: 0.8857 - val_loss: 0.4463 - val_accuracy: 0.9111\n",
            "Epoch 135/250\n",
            "4/4 [==============================] - 0s 22ms/step - loss: 0.4384 - accuracy: 0.8952 - val_loss: 0.4413 - val_accuracy: 0.9111\n",
            "Epoch 136/250\n",
            "4/4 [==============================] - 0s 19ms/step - loss: 0.4341 - accuracy: 0.8857 - val_loss: 0.4364 - val_accuracy: 0.9111\n",
            "Epoch 137/250\n",
            "4/4 [==============================] - 0s 17ms/step - loss: 0.4299 - accuracy: 0.8762 - val_loss: 0.4317 - val_accuracy: 0.8889\n",
            "Epoch 138/250\n",
            "4/4 [==============================] - 0s 18ms/step - loss: 0.4264 - accuracy: 0.8476 - val_loss: 0.4274 - val_accuracy: 0.8889\n",
            "Epoch 139/250\n",
            "4/4 [==============================] - 0s 16ms/step - loss: 0.4225 - accuracy: 0.8476 - val_loss: 0.4240 - val_accuracy: 0.8889\n",
            "Epoch 140/250\n",
            "4/4 [==============================] - 0s 19ms/step - loss: 0.4184 - accuracy: 0.8762 - val_loss: 0.4219 - val_accuracy: 0.9333\n",
            "Epoch 141/250\n",
            "4/4 [==============================] - 0s 16ms/step - loss: 0.4145 - accuracy: 0.8857 - val_loss: 0.4181 - val_accuracy: 0.9333\n",
            "Epoch 142/250\n",
            "4/4 [==============================] - 0s 17ms/step - loss: 0.4109 - accuracy: 0.8952 - val_loss: 0.4153 - val_accuracy: 0.9333\n",
            "Epoch 143/250\n",
            "4/4 [==============================] - 0s 22ms/step - loss: 0.4070 - accuracy: 0.9048 - val_loss: 0.4109 - val_accuracy: 0.9333\n",
            "Epoch 144/250\n",
            "4/4 [==============================] - 0s 16ms/step - loss: 0.4037 - accuracy: 0.8762 - val_loss: 0.4062 - val_accuracy: 0.8889\n",
            "Epoch 145/250\n",
            "4/4 [==============================] - 0s 16ms/step - loss: 0.4009 - accuracy: 0.8762 - val_loss: 0.4028 - val_accuracy: 0.8889\n",
            "Epoch 146/250\n",
            "4/4 [==============================] - 0s 16ms/step - loss: 0.3981 - accuracy: 0.8762 - val_loss: 0.4005 - val_accuracy: 0.9333\n",
            "Epoch 147/250\n",
            "4/4 [==============================] - 0s 17ms/step - loss: 0.3936 - accuracy: 0.8952 - val_loss: 0.3992 - val_accuracy: 0.9556\n",
            "Epoch 148/250\n",
            "4/4 [==============================] - 0s 16ms/step - loss: 0.3901 - accuracy: 0.9048 - val_loss: 0.3980 - val_accuracy: 0.9556\n",
            "Epoch 149/250\n",
            "4/4 [==============================] - 0s 16ms/step - loss: 0.3869 - accuracy: 0.9048 - val_loss: 0.3954 - val_accuracy: 0.9556\n",
            "Epoch 150/250\n",
            "4/4 [==============================] - 0s 19ms/step - loss: 0.3837 - accuracy: 0.9143 - val_loss: 0.3932 - val_accuracy: 0.9556\n",
            "Epoch 151/250\n",
            "4/4 [==============================] - 0s 20ms/step - loss: 0.3804 - accuracy: 0.9238 - val_loss: 0.3886 - val_accuracy: 0.9556\n",
            "Epoch 152/250\n",
            "4/4 [==============================] - 0s 17ms/step - loss: 0.3769 - accuracy: 0.9143 - val_loss: 0.3826 - val_accuracy: 0.9556\n",
            "Epoch 153/250\n",
            "4/4 [==============================] - 0s 17ms/step - loss: 0.3742 - accuracy: 0.9048 - val_loss: 0.3789 - val_accuracy: 0.9556\n",
            "Epoch 154/250\n",
            "4/4 [==============================] - 0s 16ms/step - loss: 0.3716 - accuracy: 0.8952 - val_loss: 0.3764 - val_accuracy: 0.9556\n",
            "Epoch 155/250\n",
            "4/4 [==============================] - 0s 23ms/step - loss: 0.3683 - accuracy: 0.9048 - val_loss: 0.3754 - val_accuracy: 0.9556\n",
            "Epoch 156/250\n",
            "4/4 [==============================] - 0s 22ms/step - loss: 0.3658 - accuracy: 0.9238 - val_loss: 0.3766 - val_accuracy: 0.9778\n",
            "Epoch 157/250\n",
            "4/4 [==============================] - 0s 22ms/step - loss: 0.3630 - accuracy: 0.9238 - val_loss: 0.3749 - val_accuracy: 0.9778\n",
            "Epoch 158/250\n",
            "4/4 [==============================] - 0s 17ms/step - loss: 0.3599 - accuracy: 0.9238 - val_loss: 0.3712 - val_accuracy: 0.9778\n",
            "Epoch 159/250\n",
            "4/4 [==============================] - 0s 16ms/step - loss: 0.3568 - accuracy: 0.9238 - val_loss: 0.3668 - val_accuracy: 0.9778\n",
            "Epoch 160/250\n",
            "4/4 [==============================] - 0s 18ms/step - loss: 0.3544 - accuracy: 0.9238 - val_loss: 0.3618 - val_accuracy: 0.9556\n",
            "Epoch 161/250\n",
            "4/4 [==============================] - 0s 19ms/step - loss: 0.3520 - accuracy: 0.9143 - val_loss: 0.3590 - val_accuracy: 0.9556\n",
            "Epoch 162/250\n",
            "4/4 [==============================] - 0s 16ms/step - loss: 0.3495 - accuracy: 0.9143 - val_loss: 0.3579 - val_accuracy: 0.9778\n",
            "Epoch 163/250\n",
            "4/4 [==============================] - 0s 16ms/step - loss: 0.3468 - accuracy: 0.9238 - val_loss: 0.3568 - val_accuracy: 0.9778\n",
            "Epoch 164/250\n",
            "4/4 [==============================] - 0s 16ms/step - loss: 0.3442 - accuracy: 0.9238 - val_loss: 0.3551 - val_accuracy: 0.9778\n",
            "Epoch 165/250\n",
            "4/4 [==============================] - 0s 20ms/step - loss: 0.3423 - accuracy: 0.9238 - val_loss: 0.3542 - val_accuracy: 0.9778\n",
            "Epoch 166/250\n",
            "4/4 [==============================] - 0s 27ms/step - loss: 0.3397 - accuracy: 0.9238 - val_loss: 0.3527 - val_accuracy: 0.9778\n",
            "Epoch 167/250\n",
            "4/4 [==============================] - 0s 17ms/step - loss: 0.3375 - accuracy: 0.9238 - val_loss: 0.3508 - val_accuracy: 0.9778\n",
            "Epoch 168/250\n",
            "4/4 [==============================] - 0s 17ms/step - loss: 0.3353 - accuracy: 0.9333 - val_loss: 0.3476 - val_accuracy: 0.9778\n",
            "Epoch 169/250\n",
            "4/4 [==============================] - 0s 15ms/step - loss: 0.3335 - accuracy: 0.9238 - val_loss: 0.3429 - val_accuracy: 0.9778\n",
            "Epoch 170/250\n",
            "4/4 [==============================] - 0s 17ms/step - loss: 0.3313 - accuracy: 0.9238 - val_loss: 0.3421 - val_accuracy: 0.9778\n",
            "Epoch 171/250\n",
            "4/4 [==============================] - 0s 15ms/step - loss: 0.3285 - accuracy: 0.9238 - val_loss: 0.3383 - val_accuracy: 0.9778\n",
            "Epoch 172/250\n",
            "4/4 [==============================] - 0s 16ms/step - loss: 0.3267 - accuracy: 0.9238 - val_loss: 0.3360 - val_accuracy: 0.9778\n",
            "Epoch 173/250\n",
            "4/4 [==============================] - 0s 16ms/step - loss: 0.3249 - accuracy: 0.9238 - val_loss: 0.3334 - val_accuracy: 0.9778\n",
            "Epoch 174/250\n",
            "4/4 [==============================] - 0s 16ms/step - loss: 0.3232 - accuracy: 0.9238 - val_loss: 0.3341 - val_accuracy: 0.9778\n",
            "Epoch 175/250\n",
            "4/4 [==============================] - 0s 19ms/step - loss: 0.3206 - accuracy: 0.9333 - val_loss: 0.3316 - val_accuracy: 0.9778\n",
            "Epoch 176/250\n",
            "4/4 [==============================] - 0s 15ms/step - loss: 0.3188 - accuracy: 0.9333 - val_loss: 0.3293 - val_accuracy: 0.9778\n",
            "Epoch 177/250\n",
            "4/4 [==============================] - 0s 21ms/step - loss: 0.3165 - accuracy: 0.9333 - val_loss: 0.3302 - val_accuracy: 0.9778\n",
            "Epoch 178/250\n",
            "4/4 [==============================] - 0s 22ms/step - loss: 0.3164 - accuracy: 0.9429 - val_loss: 0.3324 - val_accuracy: 0.9778\n",
            "Epoch 179/250\n",
            "4/4 [==============================] - 0s 26ms/step - loss: 0.3141 - accuracy: 0.9619 - val_loss: 0.3276 - val_accuracy: 0.9778\n",
            "Epoch 180/250\n",
            "4/4 [==============================] - 0s 22ms/step - loss: 0.3119 - accuracy: 0.9619 - val_loss: 0.3253 - val_accuracy: 0.9778\n",
            "Epoch 181/250\n",
            "4/4 [==============================] - 0s 24ms/step - loss: 0.3094 - accuracy: 0.9524 - val_loss: 0.3213 - val_accuracy: 0.9778\n",
            "Epoch 182/250\n",
            "4/4 [==============================] - 0s 26ms/step - loss: 0.3085 - accuracy: 0.9333 - val_loss: 0.3175 - val_accuracy: 0.9778\n",
            "Epoch 183/250\n",
            "4/4 [==============================] - 0s 17ms/step - loss: 0.3061 - accuracy: 0.9333 - val_loss: 0.3167 - val_accuracy: 0.9778\n",
            "Epoch 184/250\n",
            "4/4 [==============================] - 0s 16ms/step - loss: 0.3044 - accuracy: 0.9333 - val_loss: 0.3160 - val_accuracy: 0.9778\n",
            "Epoch 185/250\n",
            "4/4 [==============================] - 0s 16ms/step - loss: 0.3028 - accuracy: 0.9429 - val_loss: 0.3140 - val_accuracy: 0.9778\n",
            "Epoch 186/250\n",
            "4/4 [==============================] - 0s 17ms/step - loss: 0.3014 - accuracy: 0.9429 - val_loss: 0.3126 - val_accuracy: 0.9778\n",
            "Epoch 187/250\n",
            "4/4 [==============================] - 0s 17ms/step - loss: 0.2994 - accuracy: 0.9429 - val_loss: 0.3102 - val_accuracy: 0.9778\n",
            "Epoch 188/250\n",
            "4/4 [==============================] - 0s 28ms/step - loss: 0.2978 - accuracy: 0.9429 - val_loss: 0.3080 - val_accuracy: 0.9778\n",
            "Epoch 189/250\n",
            "4/4 [==============================] - 0s 16ms/step - loss: 0.2963 - accuracy: 0.9429 - val_loss: 0.3058 - val_accuracy: 0.9778\n",
            "Epoch 190/250\n",
            "4/4 [==============================] - 0s 24ms/step - loss: 0.2947 - accuracy: 0.9429 - val_loss: 0.3049 - val_accuracy: 0.9778\n",
            "Epoch 191/250\n",
            "4/4 [==============================] - 0s 16ms/step - loss: 0.2933 - accuracy: 0.9429 - val_loss: 0.3035 - val_accuracy: 0.9778\n",
            "Epoch 192/250\n",
            "4/4 [==============================] - 0s 17ms/step - loss: 0.2917 - accuracy: 0.9524 - val_loss: 0.3053 - val_accuracy: 0.9778\n",
            "Epoch 193/250\n",
            "4/4 [==============================] - 0s 26ms/step - loss: 0.2909 - accuracy: 0.9714 - val_loss: 0.3073 - val_accuracy: 0.9778\n",
            "Epoch 194/250\n",
            "4/4 [==============================] - 0s 19ms/step - loss: 0.2898 - accuracy: 0.9714 - val_loss: 0.3038 - val_accuracy: 0.9778\n",
            "Epoch 195/250\n",
            "4/4 [==============================] - 0s 25ms/step - loss: 0.2874 - accuracy: 0.9714 - val_loss: 0.2967 - val_accuracy: 0.9778\n",
            "Epoch 196/250\n",
            "4/4 [==============================] - 0s 25ms/step - loss: 0.2852 - accuracy: 0.9429 - val_loss: 0.2940 - val_accuracy: 0.9778\n",
            "Epoch 197/250\n",
            "4/4 [==============================] - 0s 17ms/step - loss: 0.2841 - accuracy: 0.9619 - val_loss: 0.2943 - val_accuracy: 0.9778\n",
            "Epoch 198/250\n",
            "4/4 [==============================] - 0s 18ms/step - loss: 0.2820 - accuracy: 0.9619 - val_loss: 0.2924 - val_accuracy: 0.9778\n",
            "Epoch 199/250\n",
            "4/4 [==============================] - 0s 18ms/step - loss: 0.2805 - accuracy: 0.9619 - val_loss: 0.2912 - val_accuracy: 0.9778\n",
            "Epoch 200/250\n",
            "4/4 [==============================] - 0s 17ms/step - loss: 0.2791 - accuracy: 0.9619 - val_loss: 0.2892 - val_accuracy: 0.9778\n",
            "Epoch 201/250\n",
            "4/4 [==============================] - 0s 17ms/step - loss: 0.2775 - accuracy: 0.9619 - val_loss: 0.2861 - val_accuracy: 0.9778\n",
            "Epoch 202/250\n",
            "4/4 [==============================] - 0s 22ms/step - loss: 0.2760 - accuracy: 0.9619 - val_loss: 0.2838 - val_accuracy: 0.9778\n",
            "Epoch 203/250\n",
            "4/4 [==============================] - 0s 22ms/step - loss: 0.2747 - accuracy: 0.9524 - val_loss: 0.2818 - val_accuracy: 0.9778\n",
            "Epoch 204/250\n",
            "4/4 [==============================] - 0s 16ms/step - loss: 0.2738 - accuracy: 0.9524 - val_loss: 0.2803 - val_accuracy: 0.9778\n",
            "Epoch 205/250\n",
            "4/4 [==============================] - 0s 21ms/step - loss: 0.2722 - accuracy: 0.9524 - val_loss: 0.2791 - val_accuracy: 0.9778\n",
            "Epoch 206/250\n",
            "4/4 [==============================] - 0s 22ms/step - loss: 0.2715 - accuracy: 0.9619 - val_loss: 0.2809 - val_accuracy: 0.9778\n",
            "Epoch 207/250\n",
            "4/4 [==============================] - 0s 18ms/step - loss: 0.2698 - accuracy: 0.9714 - val_loss: 0.2784 - val_accuracy: 0.9778\n",
            "Epoch 208/250\n",
            "4/4 [==============================] - 0s 25ms/step - loss: 0.2682 - accuracy: 0.9714 - val_loss: 0.2797 - val_accuracy: 0.9778\n",
            "Epoch 209/250\n",
            "4/4 [==============================] - 0s 25ms/step - loss: 0.2675 - accuracy: 0.9714 - val_loss: 0.2815 - val_accuracy: 0.9778\n",
            "Epoch 210/250\n",
            "4/4 [==============================] - 0s 23ms/step - loss: 0.2664 - accuracy: 0.9714 - val_loss: 0.2780 - val_accuracy: 0.9778\n",
            "Epoch 211/250\n",
            "4/4 [==============================] - 0s 16ms/step - loss: 0.2645 - accuracy: 0.9714 - val_loss: 0.2742 - val_accuracy: 0.9778\n",
            "Epoch 212/250\n",
            "4/4 [==============================] - 0s 19ms/step - loss: 0.2625 - accuracy: 0.9714 - val_loss: 0.2687 - val_accuracy: 0.9778\n",
            "Epoch 213/250\n",
            "4/4 [==============================] - 0s 16ms/step - loss: 0.2632 - accuracy: 0.9524 - val_loss: 0.2652 - val_accuracy: 0.9778\n",
            "Epoch 214/250\n",
            "4/4 [==============================] - 0s 17ms/step - loss: 0.2607 - accuracy: 0.9524 - val_loss: 0.2653 - val_accuracy: 0.9778\n",
            "Epoch 215/250\n",
            "4/4 [==============================] - 0s 22ms/step - loss: 0.2594 - accuracy: 0.9714 - val_loss: 0.2666 - val_accuracy: 0.9778\n",
            "Epoch 216/250\n",
            "4/4 [==============================] - 0s 19ms/step - loss: 0.2574 - accuracy: 0.9714 - val_loss: 0.2652 - val_accuracy: 0.9778\n",
            "Epoch 217/250\n",
            "4/4 [==============================] - 0s 20ms/step - loss: 0.2561 - accuracy: 0.9714 - val_loss: 0.2652 - val_accuracy: 0.9778\n",
            "Epoch 218/250\n",
            "4/4 [==============================] - 0s 17ms/step - loss: 0.2549 - accuracy: 0.9714 - val_loss: 0.2648 - val_accuracy: 0.9778\n",
            "Epoch 219/250\n",
            "4/4 [==============================] - 0s 16ms/step - loss: 0.2550 - accuracy: 0.9714 - val_loss: 0.2636 - val_accuracy: 0.9778\n",
            "Epoch 220/250\n",
            "4/4 [==============================] - 0s 28ms/step - loss: 0.2523 - accuracy: 0.9714 - val_loss: 0.2591 - val_accuracy: 0.9778\n",
            "Epoch 221/250\n",
            "4/4 [==============================] - 0s 16ms/step - loss: 0.2517 - accuracy: 0.9619 - val_loss: 0.2554 - val_accuracy: 0.9778\n",
            "Epoch 222/250\n",
            "4/4 [==============================] - 0s 16ms/step - loss: 0.2502 - accuracy: 0.9714 - val_loss: 0.2550 - val_accuracy: 0.9778\n",
            "Epoch 223/250\n",
            "4/4 [==============================] - 0s 19ms/step - loss: 0.2484 - accuracy: 0.9714 - val_loss: 0.2562 - val_accuracy: 0.9778\n",
            "Epoch 224/250\n",
            "4/4 [==============================] - 0s 15ms/step - loss: 0.2475 - accuracy: 0.9714 - val_loss: 0.2568 - val_accuracy: 0.9778\n",
            "Epoch 225/250\n",
            "4/4 [==============================] - 0s 15ms/step - loss: 0.2482 - accuracy: 0.9714 - val_loss: 0.2595 - val_accuracy: 0.9778\n",
            "Epoch 226/250\n",
            "4/4 [==============================] - 0s 16ms/step - loss: 0.2465 - accuracy: 0.9714 - val_loss: 0.2568 - val_accuracy: 0.9778\n",
            "Epoch 227/250\n",
            "4/4 [==============================] - 0s 16ms/step - loss: 0.2451 - accuracy: 0.9714 - val_loss: 0.2525 - val_accuracy: 0.9778\n",
            "Epoch 228/250\n",
            "4/4 [==============================] - 0s 16ms/step - loss: 0.2433 - accuracy: 0.9714 - val_loss: 0.2513 - val_accuracy: 0.9778\n",
            "Epoch 229/250\n",
            "4/4 [==============================] - 0s 18ms/step - loss: 0.2416 - accuracy: 0.9714 - val_loss: 0.2469 - val_accuracy: 0.9778\n",
            "Epoch 230/250\n",
            "4/4 [==============================] - 0s 15ms/step - loss: 0.2405 - accuracy: 0.9714 - val_loss: 0.2444 - val_accuracy: 0.9778\n",
            "Epoch 231/250\n",
            "4/4 [==============================] - 0s 19ms/step - loss: 0.2403 - accuracy: 0.9714 - val_loss: 0.2426 - val_accuracy: 0.9778\n",
            "Epoch 232/250\n",
            "4/4 [==============================] - 0s 17ms/step - loss: 0.2386 - accuracy: 0.9714 - val_loss: 0.2440 - val_accuracy: 0.9778\n",
            "Epoch 233/250\n",
            "4/4 [==============================] - 0s 17ms/step - loss: 0.2372 - accuracy: 0.9714 - val_loss: 0.2436 - val_accuracy: 0.9778\n",
            "Epoch 234/250\n",
            "4/4 [==============================] - 0s 26ms/step - loss: 0.2363 - accuracy: 0.9714 - val_loss: 0.2425 - val_accuracy: 0.9778\n",
            "Epoch 235/250\n",
            "4/4 [==============================] - 0s 22ms/step - loss: 0.2360 - accuracy: 0.9714 - val_loss: 0.2390 - val_accuracy: 0.9778\n",
            "Epoch 236/250\n",
            "4/4 [==============================] - 0s 17ms/step - loss: 0.2339 - accuracy: 0.9714 - val_loss: 0.2399 - val_accuracy: 0.9778\n",
            "Epoch 237/250\n",
            "4/4 [==============================] - 0s 23ms/step - loss: 0.2332 - accuracy: 0.9714 - val_loss: 0.2381 - val_accuracy: 0.9778\n",
            "Epoch 238/250\n",
            "4/4 [==============================] - 0s 17ms/step - loss: 0.2319 - accuracy: 0.9714 - val_loss: 0.2356 - val_accuracy: 0.9778\n",
            "Epoch 239/250\n",
            "4/4 [==============================] - 0s 21ms/step - loss: 0.2308 - accuracy: 0.9714 - val_loss: 0.2355 - val_accuracy: 0.9778\n",
            "Epoch 240/250\n",
            "4/4 [==============================] - 0s 16ms/step - loss: 0.2297 - accuracy: 0.9714 - val_loss: 0.2361 - val_accuracy: 0.9778\n",
            "Epoch 241/250\n",
            "4/4 [==============================] - 0s 22ms/step - loss: 0.2292 - accuracy: 0.9714 - val_loss: 0.2377 - val_accuracy: 0.9778\n",
            "Epoch 242/250\n",
            "4/4 [==============================] - 0s 18ms/step - loss: 0.2282 - accuracy: 0.9714 - val_loss: 0.2371 - val_accuracy: 0.9778\n",
            "Epoch 243/250\n",
            "4/4 [==============================] - 0s 24ms/step - loss: 0.2272 - accuracy: 0.9714 - val_loss: 0.2363 - val_accuracy: 0.9778\n",
            "Epoch 244/250\n",
            "4/4 [==============================] - 0s 17ms/step - loss: 0.2262 - accuracy: 0.9714 - val_loss: 0.2330 - val_accuracy: 0.9778\n",
            "Epoch 245/250\n",
            "4/4 [==============================] - 0s 17ms/step - loss: 0.2245 - accuracy: 0.9714 - val_loss: 0.2291 - val_accuracy: 0.9778\n",
            "Epoch 246/250\n",
            "4/4 [==============================] - 0s 27ms/step - loss: 0.2232 - accuracy: 0.9714 - val_loss: 0.2269 - val_accuracy: 0.9778\n",
            "Epoch 247/250\n",
            "4/4 [==============================] - 0s 22ms/step - loss: 0.2229 - accuracy: 0.9714 - val_loss: 0.2241 - val_accuracy: 0.9778\n",
            "Epoch 248/250\n",
            "4/4 [==============================] - 0s 29ms/step - loss: 0.2217 - accuracy: 0.9714 - val_loss: 0.2238 - val_accuracy: 0.9778\n",
            "Epoch 249/250\n",
            "4/4 [==============================] - 0s 17ms/step - loss: 0.2204 - accuracy: 0.9714 - val_loss: 0.2240 - val_accuracy: 0.9778\n",
            "Epoch 250/250\n",
            "4/4 [==============================] - 0s 16ms/step - loss: 0.2192 - accuracy: 0.9714 - val_loss: 0.2233 - val_accuracy: 0.9778\n"
          ]
        }
      ]
    },
    {
      "cell_type": "code",
      "source": [
        "def plot_losses(history):\n",
        "  loss = history.history['loss']\n",
        "  val_loss = history.history['val_loss']\n",
        "  accuracy = history.history['accuracy']\n",
        "  val_accuracy = history.history['val_accuracy']\n",
        "\n",
        "  plt.plot(loss, label='loss')\n",
        "  plt.plot(val_loss, label='val_loss')\n",
        "  plt.title('Losses')\n",
        "  plt.legend()\n",
        "\n",
        "  plt.figure()\n",
        "  plt.plot(accuracy, label='accuracy')\n",
        "  plt.plot(val_accuracy, label='val_accuracy')\n",
        "  plt.title('Accuracies')\n",
        "  plt.legend()\n"
      ],
      "metadata": {
        "id": "OstE3vVtN-4u"
      },
      "execution_count": 21,
      "outputs": []
    },
    {
      "cell_type": "code",
      "source": [
        "plot_losses(history_1)"
      ],
      "metadata": {
        "colab": {
          "base_uri": "https://localhost:8080/",
          "height": 545
        },
        "id": "o7vofU9JN_B4",
        "outputId": "a36a1b17-a1a1-4255-b643-720d564ea214"
      },
      "execution_count": 22,
      "outputs": [
        {
          "output_type": "display_data",
          "data": {
            "text/plain": [
              "<Figure size 432x288 with 1 Axes>"
            ],
            "image/png": "[encoded data removed]"
          },
          "metadata": {
            "needs_background": "light"
          }
        },
        {
          "output_type": "display_data",
          "data": {
            "text/plain": [
              "<Figure size 432x288 with 1 Axes>"
            ],
            "image/png": "[encoded data removed]"
          },
          "metadata": {
            "needs_background": "light"
          }
        }
      ]
    },
    {
      "cell_type": "code",
      "source": [
        "model_1.evaluate(X_test, y_test)"
      ],
      "metadata": {
        "colab": {
          "base_uri": "https://localhost:8080/"
        },
        "id": "HiHqmMzTN_IO",
        "outputId": "41c71c7c-7a8d-4b3b-b733-02b37f45a356"
      },
      "execution_count": 23,
      "outputs": [
        {
          "output_type": "stream",
          "name": "stdout",
          "text": [
            "2/2 [==============================] - 0s 11ms/step - loss: 0.2233 - accuracy: 0.9778\n"
          ]
        },
        {
          "output_type": "execute_result",
          "data": {
            "text/plain": [
              "[0.22325725853443146, 0.9777777791023254]"
            ]
          },
          "metadata": {},
          "execution_count": 23
        }
      ]
    },
    {
      "cell_type": "markdown",
      "source": [
        "### Predictions"
      ],
      "metadata": {
        "id": "CEt0FfJqN_MY"
      }
    },
    {
      "cell_type": "code",
      "source": [
        "prediction_1 = model_1.predict(X_test)"
      ],
      "metadata": {
        "id": "SP4eW-YON_Pm"
      },
      "execution_count": 24,
      "outputs": []
    },
    {
      "cell_type": "code",
      "source": [
        "prediction_1"
      ],
      "metadata": {
        "colab": {
          "base_uri": "https://localhost:8080/"
        },
        "id": "kioPsIxTN_S-",
        "outputId": "0ad74e9c-b0e4-4acc-df81-0a35972860da"
      },
      "execution_count": 25,
      "outputs": [
        {
          "output_type": "execute_result",
          "data": {
            "text/plain": [
              "array([[3.09736794e-03, 7.00808406e-01, 2.96094179e-01],\n",
              "       [7.54925655e-03, 7.56699204e-01, 2.35751569e-01],\n",
              "       [2.99567706e-03, 7.53749430e-01, 2.43254930e-01],\n",
              "       [1.97802307e-04, 2.43978947e-01, 7.55823255e-01],\n",
              "       [9.93208587e-01, 4.31841146e-03, 2.47298251e-03],\n",
              "       [9.90338981e-01, 6.27690880e-03, 3.38410633e-03],\n",
              "       [1.82505790e-02, 7.46857285e-01, 2.34892115e-01],\n",
              "       [1.04088290e-03, 2.54984915e-01, 7.43974209e-01],\n",
              "       [2.50556361e-04, 2.14769676e-01, 7.84979761e-01],\n",
              "       [9.91561949e-01, 5.42951934e-03, 3.00853350e-03],\n",
              "       [9.96147037e-01, 2.38787942e-03, 1.46513863e-03],\n",
              "       [1.06237749e-04, 1.10293277e-01, 8.89600515e-01],\n",
              "       [5.75446002e-02, 7.11030543e-01, 2.31424868e-01],\n",
              "       [1.86426681e-03, 4.60768104e-01, 5.37367582e-01],\n",
              "       [1.44384196e-03, 3.83709282e-01, 6.14846885e-01],\n",
              "       [2.05844972e-05, 5.41845299e-02, 9.45794940e-01],\n",
              "       [2.17323395e-04, 1.61524311e-01, 8.38258445e-01],\n",
              "       [1.72758021e-03, 2.86820650e-01, 7.11451828e-01],\n",
              "       [2.67503876e-03, 3.87746543e-01, 6.09578490e-01],\n",
              "       [3.35094723e-04, 1.23523824e-01, 8.76141131e-01],\n",
              "       [9.92843032e-01, 4.55632107e-03, 2.60059116e-03],\n",
              "       [9.24622267e-03, 7.57303953e-01, 2.33449802e-01],\n",
              "       [9.87009764e-01, 8.53631087e-03, 4.45390819e-03],\n",
              "       [1.04088290e-03, 2.54984915e-01, 7.43974209e-01],\n",
              "       [1.43784389e-04, 1.20147310e-01, 8.79708827e-01],\n",
              "       [3.59260570e-03, 6.46072984e-01, 3.50334406e-01],\n",
              "       [1.38664544e-02, 7.52138734e-01, 2.33994797e-01],\n",
              "       [2.42895403e-05, 6.51048720e-02, 9.34870839e-01],\n",
              "       [1.07131330e-02, 7.54632354e-01, 2.34654471e-01],\n",
              "       [3.48121655e-04, 2.32899919e-01, 7.66752005e-01],\n",
              "       [4.96972469e-04, 2.09781796e-01, 7.89721191e-01],\n",
              "       [5.47398580e-03, 6.85578823e-01, 3.08947176e-01],\n",
              "       [9.94453132e-01, 3.47011327e-03, 2.07668217e-03],\n",
              "       [8.97976197e-03, 7.33424962e-01, 2.57595330e-01],\n",
              "       [8.63128735e-05, 1.09673157e-01, 8.90240490e-01],\n",
              "       [9.93893445e-01, 3.87570774e-03, 2.23081885e-03],\n",
              "       [9.91680063e-05, 1.25315234e-01, 8.74585629e-01],\n",
              "       [1.54753216e-03, 4.34714615e-01, 5.63737810e-01],\n",
              "       [9.92238820e-01, 4.93800081e-03, 2.82323454e-03],\n",
              "       [9.89151478e-01, 7.04173418e-03, 3.80678894e-03],\n",
              "       [5.60690835e-03, 7.36917257e-01, 2.57475734e-01],\n",
              "       [9.94439721e-01, 3.49865039e-03, 2.06166599e-03],\n",
              "       [1.78812481e-02, 7.48031259e-01, 2.34087497e-01],\n",
              "       [1.88562612e-03, 7.21921563e-01, 2.76192755e-01],\n",
              "       [9.89457965e-01, 6.85323216e-03, 3.68872308e-03]], dtype=float32)"
            ]
          },
          "metadata": {},
          "execution_count": 25
        }
      ]
    },
    {
      "cell_type": "code",
      "source": [
        "y_test"
      ],
      "metadata": {
        "colab": {
          "base_uri": "https://localhost:8080/"
        },
        "id": "4VoOlOOgN_XN",
        "outputId": "31db12d1-af2d-4f4c-a924-500c60d2bbc5"
      },
      "execution_count": 26,
      "outputs": [
        {
          "output_type": "execute_result",
          "data": {
            "text/plain": [
              "array([[0, 1, 0],\n",
              "       [0, 1, 0],\n",
              "       [0, 1, 0],\n",
              "       [0, 0, 1],\n",
              "       [1, 0, 0],\n",
              "       [1, 0, 0],\n",
              "       [0, 1, 0],\n",
              "       [0, 0, 1],\n",
              "       [0, 0, 1],\n",
              "       [1, 0, 0],\n",
              "       [1, 0, 0],\n",
              "       [0, 0, 1],\n",
              "       [0, 1, 0],\n",
              "       [0, 0, 1],\n",
              "       [0, 0, 1],\n",
              "       [0, 0, 1],\n",
              "       [0, 0, 1],\n",
              "       [0, 0, 1],\n",
              "       [0, 1, 0],\n",
              "       [0, 0, 1],\n",
              "       [1, 0, 0],\n",
              "       [0, 1, 0],\n",
              "       [1, 0, 0],\n",
              "       [0, 0, 1],\n",
              "       [0, 0, 1],\n",
              "       [0, 1, 0],\n",
              "       [0, 1, 0],\n",
              "       [0, 0, 1],\n",
              "       [0, 1, 0],\n",
              "       [0, 0, 1],\n",
              "       [0, 0, 1],\n",
              "       [0, 1, 0],\n",
              "       [1, 0, 0],\n",
              "       [0, 1, 0],\n",
              "       [0, 0, 1],\n",
              "       [1, 0, 0],\n",
              "       [0, 0, 1],\n",
              "       [0, 0, 1],\n",
              "       [1, 0, 0],\n",
              "       [1, 0, 0],\n",
              "       [0, 1, 0],\n",
              "       [1, 0, 0],\n",
              "       [0, 1, 0],\n",
              "       [0, 1, 0],\n",
              "       [1, 0, 0]], dtype=uint8)"
            ]
          },
          "metadata": {},
          "execution_count": 26
        }
      ]
    },
    {
      "cell_type": "code",
      "source": [
        "pred_1 = np.argmax(prediction_1, axis=1)"
      ],
      "metadata": {
        "id": "jOa4J5EHN_a-"
      },
      "execution_count": 27,
      "outputs": []
    },
    {
      "cell_type": "code",
      "source": [
        "pred_1"
      ],
      "metadata": {
        "colab": {
          "base_uri": "https://localhost:8080/"
        },
        "id": "AuueNzzZPwt0",
        "outputId": "f679507e-6dbe-421e-d246-34b85d7a2916"
      },
      "execution_count": 28,
      "outputs": [
        {
          "output_type": "execute_result",
          "data": {
            "text/plain": [
              "array([1, 1, 1, 2, 0, 0, 1, 2, 2, 0, 0, 2, 1, 2, 2, 2, 2, 2, 2, 2, 0, 1,\n",
              "       0, 2, 2, 1, 1, 2, 1, 2, 2, 1, 0, 1, 2, 0, 2, 2, 0, 0, 1, 0, 1, 1,\n",
              "       0])"
            ]
          },
          "metadata": {},
          "execution_count": 28
        }
      ]
    },
    {
      "cell_type": "code",
      "source": [
        "actual = np.argmax(y_test, axis=1)"
      ],
      "metadata": {
        "id": "LtRvHzfAPxf0"
      },
      "execution_count": 29,
      "outputs": []
    },
    {
      "cell_type": "code",
      "source": [
        "actual"
      ],
      "metadata": {
        "colab": {
          "base_uri": "https://localhost:8080/"
        },
        "id": "mSZjGBX1P3zr",
        "outputId": "55e343ee-830e-4d21-caba-3e00d6ae0b37"
      },
      "execution_count": 30,
      "outputs": [
        {
          "output_type": "execute_result",
          "data": {
            "text/plain": [
              "array([1, 1, 1, 2, 0, 0, 1, 2, 2, 0, 0, 2, 1, 2, 2, 2, 2, 2, 1, 2, 0, 1,\n",
              "       0, 2, 2, 1, 1, 2, 1, 2, 2, 1, 0, 1, 2, 0, 2, 2, 0, 0, 1, 0, 1, 1,\n",
              "       0])"
            ]
          },
          "metadata": {},
          "execution_count": 30
        }
      ]
    },
    {
      "cell_type": "code",
      "source": [
        "confusion_matrix(actual, pred_1)"
      ],
      "metadata": {
        "colab": {
          "base_uri": "https://localhost:8080/"
        },
        "id": "ycFPeKZ3P4mr",
        "outputId": "650b0ade-0c49-415d-f910-a936ab93ed6d"
      },
      "execution_count": 31,
      "outputs": [
        {
          "output_type": "execute_result",
          "data": {
            "text/plain": [
              "array([[12,  0,  0],\n",
              "       [ 0, 14,  1],\n",
              "       [ 0,  0, 18]])"
            ]
          },
          "metadata": {},
          "execution_count": 31
        }
      ]
    },
    {
      "cell_type": "code",
      "source": [
        "print(classification_report(actual, pred_1))"
      ],
      "metadata": {
        "colab": {
          "base_uri": "https://localhost:8080/"
        },
        "id": "Aij5vEpEP9s8",
        "outputId": "0ab6fbd3-0c4e-43df-e012-c510c5fa71d9"
      },
      "execution_count": 32,
      "outputs": [
        {
          "output_type": "stream",
          "name": "stdout",
          "text": [
            "              precision    recall  f1-score   support\n",
            "\n",
            "           0       1.00      1.00      1.00        12\n",
            "           1       1.00      0.93      0.97        15\n",
            "           2       0.95      1.00      0.97        18\n",
            "\n",
            "    accuracy                           0.98        45\n",
            "   macro avg       0.98      0.98      0.98        45\n",
            "weighted avg       0.98      0.98      0.98        45\n",
            "\n"
          ]
        }
      ]
    },
    {
      "cell_type": "code",
      "source": [
        "test_data = df.loc[0]"
      ],
      "metadata": {
        "id": "Qbd08iVmQBmi"
      },
      "execution_count": 33,
      "outputs": []
    },
    {
      "cell_type": "code",
      "source": [
        "test_data"
      ],
      "metadata": {
        "colab": {
          "base_uri": "https://localhost:8080/"
        },
        "id": "tAXCQ_8yQLkY",
        "outputId": "b6ca3eb6-96f4-4e0a-8b3a-9fe3999ad8a4"
      },
      "execution_count": 34,
      "outputs": [
        {
          "output_type": "execute_result",
          "data": {
            "text/plain": [
              "sepal length (cm)    5.1\n",
              "sepal width (cm)     3.5\n",
              "petal length (cm)    1.4\n",
              "petal width (cm)     0.2\n",
              "target               0.0\n",
              "Name: 0, dtype: float64"
            ]
          },
          "metadata": {},
          "execution_count": 34
        }
      ]
    },
    {
      "cell_type": "code",
      "source": [
        "test_data = test_data.drop('target').values.reshape(-1,4)"
      ],
      "metadata": {
        "id": "J0yqAXF_QMOA"
      },
      "execution_count": 35,
      "outputs": []
    },
    {
      "cell_type": "code",
      "source": [
        "test_data"
      ],
      "metadata": {
        "colab": {
          "base_uri": "https://localhost:8080/"
        },
        "id": "wlRZCyuYQP0n",
        "outputId": "9e4a15a5-d927-477f-ee7d-11d6e7be4101"
      },
      "execution_count": 36,
      "outputs": [
        {
          "output_type": "execute_result",
          "data": {
            "text/plain": [
              "array([[5.1, 3.5, 1.4, 0.2]])"
            ]
          },
          "metadata": {},
          "execution_count": 36
        }
      ]
    },
    {
      "cell_type": "code",
      "source": [
        "test_data = scaler.transform(test_data)"
      ],
      "metadata": {
        "id": "-WOXbXu7QQeg"
      },
      "execution_count": 37,
      "outputs": []
    },
    {
      "cell_type": "code",
      "source": [
        "test_data"
      ],
      "metadata": {
        "colab": {
          "base_uri": "https://localhost:8080/"
        },
        "id": "wEt6RC6UQTcR",
        "outputId": "77fc0908-5f9f-409f-e5b9-29506489bb3a"
      },
      "execution_count": 38,
      "outputs": [
        {
          "output_type": "execute_result",
          "data": {
            "text/plain": [
              "array([[0.22222222, 0.625     , 0.06779661, 0.04166667]])"
            ]
          },
          "metadata": {},
          "execution_count": 38
        }
      ]
    },
    {
      "cell_type": "code",
      "source": [
        "test_pred = model_1.predict(test_data)"
      ],
      "metadata": {
        "id": "EqnVRosGQUUn"
      },
      "execution_count": 39,
      "outputs": []
    },
    {
      "cell_type": "code",
      "source": [
        "test_pred"
      ],
      "metadata": {
        "colab": {
          "base_uri": "https://localhost:8080/"
        },
        "id": "iJMHmaDfQYdH",
        "outputId": "5d87e9fe-2465-4dd8-ab32-ba09b038c676"
      },
      "execution_count": 40,
      "outputs": [
        {
          "output_type": "execute_result",
          "data": {
            "text/plain": [
              "array([[0.9932086 , 0.00431841, 0.00247298]], dtype=float32)"
            ]
          },
          "metadata": {},
          "execution_count": 40
        }
      ]
    },
    {
      "cell_type": "code",
      "source": [
        "np.argmax(test_pred)"
      ],
      "metadata": {
        "colab": {
          "base_uri": "https://localhost:8080/"
        },
        "id": "l-e4WvOoQZYm",
        "outputId": "fda7481a-438d-423d-e23f-eb9060dcef2b"
      },
      "execution_count": 41,
      "outputs": [
        {
          "output_type": "execute_result",
          "data": {
            "text/plain": [
              "0"
            ]
          },
          "metadata": {},
          "execution_count": 41
        }
      ]
    },
    {
      "cell_type": "code",
      "source": [
        "test_data = df.loc[149]"
      ],
      "metadata": {
        "id": "TKR-pgH3QeC9"
      },
      "execution_count": 43,
      "outputs": []
    },
    {
      "cell_type": "code",
      "source": [
        "test_data"
      ],
      "metadata": {
        "colab": {
          "base_uri": "https://localhost:8080/"
        },
        "id": "ju3A1PEfQnGM",
        "outputId": "9366afd5-bd58-4334-b17b-fc8de42428a7"
      },
      "execution_count": 44,
      "outputs": [
        {
          "output_type": "execute_result",
          "data": {
            "text/plain": [
              "sepal length (cm)    5.9\n",
              "sepal width (cm)     3.0\n",
              "petal length (cm)    5.1\n",
              "petal width (cm)     1.8\n",
              "target               2.0\n",
              "Name: 149, dtype: float64"
            ]
          },
          "metadata": {},
          "execution_count": 44
        }
      ]
    },
    {
      "cell_type": "code",
      "source": [
        "test_data = test_data.drop('target').values.reshape(-1,4)"
      ],
      "metadata": {
        "id": "KwqR7edDQptD"
      },
      "execution_count": 45,
      "outputs": []
    },
    {
      "cell_type": "code",
      "source": [
        "test_data = scaler.transform(test_data)"
      ],
      "metadata": {
        "id": "ViiQvuLNQqwE"
      },
      "execution_count": 46,
      "outputs": []
    },
    {
      "cell_type": "code",
      "source": [
        "test_pred = model_1.predict(test_data)"
      ],
      "metadata": {
        "id": "1l-wgm3kQq3X"
      },
      "execution_count": 47,
      "outputs": []
    },
    {
      "cell_type": "code",
      "source": [
        "np.argmax(test_pred)"
      ],
      "metadata": {
        "colab": {
          "base_uri": "https://localhost:8080/"
        },
        "id": "5nelwr5SQq8S",
        "outputId": "ca4f6a67-365f-46bf-8792-50c894b35784"
      },
      "execution_count": 48,
      "outputs": [
        {
          "output_type": "execute_result",
          "data": {
            "text/plain": [
              "2"
            ]
          },
          "metadata": {},
          "execution_count": 48
        }
      ]
    },
    {
      "cell_type": "code",
      "source": [
        ""
      ],
      "metadata": {
        "id": "QGYnj--dQrCG"
      },
      "execution_count": null,
      "outputs": []
    },
    {
      "cell_type": "code",
      "source": [
        ""
      ],
      "metadata": {
        "id": "mP9YkpnQQrIE"
      },
      "execution_count": null,
      "outputs": []
    },
    {
      "cell_type": "code",
      "source": [
        ""
      ],
      "metadata": {
        "id": "qDelqDWGQrNE"
      },
      "execution_count": null,
      "outputs": []
    },
    {
      "cell_type": "code",
      "source": [
        ""
      ],
      "metadata": {
        "id": "hJ36jMFIQrSD"
      },
      "execution_count": null,
      "outputs": []
    },
    {
      "cell_type": "code",
      "source": [
        ""
      ],
      "metadata": {
        "id": "m1PtTiQiQrWV"
      },
      "execution_count": null,
      "outputs": []
    },
    {
      "cell_type": "code",
      "source": [
        ""
      ],
      "metadata": {
        "id": "73XYyfRMQrbp"
      },
      "execution_count": null,
      "outputs": []
    },
    {
      "cell_type": "code",
      "source": [
        ""
      ],
      "metadata": {
        "id": "okzRsmXIQrim"
      },
      "execution_count": null,
      "outputs": []
    },
    {
      "cell_type": "code",
      "source": [
        ""
      ],
      "metadata": {
        "id": "l4-gMxz-Qrmz"
      },
      "execution_count": null,
      "outputs": []
    },
    {
      "cell_type": "code",
      "source": [
        ""
      ],
      "metadata": {
        "id": "6_XwohCFQrqk"
      },
      "execution_count": null,
      "outputs": []
    },
    {
      "cell_type": "code",
      "source": [
        ""
      ],
      "metadata": {
        "id": "diyQJR4YQruy"
      },
      "execution_count": null,
      "outputs": []
    },
    {
      "cell_type": "code",
      "source": [
        ""
      ],
      "metadata": {
        "id": "9uvcWfHgQrzA"
      },
      "execution_count": null,
      "outputs": []
    },
    {
      "cell_type": "code",
      "source": [
        ""
      ],
      "metadata": {
        "id": "2Y6nnt6SQr3r"
      },
      "execution_count": null,
      "outputs": []
    },
    {
      "cell_type": "code",
      "source": [
        ""
      ],
      "metadata": {
        "id": "yoavPGknQr9o"
      },
      "execution_count": null,
      "outputs": []
    },
    {
      "cell_type": "code",
      "source": [
        ""
      ],
      "metadata": {
        "id": "3kSN_Ul0QsB0"
      },
      "execution_count": null,
      "outputs": []
    }
  ]
}