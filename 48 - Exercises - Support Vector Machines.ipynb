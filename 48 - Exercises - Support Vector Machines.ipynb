{
 "cells": [
  {
   "cell_type": "markdown",
   "id": "28eee40f",
   "metadata": {},
   "source": [
    "# Support Vector Machines Exercises\n",
    "\n",
    "Regression and Classification Algorithm Data Set\n",
    "\n",
    "https://www.kaggle.com/datasets/quantbruce/real-estate-price-prediction?select=Real+estate.csv\n",
    "\n"
   ]
  },
  {
   "cell_type": "markdown",
   "id": "343f35ab",
   "metadata": {},
   "source": [
    "### Regression"
   ]
  },
  {
   "cell_type": "code",
   "execution_count": 1,
   "id": "8195cfcf",
   "metadata": {},
   "outputs": [],
   "source": [
    "# Import pandas, numpy, seaborn\n",
    "# SKLearn - Import SVR and SVC\n",
    "# Metrics - confusion matrix, classification matrix, mean_absolute_error, mean_squared_error\n",
    "# Import GridSearchCV, Pipeline, StandardScaler, train_test_split\n",
    "\n",
    "\n",
    "\n",
    "\n",
    "\n",
    "# Type your code above this line"
   ]
  },
  {
   "cell_type": "code",
   "execution_count": 2,
   "id": "2b2db330",
   "metadata": {},
   "outputs": [],
   "source": [
    "# Import the Real Estate Data Frame\n",
    "\n",
    "\n",
    "\n",
    "\n",
    "\n",
    "# Type your code above this line"
   ]
  },
  {
   "cell_type": "code",
   "execution_count": 3,
   "id": "090b58c3",
   "metadata": {},
   "outputs": [],
   "source": [
    "# Data Exploration\n",
    "# Is there any relationship that can be seen between the X columns and Y column?\n",
    "# Are there any outliers in the Y column?\n",
    "\n",
    "\n",
    "\n",
    "\n",
    "\n",
    "# Type your code above this line"
   ]
  },
  {
   "cell_type": "code",
   "execution_count": 4,
   "id": "9e6bff44",
   "metadata": {},
   "outputs": [],
   "source": [
    "# Fix the data if desired/necessary\n",
    "\n",
    "\n",
    "\n",
    "\n",
    "\n",
    "\n",
    "# Type your code above this line"
   ]
  },
  {
   "cell_type": "code",
   "execution_count": 5,
   "id": "22e42823",
   "metadata": {},
   "outputs": [],
   "source": [
    "# Train Test Split\n",
    "# Separate the X attributes and y target\n",
    "# train_test_split\n",
    "\n",
    "\n",
    "\n",
    "\n",
    "\n",
    "\n",
    "\n",
    "# Type your code above this line"
   ]
  },
  {
   "cell_type": "code",
   "execution_count": 6,
   "id": "542da448",
   "metadata": {},
   "outputs": [],
   "source": [
    "# Instantiate the SVR model then fit, predict and evaluate the Regression model\n",
    "\n",
    "\n",
    "\n",
    "\n",
    "\n",
    "\n",
    "\n",
    "# Type your code above this line"
   ]
  },
  {
   "cell_type": "code",
   "execution_count": 7,
   "id": "67e818f3",
   "metadata": {},
   "outputs": [],
   "source": [
    "# Implement Grid Search and fit the data\n",
    "# Use a Pipeline to scale the data with Standard Scalar\n",
    "# Use C values of 1, 1000 and 100000\n",
    "# Use epsilon values of 0.1, 0.001 and 0.0001\n",
    "# Run predictions from the GridSearchCV model and evaluate the results\n",
    "\n",
    "# How do they compare the the default settings\n",
    "\n",
    "\n",
    "\n",
    "\n",
    "\n",
    "\n",
    "\n",
    "\n",
    "\n",
    "\n",
    "\n",
    "\n",
    "# Type your code above this line"
   ]
  },
  {
   "cell_type": "markdown",
   "id": "1990c7a2",
   "metadata": {},
   "source": [
    "### Classification"
   ]
  },
  {
   "cell_type": "code",
   "execution_count": 8,
   "id": "f3b767ef",
   "metadata": {},
   "outputs": [],
   "source": [
    "# Import the Real Estate Data Frame again\n",
    "\n",
    "\n",
    "\n",
    "\n",
    "\n",
    "\n",
    "\n",
    "\n",
    "# Type your code above this line"
   ]
  },
  {
   "cell_type": "code",
   "execution_count": 9,
   "id": "1b84fb1e",
   "metadata": {},
   "outputs": [],
   "source": [
    "# Fix the outlier data\n",
    "# Scale the Y axis down to 4 categories (hint: cut)\n",
    "\n",
    "\n",
    "\n",
    "\n",
    "\n",
    "\n",
    "# Type your code above this line"
   ]
  },
  {
   "cell_type": "code",
   "execution_count": 10,
   "id": "8d459ffa",
   "metadata": {},
   "outputs": [],
   "source": [
    "# Train Test Split\n",
    "# Separate the X attributes and y target\n",
    "# train_test_split\n",
    "\n",
    "\n",
    "\n",
    "\n",
    "\n",
    "# Type your code above this line"
   ]
  },
  {
   "cell_type": "code",
   "execution_count": 11,
   "id": "a257c66c",
   "metadata": {},
   "outputs": [],
   "source": [
    "# Implement Grid Search and fit the data\n",
    "# Use a Pipeline to scale the data with Standard Scalar\n",
    "# Use C values of 1, 1000 and 100000\n",
    "# Use gamma values of 'auto' and 'scale'\n",
    "# Run predictions from the GridSearchCV model and evaluate the results\n",
    "\n",
    "\n",
    "\n",
    "\n",
    "\n",
    "\n",
    "\n",
    "# Type your code above this line"
   ]
  },
  {
   "cell_type": "code",
   "execution_count": null,
   "id": "6e0ce8be",
   "metadata": {},
   "outputs": [],
   "source": []
  },
  {
   "cell_type": "code",
   "execution_count": null,
   "id": "0e127f3c",
   "metadata": {},
   "outputs": [],
   "source": []
  },
  {
   "cell_type": "code",
   "execution_count": null,
   "id": "b2b14595",
   "metadata": {},
   "outputs": [],
   "source": []
  },
  {
   "cell_type": "code",
   "execution_count": null,
   "id": "06df153c",
   "metadata": {},
   "outputs": [],
   "source": []
  },
  {
   "cell_type": "code",
   "execution_count": null,
   "id": "04128177",
   "metadata": {},
   "outputs": [],
   "source": []
  },
  {
   "cell_type": "code",
   "execution_count": null,
   "id": "3d32abb3",
   "metadata": {},
   "outputs": [],
   "source": []
  },
  {
   "cell_type": "code",
   "execution_count": null,
   "id": "7bf6e3c3",
   "metadata": {},
   "outputs": [],
   "source": []
  },
  {
   "cell_type": "code",
   "execution_count": null,
   "id": "f5f9921e",
   "metadata": {},
   "outputs": [],
   "source": []
  },
  {
   "cell_type": "code",
   "execution_count": null,
   "id": "652face3",
   "metadata": {},
   "outputs": [],
   "source": []
  },
  {
   "cell_type": "code",
   "execution_count": null,
   "id": "54a0ce4b",
   "metadata": {},
   "outputs": [],
   "source": []
  },
  {
   "cell_type": "code",
   "execution_count": null,
   "id": "41f400b4",
   "metadata": {},
   "outputs": [],
   "source": []
  },
  {
   "cell_type": "code",
   "execution_count": null,
   "id": "06205803",
   "metadata": {},
   "outputs": [],
   "source": []
  }
 ],
 "metadata": {
  "kernelspec": {
   "display_name": "Python 3 (ipykernel)",
   "language": "python",
   "name": "python3"
  },
  "language_info": {
   "codemirror_mode": {
    "name": "ipython",
    "version": 3
   },
   "file_extension": ".py",
   "mimetype": "text/x-python",
   "name": "python",
   "nbconvert_exporter": "python",
   "pygments_lexer": "ipython3",
   "version": "3.9.12"
  }
 },
 "nbformat": 4,
 "nbformat_minor": 5
}
