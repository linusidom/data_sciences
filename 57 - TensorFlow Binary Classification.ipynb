{
  "nbformat": 4,
  "nbformat_minor": 0,
  "metadata": {
    "colab": {
      "name": "57 - TensorFlow Binary Classification.ipynb",
      "provenance": [],
      "collapsed_sections": []
    },
    "kernelspec": {
      "name": "python3",
      "display_name": "Python 3"
    },
    "language_info": {
      "name": "python"
    }
  },
  "cells": [
    {
      "cell_type": "markdown",
      "source": [
        "# TensorFlow Classification\n",
        "\n",
        "### Getting Started\n",
        "\n",
        "Dataset\n",
        "\n",
        "`from sklearn.datasets import load_breast_cancer`\n",
        "\n",
        "### Train Test Split and Scale\n",
        "\n",
        "```\n",
        "X = df.drop('target', axis=1).values\n",
        "y = df['target']\n",
        "\n",
        "X_train, X_test, y_train, y_test = train_test_split(X,y, test_size=0.30)\n",
        "\n",
        "scaler = MinMaxScaler()\n",
        "\n",
        "X_train = scaler.fit_transform(X_train)\n",
        "X_test = scaler.fit(X_test)\n",
        "```\n",
        "\n",
        "### Build the Model\n",
        "\n",
        "With our output layer with regression we used 'relu' however with binary classification we use 'sigmoid' to get outputs that are between 0 and 1 \n",
        "\n",
        "```\n",
        "model = Sequential()\n",
        "\n",
        "model.add(Dense(128, activation='relu'))\n",
        "model.add(Dense(128, activation='relu'))\n",
        "model.add(Dense(128, activation='relu'))\n",
        "\n",
        "\n",
        "# Change the output activation layer to a sigmoid function\n",
        "model.add(Dense(1, activation='sigmoid'))\n",
        "\n",
        "# Change the loss functions to binary_crossentropy\n",
        "model.compile(\n",
        "  optimizer='adam',\n",
        "  loss='binary_crossentropy'\n",
        ")\n",
        "\n",
        "history = model.fit(\n",
        "  X_train,\n",
        "  y_train,\n",
        "  validation_data=(X_test, y_test),\n",
        "  epochs = 25\n",
        ")\n",
        "```\n",
        "\n",
        "\n",
        "### Evaluation\n",
        "\n",
        "`pd.DataFrame(history.history).plot()`\n",
        "\n",
        "### Predictions\n",
        "\n",
        "With binary classification predictions, we don't get a 0 or 1 we get a value between 0 and 1.  We can use the 0.5 mark as an indication of whether it's really a 0 or 1\n",
        "\n",
        "\n",
        "```\n",
        "predictions = (model.predict(X_test) > 0.5) * 1\n",
        "\n",
        "OR\n",
        "\n",
        "predictions = np.argmax(model.predict(X_test))\n",
        "```\n",
        "\n",
        "```\n",
        "confusion_matrix(y_test, predictions)\n",
        "classification_report(y_test, predictions)\n",
        "```"
      ],
      "metadata": {
        "id": "91hIPnD3nA3l"
      }
    },
    {
      "cell_type": "markdown",
      "source": [
        "### TensorBoard\n",
        "\n",
        "Create a Tensorboard Variable to use as a callback\n",
        "\n",
        "```\n",
        "tb = lambda desc: TensorBoard(\n",
        "  log_dir = 'tf_logs/' \\\n",
        "  + desc \\\n",
        "  + '_' \\\n",
        "  + datetime.datetime.now().strftime('%Y%m%d_%H:%M:%S'))\n",
        "```\n",
        "\n",
        "Upload Logs to TensorBoard - Do not upload sensitive data!\n",
        "\n",
        "```\n",
        "!tensorboard dev upload --logdir ./tf_logs \\\n",
        "--name 'My First TensorBoard' \\\n",
        "--description 'Classification with some models' \\\n",
        "--one_shot\n",
        "```\n",
        "\n",
        "List TensorBoard's that have been created\n",
        "\n",
        "`!tensorboard dev list`\n",
        "\n",
        "Delete TensorBoards\n",
        "\n",
        "`!tensorboard dev delete --experiment EXPERIMENT_ID`"
      ],
      "metadata": {
        "id": "rzFOi9o8zT6-"
      }
    },
    {
      "cell_type": "code",
      "source": [
        "import pandas as pd\n",
        "import numpy as np\n",
        "import tensorflow as tf\n",
        "import matplotlib.pyplot as plt\n",
        "import datetime\n",
        "\n",
        "from tensorflow.keras.models import Sequential\n",
        "from tensorflow.keras.layers import Dense, Dropout\n",
        "from tensorflow.keras.optimizers import Adam\n",
        "from tensorflow.keras.callbacks import EarlyStopping, TensorBoard\n",
        "\n",
        "from sklearn.model_selection import train_test_split\n",
        "from sklearn.metrics import confusion_matrix, classification_report\n",
        "from sklearn.preprocessing import MinMaxScaler\n",
        "\n",
        "from sklearn.datasets import load_breast_cancer"
      ],
      "metadata": {
        "id": "P4jmK-ISpWzP"
      },
      "execution_count": 71,
      "outputs": []
    },
    {
      "cell_type": "markdown",
      "source": [
        "### Load data and create DataFrame"
      ],
      "metadata": {
        "id": "HQ2AWVKzs2R0"
      }
    },
    {
      "cell_type": "code",
      "source": [
        "data = load_breast_cancer()"
      ],
      "metadata": {
        "id": "eVf04f96p11h"
      },
      "execution_count": 61,
      "outputs": []
    },
    {
      "cell_type": "code",
      "source": [
        "df = pd.DataFrame(data.data, columns=data.feature_names)"
      ],
      "metadata": {
        "id": "4ttx2cTeqL0i"
      },
      "execution_count": 62,
      "outputs": []
    },
    {
      "cell_type": "code",
      "source": [
        "df['target'] = data.target"
      ],
      "metadata": {
        "id": "byhaugMdqOrz"
      },
      "execution_count": 63,
      "outputs": []
    },
    {
      "cell_type": "code",
      "source": [
        "df"
      ],
      "metadata": {
        "colab": {
          "base_uri": "https://localhost:8080/",
          "height": 522
        },
        "id": "2nRuIjK5qUjb",
        "outputId": "eaf2bbdd-7863-423c-ce27-6b2ea6e4b0ee"
      },
      "execution_count": 64,
      "outputs": [
        {
          "output_type": "execute_result",
          "data": {
            "text/plain": [
              "     mean radius  mean texture  mean perimeter  mean area  mean smoothness  \\\n",
              "0          17.99         10.38          122.80     1001.0          0.11840   \n",
              "1          20.57         17.77          132.90     1326.0          0.08474   \n",
              "2          19.69         21.25          130.00     1203.0          0.10960   \n",
              "3          11.42         20.38           77.58      386.1          0.14250   \n",
              "4          20.29         14.34          135.10     1297.0          0.10030   \n",
              "..           ...           ...             ...        ...              ...   \n",
              "564        21.56         22.39          142.00     1479.0          0.11100   \n",
              "565        20.13         28.25          131.20     1261.0          0.09780   \n",
              "566        16.60         28.08          108.30      858.1          0.08455   \n",
              "567        20.60         29.33          140.10     1265.0          0.11780   \n",
              "568         7.76         24.54           47.92      181.0          0.05263   \n",
              "\n",
              "     mean compactness  mean concavity  mean concave points  mean symmetry  \\\n",
              "0             0.27760         0.30010              0.14710         0.2419   \n",
              "1             0.07864         0.08690              0.07017         0.1812   \n",
              "2             0.15990         0.19740              0.12790         0.2069   \n",
              "3             0.28390         0.24140              0.10520         0.2597   \n",
              "4             0.13280         0.19800              0.10430         0.1809   \n",
              "..                ...             ...                  ...            ...   \n",
              "564           0.11590         0.24390              0.13890         0.1726   \n",
              "565           0.10340         0.14400              0.09791         0.1752   \n",
              "566           0.10230         0.09251              0.05302         0.1590   \n",
              "567           0.27700         0.35140              0.15200         0.2397   \n",
              "568           0.04362         0.00000              0.00000         0.1587   \n",
              "\n",
              "     mean fractal dimension  ...  worst texture  worst perimeter  worst area  \\\n",
              "0                   0.07871  ...          17.33           184.60      2019.0   \n",
              "1                   0.05667  ...          23.41           158.80      1956.0   \n",
              "2                   0.05999  ...          25.53           152.50      1709.0   \n",
              "3                   0.09744  ...          26.50            98.87       567.7   \n",
              "4                   0.05883  ...          16.67           152.20      1575.0   \n",
              "..                      ...  ...            ...              ...         ...   \n",
              "564                 0.05623  ...          26.40           166.10      2027.0   \n",
              "565                 0.05533  ...          38.25           155.00      1731.0   \n",
              "566                 0.05648  ...          34.12           126.70      1124.0   \n",
              "567                 0.07016  ...          39.42           184.60      1821.0   \n",
              "568                 0.05884  ...          30.37            59.16       268.6   \n",
              "\n",
              "     worst smoothness  worst compactness  worst concavity  \\\n",
              "0             0.16220            0.66560           0.7119   \n",
              "1             0.12380            0.18660           0.2416   \n",
              "2             0.14440            0.42450           0.4504   \n",
              "3             0.20980            0.86630           0.6869   \n",
              "4             0.13740            0.20500           0.4000   \n",
              "..                ...                ...              ...   \n",
              "564           0.14100            0.21130           0.4107   \n",
              "565           0.11660            0.19220           0.3215   \n",
              "566           0.11390            0.30940           0.3403   \n",
              "567           0.16500            0.86810           0.9387   \n",
              "568           0.08996            0.06444           0.0000   \n",
              "\n",
              "     worst concave points  worst symmetry  worst fractal dimension  target  \n",
              "0                  0.2654          0.4601                  0.11890       0  \n",
              "1                  0.1860          0.2750                  0.08902       0  \n",
              "2                  0.2430          0.3613                  0.08758       0  \n",
              "3                  0.2575          0.6638                  0.17300       0  \n",
              "4                  0.1625          0.2364                  0.07678       0  \n",
              "..                    ...             ...                      ...     ...  \n",
              "564                0.2216          0.2060                  0.07115       0  \n",
              "565                0.1628          0.2572                  0.06637       0  \n",
              "566                0.1418          0.2218                  0.07820       0  \n",
              "567                0.2650          0.4087                  0.12400       0  \n",
              "568                0.0000          0.2871                  0.07039       1  \n",
              "\n",
              "[569 rows x 31 columns]"
            ],
            "text/html": [
              "\n",
              "  <div id=\"df-d0545552-4844-4865-afe4-bea1b2b69062\">\n",
              "    <div class=\"colab-df-container\">\n",
              "      <div>\n",
              "<style scoped>\n",
              "    .dataframe tbody tr th:only-of-type {\n",
              "        vertical-align: middle;\n",
              "    }\n",
              "\n",
              "    .dataframe tbody tr th {\n",
              "        vertical-align: top;\n",
              "    }\n",
              "\n",
              "    .dataframe thead th {\n",
              "        text-align: right;\n",
              "    }\n",
              "</style>\n",
              "<table border=\"1\" class=\"dataframe\">\n",
              "  <thead>\n",
              "    <tr style=\"text-align: right;\">\n",
              "      <th></th>\n",
              "      <th>mean radius</th>\n",
              "      <th>mean texture</th>\n",
              "      <th>mean perimeter</th>\n",
              "      <th>mean area</th>\n",
              "      <th>mean smoothness</th>\n",
              "      <th>mean compactness</th>\n",
              "      <th>mean concavity</th>\n",
              "      <th>mean concave points</th>\n",
              "      <th>mean symmetry</th>\n",
              "      <th>mean fractal dimension</th>\n",
              "      <th>...</th>\n",
              "      <th>worst texture</th>\n",
              "      <th>worst perimeter</th>\n",
              "      <th>worst area</th>\n",
              "      <th>worst smoothness</th>\n",
              "      <th>worst compactness</th>\n",
              "      <th>worst concavity</th>\n",
              "      <th>worst concave points</th>\n",
              "      <th>worst symmetry</th>\n",
              "      <th>worst fractal dimension</th>\n",
              "      <th>target</th>\n",
              "    </tr>\n",
              "  </thead>\n",
              "  <tbody>\n",
              "    <tr>\n",
              "      <th>0</th>\n",
              "      <td>17.99</td>\n",
              "      <td>10.38</td>\n",
              "      <td>122.80</td>\n",
              "      <td>1001.0</td>\n",
              "      <td>0.11840</td>\n",
              "      <td>0.27760</td>\n",
              "      <td>0.30010</td>\n",
              "      <td>0.14710</td>\n",
              "      <td>0.2419</td>\n",
              "      <td>0.07871</td>\n",
              "      <td>...</td>\n",
              "      <td>17.33</td>\n",
              "      <td>184.60</td>\n",
              "      <td>2019.0</td>\n",
              "      <td>0.16220</td>\n",
              "      <td>0.66560</td>\n",
              "      <td>0.7119</td>\n",
              "      <td>0.2654</td>\n",
              "      <td>0.4601</td>\n",
              "      <td>0.11890</td>\n",
              "      <td>0</td>\n",
              "    </tr>\n",
              "    <tr>\n",
              "      <th>1</th>\n",
              "      <td>20.57</td>\n",
              "      <td>17.77</td>\n",
              "      <td>132.90</td>\n",
              "      <td>1326.0</td>\n",
              "      <td>0.08474</td>\n",
              "      <td>0.07864</td>\n",
              "      <td>0.08690</td>\n",
              "      <td>0.07017</td>\n",
              "      <td>0.1812</td>\n",
              "      <td>0.05667</td>\n",
              "      <td>...</td>\n",
              "      <td>23.41</td>\n",
              "      <td>158.80</td>\n",
              "      <td>1956.0</td>\n",
              "      <td>0.12380</td>\n",
              "      <td>0.18660</td>\n",
              "      <td>0.2416</td>\n",
              "      <td>0.1860</td>\n",
              "      <td>0.2750</td>\n",
              "      <td>0.08902</td>\n",
              "      <td>0</td>\n",
              "    </tr>\n",
              "    <tr>\n",
              "      <th>2</th>\n",
              "      <td>19.69</td>\n",
              "      <td>21.25</td>\n",
              "      <td>130.00</td>\n",
              "      <td>1203.0</td>\n",
              "      <td>0.10960</td>\n",
              "      <td>0.15990</td>\n",
              "      <td>0.19740</td>\n",
              "      <td>0.12790</td>\n",
              "      <td>0.2069</td>\n",
              "      <td>0.05999</td>\n",
              "      <td>...</td>\n",
              "      <td>25.53</td>\n",
              "      <td>152.50</td>\n",
              "      <td>1709.0</td>\n",
              "      <td>0.14440</td>\n",
              "      <td>0.42450</td>\n",
              "      <td>0.4504</td>\n",
              "      <td>0.2430</td>\n",
              "      <td>0.3613</td>\n",
              "      <td>0.08758</td>\n",
              "      <td>0</td>\n",
              "    </tr>\n",
              "    <tr>\n",
              "      <th>3</th>\n",
              "      <td>11.42</td>\n",
              "      <td>20.38</td>\n",
              "      <td>77.58</td>\n",
              "      <td>386.1</td>\n",
              "      <td>0.14250</td>\n",
              "      <td>0.28390</td>\n",
              "      <td>0.24140</td>\n",
              "      <td>0.10520</td>\n",
              "      <td>0.2597</td>\n",
              "      <td>0.09744</td>\n",
              "      <td>...</td>\n",
              "      <td>26.50</td>\n",
              "      <td>98.87</td>\n",
              "      <td>567.7</td>\n",
              "      <td>0.20980</td>\n",
              "      <td>0.86630</td>\n",
              "      <td>0.6869</td>\n",
              "      <td>0.2575</td>\n",
              "      <td>0.6638</td>\n",
              "      <td>0.17300</td>\n",
              "      <td>0</td>\n",
              "    </tr>\n",
              "    <tr>\n",
              "      <th>4</th>\n",
              "      <td>20.29</td>\n",
              "      <td>14.34</td>\n",
              "      <td>135.10</td>\n",
              "      <td>1297.0</td>\n",
              "      <td>0.10030</td>\n",
              "      <td>0.13280</td>\n",
              "      <td>0.19800</td>\n",
              "      <td>0.10430</td>\n",
              "      <td>0.1809</td>\n",
              "      <td>0.05883</td>\n",
              "      <td>...</td>\n",
              "      <td>16.67</td>\n",
              "      <td>152.20</td>\n",
              "      <td>1575.0</td>\n",
              "      <td>0.13740</td>\n",
              "      <td>0.20500</td>\n",
              "      <td>0.4000</td>\n",
              "      <td>0.1625</td>\n",
              "      <td>0.2364</td>\n",
              "      <td>0.07678</td>\n",
              "      <td>0</td>\n",
              "    </tr>\n",
              "    <tr>\n",
              "      <th>...</th>\n",
              "      <td>...</td>\n",
              "      <td>...</td>\n",
              "      <td>...</td>\n",
              "      <td>...</td>\n",
              "      <td>...</td>\n",
              "      <td>...</td>\n",
              "      <td>...</td>\n",
              "      <td>...</td>\n",
              "      <td>...</td>\n",
              "      <td>...</td>\n",
              "      <td>...</td>\n",
              "      <td>...</td>\n",
              "      <td>...</td>\n",
              "      <td>...</td>\n",
              "      <td>...</td>\n",
              "      <td>...</td>\n",
              "      <td>...</td>\n",
              "      <td>...</td>\n",
              "      <td>...</td>\n",
              "      <td>...</td>\n",
              "      <td>...</td>\n",
              "    </tr>\n",
              "    <tr>\n",
              "      <th>564</th>\n",
              "      <td>21.56</td>\n",
              "      <td>22.39</td>\n",
              "      <td>142.00</td>\n",
              "      <td>1479.0</td>\n",
              "      <td>0.11100</td>\n",
              "      <td>0.11590</td>\n",
              "      <td>0.24390</td>\n",
              "      <td>0.13890</td>\n",
              "      <td>0.1726</td>\n",
              "      <td>0.05623</td>\n",
              "      <td>...</td>\n",
              "      <td>26.40</td>\n",
              "      <td>166.10</td>\n",
              "      <td>2027.0</td>\n",
              "      <td>0.14100</td>\n",
              "      <td>0.21130</td>\n",
              "      <td>0.4107</td>\n",
              "      <td>0.2216</td>\n",
              "      <td>0.2060</td>\n",
              "      <td>0.07115</td>\n",
              "      <td>0</td>\n",
              "    </tr>\n",
              "    <tr>\n",
              "      <th>565</th>\n",
              "      <td>20.13</td>\n",
              "      <td>28.25</td>\n",
              "      <td>131.20</td>\n",
              "      <td>1261.0</td>\n",
              "      <td>0.09780</td>\n",
              "      <td>0.10340</td>\n",
              "      <td>0.14400</td>\n",
              "      <td>0.09791</td>\n",
              "      <td>0.1752</td>\n",
              "      <td>0.05533</td>\n",
              "      <td>...</td>\n",
              "      <td>38.25</td>\n",
              "      <td>155.00</td>\n",
              "      <td>1731.0</td>\n",
              "      <td>0.11660</td>\n",
              "      <td>0.19220</td>\n",
              "      <td>0.3215</td>\n",
              "      <td>0.1628</td>\n",
              "      <td>0.2572</td>\n",
              "      <td>0.06637</td>\n",
              "      <td>0</td>\n",
              "    </tr>\n",
              "    <tr>\n",
              "      <th>566</th>\n",
              "      <td>16.60</td>\n",
              "      <td>28.08</td>\n",
              "      <td>108.30</td>\n",
              "      <td>858.1</td>\n",
              "      <td>0.08455</td>\n",
              "      <td>0.10230</td>\n",
              "      <td>0.09251</td>\n",
              "      <td>0.05302</td>\n",
              "      <td>0.1590</td>\n",
              "      <td>0.05648</td>\n",
              "      <td>...</td>\n",
              "      <td>34.12</td>\n",
              "      <td>126.70</td>\n",
              "      <td>1124.0</td>\n",
              "      <td>0.11390</td>\n",
              "      <td>0.30940</td>\n",
              "      <td>0.3403</td>\n",
              "      <td>0.1418</td>\n",
              "      <td>0.2218</td>\n",
              "      <td>0.07820</td>\n",
              "      <td>0</td>\n",
              "    </tr>\n",
              "    <tr>\n",
              "      <th>567</th>\n",
              "      <td>20.60</td>\n",
              "      <td>29.33</td>\n",
              "      <td>140.10</td>\n",
              "      <td>1265.0</td>\n",
              "      <td>0.11780</td>\n",
              "      <td>0.27700</td>\n",
              "      <td>0.35140</td>\n",
              "      <td>0.15200</td>\n",
              "      <td>0.2397</td>\n",
              "      <td>0.07016</td>\n",
              "      <td>...</td>\n",
              "      <td>39.42</td>\n",
              "      <td>184.60</td>\n",
              "      <td>1821.0</td>\n",
              "      <td>0.16500</td>\n",
              "      <td>0.86810</td>\n",
              "      <td>0.9387</td>\n",
              "      <td>0.2650</td>\n",
              "      <td>0.4087</td>\n",
              "      <td>0.12400</td>\n",
              "      <td>0</td>\n",
              "    </tr>\n",
              "    <tr>\n",
              "      <th>568</th>\n",
              "      <td>7.76</td>\n",
              "      <td>24.54</td>\n",
              "      <td>47.92</td>\n",
              "      <td>181.0</td>\n",
              "      <td>0.05263</td>\n",
              "      <td>0.04362</td>\n",
              "      <td>0.00000</td>\n",
              "      <td>0.00000</td>\n",
              "      <td>0.1587</td>\n",
              "      <td>0.05884</td>\n",
              "      <td>...</td>\n",
              "      <td>30.37</td>\n",
              "      <td>59.16</td>\n",
              "      <td>268.6</td>\n",
              "      <td>0.08996</td>\n",
              "      <td>0.06444</td>\n",
              "      <td>0.0000</td>\n",
              "      <td>0.0000</td>\n",
              "      <td>0.2871</td>\n",
              "      <td>0.07039</td>\n",
              "      <td>1</td>\n",
              "    </tr>\n",
              "  </tbody>\n",
              "</table>\n",
              "<p>569 rows × 31 columns</p>\n",
              "</div>\n",
              "      <button class=\"colab-df-convert\" onclick=\"convertToInteractive('df-d0545552-4844-4865-afe4-bea1b2b69062')\"\n",
              "              title=\"Convert this dataframe to an interactive table.\"\n",
              "              style=\"display:none;\">\n",
              "        \n",
              "  <svg xmlns=\"http://www.w3.org/2000/svg\" height=\"24px\"viewBox=\"0 0 24 24\"\n",
              "       width=\"24px\">\n",
              "    <path d=\"M0 0h24v24H0V0z\" fill=\"none\"/>\n",
              "    <path d=\"M18.56 5.44l.94 2.06.94-2.06 2.06-.94-2.06-.94-.94-2.06-.94 2.06-2.06.94zm-11 1L8.5 8.5l.94-2.06 2.06-.94-2.06-.94L8.5 2.5l-.94 2.06-2.06.94zm10 10l.94 2.06.94-2.06 2.06-.94-2.06-.94-.94-2.06-.94 2.06-2.06.94z\"/><path d=\"M17.41 7.96l-1.37-1.37c-.4-.4-.92-.59-1.43-.59-.52 0-1.04.2-1.43.59L10.3 9.45l-7.72 7.72c-.78.78-.78 2.05 0 2.83L4 21.41c.39.39.9.59 1.41.59.51 0 1.02-.2 1.41-.59l7.78-7.78 2.81-2.81c.8-.78.8-2.07 0-2.86zM5.41 20L4 18.59l7.72-7.72 1.47 1.35L5.41 20z\"/>\n",
              "  </svg>\n",
              "      </button>\n",
              "      \n",
              "  <style>\n",
              "    .colab-df-container {\n",
              "      display:flex;\n",
              "      flex-wrap:wrap;\n",
              "      gap: 12px;\n",
              "    }\n",
              "\n",
              "    .colab-df-convert {\n",
              "      background-color: #E8F0FE;\n",
              "      border: none;\n",
              "      border-radius: 50%;\n",
              "      cursor: pointer;\n",
              "      display: none;\n",
              "      fill: #1967D2;\n",
              "      height: 32px;\n",
              "      padding: 0 0 0 0;\n",
              "      width: 32px;\n",
              "    }\n",
              "\n",
              "    .colab-df-convert:hover {\n",
              "      background-color: #E2EBFA;\n",
              "      box-shadow: 0px 1px 2px rgba(60, 64, 67, 0.3), 0px 1px 3px 1px rgba(60, 64, 67, 0.15);\n",
              "      fill: #174EA6;\n",
              "    }\n",
              "\n",
              "    [theme=dark] .colab-df-convert {\n",
              "      background-color: #3B4455;\n",
              "      fill: #D2E3FC;\n",
              "    }\n",
              "\n",
              "    [theme=dark] .colab-df-convert:hover {\n",
              "      background-color: #434B5C;\n",
              "      box-shadow: 0px 1px 3px 1px rgba(0, 0, 0, 0.15);\n",
              "      filter: drop-shadow(0px 1px 2px rgba(0, 0, 0, 0.3));\n",
              "      fill: #FFFFFF;\n",
              "    }\n",
              "  </style>\n",
              "\n",
              "      <script>\n",
              "        const buttonEl =\n",
              "          document.querySelector('#df-d0545552-4844-4865-afe4-bea1b2b69062 button.colab-df-convert');\n",
              "        buttonEl.style.display =\n",
              "          google.colab.kernel.accessAllowed ? 'block' : 'none';\n",
              "\n",
              "        async function convertToInteractive(key) {\n",
              "          const element = document.querySelector('#df-d0545552-4844-4865-afe4-bea1b2b69062');\n",
              "          const dataTable =\n",
              "            await google.colab.kernel.invokeFunction('convertToInteractive',\n",
              "                                                     [key], {});\n",
              "          if (!dataTable) return;\n",
              "\n",
              "          const docLinkHtml = 'Like what you see? Visit the ' +\n",
              "            '<a target=\"_blank\" href=https://colab.research.google.com/notebooks/data_table.ipynb>data table notebook</a>'\n",
              "            + ' to learn more about interactive tables.';\n",
              "          element.innerHTML = '';\n",
              "          dataTable['output_type'] = 'display_data';\n",
              "          await google.colab.output.renderOutput(dataTable, element);\n",
              "          const docLink = document.createElement('div');\n",
              "          docLink.innerHTML = docLinkHtml;\n",
              "          element.appendChild(docLink);\n",
              "        }\n",
              "      </script>\n",
              "    </div>\n",
              "  </div>\n",
              "  "
            ]
          },
          "metadata": {},
          "execution_count": 64
        }
      ]
    },
    {
      "cell_type": "code",
      "source": [
        "df.describe()"
      ],
      "metadata": {
        "colab": {
          "base_uri": "https://localhost:8080/",
          "height": 428
        },
        "id": "yejKuVGb9F9G",
        "outputId": "c7688a7d-ac65-40f5-dc82-f3d4f34a018c"
      },
      "execution_count": 65,
      "outputs": [
        {
          "output_type": "execute_result",
          "data": {
            "text/plain": [
              "       mean radius  mean texture  mean perimeter    mean area  \\\n",
              "count   569.000000    569.000000      569.000000   569.000000   \n",
              "mean     14.127292     19.289649       91.969033   654.889104   \n",
              "std       3.524049      4.301036       24.298981   351.914129   \n",
              "min       6.981000      9.710000       43.790000   143.500000   \n",
              "25%      11.700000     16.170000       75.170000   420.300000   \n",
              "50%      13.370000     18.840000       86.240000   551.100000   \n",
              "75%      15.780000     21.800000      104.100000   782.700000   \n",
              "max      28.110000     39.280000      188.500000  2501.000000   \n",
              "\n",
              "       mean smoothness  mean compactness  mean concavity  mean concave points  \\\n",
              "count       569.000000        569.000000      569.000000           569.000000   \n",
              "mean          0.096360          0.104341        0.088799             0.048919   \n",
              "std           0.014064          0.052813        0.079720             0.038803   \n",
              "min           0.052630          0.019380        0.000000             0.000000   \n",
              "25%           0.086370          0.064920        0.029560             0.020310   \n",
              "50%           0.095870          0.092630        0.061540             0.033500   \n",
              "75%           0.105300          0.130400        0.130700             0.074000   \n",
              "max           0.163400          0.345400        0.426800             0.201200   \n",
              "\n",
              "       mean symmetry  mean fractal dimension  ...  worst texture  \\\n",
              "count     569.000000              569.000000  ...     569.000000   \n",
              "mean        0.181162                0.062798  ...      25.677223   \n",
              "std         0.027414                0.007060  ...       6.146258   \n",
              "min         0.106000                0.049960  ...      12.020000   \n",
              "25%         0.161900                0.057700  ...      21.080000   \n",
              "50%         0.179200                0.061540  ...      25.410000   \n",
              "75%         0.195700                0.066120  ...      29.720000   \n",
              "max         0.304000                0.097440  ...      49.540000   \n",
              "\n",
              "       worst perimeter   worst area  worst smoothness  worst compactness  \\\n",
              "count       569.000000   569.000000        569.000000         569.000000   \n",
              "mean        107.261213   880.583128          0.132369           0.254265   \n",
              "std          33.602542   569.356993          0.022832           0.157336   \n",
              "min          50.410000   185.200000          0.071170           0.027290   \n",
              "25%          84.110000   515.300000          0.116600           0.147200   \n",
              "50%          97.660000   686.500000          0.131300           0.211900   \n",
              "75%         125.400000  1084.000000          0.146000           0.339100   \n",
              "max         251.200000  4254.000000          0.222600           1.058000   \n",
              "\n",
              "       worst concavity  worst concave points  worst symmetry  \\\n",
              "count       569.000000            569.000000      569.000000   \n",
              "mean          0.272188              0.114606        0.290076   \n",
              "std           0.208624              0.065732        0.061867   \n",
              "min           0.000000              0.000000        0.156500   \n",
              "25%           0.114500              0.064930        0.250400   \n",
              "50%           0.226700              0.099930        0.282200   \n",
              "75%           0.382900              0.161400        0.317900   \n",
              "max           1.252000              0.291000        0.663800   \n",
              "\n",
              "       worst fractal dimension      target  \n",
              "count               569.000000  569.000000  \n",
              "mean                  0.083946    0.627417  \n",
              "std                   0.018061    0.483918  \n",
              "min                   0.055040    0.000000  \n",
              "25%                   0.071460    0.000000  \n",
              "50%                   0.080040    1.000000  \n",
              "75%                   0.092080    1.000000  \n",
              "max                   0.207500    1.000000  \n",
              "\n",
              "[8 rows x 31 columns]"
            ],
            "text/html": [
              "\n",
              "  <div id=\"df-d338137a-95a5-430c-93ab-1e7459f47a8e\">\n",
              "    <div class=\"colab-df-container\">\n",
              "      <div>\n",
              "<style scoped>\n",
              "    .dataframe tbody tr th:only-of-type {\n",
              "        vertical-align: middle;\n",
              "    }\n",
              "\n",
              "    .dataframe tbody tr th {\n",
              "        vertical-align: top;\n",
              "    }\n",
              "\n",
              "    .dataframe thead th {\n",
              "        text-align: right;\n",
              "    }\n",
              "</style>\n",
              "<table border=\"1\" class=\"dataframe\">\n",
              "  <thead>\n",
              "    <tr style=\"text-align: right;\">\n",
              "      <th></th>\n",
              "      <th>mean radius</th>\n",
              "      <th>mean texture</th>\n",
              "      <th>mean perimeter</th>\n",
              "      <th>mean area</th>\n",
              "      <th>mean smoothness</th>\n",
              "      <th>mean compactness</th>\n",
              "      <th>mean concavity</th>\n",
              "      <th>mean concave points</th>\n",
              "      <th>mean symmetry</th>\n",
              "      <th>mean fractal dimension</th>\n",
              "      <th>...</th>\n",
              "      <th>worst texture</th>\n",
              "      <th>worst perimeter</th>\n",
              "      <th>worst area</th>\n",
              "      <th>worst smoothness</th>\n",
              "      <th>worst compactness</th>\n",
              "      <th>worst concavity</th>\n",
              "      <th>worst concave points</th>\n",
              "      <th>worst symmetry</th>\n",
              "      <th>worst fractal dimension</th>\n",
              "      <th>target</th>\n",
              "    </tr>\n",
              "  </thead>\n",
              "  <tbody>\n",
              "    <tr>\n",
              "      <th>count</th>\n",
              "      <td>569.000000</td>\n",
              "      <td>569.000000</td>\n",
              "      <td>569.000000</td>\n",
              "      <td>569.000000</td>\n",
              "      <td>569.000000</td>\n",
              "      <td>569.000000</td>\n",
              "      <td>569.000000</td>\n",
              "      <td>569.000000</td>\n",
              "      <td>569.000000</td>\n",
              "      <td>569.000000</td>\n",
              "      <td>...</td>\n",
              "      <td>569.000000</td>\n",
              "      <td>569.000000</td>\n",
              "      <td>569.000000</td>\n",
              "      <td>569.000000</td>\n",
              "      <td>569.000000</td>\n",
              "      <td>569.000000</td>\n",
              "      <td>569.000000</td>\n",
              "      <td>569.000000</td>\n",
              "      <td>569.000000</td>\n",
              "      <td>569.000000</td>\n",
              "    </tr>\n",
              "    <tr>\n",
              "      <th>mean</th>\n",
              "      <td>14.127292</td>\n",
              "      <td>19.289649</td>\n",
              "      <td>91.969033</td>\n",
              "      <td>654.889104</td>\n",
              "      <td>0.096360</td>\n",
              "      <td>0.104341</td>\n",
              "      <td>0.088799</td>\n",
              "      <td>0.048919</td>\n",
              "      <td>0.181162</td>\n",
              "      <td>0.062798</td>\n",
              "      <td>...</td>\n",
              "      <td>25.677223</td>\n",
              "      <td>107.261213</td>\n",
              "      <td>880.583128</td>\n",
              "      <td>0.132369</td>\n",
              "      <td>0.254265</td>\n",
              "      <td>0.272188</td>\n",
              "      <td>0.114606</td>\n",
              "      <td>0.290076</td>\n",
              "      <td>0.083946</td>\n",
              "      <td>0.627417</td>\n",
              "    </tr>\n",
              "    <tr>\n",
              "      <th>std</th>\n",
              "      <td>3.524049</td>\n",
              "      <td>4.301036</td>\n",
              "      <td>24.298981</td>\n",
              "      <td>351.914129</td>\n",
              "      <td>0.014064</td>\n",
              "      <td>0.052813</td>\n",
              "      <td>0.079720</td>\n",
              "      <td>0.038803</td>\n",
              "      <td>0.027414</td>\n",
              "      <td>0.007060</td>\n",
              "      <td>...</td>\n",
              "      <td>6.146258</td>\n",
              "      <td>33.602542</td>\n",
              "      <td>569.356993</td>\n",
              "      <td>0.022832</td>\n",
              "      <td>0.157336</td>\n",
              "      <td>0.208624</td>\n",
              "      <td>0.065732</td>\n",
              "      <td>0.061867</td>\n",
              "      <td>0.018061</td>\n",
              "      <td>0.483918</td>\n",
              "    </tr>\n",
              "    <tr>\n",
              "      <th>min</th>\n",
              "      <td>6.981000</td>\n",
              "      <td>9.710000</td>\n",
              "      <td>43.790000</td>\n",
              "      <td>143.500000</td>\n",
              "      <td>0.052630</td>\n",
              "      <td>0.019380</td>\n",
              "      <td>0.000000</td>\n",
              "      <td>0.000000</td>\n",
              "      <td>0.106000</td>\n",
              "      <td>0.049960</td>\n",
              "      <td>...</td>\n",
              "      <td>12.020000</td>\n",
              "      <td>50.410000</td>\n",
              "      <td>185.200000</td>\n",
              "      <td>0.071170</td>\n",
              "      <td>0.027290</td>\n",
              "      <td>0.000000</td>\n",
              "      <td>0.000000</td>\n",
              "      <td>0.156500</td>\n",
              "      <td>0.055040</td>\n",
              "      <td>0.000000</td>\n",
              "    </tr>\n",
              "    <tr>\n",
              "      <th>25%</th>\n",
              "      <td>11.700000</td>\n",
              "      <td>16.170000</td>\n",
              "      <td>75.170000</td>\n",
              "      <td>420.300000</td>\n",
              "      <td>0.086370</td>\n",
              "      <td>0.064920</td>\n",
              "      <td>0.029560</td>\n",
              "      <td>0.020310</td>\n",
              "      <td>0.161900</td>\n",
              "      <td>0.057700</td>\n",
              "      <td>...</td>\n",
              "      <td>21.080000</td>\n",
              "      <td>84.110000</td>\n",
              "      <td>515.300000</td>\n",
              "      <td>0.116600</td>\n",
              "      <td>0.147200</td>\n",
              "      <td>0.114500</td>\n",
              "      <td>0.064930</td>\n",
              "      <td>0.250400</td>\n",
              "      <td>0.071460</td>\n",
              "      <td>0.000000</td>\n",
              "    </tr>\n",
              "    <tr>\n",
              "      <th>50%</th>\n",
              "      <td>13.370000</td>\n",
              "      <td>18.840000</td>\n",
              "      <td>86.240000</td>\n",
              "      <td>551.100000</td>\n",
              "      <td>0.095870</td>\n",
              "      <td>0.092630</td>\n",
              "      <td>0.061540</td>\n",
              "      <td>0.033500</td>\n",
              "      <td>0.179200</td>\n",
              "      <td>0.061540</td>\n",
              "      <td>...</td>\n",
              "      <td>25.410000</td>\n",
              "      <td>97.660000</td>\n",
              "      <td>686.500000</td>\n",
              "      <td>0.131300</td>\n",
              "      <td>0.211900</td>\n",
              "      <td>0.226700</td>\n",
              "      <td>0.099930</td>\n",
              "      <td>0.282200</td>\n",
              "      <td>0.080040</td>\n",
              "      <td>1.000000</td>\n",
              "    </tr>\n",
              "    <tr>\n",
              "      <th>75%</th>\n",
              "      <td>15.780000</td>\n",
              "      <td>21.800000</td>\n",
              "      <td>104.100000</td>\n",
              "      <td>782.700000</td>\n",
              "      <td>0.105300</td>\n",
              "      <td>0.130400</td>\n",
              "      <td>0.130700</td>\n",
              "      <td>0.074000</td>\n",
              "      <td>0.195700</td>\n",
              "      <td>0.066120</td>\n",
              "      <td>...</td>\n",
              "      <td>29.720000</td>\n",
              "      <td>125.400000</td>\n",
              "      <td>1084.000000</td>\n",
              "      <td>0.146000</td>\n",
              "      <td>0.339100</td>\n",
              "      <td>0.382900</td>\n",
              "      <td>0.161400</td>\n",
              "      <td>0.317900</td>\n",
              "      <td>0.092080</td>\n",
              "      <td>1.000000</td>\n",
              "    </tr>\n",
              "    <tr>\n",
              "      <th>max</th>\n",
              "      <td>28.110000</td>\n",
              "      <td>39.280000</td>\n",
              "      <td>188.500000</td>\n",
              "      <td>2501.000000</td>\n",
              "      <td>0.163400</td>\n",
              "      <td>0.345400</td>\n",
              "      <td>0.426800</td>\n",
              "      <td>0.201200</td>\n",
              "      <td>0.304000</td>\n",
              "      <td>0.097440</td>\n",
              "      <td>...</td>\n",
              "      <td>49.540000</td>\n",
              "      <td>251.200000</td>\n",
              "      <td>4254.000000</td>\n",
              "      <td>0.222600</td>\n",
              "      <td>1.058000</td>\n",
              "      <td>1.252000</td>\n",
              "      <td>0.291000</td>\n",
              "      <td>0.663800</td>\n",
              "      <td>0.207500</td>\n",
              "      <td>1.000000</td>\n",
              "    </tr>\n",
              "  </tbody>\n",
              "</table>\n",
              "<p>8 rows × 31 columns</p>\n",
              "</div>\n",
              "      <button class=\"colab-df-convert\" onclick=\"convertToInteractive('df-d338137a-95a5-430c-93ab-1e7459f47a8e')\"\n",
              "              title=\"Convert this dataframe to an interactive table.\"\n",
              "              style=\"display:none;\">\n",
              "        \n",
              "  <svg xmlns=\"http://www.w3.org/2000/svg\" height=\"24px\"viewBox=\"0 0 24 24\"\n",
              "       width=\"24px\">\n",
              "    <path d=\"M0 0h24v24H0V0z\" fill=\"none\"/>\n",
              "    <path d=\"M18.56 5.44l.94 2.06.94-2.06 2.06-.94-2.06-.94-.94-2.06-.94 2.06-2.06.94zm-11 1L8.5 8.5l.94-2.06 2.06-.94-2.06-.94L8.5 2.5l-.94 2.06-2.06.94zm10 10l.94 2.06.94-2.06 2.06-.94-2.06-.94-.94-2.06-.94 2.06-2.06.94z\"/><path d=\"M17.41 7.96l-1.37-1.37c-.4-.4-.92-.59-1.43-.59-.52 0-1.04.2-1.43.59L10.3 9.45l-7.72 7.72c-.78.78-.78 2.05 0 2.83L4 21.41c.39.39.9.59 1.41.59.51 0 1.02-.2 1.41-.59l7.78-7.78 2.81-2.81c.8-.78.8-2.07 0-2.86zM5.41 20L4 18.59l7.72-7.72 1.47 1.35L5.41 20z\"/>\n",
              "  </svg>\n",
              "      </button>\n",
              "      \n",
              "  <style>\n",
              "    .colab-df-container {\n",
              "      display:flex;\n",
              "      flex-wrap:wrap;\n",
              "      gap: 12px;\n",
              "    }\n",
              "\n",
              "    .colab-df-convert {\n",
              "      background-color: #E8F0FE;\n",
              "      border: none;\n",
              "      border-radius: 50%;\n",
              "      cursor: pointer;\n",
              "      display: none;\n",
              "      fill: #1967D2;\n",
              "      height: 32px;\n",
              "      padding: 0 0 0 0;\n",
              "      width: 32px;\n",
              "    }\n",
              "\n",
              "    .colab-df-convert:hover {\n",
              "      background-color: #E2EBFA;\n",
              "      box-shadow: 0px 1px 2px rgba(60, 64, 67, 0.3), 0px 1px 3px 1px rgba(60, 64, 67, 0.15);\n",
              "      fill: #174EA6;\n",
              "    }\n",
              "\n",
              "    [theme=dark] .colab-df-convert {\n",
              "      background-color: #3B4455;\n",
              "      fill: #D2E3FC;\n",
              "    }\n",
              "\n",
              "    [theme=dark] .colab-df-convert:hover {\n",
              "      background-color: #434B5C;\n",
              "      box-shadow: 0px 1px 3px 1px rgba(0, 0, 0, 0.15);\n",
              "      filter: drop-shadow(0px 1px 2px rgba(0, 0, 0, 0.3));\n",
              "      fill: #FFFFFF;\n",
              "    }\n",
              "  </style>\n",
              "\n",
              "      <script>\n",
              "        const buttonEl =\n",
              "          document.querySelector('#df-d338137a-95a5-430c-93ab-1e7459f47a8e button.colab-df-convert');\n",
              "        buttonEl.style.display =\n",
              "          google.colab.kernel.accessAllowed ? 'block' : 'none';\n",
              "\n",
              "        async function convertToInteractive(key) {\n",
              "          const element = document.querySelector('#df-d338137a-95a5-430c-93ab-1e7459f47a8e');\n",
              "          const dataTable =\n",
              "            await google.colab.kernel.invokeFunction('convertToInteractive',\n",
              "                                                     [key], {});\n",
              "          if (!dataTable) return;\n",
              "\n",
              "          const docLinkHtml = 'Like what you see? Visit the ' +\n",
              "            '<a target=\"_blank\" href=https://colab.research.google.com/notebooks/data_table.ipynb>data table notebook</a>'\n",
              "            + ' to learn more about interactive tables.';\n",
              "          element.innerHTML = '';\n",
              "          dataTable['output_type'] = 'display_data';\n",
              "          await google.colab.output.renderOutput(dataTable, element);\n",
              "          const docLink = document.createElement('div');\n",
              "          docLink.innerHTML = docLinkHtml;\n",
              "          element.appendChild(docLink);\n",
              "        }\n",
              "      </script>\n",
              "    </div>\n",
              "  </div>\n",
              "  "
            ]
          },
          "metadata": {},
          "execution_count": 65
        }
      ]
    },
    {
      "cell_type": "markdown",
      "source": [
        "### Train Test Split and Scale"
      ],
      "metadata": {
        "id": "E14rdgGysErG"
      }
    },
    {
      "cell_type": "code",
      "source": [
        "X = df.drop('target', axis=1).values\n",
        "y = df['target'].values\n",
        "\n",
        "X_train, X_test, y_train, y_test = train_test_split(X, y, test_size=0.30)"
      ],
      "metadata": {
        "id": "vwzmzFBBqU4_"
      },
      "execution_count": 66,
      "outputs": []
    },
    {
      "cell_type": "code",
      "source": [
        "# Scale the data\n",
        "\n",
        "scaler = MinMaxScaler()\n",
        "\n",
        "X_train = scaler.fit_transform(X_train)\n",
        "X_test = scaler.transform(X_test)"
      ],
      "metadata": {
        "id": "fkOk2zgzqlGd"
      },
      "execution_count": 67,
      "outputs": []
    },
    {
      "cell_type": "code",
      "source": [
        "len(X_train)"
      ],
      "metadata": {
        "colab": {
          "base_uri": "https://localhost:8080/"
        },
        "id": "_dr9z5znsIPf",
        "outputId": "f7df5ea7-2057-4abf-fed5-71cab23bc0ef"
      },
      "execution_count": 70,
      "outputs": [
        {
          "output_type": "execute_result",
          "data": {
            "text/plain": [
              "398"
            ]
          },
          "metadata": {},
          "execution_count": 70
        }
      ]
    },
    {
      "cell_type": "markdown",
      "source": [
        "### TensorBoard Configuration"
      ],
      "metadata": {
        "id": "F6kttZh7sIGW"
      }
    },
    {
      "cell_type": "code",
      "source": [
        "tb = lambda description: TensorBoard(log_dir='tf_logs/' \\\n",
        "                 + description \\\n",
        "                 + '_' \\\n",
        "                 + datetime.datetime.now().strftime('%Y%m%d_%H:%M:%S'))\n",
        "\n"
      ],
      "metadata": {
        "id": "hVaDggdcsHd-"
      },
      "execution_count": 72,
      "outputs": []
    },
    {
      "cell_type": "markdown",
      "source": [
        "### Build Model\n",
        "\n",
        "3 Hidden Layers\n",
        "- Activation **relu**\n",
        "- 128 Units per layer\n",
        "\n",
        "Compiler\n",
        "- Optimizer: Adam\n",
        "- Loss: binary_crossentropy\n",
        "- Metric: accuracy\n",
        "\n",
        "Callbacks\n",
        "- TensorBoard\n",
        "- EarlyStopping"
      ],
      "metadata": {
        "id": "Nop2Px4VrnCE"
      }
    },
    {
      "cell_type": "code",
      "source": [
        "model_1 = Sequential()\n",
        "\n",
        "model_1.add(Dense(128, activation='relu', name='DenseLayer1'))\n",
        "model_1.add(Dense(128, activation='relu', name='DenseLayer2'))\n",
        "model_1.add(Dense(128, activation='relu', name='DenseLayer3'))\n",
        "\n",
        "# classification output layer\n",
        "# The activation must be sigmoid\n",
        "model_1.add(Dense(1, activation='sigmoid', name='OutputLayer'))\n",
        "\n",
        "\n",
        "# Compilation\n",
        "model_1.compile(\n",
        "    optimizer=Adam(),\n",
        "    loss='binary_crossentropy',\n",
        "    metrics=['accuracy']\n",
        ")\n",
        "\n",
        "es = EarlyStopping(monitor='accuracy', mode='max', patience=10, verbose=1)\n",
        "\n",
        "history_1 = model_1.fit(\n",
        "    X_train,\n",
        "    y_train,\n",
        "    validation_data=(X_test, y_test),\n",
        "    epochs=250,\n",
        "    callbacks=[es, tb('model_1')]\n",
        ")"
      ],
      "metadata": {
        "colab": {
          "base_uri": "https://localhost:8080/"
        },
        "id": "X6VB5ih5qr-2",
        "outputId": "544d3d9b-94a3-4025-a9c8-8ecfd2d649b9"
      },
      "execution_count": 73,
      "outputs": [
        {
          "output_type": "stream",
          "name": "stdout",
          "text": [
            "Epoch 1/250\n",
            "13/13 [==============================] - 1s 29ms/step - loss: 0.6371 - accuracy: 0.6457 - val_loss: 0.5770 - val_accuracy: 0.8129\n",
            "Epoch 2/250\n",
            "13/13 [==============================] - 0s 10ms/step - loss: 0.4974 - accuracy: 0.8417 - val_loss: 0.4100 - val_accuracy: 0.9181\n",
            "Epoch 3/250\n",
            "13/13 [==============================] - 0s 10ms/step - loss: 0.3516 - accuracy: 0.8492 - val_loss: 0.3113 - val_accuracy: 0.8772\n",
            "Epoch 4/250\n",
            "13/13 [==============================] - 0s 10ms/step - loss: 0.2826 - accuracy: 0.8744 - val_loss: 0.2049 - val_accuracy: 0.9298\n",
            "Epoch 5/250\n",
            "13/13 [==============================] - 0s 10ms/step - loss: 0.2088 - accuracy: 0.9196 - val_loss: 0.1598 - val_accuracy: 0.9532\n",
            "Epoch 6/250\n",
            "13/13 [==============================] - 0s 12ms/step - loss: 0.1801 - accuracy: 0.9397 - val_loss: 0.1520 - val_accuracy: 0.9532\n",
            "Epoch 7/250\n",
            "13/13 [==============================] - 0s 12ms/step - loss: 0.1539 - accuracy: 0.9322 - val_loss: 0.1045 - val_accuracy: 0.9649\n",
            "Epoch 8/250\n",
            "13/13 [==============================] - 0s 13ms/step - loss: 0.1495 - accuracy: 0.9422 - val_loss: 0.0963 - val_accuracy: 0.9766\n",
            "Epoch 9/250\n",
            "13/13 [==============================] - 0s 9ms/step - loss: 0.1128 - accuracy: 0.9648 - val_loss: 0.0915 - val_accuracy: 0.9708\n",
            "Epoch 10/250\n",
            "13/13 [==============================] - 0s 10ms/step - loss: 0.1047 - accuracy: 0.9623 - val_loss: 0.0941 - val_accuracy: 0.9708\n",
            "Epoch 11/250\n",
            "13/13 [==============================] - 0s 9ms/step - loss: 0.0871 - accuracy: 0.9774 - val_loss: 0.0728 - val_accuracy: 0.9766\n",
            "Epoch 12/250\n",
            "13/13 [==============================] - 0s 13ms/step - loss: 0.0837 - accuracy: 0.9648 - val_loss: 0.0671 - val_accuracy: 0.9883\n",
            "Epoch 13/250\n",
            "13/13 [==============================] - 0s 10ms/step - loss: 0.0704 - accuracy: 0.9799 - val_loss: 0.0723 - val_accuracy: 0.9766\n",
            "Epoch 14/250\n",
            "13/13 [==============================] - 0s 12ms/step - loss: 0.0750 - accuracy: 0.9799 - val_loss: 0.0665 - val_accuracy: 0.9825\n",
            "Epoch 15/250\n",
            "13/13 [==============================] - 0s 11ms/step - loss: 0.0664 - accuracy: 0.9824 - val_loss: 0.0608 - val_accuracy: 0.9825\n",
            "Epoch 16/250\n",
            "13/13 [==============================] - 0s 11ms/step - loss: 0.0653 - accuracy: 0.9824 - val_loss: 0.0560 - val_accuracy: 0.9825\n",
            "Epoch 17/250\n",
            "13/13 [==============================] - 0s 11ms/step - loss: 0.0575 - accuracy: 0.9799 - val_loss: 0.0608 - val_accuracy: 0.9825\n",
            "Epoch 18/250\n",
            "13/13 [==============================] - 0s 17ms/step - loss: 0.0647 - accuracy: 0.9774 - val_loss: 0.0689 - val_accuracy: 0.9649\n",
            "Epoch 19/250\n",
            "13/13 [==============================] - 0s 20ms/step - loss: 0.1325 - accuracy: 0.9497 - val_loss: 0.1063 - val_accuracy: 0.9532\n",
            "Epoch 20/250\n",
            "13/13 [==============================] - 0s 10ms/step - loss: 0.0732 - accuracy: 0.9749 - val_loss: 0.0750 - val_accuracy: 0.9649\n",
            "Epoch 21/250\n",
            "13/13 [==============================] - 0s 6ms/step - loss: 0.0701 - accuracy: 0.9799 - val_loss: 0.0815 - val_accuracy: 0.9649\n",
            "Epoch 22/250\n",
            "13/13 [==============================] - 0s 7ms/step - loss: 0.0626 - accuracy: 0.9774 - val_loss: 0.0634 - val_accuracy: 0.9708\n",
            "Epoch 23/250\n",
            "13/13 [==============================] - 0s 5ms/step - loss: 0.0501 - accuracy: 0.9849 - val_loss: 0.0519 - val_accuracy: 0.9883\n",
            "Epoch 24/250\n",
            "13/13 [==============================] - 0s 5ms/step - loss: 0.0546 - accuracy: 0.9874 - val_loss: 0.0486 - val_accuracy: 0.9942\n",
            "Epoch 25/250\n",
            "13/13 [==============================] - 0s 6ms/step - loss: 0.0480 - accuracy: 0.9899 - val_loss: 0.0549 - val_accuracy: 0.9825\n",
            "Epoch 26/250\n",
            "13/13 [==============================] - 0s 6ms/step - loss: 0.0465 - accuracy: 0.9849 - val_loss: 0.0545 - val_accuracy: 0.9825\n",
            "Epoch 27/250\n",
            "13/13 [==============================] - 0s 6ms/step - loss: 0.0464 - accuracy: 0.9824 - val_loss: 0.0486 - val_accuracy: 0.9825\n",
            "Epoch 28/250\n",
            "13/13 [==============================] - 0s 5ms/step - loss: 0.0456 - accuracy: 0.9849 - val_loss: 0.0527 - val_accuracy: 0.9883\n",
            "Epoch 29/250\n",
            "13/13 [==============================] - 0s 5ms/step - loss: 0.0414 - accuracy: 0.9874 - val_loss: 0.0520 - val_accuracy: 0.9825\n",
            "Epoch 30/250\n",
            "13/13 [==============================] - 0s 5ms/step - loss: 0.0734 - accuracy: 0.9724 - val_loss: 0.0860 - val_accuracy: 0.9591\n",
            "Epoch 31/250\n",
            "13/13 [==============================] - 0s 6ms/step - loss: 0.0577 - accuracy: 0.9799 - val_loss: 0.0794 - val_accuracy: 0.9649\n",
            "Epoch 32/250\n",
            "13/13 [==============================] - 0s 7ms/step - loss: 0.0434 - accuracy: 0.9874 - val_loss: 0.0557 - val_accuracy: 0.9766\n",
            "Epoch 33/250\n",
            "13/13 [==============================] - 0s 5ms/step - loss: 0.0515 - accuracy: 0.9824 - val_loss: 0.0771 - val_accuracy: 0.9649\n",
            "Epoch 34/250\n",
            "13/13 [==============================] - 0s 6ms/step - loss: 0.0563 - accuracy: 0.9774 - val_loss: 0.0759 - val_accuracy: 0.9649\n",
            "Epoch 35/250\n",
            "13/13 [==============================] - 0s 6ms/step - loss: 0.0520 - accuracy: 0.9799 - val_loss: 0.0431 - val_accuracy: 0.9883\n",
            "Epoch 35: early stopping\n"
          ]
        }
      ]
    },
    {
      "cell_type": "code",
      "source": [
        "pd.DataFrame(history_1.history).plot()"
      ],
      "metadata": {
        "colab": {
          "base_uri": "https://localhost:8080/",
          "height": 282
        },
        "id": "stX-7FMSrBDR",
        "outputId": "b5b6d507-389c-44ad-f5f0-c8d6adb0b1ce"
      },
      "execution_count": 74,
      "outputs": [
        {
          "output_type": "execute_result",
          "data": {
            "text/plain": [
              "<matplotlib.axes._subplots.AxesSubplot at 0x7f006d1a3110>"
            ]
          },
          "metadata": {},
          "execution_count": 74
        },
        {
          "output_type": "display_data",
          "data": {
            "text/plain": [
              "<Figure size 432x288 with 1 Axes>"
            ],
            "image/png": "[encoded data removed]"
          },
          "metadata": {
            "needs_background": "light"
          }
        }
      ]
    },
    {
      "cell_type": "code",
      "source": [
        ""
      ],
      "metadata": {
        "id": "BPGhp1O2rVxQ"
      },
      "execution_count": null,
      "outputs": []
    },
    {
      "cell_type": "markdown",
      "source": [
        "### Add Dropout - Prevent Overfitting\n",
        "\n",
        "If we have a problem with overtraining our data we can use Dropouts to slow down our model's learning on the training data\n",
        "\n",
        "the accuracy on the training data is higher than the val_accuracy\n",
        "the val_accuracy is lower than the accuracy\n",
        "\n"
      ],
      "metadata": {
        "id": "EcH0SIWHrjsU"
      }
    },
    {
      "cell_type": "code",
      "source": [
        "model_2 = Sequential()\n",
        "\n",
        "\n",
        "model_2.add(Dense(128, activation='relu', name='DenseLayer1'))\n",
        "model_2.add(Dropout(0.5, name='DroputLayer1'))\n",
        "\n",
        "# Droput will randomly drop 50% (based on above) before sending to this layer\n",
        "# Layer 2 receives only 64 inputs, all others inputs will be 0\n",
        "# Randomly chosen every epoch\n",
        "model_2.add(Dense(128, activation='relu', name='DenseLayer2'))\n",
        "model_2.add(Dropout(0.5, name='DroputLayer2'))\n",
        "\n",
        "\n",
        "model_2.add(Dense(128, activation='relu', name='DenseLayer3'))\n",
        "model_2.add(Dropout(0.5, name='DroputLayer3'))\n",
        "\n",
        "# classification output layer\n",
        "# The activation must be sigmoid\n",
        "model_2.add(Dense(1, activation='sigmoid', name='OutputLayer'))\n",
        "\n",
        "\n",
        "# Compilation\n",
        "model_2.compile(\n",
        "    optimizer=Adam(),\n",
        "    loss='binary_crossentropy',\n",
        "    metrics=['accuracy']\n",
        ")\n",
        "\n",
        "es = EarlyStopping(monitor='accuracy', mode='max', patience=10, verbose=1)\n",
        "\n",
        "history_2 = model_2.fit(\n",
        "    X_train,\n",
        "    y_train,\n",
        "    validation_data=(X_test, y_test),\n",
        "    epochs=250,\n",
        "    callbacks=[es, tb('model_2_added_dropouts')]\n",
        ")"
      ],
      "metadata": {
        "colab": {
          "base_uri": "https://localhost:8080/"
        },
        "id": "D0vT_PShrc1i",
        "outputId": "6ec9575e-eb5f-4c07-dd45-7b42a74bb0e8"
      },
      "execution_count": 76,
      "outputs": [
        {
          "output_type": "stream",
          "name": "stdout",
          "text": [
            "Epoch 1/250\n",
            "13/13 [==============================] - 1s 20ms/step - loss: 0.6878 - accuracy: 0.5553 - val_loss: 0.6553 - val_accuracy: 0.9123\n",
            "Epoch 2/250\n",
            "13/13 [==============================] - 0s 7ms/step - loss: 0.6423 - accuracy: 0.7010 - val_loss: 0.6021 - val_accuracy: 0.9181\n",
            "Epoch 3/250\n",
            "13/13 [==============================] - 0s 6ms/step - loss: 0.5827 - accuracy: 0.7965 - val_loss: 0.4974 - val_accuracy: 0.9181\n",
            "Epoch 4/250\n",
            "13/13 [==============================] - 0s 6ms/step - loss: 0.5127 - accuracy: 0.8065 - val_loss: 0.3819 - val_accuracy: 0.9357\n",
            "Epoch 5/250\n",
            "13/13 [==============================] - 0s 5ms/step - loss: 0.4034 - accuracy: 0.8241 - val_loss: 0.2791 - val_accuracy: 0.9123\n",
            "Epoch 6/250\n",
            "13/13 [==============================] - 0s 7ms/step - loss: 0.3384 - accuracy: 0.8719 - val_loss: 0.2104 - val_accuracy: 0.9532\n",
            "Epoch 7/250\n",
            "13/13 [==============================] - 0s 6ms/step - loss: 0.3150 - accuracy: 0.8844 - val_loss: 0.1689 - val_accuracy: 0.9474\n",
            "Epoch 8/250\n",
            "13/13 [==============================] - 0s 5ms/step - loss: 0.2583 - accuracy: 0.8769 - val_loss: 0.1446 - val_accuracy: 0.9474\n",
            "Epoch 9/250\n",
            "13/13 [==============================] - 0s 7ms/step - loss: 0.2898 - accuracy: 0.8869 - val_loss: 0.1303 - val_accuracy: 0.9649\n",
            "Epoch 10/250\n",
            "13/13 [==============================] - 0s 5ms/step - loss: 0.2416 - accuracy: 0.9045 - val_loss: 0.1209 - val_accuracy: 0.9766\n",
            "Epoch 11/250\n",
            "13/13 [==============================] - 0s 6ms/step - loss: 0.2366 - accuracy: 0.9045 - val_loss: 0.1227 - val_accuracy: 0.9415\n",
            "Epoch 12/250\n",
            "13/13 [==============================] - 0s 5ms/step - loss: 0.2019 - accuracy: 0.9221 - val_loss: 0.0985 - val_accuracy: 0.9766\n",
            "Epoch 13/250\n",
            "13/13 [==============================] - 0s 5ms/step - loss: 0.1957 - accuracy: 0.9271 - val_loss: 0.0859 - val_accuracy: 0.9766\n",
            "Epoch 14/250\n",
            "13/13 [==============================] - 0s 5ms/step - loss: 0.1731 - accuracy: 0.9347 - val_loss: 0.0752 - val_accuracy: 0.9708\n",
            "Epoch 15/250\n",
            "13/13 [==============================] - 0s 6ms/step - loss: 0.1612 - accuracy: 0.9271 - val_loss: 0.0718 - val_accuracy: 0.9766\n",
            "Epoch 16/250\n",
            "13/13 [==============================] - 0s 6ms/step - loss: 0.1499 - accuracy: 0.9372 - val_loss: 0.0669 - val_accuracy: 0.9825\n",
            "Epoch 17/250\n",
            "13/13 [==============================] - 0s 6ms/step - loss: 0.1475 - accuracy: 0.9447 - val_loss: 0.0599 - val_accuracy: 0.9825\n",
            "Epoch 18/250\n",
            "13/13 [==============================] - 0s 6ms/step - loss: 0.1343 - accuracy: 0.9598 - val_loss: 0.0570 - val_accuracy: 0.9766\n",
            "Epoch 19/250\n",
            "13/13 [==============================] - 0s 5ms/step - loss: 0.1258 - accuracy: 0.9623 - val_loss: 0.0578 - val_accuracy: 0.9766\n",
            "Epoch 20/250\n",
            "13/13 [==============================] - 0s 6ms/step - loss: 0.1438 - accuracy: 0.9497 - val_loss: 0.0542 - val_accuracy: 0.9766\n",
            "Epoch 21/250\n",
            "13/13 [==============================] - 0s 7ms/step - loss: 0.1350 - accuracy: 0.9497 - val_loss: 0.0646 - val_accuracy: 0.9649\n",
            "Epoch 22/250\n",
            "13/13 [==============================] - 0s 5ms/step - loss: 0.1334 - accuracy: 0.9497 - val_loss: 0.0549 - val_accuracy: 0.9825\n",
            "Epoch 23/250\n",
            "13/13 [==============================] - 0s 6ms/step - loss: 0.1128 - accuracy: 0.9623 - val_loss: 0.0527 - val_accuracy: 0.9708\n",
            "Epoch 24/250\n",
            "13/13 [==============================] - 0s 5ms/step - loss: 0.0959 - accuracy: 0.9673 - val_loss: 0.0434 - val_accuracy: 0.9883\n",
            "Epoch 25/250\n",
            "13/13 [==============================] - 0s 5ms/step - loss: 0.1221 - accuracy: 0.9548 - val_loss: 0.0439 - val_accuracy: 0.9825\n",
            "Epoch 26/250\n",
            "13/13 [==============================] - 0s 6ms/step - loss: 0.1038 - accuracy: 0.9749 - val_loss: 0.0544 - val_accuracy: 0.9766\n",
            "Epoch 27/250\n",
            "13/13 [==============================] - 0s 6ms/step - loss: 0.1126 - accuracy: 0.9573 - val_loss: 0.0437 - val_accuracy: 0.9883\n",
            "Epoch 28/250\n",
            "13/13 [==============================] - 0s 7ms/step - loss: 0.0850 - accuracy: 0.9724 - val_loss: 0.0402 - val_accuracy: 0.9883\n",
            "Epoch 29/250\n",
            "13/13 [==============================] - 0s 7ms/step - loss: 0.0946 - accuracy: 0.9698 - val_loss: 0.0379 - val_accuracy: 0.9883\n",
            "Epoch 30/250\n",
            "13/13 [==============================] - 0s 7ms/step - loss: 0.0873 - accuracy: 0.9724 - val_loss: 0.0383 - val_accuracy: 0.9883\n",
            "Epoch 31/250\n",
            "13/13 [==============================] - 0s 7ms/step - loss: 0.1102 - accuracy: 0.9573 - val_loss: 0.0356 - val_accuracy: 0.9942\n",
            "Epoch 32/250\n",
            "13/13 [==============================] - 0s 7ms/step - loss: 0.1074 - accuracy: 0.9598 - val_loss: 0.0390 - val_accuracy: 0.9883\n",
            "Epoch 33/250\n",
            "13/13 [==============================] - 0s 7ms/step - loss: 0.0931 - accuracy: 0.9648 - val_loss: 0.0336 - val_accuracy: 0.9883\n",
            "Epoch 34/250\n",
            "13/13 [==============================] - 0s 6ms/step - loss: 0.0997 - accuracy: 0.9673 - val_loss: 0.0374 - val_accuracy: 0.9825\n",
            "Epoch 35/250\n",
            "13/13 [==============================] - 0s 7ms/step - loss: 0.0803 - accuracy: 0.9724 - val_loss: 0.0355 - val_accuracy: 0.9883\n",
            "Epoch 36/250\n",
            "13/13 [==============================] - 0s 6ms/step - loss: 0.0674 - accuracy: 0.9749 - val_loss: 0.0332 - val_accuracy: 0.9825\n",
            "Epoch 36: early stopping\n"
          ]
        }
      ]
    },
    {
      "cell_type": "code",
      "source": [
        "pd.DataFrame(history_2.history).plot()"
      ],
      "metadata": {
        "colab": {
          "base_uri": "https://localhost:8080/",
          "height": 282
        },
        "id": "MdWH0o4ztGbd",
        "outputId": "d859a644-345e-4fcb-e4b7-6067a7ef0b8c"
      },
      "execution_count": 77,
      "outputs": [
        {
          "output_type": "execute_result",
          "data": {
            "text/plain": [
              "<matplotlib.axes._subplots.AxesSubplot at 0x7f006cf2e510>"
            ]
          },
          "metadata": {},
          "execution_count": 77
        },
        {
          "output_type": "display_data",
          "data": {
            "text/plain": [
              "<Figure size 432x288 with 1 Axes>"
            ],
            "image/png": "[encoded data removed]"
          },
          "metadata": {
            "needs_background": "light"
          }
        }
      ]
    },
    {
      "cell_type": "markdown",
      "source": [
        "### Reduce the Units - Reduce Units\n",
        "\n",
        " Another way to solve overfitting is to reduce the number of units per layer"
      ],
      "metadata": {
        "id": "1j1vE4l4trj4"
      }
    },
    {
      "cell_type": "code",
      "source": [
        "model_3 = Sequential()\n",
        "\n",
        "\n",
        "model_3.add(Dense(32, activation='relu', name='DenseLayer1'))\n",
        "# model_3.add(Dropout(0.5, name='DroputLayer1'))\n",
        "\n",
        "# Droput will randomly drop 50% (based on above) before sending to this layer\n",
        "# Layer 2 receives only 64 inputs, all others inputs will be 0\n",
        "# Randomly chosen every epoch\n",
        "model_3.add(Dense(32, activation='relu', name='DenseLayer2'))\n",
        "# model_3.add(Dropout(0.5, name='DroputLayer2'))\n",
        "\n",
        "\n",
        "model_3.add(Dense(32, activation='relu', name='DenseLayer3'))\n",
        "# model_3.add(Dropout(0.5, name='DroputLayer3'))\n",
        "\n",
        "# classification output layer\n",
        "# The activation must be sigmoid\n",
        "model_3.add(Dense(1, activation='sigmoid', name='OutputLayer'))\n",
        "\n",
        "\n",
        "# Compilation\n",
        "model_3.compile(\n",
        "    optimizer=Adam(),\n",
        "    loss='binary_crossentropy',\n",
        "    metrics=['accuracy']\n",
        ")\n",
        "\n",
        "es = EarlyStopping(monitor='accuracy', mode='max', patience=10, verbose=1)\n",
        "\n",
        "history_3 = model_3.fit(\n",
        "    X_train,\n",
        "    y_train,\n",
        "    validation_data=(X_test, y_test),\n",
        "    epochs=250,\n",
        "    callbacks=[es, tb('model_3_reduced_inputs')]\n",
        ")"
      ],
      "metadata": {
        "colab": {
          "base_uri": "https://localhost:8080/"
        },
        "id": "yBxasuKKtLiM",
        "outputId": "a09cabfe-488b-4c1f-a54b-e4cabf6bb71c"
      },
      "execution_count": 78,
      "outputs": [
        {
          "output_type": "stream",
          "name": "stdout",
          "text": [
            "Epoch 1/250\n",
            "13/13 [==============================] - 1s 19ms/step - loss: 0.6874 - accuracy: 0.6106 - val_loss: 0.6744 - val_accuracy: 0.8129\n",
            "Epoch 2/250\n",
            "13/13 [==============================] - 0s 6ms/step - loss: 0.6595 - accuracy: 0.8518 - val_loss: 0.6381 - val_accuracy: 0.9064\n",
            "Epoch 3/250\n",
            "13/13 [==============================] - 0s 7ms/step - loss: 0.6153 - accuracy: 0.8794 - val_loss: 0.5760 - val_accuracy: 0.9123\n",
            "Epoch 4/250\n",
            "13/13 [==============================] - 0s 6ms/step - loss: 0.5444 - accuracy: 0.8844 - val_loss: 0.4939 - val_accuracy: 0.9298\n",
            "Epoch 5/250\n",
            "13/13 [==============================] - 0s 6ms/step - loss: 0.4551 - accuracy: 0.8995 - val_loss: 0.3912 - val_accuracy: 0.9415\n",
            "Epoch 6/250\n",
            "13/13 [==============================] - 0s 7ms/step - loss: 0.3591 - accuracy: 0.9020 - val_loss: 0.2920 - val_accuracy: 0.9415\n",
            "Epoch 7/250\n",
            "13/13 [==============================] - 0s 6ms/step - loss: 0.2882 - accuracy: 0.8970 - val_loss: 0.2196 - val_accuracy: 0.9474\n",
            "Epoch 8/250\n",
            "13/13 [==============================] - 0s 7ms/step - loss: 0.2284 - accuracy: 0.9196 - val_loss: 0.1797 - val_accuracy: 0.9474\n",
            "Epoch 9/250\n",
            "13/13 [==============================] - 0s 5ms/step - loss: 0.2133 - accuracy: 0.9070 - val_loss: 0.1486 - val_accuracy: 0.9591\n",
            "Epoch 10/250\n",
            "13/13 [==============================] - 0s 7ms/step - loss: 0.1897 - accuracy: 0.9347 - val_loss: 0.1401 - val_accuracy: 0.9649\n",
            "Epoch 11/250\n",
            "13/13 [==============================] - 0s 5ms/step - loss: 0.1734 - accuracy: 0.9196 - val_loss: 0.1230 - val_accuracy: 0.9649\n",
            "Epoch 12/250\n",
            "13/13 [==============================] - 0s 7ms/step - loss: 0.1767 - accuracy: 0.9171 - val_loss: 0.1132 - val_accuracy: 0.9649\n",
            "Epoch 13/250\n",
            "13/13 [==============================] - 0s 7ms/step - loss: 0.1602 - accuracy: 0.9322 - val_loss: 0.1112 - val_accuracy: 0.9649\n",
            "Epoch 14/250\n",
            "13/13 [==============================] - 0s 6ms/step - loss: 0.1448 - accuracy: 0.9422 - val_loss: 0.0994 - val_accuracy: 0.9649\n",
            "Epoch 15/250\n",
            "13/13 [==============================] - 0s 7ms/step - loss: 0.1246 - accuracy: 0.9548 - val_loss: 0.0933 - val_accuracy: 0.9766\n",
            "Epoch 16/250\n",
            "13/13 [==============================] - 0s 6ms/step - loss: 0.1177 - accuracy: 0.9623 - val_loss: 0.0877 - val_accuracy: 0.9649\n",
            "Epoch 17/250\n",
            "13/13 [==============================] - 0s 6ms/step - loss: 0.1149 - accuracy: 0.9598 - val_loss: 0.0834 - val_accuracy: 0.9708\n",
            "Epoch 18/250\n",
            "13/13 [==============================] - 0s 6ms/step - loss: 0.1093 - accuracy: 0.9598 - val_loss: 0.0795 - val_accuracy: 0.9766\n",
            "Epoch 19/250\n",
            "13/13 [==============================] - 0s 6ms/step - loss: 0.1035 - accuracy: 0.9698 - val_loss: 0.0749 - val_accuracy: 0.9708\n",
            "Epoch 20/250\n",
            "13/13 [==============================] - 0s 6ms/step - loss: 0.0968 - accuracy: 0.9724 - val_loss: 0.0713 - val_accuracy: 0.9708\n",
            "Epoch 21/250\n",
            "13/13 [==============================] - 0s 6ms/step - loss: 0.0950 - accuracy: 0.9673 - val_loss: 0.0701 - val_accuracy: 0.9708\n",
            "Epoch 22/250\n",
            "13/13 [==============================] - 0s 7ms/step - loss: 0.0875 - accuracy: 0.9774 - val_loss: 0.0704 - val_accuracy: 0.9825\n",
            "Epoch 23/250\n",
            "13/13 [==============================] - 0s 5ms/step - loss: 0.0871 - accuracy: 0.9648 - val_loss: 0.0647 - val_accuracy: 0.9708\n",
            "Epoch 24/250\n",
            "13/13 [==============================] - 0s 6ms/step - loss: 0.0829 - accuracy: 0.9749 - val_loss: 0.0602 - val_accuracy: 0.9825\n",
            "Epoch 25/250\n",
            "13/13 [==============================] - 0s 6ms/step - loss: 0.0821 - accuracy: 0.9724 - val_loss: 0.0583 - val_accuracy: 0.9825\n",
            "Epoch 26/250\n",
            "13/13 [==============================] - 0s 5ms/step - loss: 0.0827 - accuracy: 0.9774 - val_loss: 0.0599 - val_accuracy: 0.9766\n",
            "Epoch 27/250\n",
            "13/13 [==============================] - 0s 6ms/step - loss: 0.0843 - accuracy: 0.9724 - val_loss: 0.0535 - val_accuracy: 0.9825\n",
            "Epoch 28/250\n",
            "13/13 [==============================] - 0s 6ms/step - loss: 0.0752 - accuracy: 0.9774 - val_loss: 0.0507 - val_accuracy: 0.9883\n",
            "Epoch 29/250\n",
            "13/13 [==============================] - 0s 5ms/step - loss: 0.0732 - accuracy: 0.9774 - val_loss: 0.0493 - val_accuracy: 0.9883\n",
            "Epoch 30/250\n",
            "13/13 [==============================] - 0s 5ms/step - loss: 0.0714 - accuracy: 0.9799 - val_loss: 0.0477 - val_accuracy: 0.9825\n",
            "Epoch 31/250\n",
            "13/13 [==============================] - 0s 6ms/step - loss: 0.0681 - accuracy: 0.9849 - val_loss: 0.0486 - val_accuracy: 0.9825\n",
            "Epoch 32/250\n",
            "13/13 [==============================] - 0s 6ms/step - loss: 0.0691 - accuracy: 0.9824 - val_loss: 0.0469 - val_accuracy: 0.9825\n",
            "Epoch 33/250\n",
            "13/13 [==============================] - 0s 6ms/step - loss: 0.0742 - accuracy: 0.9774 - val_loss: 0.0489 - val_accuracy: 0.9825\n",
            "Epoch 34/250\n",
            "13/13 [==============================] - 0s 6ms/step - loss: 0.0660 - accuracy: 0.9774 - val_loss: 0.0439 - val_accuracy: 0.9883\n",
            "Epoch 35/250\n",
            "13/13 [==============================] - 0s 5ms/step - loss: 0.0665 - accuracy: 0.9799 - val_loss: 0.0425 - val_accuracy: 0.9883\n",
            "Epoch 36/250\n",
            "13/13 [==============================] - 0s 5ms/step - loss: 0.0626 - accuracy: 0.9824 - val_loss: 0.0423 - val_accuracy: 0.9942\n",
            "Epoch 37/250\n",
            "13/13 [==============================] - 0s 5ms/step - loss: 0.0618 - accuracy: 0.9824 - val_loss: 0.0415 - val_accuracy: 0.9883\n",
            "Epoch 38/250\n",
            "13/13 [==============================] - 0s 5ms/step - loss: 0.0603 - accuracy: 0.9824 - val_loss: 0.0397 - val_accuracy: 0.9942\n",
            "Epoch 39/250\n",
            "13/13 [==============================] - 0s 6ms/step - loss: 0.0663 - accuracy: 0.9774 - val_loss: 0.0501 - val_accuracy: 0.9766\n",
            "Epoch 40/250\n",
            "13/13 [==============================] - 0s 7ms/step - loss: 0.0669 - accuracy: 0.9749 - val_loss: 0.0460 - val_accuracy: 0.9766\n",
            "Epoch 41/250\n",
            "13/13 [==============================] - 0s 7ms/step - loss: 0.0617 - accuracy: 0.9774 - val_loss: 0.0380 - val_accuracy: 0.9942\n",
            "Epoch 41: early stopping\n"
          ]
        }
      ]
    },
    {
      "cell_type": "code",
      "source": [
        "pd.DataFrame(history_3.history).plot()"
      ],
      "metadata": {
        "colab": {
          "base_uri": "https://localhost:8080/",
          "height": 282
        },
        "id": "HIDnVtN_tgPe",
        "outputId": "24eb2245-b129-466f-e10a-bfe5a0b3149b"
      },
      "execution_count": 79,
      "outputs": [
        {
          "output_type": "execute_result",
          "data": {
            "text/plain": [
              "<matplotlib.axes._subplots.AxesSubplot at 0x7f006f531c90>"
            ]
          },
          "metadata": {},
          "execution_count": 79
        },
        {
          "output_type": "display_data",
          "data": {
            "text/plain": [
              "<Figure size 432x288 with 1 Axes>"
            ],
            "image/png": "[encoded data removed]"
          },
          "metadata": {
            "needs_background": "light"
          }
        }
      ]
    },
    {
      "cell_type": "markdown",
      "source": [
        "### Predictions"
      ],
      "metadata": {
        "id": "yTr0fDy8tlxn"
      }
    },
    {
      "cell_type": "code",
      "source": [
        "model_1.evaluate(X_train, y_train)"
      ],
      "metadata": {
        "colab": {
          "base_uri": "https://localhost:8080/"
        },
        "id": "xlmBPIFOt1pJ",
        "outputId": "bb2fa461-4d16-49ac-8860-7c5186badf10"
      },
      "execution_count": 80,
      "outputs": [
        {
          "output_type": "stream",
          "name": "stdout",
          "text": [
            "13/13 [==============================] - 0s 11ms/step - loss: 0.0450 - accuracy: 0.9824\n"
          ]
        },
        {
          "output_type": "execute_result",
          "data": {
            "text/plain": [
              "[0.04497213661670685, 0.9824120402336121]"
            ]
          },
          "metadata": {},
          "execution_count": 80
        }
      ]
    },
    {
      "cell_type": "code",
      "source": [
        "model_2.evaluate(X_train, y_train)"
      ],
      "metadata": {
        "colab": {
          "base_uri": "https://localhost:8080/"
        },
        "id": "g0GHMjHMt5dp",
        "outputId": "11fff130-ab23-4a52-9c2e-ff992f9424bc"
      },
      "execution_count": 81,
      "outputs": [
        {
          "output_type": "stream",
          "name": "stdout",
          "text": [
            "13/13 [==============================] - 0s 3ms/step - loss: 0.0508 - accuracy: 0.9799\n"
          ]
        },
        {
          "output_type": "execute_result",
          "data": {
            "text/plain": [
              "[0.050762683153152466, 0.979899525642395]"
            ]
          },
          "metadata": {},
          "execution_count": 81
        }
      ]
    },
    {
      "cell_type": "code",
      "source": [
        "model_3.evaluate(X_train, y_train)"
      ],
      "metadata": {
        "colab": {
          "base_uri": "https://localhost:8080/"
        },
        "id": "rKs-iVveuAGC",
        "outputId": "c549919b-eedf-4aa1-845c-f192f3cbd22d"
      },
      "execution_count": 82,
      "outputs": [
        {
          "output_type": "stream",
          "name": "stdout",
          "text": [
            "13/13 [==============================] - 0s 6ms/step - loss: 0.0565 - accuracy: 0.9849\n"
          ]
        },
        {
          "output_type": "execute_result",
          "data": {
            "text/plain": [
              "[0.056503649801015854, 0.9849246144294739]"
            ]
          },
          "metadata": {},
          "execution_count": 82
        }
      ]
    },
    {
      "cell_type": "code",
      "source": [
        "prediction_3 = (model_3.predict(X_test) > 0.5) * 1"
      ],
      "metadata": {
        "id": "85lDNPezuBoK"
      },
      "execution_count": 86,
      "outputs": []
    },
    {
      "cell_type": "code",
      "source": [
        "prediction_3"
      ],
      "metadata": {
        "colab": {
          "base_uri": "https://localhost:8080/"
        },
        "id": "kzFfP8wEuP4j",
        "outputId": "c7272dfb-e216-4bf2-b433-b5475a622f56"
      },
      "execution_count": 87,
      "outputs": [
        {
          "output_type": "execute_result",
          "data": {
            "text/plain": [
              "array([[1],\n",
              "       [1],\n",
              "       [1],\n",
              "       [1],\n",
              "       [1],\n",
              "       [1],\n",
              "       [1],\n",
              "       [1],\n",
              "       [0],\n",
              "       [0],\n",
              "       [1],\n",
              "       [0],\n",
              "       [1],\n",
              "       [0],\n",
              "       [1],\n",
              "       [0],\n",
              "       [0],\n",
              "       [0],\n",
              "       [1],\n",
              "       [0],\n",
              "       [1],\n",
              "       [1],\n",
              "       [0],\n",
              "       [0],\n",
              "       [1],\n",
              "       [1],\n",
              "       [0],\n",
              "       [1],\n",
              "       [1],\n",
              "       [1],\n",
              "       [0],\n",
              "       [1],\n",
              "       [0],\n",
              "       [1],\n",
              "       [0],\n",
              "       [1],\n",
              "       [1],\n",
              "       [1],\n",
              "       [1],\n",
              "       [0],\n",
              "       [0],\n",
              "       [1],\n",
              "       [0],\n",
              "       [0],\n",
              "       [0],\n",
              "       [1],\n",
              "       [1],\n",
              "       [1],\n",
              "       [1],\n",
              "       [0],\n",
              "       [1],\n",
              "       [0],\n",
              "       [0],\n",
              "       [0],\n",
              "       [0],\n",
              "       [1],\n",
              "       [0],\n",
              "       [1],\n",
              "       [0],\n",
              "       [0],\n",
              "       [1],\n",
              "       [1],\n",
              "       [0],\n",
              "       [0],\n",
              "       [1],\n",
              "       [1],\n",
              "       [1],\n",
              "       [1],\n",
              "       [1],\n",
              "       [1],\n",
              "       [0],\n",
              "       [1],\n",
              "       [1],\n",
              "       [0],\n",
              "       [1],\n",
              "       [0],\n",
              "       [0],\n",
              "       [1],\n",
              "       [0],\n",
              "       [1],\n",
              "       [0],\n",
              "       [1],\n",
              "       [0],\n",
              "       [1],\n",
              "       [1],\n",
              "       [1],\n",
              "       [1],\n",
              "       [1],\n",
              "       [1],\n",
              "       [1],\n",
              "       [1],\n",
              "       [1],\n",
              "       [1],\n",
              "       [1],\n",
              "       [1],\n",
              "       [0],\n",
              "       [1],\n",
              "       [1],\n",
              "       [0],\n",
              "       [0],\n",
              "       [1],\n",
              "       [1],\n",
              "       [1],\n",
              "       [0],\n",
              "       [1],\n",
              "       [1],\n",
              "       [1],\n",
              "       [1],\n",
              "       [1],\n",
              "       [0],\n",
              "       [1],\n",
              "       [1],\n",
              "       [1],\n",
              "       [1],\n",
              "       [1],\n",
              "       [1],\n",
              "       [1],\n",
              "       [0],\n",
              "       [1],\n",
              "       [0],\n",
              "       [1],\n",
              "       [1],\n",
              "       [1],\n",
              "       [0],\n",
              "       [1],\n",
              "       [1],\n",
              "       [1],\n",
              "       [1],\n",
              "       [1],\n",
              "       [0],\n",
              "       [1],\n",
              "       [1],\n",
              "       [0],\n",
              "       [1],\n",
              "       [1],\n",
              "       [1],\n",
              "       [1],\n",
              "       [1],\n",
              "       [1],\n",
              "       [0],\n",
              "       [1],\n",
              "       [1],\n",
              "       [1],\n",
              "       [1],\n",
              "       [1],\n",
              "       [1],\n",
              "       [1],\n",
              "       [1],\n",
              "       [0],\n",
              "       [1],\n",
              "       [1],\n",
              "       [1],\n",
              "       [1],\n",
              "       [0],\n",
              "       [1],\n",
              "       [1],\n",
              "       [1],\n",
              "       [1],\n",
              "       [1],\n",
              "       [1],\n",
              "       [1],\n",
              "       [1],\n",
              "       [1],\n",
              "       [1],\n",
              "       [1],\n",
              "       [1],\n",
              "       [1],\n",
              "       [1],\n",
              "       [0],\n",
              "       [0],\n",
              "       [1]])"
            ]
          },
          "metadata": {},
          "execution_count": 87
        }
      ]
    },
    {
      "cell_type": "code",
      "source": [
        "y_test"
      ],
      "metadata": {
        "colab": {
          "base_uri": "https://localhost:8080/"
        },
        "id": "IyjDIGbfB0ws",
        "outputId": "3aeed577-3fad-4b3c-a9b4-014628c5af03"
      },
      "execution_count": 85,
      "outputs": [
        {
          "output_type": "execute_result",
          "data": {
            "text/plain": [
              "array([1, 1, 1, 1, 1, 1, 1, 1, 0, 0, 1, 0, 1, 0, 1, 0, 0, 0, 1, 0, 1, 1,\n",
              "       0, 0, 1, 1, 0, 1, 1, 1, 0, 1, 0, 1, 0, 1, 1, 0, 1, 0, 0, 1, 0, 0,\n",
              "       0, 1, 1, 1, 1, 0, 1, 0, 0, 0, 0, 1, 0, 1, 0, 0, 1, 1, 0, 0, 1, 1,\n",
              "       1, 1, 1, 1, 0, 1, 1, 0, 1, 0, 0, 1, 0, 1, 0, 1, 0, 1, 1, 1, 1, 1,\n",
              "       1, 1, 1, 1, 1, 1, 1, 0, 1, 1, 0, 0, 1, 1, 1, 0, 1, 1, 1, 1, 1, 0,\n",
              "       1, 1, 1, 1, 1, 1, 1, 0, 1, 0, 1, 1, 1, 0, 1, 1, 1, 1, 1, 0, 1, 1,\n",
              "       0, 1, 1, 1, 1, 1, 1, 0, 1, 1, 1, 1, 1, 1, 1, 1, 0, 1, 1, 1, 1, 0,\n",
              "       1, 1, 1, 1, 1, 1, 1, 1, 1, 1, 1, 1, 1, 1, 0, 0, 1])"
            ]
          },
          "metadata": {},
          "execution_count": 85
        }
      ]
    },
    {
      "cell_type": "code",
      "source": [
        "confusion_matrix(y_test, prediction_3)"
      ],
      "metadata": {
        "colab": {
          "base_uri": "https://localhost:8080/"
        },
        "id": "sHVbexkiB077",
        "outputId": "a27ab2e8-f847-470c-ce01-5a24a827d439"
      },
      "execution_count": 89,
      "outputs": [
        {
          "output_type": "execute_result",
          "data": {
            "text/plain": [
              "array([[ 51,   1],\n",
              "       [  0, 119]])"
            ]
          },
          "metadata": {},
          "execution_count": 89
        }
      ]
    },
    {
      "cell_type": "code",
      "source": [
        "print(classification_report(y_test, prediction_3))"
      ],
      "metadata": {
        "colab": {
          "base_uri": "https://localhost:8080/"
        },
        "id": "OrD7Ibn-B1Fz",
        "outputId": "0da98034-5cbf-42a2-81bb-efa2e699ee82"
      },
      "execution_count": 91,
      "outputs": [
        {
          "output_type": "stream",
          "name": "stdout",
          "text": [
            "              precision    recall  f1-score   support\n",
            "\n",
            "           0       1.00      0.98      0.99        52\n",
            "           1       0.99      1.00      1.00       119\n",
            "\n",
            "    accuracy                           0.99       171\n",
            "   macro avg       1.00      0.99      0.99       171\n",
            "weighted avg       0.99      0.99      0.99       171\n",
            "\n"
          ]
        }
      ]
    },
    {
      "cell_type": "code",
      "source": [
        ""
      ],
      "metadata": {
        "id": "kDt-RoESB1OT"
      },
      "execution_count": null,
      "outputs": []
    },
    {
      "cell_type": "code",
      "source": [
        ""
      ],
      "metadata": {
        "id": "2Rh9660LB1Wj"
      },
      "execution_count": null,
      "outputs": []
    },
    {
      "cell_type": "markdown",
      "source": [
        "### Tensorboard\n",
        "\n",
        "Upload Data to Google TensorBoard\n",
        "- Requires auth with Google account\n",
        "- Will be public for everyone to see\n",
        "- Do not upload private or sensitive data"
      ],
      "metadata": {
        "id": "whCccM400O9p"
      }
    },
    {
      "cell_type": "code",
      "source": [
        "!tensorboard dev upload --logdir ./tf_logs \\\n",
        "--name 'My First TensorBoard' \\\n",
        "--description 'Classification with some models' \\\n",
        "--one_shot"
      ],
      "metadata": {
        "colab": {
          "base_uri": "https://localhost:8080/"
        },
        "id": "QSUWdWQtuS3s",
        "outputId": "8b522e31-e07f-4914-fc70-44c34e175fd6"
      },
      "execution_count": 93,
      "outputs": [
        {
          "output_type": "stream",
          "name": "stdout",
          "text": [
            "2022-07-08 09:01:05.604793: E tensorflow/stream_executor/cuda/cuda_driver.cc:271] failed call to cuInit: CUDA_ERROR_NO_DEVICE: no CUDA-capable device is detected\n",
            "\n",
            "New experiment created. View your TensorBoard at: https://tensorboard.dev/experiment/BzBpqW9uRQeN4OehJ7NYkA/\n",
            "\n",
            "\u001b[1m[2022-07-08T09:01:05]\u001b[0m Started scanning logdir.\n",
            "\u001b[1m[2022-07-08T09:01:09]\u001b[0m Total uploaded: 954 scalars, 0 tensors, 4 binary objects (209.3 kB)\n",
            "\u001b[1m[2022-07-08T09:01:09]\u001b[0m Done scanning logdir.\n",
            "\n",
            "\n",
            "Done. View your TensorBoard at https://tensorboard.dev/experiment/BzBpqW9uRQeN4OehJ7NYkA/\n"
          ]
        }
      ]
    },
    {
      "cell_type": "code",
      "source": [
        "!tensorboard dev list"
      ],
      "metadata": {
        "colab": {
          "base_uri": "https://localhost:8080/"
        },
        "id": "E7XyEBrjunel",
        "outputId": "10b17c89-97dc-48b4-be4c-90adc29a07a5"
      },
      "execution_count": 94,
      "outputs": [
        {
          "output_type": "stream",
          "name": "stdout",
          "text": [
            "2022-07-08 09:06:09.303488: E tensorflow/stream_executor/cuda/cuda_driver.cc:271] failed call to cuInit: CUDA_ERROR_NO_DEVICE: no CUDA-capable device is detected\n",
            "https://tensorboard.dev/experiment/BzBpqW9uRQeN4OehJ7NYkA/\n",
            "\tName                 My First TensorBoard\n",
            "\tDescription          Classification with some models\n",
            "\tId                   BzBpqW9uRQeN4OehJ7NYkA\n",
            "\tCreated              2022-07-08 09:01:05 (5 minutes ago)\n",
            "\tUpdated              2022-07-08 09:01:09 (5 minutes ago)\n",
            "\tRuns                 8\n",
            "\tTags                 5\n",
            "\tScalars              954\n",
            "\tTensor bytes         0\n",
            "\tBinary object bytes  215014\n",
            "Total: 1 experiment(s)\n"
          ]
        }
      ]
    },
    {
      "cell_type": "code",
      "source": [
        "!tensorboard dev delete --experiment BzBpqW9uRQeN4OehJ7NYkA"
      ],
      "metadata": {
        "colab": {
          "base_uri": "https://localhost:8080/"
        },
        "id": "HFi_IIp-xTvv",
        "outputId": "fe99f8d6-6c9b-464d-93da-39a6ebe6b69b"
      },
      "execution_count": 95,
      "outputs": [
        {
          "output_type": "stream",
          "name": "stdout",
          "text": [
            "2022-07-08 09:06:51.193987: E tensorflow/stream_executor/cuda/cuda_driver.cc:271] failed call to cuInit: CUDA_ERROR_NO_DEVICE: no CUDA-capable device is detected\n",
            "Deleted experiment BzBpqW9uRQeN4OehJ7NYkA.\n"
          ]
        }
      ]
    },
    {
      "cell_type": "code",
      "source": [
        "!tensorboard dev list"
      ],
      "metadata": {
        "colab": {
          "base_uri": "https://localhost:8080/"
        },
        "id": "qyTo2S3Ox8Ui",
        "outputId": "ef3675fa-5fb3-4b99-bd6e-65b2d60a02b0"
      },
      "execution_count": 96,
      "outputs": [
        {
          "output_type": "stream",
          "name": "stdout",
          "text": [
            "2022-07-08 09:07:00.015417: E tensorflow/stream_executor/cuda/cuda_driver.cc:271] failed call to cuInit: CUDA_ERROR_NO_DEVICE: no CUDA-capable device is detected\n",
            "No experiments. Use `tensorboard dev upload` to get started.\n"
          ]
        }
      ]
    },
    {
      "cell_type": "code",
      "source": [
        ""
      ],
      "metadata": {
        "id": "KJqPrZD1yEvS"
      },
      "execution_count": null,
      "outputs": []
    },
    {
      "cell_type": "code",
      "source": [
        ""
      ],
      "metadata": {
        "id": "_7B_8pxTy93b"
      },
      "execution_count": null,
      "outputs": []
    },
    {
      "cell_type": "code",
      "source": [
        ""
      ],
      "metadata": {
        "id": "SgKJloegzIRZ"
      },
      "execution_count": null,
      "outputs": []
    },
    {
      "cell_type": "code",
      "source": [
        ""
      ],
      "metadata": {
        "id": "BZe0r5oszRly"
      },
      "execution_count": null,
      "outputs": []
    }
  ]
}