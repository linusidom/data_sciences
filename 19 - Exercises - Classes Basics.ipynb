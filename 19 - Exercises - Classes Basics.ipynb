{
 "cells": [
  {
   "cell_type": "markdown",
   "id": "1351c1c5",
   "metadata": {},
   "source": [
    "# Classes Basics - Exercises"
   ]
  },
  {
   "cell_type": "code",
   "execution_count": 42,
   "id": "ff05f367",
   "metadata": {},
   "outputs": [],
   "source": [
    "# Create a Car class without any attributes or methods\n",
    "\n",
    "\n",
    "\n",
    "\n",
    "# Type your code above this line"
   ]
  },
  {
   "cell_type": "code",
   "execution_count": 43,
   "id": "23a71d70",
   "metadata": {},
   "outputs": [],
   "source": [
    "# In the Car class add max_speed as a class attribute at 100km/hr\n",
    "\n",
    "\n",
    "\n",
    "# Type your code above this line"
   ]
  },
  {
   "cell_type": "code",
   "execution_count": 45,
   "id": "c9d542cf",
   "metadata": {},
   "outputs": [],
   "source": [
    "# In the Car class add color and km_per_liter as required instance attributes\n",
    "\n",
    "\n",
    "\n",
    "\n",
    "\n",
    "\n",
    "# Type your code above this line"
   ]
  },
  {
   "cell_type": "code",
   "execution_count": 54,
   "id": "1aa8f693",
   "metadata": {},
   "outputs": [],
   "source": [
    "# In the Car class add a method that prints out \"Driving at #km/hr\" (insert the class attribute)\n",
    "\n",
    "\n",
    "\n",
    "\n",
    "\n",
    "\n",
    "# Type your code above this line"
   ]
  },
  {
   "cell_type": "code",
   "execution_count": 64,
   "id": "0e18b2e4",
   "metadata": {},
   "outputs": [],
   "source": [
    "# In the Car class add a method to calculate how many liters are required to go a given distance\n",
    "\n",
    "\n",
    "\n",
    "\n",
    "\n",
    "\n",
    "\n",
    "# Type your code above this line"
   ]
  },
  {
   "cell_type": "code",
   "execution_count": 79,
   "id": "0170948f",
   "metadata": {},
   "outputs": [],
   "source": [
    "# In the Car class add a method to calculate how much time it will take to go a given distance based on max_speed\n",
    "\n",
    "\n",
    "\n",
    "\n",
    "\n",
    "\n",
    "\n",
    "\n",
    "# Type your code above this line"
   ]
  },
  {
   "cell_type": "code",
   "execution_count": 80,
   "id": "6f416a0a",
   "metadata": {},
   "outputs": [],
   "source": [
    "# Instantiate a car Class and initialize it with 'Blue' and '15'\n",
    "\n",
    "\n",
    "\n",
    "# Type your code above this line"
   ]
  },
  {
   "cell_type": "code",
   "execution_count": 81,
   "id": "7418cd92",
   "metadata": {},
   "outputs": [
    {
     "name": "stdout",
     "output_type": "stream",
     "text": [
      "Driving at 100 km/hr\n",
      "Driving at 100 km/hr\n",
      "Driving at 100 km/hr\n"
     ]
    }
   ],
   "source": [
    "# With the car, call the driving method\n",
    "\n",
    "\n",
    "\n",
    "\n",
    "\n",
    "# Type your code above this line"
   ]
  },
  {
   "cell_type": "code",
   "execution_count": 83,
   "id": "e36c1910",
   "metadata": {},
   "outputs": [
    {
     "name": "stdout",
     "output_type": "stream",
     "text": [
      "20.0 liters\n",
      "15.0 liters\n",
      "10.0 liters\n"
     ]
    }
   ],
   "source": [
    "# With the car, find out how many liters it will take to go 300 km\n",
    "\n",
    "\n",
    "\n",
    "\n",
    "# Type your code above this line"
   ]
  },
  {
   "cell_type": "code",
   "execution_count": 86,
   "id": "e1b24bcf",
   "metadata": {},
   "outputs": [
    {
     "name": "stdout",
     "output_type": "stream",
     "text": [
      "3.0 hours\n",
      "4.0 hours\n",
      "5.0 hours\n"
     ]
    }
   ],
   "source": [
    "# With the car, find out how much time it will take to go 300 km\n",
    "\n",
    "\n",
    "\n",
    "\n",
    "# Type your code above this line"
   ]
  },
  {
   "cell_type": "code",
   "execution_count": 88,
   "id": "79bc19a6",
   "metadata": {},
   "outputs": [
    {
     "name": "stdout",
     "output_type": "stream",
     "text": [
      "4.0 hours\n",
      "3.2 hours\n",
      "2.4 hours\n"
     ]
    }
   ],
   "source": [
    "# Update the max_speed of the car to 120 and find out how long it will take to go 480 km\n",
    "\n",
    "\n",
    "\n",
    "\n",
    "\n",
    "# Type your code above this line"
   ]
  },
  {
   "cell_type": "code",
   "execution_count": 89,
   "id": "6bac8c1a",
   "metadata": {},
   "outputs": [],
   "source": []
  },
  {
   "cell_type": "code",
   "execution_count": 107,
   "id": "c17563a4",
   "metadata": {},
   "outputs": [
    {
     "name": "stdout",
     "output_type": "stream",
     "text": [
      "Car Object:  {'max_speed': 100, 'color': 'Blue', 'km_per_liter': 15}\n",
      "Driving at 100 km/hr\n",
      "20.0 liters\n",
      "3.0 hours\n"
     ]
    }
   ],
   "source": [
    "# Converted from a Class back to Functions\n",
    "\n",
    "\n",
    "\n"
   ]
  },
  {
   "cell_type": "code",
   "execution_count": 118,
   "id": "56fc35a0",
   "metadata": {},
   "outputs": [
    {
     "name": "stdout",
     "output_type": "stream",
     "text": [
      "Driving at 100 km/hr\n",
      "20.0 liters\n",
      "3.0 hours\n"
     ]
    }
   ],
   "source": [
    "# Converted from a Class back to Functions\n",
    "\n",
    "\n",
    "\n",
    "\n",
    "\n"
   ]
  },
  {
   "cell_type": "code",
   "execution_count": null,
   "id": "24aff3b1",
   "metadata": {},
   "outputs": [],
   "source": []
  },
  {
   "cell_type": "code",
   "execution_count": null,
   "id": "2add9d57",
   "metadata": {},
   "outputs": [],
   "source": []
  },
  {
   "cell_type": "code",
   "execution_count": null,
   "id": "6e03438e",
   "metadata": {},
   "outputs": [],
   "source": []
  },
  {
   "cell_type": "code",
   "execution_count": null,
   "id": "6658db94",
   "metadata": {},
   "outputs": [],
   "source": []
  },
  {
   "cell_type": "code",
   "execution_count": null,
   "id": "7f02bcef",
   "metadata": {},
   "outputs": [],
   "source": []
  },
  {
   "cell_type": "code",
   "execution_count": null,
   "id": "d962107f",
   "metadata": {},
   "outputs": [],
   "source": []
  },
  {
   "cell_type": "code",
   "execution_count": null,
   "id": "18e56ab8",
   "metadata": {},
   "outputs": [],
   "source": []
  },
  {
   "cell_type": "code",
   "execution_count": null,
   "id": "7ba5e2c6",
   "metadata": {},
   "outputs": [],
   "source": []
  },
  {
   "cell_type": "code",
   "execution_count": null,
   "id": "1d98b87d",
   "metadata": {},
   "outputs": [],
   "source": []
  },
  {
   "cell_type": "code",
   "execution_count": null,
   "id": "60ee9bf9",
   "metadata": {},
   "outputs": [],
   "source": []
  },
  {
   "cell_type": "code",
   "execution_count": null,
   "id": "e16418e9",
   "metadata": {},
   "outputs": [],
   "source": []
  },
  {
   "cell_type": "code",
   "execution_count": null,
   "id": "7471755a",
   "metadata": {},
   "outputs": [],
   "source": []
  }
 ],
 "metadata": {
  "kernelspec": {
   "display_name": "Python 3 (ipykernel)",
   "language": "python",
   "name": "python3"
  },
  "language_info": {
   "codemirror_mode": {
    "name": "ipython",
    "version": 3
   },
   "file_extension": ".py",
   "mimetype": "text/x-python",
   "name": "python",
   "nbconvert_exporter": "python",
   "pygments_lexer": "ipython3",
   "version": "3.9.10"
  }
 },
 "nbformat": 4,
 "nbformat_minor": 5
}
