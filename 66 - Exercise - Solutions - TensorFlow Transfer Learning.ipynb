{
  "cells": [
    {
      "cell_type": "markdown",
      "metadata": {
        "id": "0c_WUmPgUVK3"
      },
      "source": [
        "# TensorFlow Transfer Learning - Exercises\n",
        "\n",
        "Dataset:\n",
        "\n",
        "- https://www.kaggle.com/datasets/gpiosenka/balls-image-classification"
      ]
    },
    {
      "cell_type": "markdown",
      "metadata": {
        "id": "Zz5CBVhBu5ZY"
      },
      "source": [
        "### Import Libraries\n",
        "\n",
        "- Import VGG16"
      ]
    },
    {
      "cell_type": "code",
      "execution_count": 24,
      "metadata": {
        "id": "UvtiwQ3oVHAV"
      },
      "outputs": [],
      "source": [
        "import pandas as pd\n",
        "import numpy as np\n",
        "import os\n",
        "import random\n",
        "import matplotlib.pyplot as plt\n",
        "import matplotlib.image as mpimage\n",
        "import tensorflow as tf\n",
        "import zipfile\n",
        "\n",
        "from tensorflow.keras.models import Model\n",
        "from tensorflow.keras.layers import Dense, GlobalAveragePooling2D, GlobalMaxPooling2D\n",
        "from tensorflow.keras.utils import image_dataset_from_directory\n",
        "from tensorflow.keras.applications import VGG16\n",
        "\n",
        "from sklearn.metrics import confusion_matrix, classification_report"
      ]
    },
    {
      "cell_type": "markdown",
      "metadata": {
        "id": "gtCnnAilhjCy"
      },
      "source": [
        "### Enable Mixed Precision\n",
        "\n",
        "- Ensure a capable GPU is attached to the Google Colab Workbook"
      ]
    },
    {
      "cell_type": "code",
      "execution_count": 3,
      "metadata": {
        "colab": {
          "base_uri": "https://localhost:8080/"
        },
        "id": "NU_e5Dx9YdZf",
        "outputId": "a0095526-bfb5-48c7-cb96-37b5c7ac848c"
      },
      "outputs": [
        {
          "output_type": "stream",
          "name": "stdout",
          "text": [
            "INFO:tensorflow:Mixed precision compatibility check (mixed_float16): OK\n",
            "Your GPU will likely run quickly with dtype policy mixed_float16 as it has compute capability of at least 7.0. Your GPU: Tesla T4, compute capability 7.5\n"
          ]
        }
      ],
      "source": [
        "from tensorflow.keras import mixed_precision\n",
        "policy = mixed_precision.Policy('mixed_float16')\n",
        "mixed_precision.set_global_policy(policy)"
      ]
    },
    {
      "cell_type": "code",
      "execution_count": 2,
      "metadata": {
        "colab": {
          "base_uri": "https://localhost:8080/"
        },
        "id": "3CLzyTd4GeUD",
        "outputId": "60e5da00-d542-49c9-b291-271be341eb1f"
      },
      "outputs": [
        {
          "output_type": "stream",
          "name": "stdout",
          "text": [
            "Sat Jul 16 10:49:53 2022       \n",
            "+-----------------------------------------------------------------------------+\n",
            "| NVIDIA-SMI 460.32.03    Driver Version: 460.32.03    CUDA Version: 11.2     |\n",
            "|-------------------------------+----------------------+----------------------+\n",
            "| GPU  Name        Persistence-M| Bus-Id        Disp.A | Volatile Uncorr. ECC |\n",
            "| Fan  Temp  Perf  Pwr:Usage/Cap|         Memory-Usage | GPU-Util  Compute M. |\n",
            "|                               |                      |               MIG M. |\n",
            "|===============================+======================+======================|\n",
            "|   0  Tesla T4            Off  | 00000000:00:04.0 Off |                    0 |\n",
            "| N/A   32C    P8     9W /  70W |      0MiB / 15109MiB |      0%      Default |\n",
            "|                               |                      |                  N/A |\n",
            "+-------------------------------+----------------------+----------------------+\n",
            "                                                                               \n",
            "+-----------------------------------------------------------------------------+\n",
            "| Processes:                                                                  |\n",
            "|  GPU   GI   CI        PID   Type   Process name                  GPU Memory |\n",
            "|        ID   ID                                                   Usage      |\n",
            "|=============================================================================|\n",
            "|  No running processes found                                                 |\n",
            "+-----------------------------------------------------------------------------+\n"
          ]
        }
      ],
      "source": [
        "!nvidia-smi"
      ]
    },
    {
      "cell_type": "markdown",
      "metadata": {
        "id": "JZ7JRjaDu71Q"
      },
      "source": [
        "### Connect Colab to Kaggle and Get Dataset\n",
        "\n",
        "- Download and unzip the Dataset\n",
        "\n",
        "- https://stackoverflow.com/questions/56816537/cant-find-kaggle-json-file-in-google-colab"
      ]
    },
    {
      "cell_type": "code",
      "execution_count": 4,
      "metadata": {
        "id": "m61ZblF8Y-mY"
      },
      "outputs": [],
      "source": [
        "!mkdir ~/.kaggle\n",
        "!touch ~/.kaggle/kaggle.json\n",
        "\n",
        "api_token = {\"username\":\"username\",\"key\":\"api-key\"}\n",
        "\n",
        "import json\n",
        "\n",
        "with open('/root/.kaggle/kaggle.json', 'w') as file:\n",
        "    json.dump(api_token, file)\n",
        "\n",
        "!chmod 600 ~/.kaggle/kaggle.json"
      ]
    },
    {
      "cell_type": "code",
      "execution_count": 5,
      "metadata": {
        "colab": {
          "base_uri": "https://localhost:8080/"
        },
        "id": "Ryw4Cg7dZAzQ",
        "outputId": "8abd4138-5090-4640-b78a-d7315a56de25"
      },
      "outputs": [
        {
          "output_type": "stream",
          "name": "stdout",
          "text": [
            "Downloading balls-image-classification.zip to /content\n",
            " 88% 162M/183M [00:04<00:00, 39.2MB/s]\n",
            "100% 183M/183M [00:04<00:00, 39.4MB/s]\n"
          ]
        }
      ],
      "source": [
        "!kaggle datasets download -d gpiosenka/balls-image-classification"
      ]
    },
    {
      "cell_type": "code",
      "execution_count": 6,
      "metadata": {
        "id": "j7AGm-XsZEqM"
      },
      "outputs": [],
      "source": [
        "uz = zipfile.ZipFile('balls-image-classification.zip')\n",
        "uz.extractall()\n",
        "uz.close()"
      ]
    },
    {
      "cell_type": "code",
      "execution_count": null,
      "metadata": {
        "id": "-73JOEGXZOJ3"
      },
      "outputs": [],
      "source": [
        ""
      ]
    },
    {
      "cell_type": "markdown",
      "metadata": {
        "id": "X4aRAep0vETe"
      },
      "source": [
        "### Explore the Data\n",
        "\n",
        "- How many images?\n",
        "- What is the size of the images?\n",
        "- What percent do we need to be above?"
      ]
    },
    {
      "cell_type": "code",
      "execution_count": 11,
      "metadata": {
        "colab": {
          "base_uri": "https://localhost:8080/",
          "height": 304
        },
        "id": "7ooHjxLxvkmi",
        "outputId": "a0c4a37b-7059-4e6b-9d77-475d23052f0a"
      },
      "outputs": [
        {
          "output_type": "stream",
          "name": "stdout",
          "text": [
            "(224, 224, 3)\n"
          ]
        },
        {
          "output_type": "execute_result",
          "data": {
            "text/plain": [
              "<matplotlib.image.AxesImage at 0x7fb730197e90>"
            ]
          },
          "metadata": {},
          "execution_count": 11
        },
        {
          "output_type": "display_data",
          "data": {
            "text/plain": [
              "<Figure size 432x288 with 1 Axes>"
            ],
            "image/png": "[encoded data removed]"
          },
          "metadata": {
            "needs_background": "light"
          }
        }
      ],
      "source": [
        "path = 'train/'\n",
        "category='marble/'\n",
        "\n",
        "target = path + category\n",
        "\n",
        "image = random.choice(os.listdir(target))\n",
        "\n",
        "img = mpimage.imread(target + image)\n",
        "print(img.shape)\n",
        "plt.imshow(img)"
      ]
    },
    {
      "cell_type": "code",
      "execution_count": 12,
      "metadata": {
        "colab": {
          "base_uri": "https://localhost:8080/"
        },
        "id": "-AZ8okkUvkep",
        "outputId": "1d451337-8653-467c-b730-7ec2b520a4de"
      },
      "outputs": [
        {
          "output_type": "stream",
          "name": "stdout",
          "text": [
            "train, 26, 0\n",
            "train/pokeman balls, 0, 86\n",
            "train/baseball, 0, 112\n",
            "train/tennis ball, 0, 139\n",
            "train/volley ball, 0, 131\n",
            "train/meat ball, 0, 137\n",
            "train/marble, 0, 131\n",
            "train/paint balls, 0, 32\n",
            "train/golf ball, 0, 106\n",
            "train/medicine ball, 0, 77\n",
            "train/football, 0, 112\n",
            "train/brass, 0, 113\n",
            "train/bowling ball, 0, 145\n",
            "train/eyeballs, 0, 139\n",
            "train/cannon ball, 0, 183\n",
            "train/water polo ball, 0, 139\n",
            "train/basketball, 0, 116\n",
            "train/soccer ball, 0, 167\n",
            "train/billiard ball, 0, 143\n",
            "train/puffballs, 0, 106\n",
            "train/screwballs, 0, 140\n",
            "train/cricket ball, 0, 150\n",
            "train/wrecking ball, 0, 69\n",
            "train/beachballs, 0, 92\n",
            "train/wiffle ball, 0, 99\n",
            "train/tether ball, 0, 105\n",
            "train/buckeyballs, 0, 82\n",
            "Total Files: 3051\n"
          ]
        }
      ],
      "source": [
        "total = 0\n",
        "for dirs, fols, files in os.walk('train'):\n",
        "  print(f'{dirs}, {len(fols)}, {len(files)}')\n",
        "  if len(fols) < 1:\n",
        "    total += len(files)\n",
        "print(f'Total Files: {total}')"
      ]
    },
    {
      "cell_type": "code",
      "execution_count": null,
      "metadata": {
        "id": "NozsdThfvkWB"
      },
      "outputs": [],
      "source": [
        ""
      ]
    },
    {
      "cell_type": "code",
      "execution_count": null,
      "metadata": {
        "id": "mizmvDwivj_Z"
      },
      "outputs": [],
      "source": [
        ""
      ]
    },
    {
      "cell_type": "code",
      "execution_count": null,
      "metadata": {
        "id": "BhvvOW04vlcZ"
      },
      "outputs": [],
      "source": [
        ""
      ]
    },
    {
      "cell_type": "code",
      "execution_count": null,
      "metadata": {
        "id": "jc-JvQi3vlU5"
      },
      "outputs": [],
      "source": [
        ""
      ]
    },
    {
      "cell_type": "markdown",
      "metadata": {
        "id": "2NVGoo_7vjuq"
      },
      "source": [
        "### Normalize and Batch the Data\n",
        "\n",
        "- Use image_dataset_from_directory\n",
        "- Get the class_names from test_data\n",
        "- Enable Prefetching and Caching on the datasets"
      ]
    },
    {
      "cell_type": "code",
      "execution_count": 23,
      "metadata": {
        "colab": {
          "base_uri": "https://localhost:8080/"
        },
        "id": "_Ox7mmCqZh8n",
        "outputId": "a954b680-4fa1-4727-932f-4af381b0bba0"
      },
      "outputs": [
        {
          "output_type": "stream",
          "name": "stdout",
          "text": [
            "Found 3051 files belonging to 26 classes.\n",
            "Found 130 files belonging to 26 classes.\n"
          ]
        }
      ],
      "source": [
        "train_dir = 'train/'\n",
        "test_dir = 'test/'\n",
        "\n",
        "train_data = image_dataset_from_directory(\n",
        "    train_dir,\n",
        "    label_mode='categorical',\n",
        "    image_size=(224, 224)\n",
        ")\n",
        "\n",
        "test_data = image_dataset_from_directory(\n",
        "    test_dir,\n",
        "    label_mode='categorical',\n",
        "    image_size=(224,224)\n",
        ")\n",
        "\n",
        "train_data = train_data.cache().prefetch(tf.data.AUTOTUNE)\n",
        "test_data = test_data.cache().prefetch(tf.data.AUTOTUNE)"
      ]
    },
    {
      "cell_type": "code",
      "execution_count": 20,
      "metadata": {
        "id": "YOf7KPvqaqJf",
        "colab": {
          "base_uri": "https://localhost:8080/"
        },
        "outputId": "948ebca3-5c0e-41da-cf4d-e3529bbdb7f8"
      },
      "outputs": [
        {
          "output_type": "execute_result",
          "data": {
            "text/plain": [
              "['baseball',\n",
              " 'basketball',\n",
              " 'beachballs',\n",
              " 'billiard ball',\n",
              " 'bowling ball',\n",
              " 'brass',\n",
              " 'buckeyballs',\n",
              " 'cannon ball',\n",
              " 'cricket ball',\n",
              " 'eyeballs',\n",
              " 'football',\n",
              " 'golf ball',\n",
              " 'marble',\n",
              " 'meat ball',\n",
              " 'medicine ball',\n",
              " 'paint balls',\n",
              " 'pokeman balls',\n",
              " 'puffballs',\n",
              " 'screwballs',\n",
              " 'soccer ball',\n",
              " 'tennis ball',\n",
              " 'tether ball',\n",
              " 'volley ball',\n",
              " 'water polo ball',\n",
              " 'wiffle ball',\n",
              " 'wrecking ball']"
            ]
          },
          "metadata": {},
          "execution_count": 20
        }
      ],
      "source": [
        "test_data.class_names"
      ]
    },
    {
      "cell_type": "code",
      "execution_count": 18,
      "metadata": {
        "colab": {
          "base_uri": "https://localhost:8080/"
        },
        "id": "5shDcOjc4KOi",
        "outputId": "c8d2c8cd-ec0e-430f-d3c7-a057b96f469d"
      },
      "outputs": [
        {
          "output_type": "execute_result",
          "data": {
            "text/plain": [
              "<PrefetchDataset element_spec=(TensorSpec(shape=(None, 224, 224, 3), dtype=tf.float32, name=None), TensorSpec(shape=(None, 26), dtype=tf.float32, name=None))>"
            ]
          },
          "metadata": {},
          "execution_count": 18
        }
      ],
      "source": [
        "test_data."
      ]
    },
    {
      "cell_type": "code",
      "execution_count": 21,
      "metadata": {
        "id": "PNKtbcxP4tSC"
      },
      "outputs": [],
      "source": [
        "class_names = dict(zip(\n",
        "    test_data.class_names,\n",
        "    np.arange(len(test_data.class_names))\n",
        "))"
      ]
    },
    {
      "cell_type": "code",
      "execution_count": 22,
      "metadata": {
        "id": "6GXO2oFM4ztJ",
        "colab": {
          "base_uri": "https://localhost:8080/"
        },
        "outputId": "ea1f0de0-26b2-4197-a9c7-a078999a0c50"
      },
      "outputs": [
        {
          "output_type": "execute_result",
          "data": {
            "text/plain": [
              "{'baseball': 0,\n",
              " 'basketball': 1,\n",
              " 'beachballs': 2,\n",
              " 'billiard ball': 3,\n",
              " 'bowling ball': 4,\n",
              " 'brass': 5,\n",
              " 'buckeyballs': 6,\n",
              " 'cannon ball': 7,\n",
              " 'cricket ball': 8,\n",
              " 'eyeballs': 9,\n",
              " 'football': 10,\n",
              " 'golf ball': 11,\n",
              " 'marble': 12,\n",
              " 'meat ball': 13,\n",
              " 'medicine ball': 14,\n",
              " 'paint balls': 15,\n",
              " 'pokeman balls': 16,\n",
              " 'puffballs': 17,\n",
              " 'screwballs': 18,\n",
              " 'soccer ball': 19,\n",
              " 'tennis ball': 20,\n",
              " 'tether ball': 21,\n",
              " 'volley ball': 22,\n",
              " 'water polo ball': 23,\n",
              " 'wiffle ball': 24,\n",
              " 'wrecking ball': 25}"
            ]
          },
          "metadata": {},
          "execution_count": 22
        }
      ],
      "source": [
        "class_names"
      ]
    },
    {
      "cell_type": "code",
      "execution_count": null,
      "metadata": {
        "id": "S0AR2rs25GAe"
      },
      "outputs": [],
      "source": [
        ""
      ]
    },
    {
      "cell_type": "markdown",
      "metadata": {
        "id": "XuyCNmMk28Tn"
      },
      "source": [
        "### 1st Model - VGG16 Default\n",
        "\n",
        "- Create a model with VGG16 with Defaults\n",
        " - Add the Input Layers \n",
        "- Add in the Dense Layer\n",
        "\n",
        "- Build the model and look at the summary\n",
        "\n",
        "- Train the Model"
      ]
    },
    {
      "cell_type": "code",
      "execution_count": 29,
      "metadata": {
        "id": "ETckKfR5bZtE",
        "colab": {
          "base_uri": "https://localhost:8080/"
        },
        "outputId": "318173f9-4ee5-4bf9-a6c6-62e59169a34b"
      },
      "outputs": [
        {
          "output_type": "stream",
          "name": "stdout",
          "text": [
            "Epoch 1/5\n",
            "96/96 [==============================] - 76s 358ms/step - loss: nan - accuracy: 0.0380 - val_loss: nan - val_accuracy: 0.0385\n",
            "Epoch 2/5\n",
            "96/96 [==============================] - 24s 253ms/step - loss: nan - accuracy: 0.0367 - val_loss: nan - val_accuracy: 0.0385\n",
            "Epoch 3/5\n",
            "96/96 [==============================] - 25s 255ms/step - loss: nan - accuracy: 0.0367 - val_loss: nan - val_accuracy: 0.0385\n",
            "Epoch 4/5\n",
            "96/96 [==============================] - 25s 257ms/step - loss: nan - accuracy: 0.0367 - val_loss: nan - val_accuracy: 0.0385\n",
            "Epoch 5/5\n",
            "96/96 [==============================] - 25s 259ms/step - loss: nan - accuracy: 0.0367 - val_loss: nan - val_accuracy: 0.0385\n"
          ]
        }
      ],
      "source": [
        "i = tf.keras.layers.Input([224, 224, 3], dtype = tf.uint8)\n",
        "x = tf.cast(i, tf.float32)\n",
        "\n",
        "x = tf.keras.applications.vgg16.preprocess_input(x)\n",
        "\n",
        "base_model = VGG16()\n",
        "\n",
        "x = base_model(x)\n",
        "\n",
        "output = Dense(26, activation='softmax')(x)\n",
        "\n",
        "model_1 = tf.keras.Model(inputs=[i], outputs=output)\n",
        "\n",
        "# model_1.build(input_shape=(224,224,3))\n",
        "\n",
        "model_1.compile(\n",
        "    optimizer='adam',\n",
        "    loss='categorical_crossentropy',\n",
        "    metrics = ['accuracy']\n",
        ")\n",
        "\n",
        "history_1 = model_1.fit(\n",
        "    train_data,\n",
        "    validation_data=test_data,\n",
        "    epochs=5\n",
        ")"
      ]
    },
    {
      "cell_type": "code",
      "execution_count": 26,
      "metadata": {
        "colab": {
          "base_uri": "https://localhost:8080/"
        },
        "id": "JfMBMKo9YXNv",
        "outputId": "5a151863-d028-4e0c-a4b1-599a3dc06695"
      },
      "outputs": [
        {
          "output_type": "stream",
          "name": "stdout",
          "text": [
            "Model: \"model\"\n",
            "_________________________________________________________________\n",
            " Layer (type)                Output Shape              Param #   \n",
            "=================================================================\n",
            " input_1 (InputLayer)        [(None, 224, 224, 3)]     0         \n",
            "                                                                 \n",
            " tf.cast (TFOpLambda)        (None, 224, 224, 3)       0         \n",
            "                                                                 \n",
            " tf.__operators__.getitem (S  (None, 224, 224, 3)      0         \n",
            " licingOpLambda)                                                 \n",
            "                                                                 \n",
            " tf.nn.bias_add (TFOpLambda)  (None, 224, 224, 3)      0         \n",
            "                                                                 \n",
            " vgg16 (Functional)          (None, 1000)              138357544 \n",
            "                                                                 \n",
            "=================================================================\n",
            "Total params: 138,357,544\n",
            "Trainable params: 138,357,544\n",
            "Non-trainable params: 0\n",
            "_________________________________________________________________\n"
          ]
        }
      ],
      "source": [
        "model_1.summary()"
      ]
    },
    {
      "cell_type": "code",
      "execution_count": 28,
      "metadata": {
        "colab": {
          "base_uri": "https://localhost:8080/"
        },
        "id": "6QdvWsgG60Tp",
        "outputId": "2357c1e9-2e65-4c89-b969-91ebc4bb3dae"
      },
      "outputs": [
        {
          "output_type": "stream",
          "name": "stdout",
          "text": [
            "Model: \"model_1\"\n",
            "_________________________________________________________________\n",
            " Layer (type)                Output Shape              Param #   \n",
            "=================================================================\n",
            " input_3 (InputLayer)        [(None, 224, 224, 3)]     0         \n",
            "                                                                 \n",
            " tf.cast_1 (TFOpLambda)      (None, 224, 224, 3)       0         \n",
            "                                                                 \n",
            " tf.__operators__.getitem_1   (None, 224, 224, 3)      0         \n",
            " (SlicingOpLambda)                                               \n",
            "                                                                 \n",
            " tf.nn.bias_add_1 (TFOpLambd  (None, 224, 224, 3)      0         \n",
            " a)                                                              \n",
            "                                                                 \n",
            " vgg16 (Functional)          (None, 1000)              138357544 \n",
            "                                                                 \n",
            " dense (Dense)               (None, 26)                26026     \n",
            "                                                                 \n",
            "=================================================================\n",
            "Total params: 138,383,570\n",
            "Trainable params: 138,383,570\n",
            "Non-trainable params: 0\n",
            "_________________________________________________________________\n"
          ]
        }
      ],
      "source": [
        "model_1.summary()"
      ]
    },
    {
      "cell_type": "code",
      "execution_count": null,
      "metadata": {
        "id": "xYrvBr4w6V9a"
      },
      "outputs": [],
      "source": [
        ""
      ]
    },
    {
      "cell_type": "code",
      "execution_count": null,
      "metadata": {
        "id": "gJ7a89pG8MkP"
      },
      "outputs": [],
      "source": [
        ""
      ]
    },
    {
      "cell_type": "markdown",
      "metadata": {
        "id": "COboGL853hQC"
      },
      "source": [
        "### 2nd Model - VGG16 Trainable False\n",
        "\n",
        "- Disable Training on all Layers\n",
        "\n",
        "- What is the difference in time between the first and second model?"
      ]
    },
    {
      "cell_type": "code",
      "execution_count": 32,
      "metadata": {
        "colab": {
          "base_uri": "https://localhost:8080/"
        },
        "id": "YXHr-CxlYOBy",
        "outputId": "cedf259b-e10c-400a-f1dc-b93065685c62"
      },
      "outputs": [
        {
          "output_type": "stream",
          "name": "stdout",
          "text": [
            "<keras.engine.input_layer.InputLayer object at 0x7fb6b00ab490> False\n",
            "<keras.layers.convolutional.Conv2D object at 0x7fb6b094b490> False\n",
            "<keras.layers.convolutional.Conv2D object at 0x7fb6b024d410> False\n",
            "<keras.layers.pooling.MaxPooling2D object at 0x7fb6b00cc310> False\n",
            "<keras.layers.convolutional.Conv2D object at 0x7fb6b01a9090> False\n",
            "<keras.layers.convolutional.Conv2D object at 0x7fb6b022f4d0> False\n",
            "<keras.layers.pooling.MaxPooling2D object at 0x7fb6b00c3d90> False\n",
            "<keras.layers.convolutional.Conv2D object at 0x7fb6b01403d0> False\n",
            "<keras.layers.convolutional.Conv2D object at 0x7fb6b00b3690> False\n",
            "<keras.layers.convolutional.Conv2D object at 0x7fb6b023bdd0> False\n",
            "<keras.layers.pooling.MaxPooling2D object at 0x7fb6b0140910> False\n",
            "<keras.layers.convolutional.Conv2D object at 0x7fb6b01a0a50> False\n",
            "<keras.layers.convolutional.Conv2D object at 0x7fb6b0262310> False\n",
            "<keras.layers.convolutional.Conv2D object at 0x7fb6b0128c10> False\n",
            "<keras.layers.pooling.MaxPooling2D object at 0x7fb6b0259cd0> False\n",
            "<keras.layers.convolutional.Conv2D object at 0x7fb6b0249790> False\n",
            "<keras.layers.convolutional.Conv2D object at 0x7fb6b00bd1d0> False\n",
            "<keras.layers.convolutional.Conv2D object at 0x7fb6b024cd50> False\n",
            "<keras.layers.pooling.MaxPooling2D object at 0x7fb6b0138ad0> False\n",
            "<keras.layers.core.flatten.Flatten object at 0x7fb6b0229590> False\n",
            "<keras.layers.core.dense.Dense object at 0x7fb6b00e5850> False\n",
            "<keras.layers.core.dense.Dense object at 0x7fb6b00f0b90> False\n",
            "<keras.layers.core.dense.Dense object at 0x7fb6b00de990> False\n",
            "Epoch 1/5\n",
            "96/96 [==============================] - 11s 94ms/step - loss: 3.2171 - accuracy: 0.2711 - val_loss: 3.1853 - val_accuracy: 0.4154\n",
            "Epoch 2/5\n",
            "96/96 [==============================] - 8s 88ms/step - loss: 3.1360 - accuracy: 0.4936 - val_loss: 3.1173 - val_accuracy: 0.4385\n",
            "Epoch 3/5\n",
            "96/96 [==============================] - 9s 89ms/step - loss: 3.0578 - accuracy: 0.5267 - val_loss: 3.0503 - val_accuracy: 0.4538\n",
            "Epoch 4/5\n",
            "96/96 [==============================] - 9s 90ms/step - loss: 2.9818 - accuracy: 0.5539 - val_loss: 2.9853 - val_accuracy: 0.4923\n",
            "Epoch 5/5\n",
            "96/96 [==============================] - 9s 89ms/step - loss: 2.9080 - accuracy: 0.5788 - val_loss: 2.9208 - val_accuracy: 0.5077\n"
          ]
        }
      ],
      "source": [
        "i = tf.keras.layers.Input(shape=[224,224,3], dtype=tf.uint8)\n",
        "x = tf.cast(i, tf.float32)\n",
        "\n",
        "x = tf.keras.applications.vgg16.preprocess_input(x)\n",
        "\n",
        "base_model = VGG16()\n",
        "\n",
        "for layer in base_model.layers:\n",
        "  layer.trainable = False\n",
        "  print(layer, layer.trainable)\n",
        "\n",
        "x = base_model(x)\n",
        "\n",
        "output = Dense(26, activation='softmax')(x)\n",
        "\n",
        "model_2 = Model(i, output)\n",
        "\n",
        "model_2.build(input_shape=(224,224,3))\n",
        "\n",
        "model_2.compile(\n",
        "    optimizer='adam',\n",
        "    loss='categorical_crossentropy',\n",
        "    metrics=['accuracy']\n",
        ")\n",
        "\n",
        "history_2 = model_2.fit(\n",
        "    train_data,\n",
        "    validation_data=test_data,\n",
        "    epochs=5\n",
        ")"
      ]
    },
    {
      "cell_type": "code",
      "execution_count": 33,
      "metadata": {
        "colab": {
          "base_uri": "https://localhost:8080/",
          "height": 282
        },
        "id": "meHZhUVNZpJr",
        "outputId": "56603b44-6471-4077-bb79-e591264afe98"
      },
      "outputs": [
        {
          "output_type": "execute_result",
          "data": {
            "text/plain": [
              "<matplotlib.axes._subplots.AxesSubplot at 0x7fb6afd9f690>"
            ]
          },
          "metadata": {},
          "execution_count": 33
        },
        {
          "output_type": "display_data",
          "data": {
            "text/plain": [
              "<Figure size 432x288 with 1 Axes>"
            ],
            "image/png": "[encoded data removed]"
          },
          "metadata": {
            "needs_background": "light"
          }
        }
      ],
      "source": [
        "pd.DataFrame(history_2.history).plot()"
      ]
    },
    {
      "cell_type": "code",
      "execution_count": null,
      "metadata": {
        "id": "tT770wNtaMHO"
      },
      "outputs": [],
      "source": [
        ""
      ]
    },
    {
      "cell_type": "code",
      "execution_count": null,
      "metadata": {
        "id": "uVE2SCnYbTlO"
      },
      "outputs": [],
      "source": [
        ""
      ]
    },
    {
      "cell_type": "code",
      "execution_count": null,
      "metadata": {
        "id": "95qhUTdDayJA"
      },
      "outputs": [],
      "source": [
        ""
      ]
    },
    {
      "cell_type": "markdown",
      "metadata": {
        "id": "gBNf3c-I4AiE"
      },
      "source": [
        "### 3rd Model - VGG16 - Include Top False\n",
        "\n",
        "- Include Top: False\n",
        "- Have to specify Input Shape\n",
        "- Have to have some kind of pooling, either max or average\n",
        "- Disable Training on all layers"
      ]
    },
    {
      "cell_type": "code",
      "execution_count": 46,
      "metadata": {
        "colab": {
          "base_uri": "https://localhost:8080/"
        },
        "id": "GvEjkdY2bXuH",
        "outputId": "0c02739d-f1f0-495c-d8c9-5148e88fbbd3"
      },
      "outputs": [
        {
          "output_type": "stream",
          "name": "stdout",
          "text": [
            "Epoch 1/5\n",
            "96/96 [==============================] - 10s 87ms/step - loss: 5.9033 - accuracy: 0.3700 - val_loss: 1.7053 - val_accuracy: 0.7231\n",
            "Epoch 2/5\n",
            "96/96 [==============================] - 8s 85ms/step - loss: 0.9703 - accuracy: 0.7984 - val_loss: 0.8365 - val_accuracy: 0.8692\n",
            "Epoch 3/5\n",
            "96/96 [==============================] - 8s 84ms/step - loss: 0.4506 - accuracy: 0.8918 - val_loss: 0.5696 - val_accuracy: 0.9000\n",
            "Epoch 4/5\n",
            "96/96 [==============================] - 8s 85ms/step - loss: 0.2354 - accuracy: 0.9358 - val_loss: 0.4542 - val_accuracy: 0.9154\n",
            "Epoch 5/5\n",
            "96/96 [==============================] - 8s 85ms/step - loss: 0.1352 - accuracy: 0.9617 - val_loss: 0.4040 - val_accuracy: 0.9231\n"
          ]
        }
      ],
      "source": [
        "i = tf.keras.layers.Input(shape=[224,224,3], dtype=tf.uint8)\n",
        "\n",
        "x = tf.cast(i, tf.float32)\n",
        "\n",
        "x = tf.keras.applications.vgg16.preprocess_input(x)\n",
        "\n",
        "base_model = VGG16(\n",
        "    include_top=False,\n",
        "    weights='imagenet',\n",
        "    input_tensor=None,\n",
        "    input_shape=None,\n",
        "    pooling='avg'\n",
        ")\n",
        "\n",
        "for layer in base_model.layers:\n",
        "  layer.trainable = False\n",
        "\n",
        "x = base_model(x)\n",
        "\n",
        "x = Dense(26)(x)\n",
        "\n",
        "# For mixed precision we have to break out the very final layer\n",
        "output = tf.keras.layers.Activation('softmax', dtype=tf.float32)(x)\n",
        "\n",
        "model_3 = Model(i, output)\n",
        "\n",
        "model_3.build(input_shape=(224,224,3))\n",
        "\n",
        "model_3.compile(\n",
        "    optimizer='adam',\n",
        "    loss='categorical_crossentropy',\n",
        "    metrics=['accuracy']\n",
        "\n",
        ")\n",
        "\n",
        "history_3 = model_3.fit(\n",
        "    train_data,\n",
        "    validation_data=test_data,\n",
        "    epochs=5\n",
        "\n",
        ")\n"
      ]
    },
    {
      "cell_type": "code",
      "execution_count": 36,
      "metadata": {
        "colab": {
          "base_uri": "https://localhost:8080/"
        },
        "id": "eWdHp64xbw-i",
        "outputId": "0a304aef-e1bb-4c3a-9db0-dbd2d527d4bc"
      },
      "outputs": [
        {
          "output_type": "stream",
          "name": "stdout",
          "text": [
            "Model: \"model_6\"\n",
            "_________________________________________________________________\n",
            " Layer (type)                Output Shape              Param #   \n",
            "=================================================================\n",
            " input_14 (InputLayer)       [(None, 224, 224, 3)]     0         \n",
            "                                                                 \n",
            " tf.cast_7 (TFOpLambda)      (None, 224, 224, 3)       0         \n",
            "                                                                 \n",
            " tf.__operators__.getitem_7   (None, 224, 224, 3)      0         \n",
            " (SlicingOpLambda)                                               \n",
            "                                                                 \n",
            " tf.nn.bias_add_7 (TFOpLambd  (None, 224, 224, 3)      0         \n",
            " a)                                                              \n",
            "                                                                 \n",
            " vgg16 (Functional)          (None, 1000)              138357544 \n",
            "                                                                 \n",
            " dense_5 (Dense)             (None, 26)                26026     \n",
            "                                                                 \n",
            " activation (Activation)     (None, 26)                0         \n",
            "                                                                 \n",
            "=================================================================\n",
            "Total params: 138,383,570\n",
            "Trainable params: 138,383,570\n",
            "Non-trainable params: 0\n",
            "_________________________________________________________________\n"
          ]
        }
      ],
      "source": [
        "model_3.summary()"
      ]
    },
    {
      "cell_type": "code",
      "execution_count": 38,
      "metadata": {
        "colab": {
          "base_uri": "https://localhost:8080/"
        },
        "id": "ea_M-jnaBAxU",
        "outputId": "7d42181a-bf95-4451-e94e-cb6722996724"
      },
      "outputs": [
        {
          "output_type": "stream",
          "name": "stdout",
          "text": [
            "Model: \"model_7\"\n",
            "_________________________________________________________________\n",
            " Layer (type)                Output Shape              Param #   \n",
            "=================================================================\n",
            " input_16 (InputLayer)       [(None, 224, 224, 3)]     0         \n",
            "                                                                 \n",
            " tf.cast_8 (TFOpLambda)      (None, 224, 224, 3)       0         \n",
            "                                                                 \n",
            " tf.__operators__.getitem_8   (None, 224, 224, 3)      0         \n",
            " (SlicingOpLambda)                                               \n",
            "                                                                 \n",
            " tf.nn.bias_add_8 (TFOpLambd  (None, 224, 224, 3)      0         \n",
            " a)                                                              \n",
            "                                                                 \n",
            " vgg16 (Functional)          (None, 1000)              138357544 \n",
            "                                                                 \n",
            " dense_6 (Dense)             (None, 26)                26026     \n",
            "                                                                 \n",
            " activation_1 (Activation)   (None, 26)                0         \n",
            "                                                                 \n",
            "=================================================================\n",
            "Total params: 138,383,570\n",
            "Trainable params: 26,026\n",
            "Non-trainable params: 138,357,544\n",
            "_________________________________________________________________\n"
          ]
        }
      ],
      "source": [
        "model_3.summary()"
      ]
    },
    {
      "cell_type": "code",
      "execution_count": 42,
      "metadata": {
        "colab": {
          "base_uri": "https://localhost:8080/"
        },
        "id": "s9y1c2CUBMxU",
        "outputId": "6756d614-56ab-4b0f-ab0d-7b773977cd18"
      },
      "outputs": [
        {
          "output_type": "stream",
          "name": "stdout",
          "text": [
            "Model: \"model_10\"\n",
            "_________________________________________________________________\n",
            " Layer (type)                Output Shape              Param #   \n",
            "=================================================================\n",
            " input_22 (InputLayer)       [(None, 224, 224, 3)]     0         \n",
            "                                                                 \n",
            " tf.cast_11 (TFOpLambda)     (None, 224, 224, 3)       0         \n",
            "                                                                 \n",
            " tf.__operators__.getitem_11  (None, 224, 224, 3)      0         \n",
            "  (SlicingOpLambda)                                              \n",
            "                                                                 \n",
            " tf.nn.bias_add_11 (TFOpLamb  (None, 224, 224, 3)      0         \n",
            " da)                                                             \n",
            "                                                                 \n",
            " vgg16 (Functional)          (None, None, None, 512)   14714688  \n",
            "                                                                 \n",
            " dense_9 (Dense)             (None, 7, 7, 26)          13338     \n",
            "                                                                 \n",
            " activation_4 (Activation)   (None, 7, 7, 26)          0         \n",
            "                                                                 \n",
            "=================================================================\n",
            "Total params: 14,728,026\n",
            "Trainable params: 13,338\n",
            "Non-trainable params: 14,714,688\n",
            "_________________________________________________________________\n"
          ]
        }
      ],
      "source": [
        "model_3.summary()"
      ]
    },
    {
      "cell_type": "code",
      "execution_count": 45,
      "metadata": {
        "colab": {
          "base_uri": "https://localhost:8080/"
        },
        "id": "dptSuPEVcnIx",
        "outputId": "f05edf0f-d79f-4cd4-89a4-f8532c5fb752"
      },
      "outputs": [
        {
          "output_type": "stream",
          "name": "stdout",
          "text": [
            "Model: \"model_11\"\n",
            "_________________________________________________________________\n",
            " Layer (type)                Output Shape              Param #   \n",
            "=================================================================\n",
            " input_25 (InputLayer)       [(None, 224, 224, 3)]     0         \n",
            "                                                                 \n",
            " tf.cast_13 (TFOpLambda)     (None, 224, 224, 3)       0         \n",
            "                                                                 \n",
            " tf.__operators__.getitem_13  (None, 224, 224, 3)      0         \n",
            "  (SlicingOpLambda)                                              \n",
            "                                                                 \n",
            " tf.nn.bias_add_13 (TFOpLamb  (None, 224, 224, 3)      0         \n",
            " da)                                                             \n",
            "                                                                 \n",
            " vgg16 (Functional)          (None, 512)               14714688  \n",
            "                                                                 \n",
            " dense_10 (Dense)            (None, 26)                13338     \n",
            "                                                                 \n",
            " activation_5 (Activation)   (None, 26)                0         \n",
            "                                                                 \n",
            "=================================================================\n",
            "Total params: 14,728,026\n",
            "Trainable params: 13,338\n",
            "Non-trainable params: 14,714,688\n",
            "_________________________________________________________________\n"
          ]
        }
      ],
      "source": [
        "model_3.summary()"
      ]
    },
    {
      "cell_type": "code",
      "execution_count": 47,
      "metadata": {
        "id": "T0Cv_ZfO0vMf",
        "colab": {
          "base_uri": "https://localhost:8080/",
          "height": 282
        },
        "outputId": "3e1e3069-9e96-484d-d21e-a458616c6ffb"
      },
      "outputs": [
        {
          "output_type": "execute_result",
          "data": {
            "text/plain": [
              "<matplotlib.axes._subplots.AxesSubplot at 0x7fb510246c10>"
            ]
          },
          "metadata": {},
          "execution_count": 47
        },
        {
          "output_type": "display_data",
          "data": {
            "text/plain": [
              "<Figure size 432x288 with 1 Axes>"
            ],
            "image/png": "[encoded data removed]"
          },
          "metadata": {
            "needs_background": "light"
          }
        }
      ],
      "source": [
        "pd.DataFrame(history_3.history).plot()"
      ]
    },
    {
      "cell_type": "markdown",
      "metadata": {
        "id": "h9BhwKcp4pJW"
      },
      "source": [
        "### 4th Model - VGG16 - Top False w/ Extra Dense Layer\n",
        "\n",
        "- Add an extra Dense layer with 1000 units before the output layer"
      ]
    },
    {
      "cell_type": "code",
      "execution_count": 52,
      "metadata": {
        "colab": {
          "base_uri": "https://localhost:8080/"
        },
        "id": "2xpu0HfI2fbm",
        "outputId": "75889277-e3ff-4775-c9f8-7aaa204c5443"
      },
      "outputs": [
        {
          "output_type": "stream",
          "name": "stdout",
          "text": [
            "Epoch 1/5\n",
            "96/96 [==============================] - 11s 99ms/step - loss: 1.2883 - accuracy: 0.8001 - val_loss: 0.4336 - val_accuracy: 0.9231\n",
            "Epoch 2/5\n",
            "96/96 [==============================] - 9s 96ms/step - loss: 0.1596 - accuracy: 0.9574 - val_loss: 0.2474 - val_accuracy: 0.9462\n",
            "Epoch 3/5\n",
            "96/96 [==============================] - 9s 97ms/step - loss: 0.0608 - accuracy: 0.9816 - val_loss: 0.2826 - val_accuracy: 0.9538\n",
            "Epoch 4/5\n",
            "96/96 [==============================] - 9s 94ms/step - loss: 0.0221 - accuracy: 0.9918 - val_loss: 0.2722 - val_accuracy: 0.9615\n",
            "Epoch 5/5\n",
            "96/96 [==============================] - 9s 94ms/step - loss: 0.0273 - accuracy: 0.9912 - val_loss: 0.4068 - val_accuracy: 0.9462\n"
          ]
        }
      ],
      "source": [
        "i = tf.keras.layers.Input(shape=[224,224,3], dtype=tf.uint8)\n",
        "\n",
        "x = tf.cast(i, tf.float32)\n",
        "\n",
        "x = tf.keras.applications.vgg16.preprocess_input(x)\n",
        "\n",
        "base_model = VGG16(\n",
        "    include_top=False,\n",
        "    pooling='avg',\n",
        ")\n",
        "\n",
        "for layer in base_model.layers:\n",
        "  layer.trainable = False\n",
        "\n",
        "x = base_model(x)\n",
        "\n",
        "# Dense Fully Connected Layer\n",
        "x = Dense(1000, activation='relu')(x)\n",
        "\n",
        "# Connected category Dense Layer\n",
        "x = Dense(26)(x)\n",
        "\n",
        "# Output Layer for mixed precision\n",
        "output = tf.keras.layers.Activation('softmax', dtype=tf.float32)(x)\n",
        "\n",
        "model_4 = Model(i, output)\n",
        "\n",
        "model_4.build(input_shape=(224,224,3))\n",
        "\n",
        "\n",
        "model_4.compile(\n",
        "    optimizer='adam',\n",
        "    loss='categorical_crossentropy',\n",
        "    metrics=['accuracy']\n",
        ")\n",
        "\n",
        "history_4 = model_4.fit(\n",
        "    train_data,\n",
        "    validation_data=test_data,\n",
        "    epochs=5\n",
        ")\n"
      ]
    },
    {
      "cell_type": "code",
      "source": [
        ""
      ],
      "metadata": {
        "id": "r1tpYkHCxt7U"
      },
      "execution_count": null,
      "outputs": []
    },
    {
      "cell_type": "code",
      "execution_count": 51,
      "metadata": {
        "colab": {
          "base_uri": "https://localhost:8080/"
        },
        "id": "loa5hTkCCbk3",
        "outputId": "e5b53db9-6ad6-4a2a-d9f8-56defdc476df"
      },
      "outputs": [
        {
          "output_type": "stream",
          "name": "stdout",
          "text": [
            "Model: \"model_14\"\n",
            "_________________________________________________________________\n",
            " Layer (type)                Output Shape              Param #   \n",
            "=================================================================\n",
            " input_31 (InputLayer)       [(None, 224, 224, 3)]     0         \n",
            "                                                                 \n",
            " tf.cast_16 (TFOpLambda)     (None, 224, 224, 3)       0         \n",
            "                                                                 \n",
            " tf.__operators__.getitem_16  (None, 224, 224, 3)      0         \n",
            "  (SlicingOpLambda)                                              \n",
            "                                                                 \n",
            " tf.nn.bias_add_16 (TFOpLamb  (None, 224, 224, 3)      0         \n",
            " da)                                                             \n",
            "                                                                 \n",
            " vgg16 (Functional)          (None, 512)               14714688  \n",
            "                                                                 \n",
            " dense_14 (Dense)            (None, 1000)              513000    \n",
            "                                                                 \n",
            " dense_15 (Dense)            (None, 26)                26026     \n",
            "                                                                 \n",
            " activation_8 (Activation)   (None, 26)                0         \n",
            "                                                                 \n",
            "=================================================================\n",
            "Total params: 15,253,714\n",
            "Trainable params: 539,026\n",
            "Non-trainable params: 14,714,688\n",
            "_________________________________________________________________\n"
          ]
        }
      ],
      "source": [
        "model_4.summary()"
      ]
    },
    {
      "cell_type": "code",
      "source": [
        "pd.DataFrame(history_4.history).plot()"
      ],
      "metadata": {
        "colab": {
          "base_uri": "https://localhost:8080/",
          "height": 282
        },
        "id": "9VLSq6uFxvtT",
        "outputId": "5aca6aca-bea9-4d4a-e4ae-70bba5b49cac"
      },
      "execution_count": 53,
      "outputs": [
        {
          "output_type": "execute_result",
          "data": {
            "text/plain": [
              "<matplotlib.axes._subplots.AxesSubplot at 0x7fb50c4c7350>"
            ]
          },
          "metadata": {},
          "execution_count": 53
        },
        {
          "output_type": "display_data",
          "data": {
            "text/plain": [
              "<Figure size 432x288 with 1 Axes>"
            ],
            "image/png": "[encoded data removed]"
          },
          "metadata": {
            "needs_background": "light"
          }
        }
      ]
    },
    {
      "cell_type": "markdown",
      "metadata": {
        "id": "gk_Dug3o44pT"
      },
      "source": [
        "### Run evaluations and predictions\n",
        "\n",
        "- Use Model 4"
      ]
    },
    {
      "cell_type": "code",
      "execution_count": 62,
      "metadata": {
        "id": "lTckI_FR21sa"
      },
      "outputs": [],
      "source": [
        "y_true = []\n",
        "preds = []\n",
        "\n",
        "def predictor(path, image):\n",
        "  target = path + '/' + image\n",
        "  category = path.split('/')[1]\n",
        "\n",
        "  img = tf.io.read_file(target)\n",
        "  img = tf.io.decode_image(img)\n",
        "  img = tf.image.resize(img, [224,224])\n",
        "  # img = img/255.\n",
        "  img = tf.expand_dims(img, axis=0)\n",
        "\n",
        "  pred = np.argmax(model_4.predict(img), axis=1)\n",
        "\n",
        "  preds.append(pred[0])\n",
        "\n",
        "  y_true.append(class_names[category])\n",
        "\n",
        "for dirs, fols, files in os.walk('test'):\n",
        "  if len(fols) < 1:\n",
        "    for file in files:\n",
        "      predictor(dirs, file)"
      ]
    },
    {
      "cell_type": "code",
      "execution_count": 55,
      "metadata": {
        "colab": {
          "base_uri": "https://localhost:8080/"
        },
        "id": "8vk8DAV96-bx",
        "outputId": "d4b05ef6-6d8d-49a0-d456-bc4d92bc8f70"
      },
      "outputs": [
        {
          "output_type": "execute_result",
          "data": {
            "text/plain": [
              "{'baseball': 0,\n",
              " 'basketball': 1,\n",
              " 'beachballs': 2,\n",
              " 'billiard ball': 3,\n",
              " 'bowling ball': 4,\n",
              " 'brass': 5,\n",
              " 'buckeyballs': 6,\n",
              " 'cannon ball': 7,\n",
              " 'cricket ball': 8,\n",
              " 'eyeballs': 9,\n",
              " 'football': 10,\n",
              " 'golf ball': 11,\n",
              " 'marble': 12,\n",
              " 'meat ball': 13,\n",
              " 'medicine ball': 14,\n",
              " 'paint balls': 15,\n",
              " 'pokeman balls': 16,\n",
              " 'puffballs': 17,\n",
              " 'screwballs': 18,\n",
              " 'soccer ball': 19,\n",
              " 'tennis ball': 20,\n",
              " 'tether ball': 21,\n",
              " 'volley ball': 22,\n",
              " 'water polo ball': 23,\n",
              " 'wiffle ball': 24,\n",
              " 'wrecking ball': 25}"
            ]
          },
          "metadata": {},
          "execution_count": 55
        }
      ],
      "source": [
        "class_names"
      ]
    },
    {
      "cell_type": "code",
      "execution_count": 64,
      "metadata": {
        "id": "e9PAdytB8cqy",
        "colab": {
          "base_uri": "https://localhost:8080/"
        },
        "outputId": "ef3c0647-2eea-432f-8ead-349de23ce9eb"
      },
      "outputs": [
        {
          "output_type": "execute_result",
          "data": {
            "text/plain": [
              "True"
            ]
          },
          "metadata": {},
          "execution_count": 64
        }
      ],
      "source": [
        "len(y_true) == len(preds)"
      ]
    },
    {
      "cell_type": "code",
      "execution_count": 58,
      "metadata": {
        "id": "s79ay8rqHssP",
        "colab": {
          "base_uri": "https://localhost:8080/"
        },
        "outputId": "4d63aaa7-40ff-40bd-8b7f-b30bd76e8868"
      },
      "outputs": [
        {
          "output_type": "execute_result",
          "data": {
            "text/plain": [
              "False"
            ]
          },
          "metadata": {},
          "execution_count": 58
        }
      ],
      "source": [
        "set(y_true) == set(preds)"
      ]
    },
    {
      "cell_type": "code",
      "execution_count": 63,
      "metadata": {
        "id": "rZDS-3wGHs3Q",
        "colab": {
          "base_uri": "https://localhost:8080/"
        },
        "outputId": "a65ce9d9-966d-4b6d-a865-dbc5e3a4cc47"
      },
      "outputs": [
        {
          "output_type": "execute_result",
          "data": {
            "text/plain": [
              "{0,\n",
              " 1,\n",
              " 2,\n",
              " 3,\n",
              " 4,\n",
              " 5,\n",
              " 6,\n",
              " 7,\n",
              " 8,\n",
              " 9,\n",
              " 10,\n",
              " 11,\n",
              " 12,\n",
              " 13,\n",
              " 14,\n",
              " 15,\n",
              " 16,\n",
              " 17,\n",
              " 18,\n",
              " 19,\n",
              " 20,\n",
              " 21,\n",
              " 22,\n",
              " 23,\n",
              " 24,\n",
              " 25}"
            ]
          },
          "metadata": {},
          "execution_count": 63
        }
      ],
      "source": [
        "set(preds)"
      ]
    },
    {
      "cell_type": "code",
      "execution_count": 65,
      "metadata": {
        "id": "4arVXnmnHtBw"
      },
      "outputs": [],
      "source": [
        "import seaborn as sns"
      ]
    },
    {
      "cell_type": "code",
      "execution_count": 67,
      "metadata": {
        "id": "dLOjEOoAHtM4",
        "colab": {
          "base_uri": "https://localhost:8080/",
          "height": 504
        },
        "outputId": "531d9d37-23f0-48ea-9e06-b87780968436"
      },
      "outputs": [
        {
          "output_type": "execute_result",
          "data": {
            "text/plain": [
              "<matplotlib.axes._subplots.AxesSubplot at 0x7fb52f7ec410>"
            ]
          },
          "metadata": {},
          "execution_count": 67
        },
        {
          "output_type": "display_data",
          "data": {
            "text/plain": [
              "<Figure size 864x576 with 2 Axes>"
            ],
            "image/png": "[encoded data removed]"
          },
          "metadata": {
            "needs_background": "light"
          }
        }
      ],
      "source": [
        "plt.figure(figsize=(12,8))\n",
        "sns.heatmap(confusion_matrix(y_true, preds), annot=True)"
      ]
    },
    {
      "cell_type": "code",
      "source": [
        "print(classification_report(y_true, preds))"
      ],
      "metadata": {
        "colab": {
          "base_uri": "https://localhost:8080/"
        },
        "id": "Ax7n7x7DzAr2",
        "outputId": "b7e275c0-d3fe-4f4f-9497-f2104f16ae1f"
      },
      "execution_count": 68,
      "outputs": [
        {
          "output_type": "stream",
          "name": "stdout",
          "text": [
            "              precision    recall  f1-score   support\n",
            "\n",
            "           0       1.00      1.00      1.00         5\n",
            "           1       1.00      1.00      1.00         5\n",
            "           2       1.00      0.60      0.75         5\n",
            "           3       1.00      0.80      0.89         5\n",
            "           4       1.00      1.00      1.00         5\n",
            "           5       1.00      1.00      1.00         5\n",
            "           6       1.00      1.00      1.00         5\n",
            "           7       0.71      1.00      0.83         5\n",
            "           8       1.00      1.00      1.00         5\n",
            "           9       1.00      1.00      1.00         5\n",
            "          10       1.00      1.00      1.00         5\n",
            "          11       1.00      1.00      1.00         5\n",
            "          12       1.00      0.80      0.89         5\n",
            "          13       1.00      0.60      0.75         5\n",
            "          14       0.83      1.00      0.91         5\n",
            "          15       0.83      1.00      0.91         5\n",
            "          16       1.00      1.00      1.00         5\n",
            "          17       1.00      1.00      1.00         5\n",
            "          18       1.00      1.00      1.00         5\n",
            "          19       1.00      1.00      1.00         5\n",
            "          20       1.00      1.00      1.00         5\n",
            "          21       1.00      1.00      1.00         5\n",
            "          22       0.62      1.00      0.77         5\n",
            "          23       1.00      0.80      0.89         5\n",
            "          24       1.00      1.00      1.00         5\n",
            "          25       1.00      1.00      1.00         5\n",
            "\n",
            "    accuracy                           0.95       130\n",
            "   macro avg       0.96      0.95      0.95       130\n",
            "weighted avg       0.96      0.95      0.95       130\n",
            "\n"
          ]
        }
      ]
    },
    {
      "cell_type": "code",
      "source": [
        ""
      ],
      "metadata": {
        "id": "oGWoykuJzAyO"
      },
      "execution_count": null,
      "outputs": []
    },
    {
      "cell_type": "code",
      "source": [
        ""
      ],
      "metadata": {
        "id": "wtYisLp6zA4_"
      },
      "execution_count": null,
      "outputs": []
    },
    {
      "cell_type": "code",
      "source": [
        ""
      ],
      "metadata": {
        "id": "z8j42-1GzA_3"
      },
      "execution_count": null,
      "outputs": []
    },
    {
      "cell_type": "code",
      "source": [
        ""
      ],
      "metadata": {
        "id": "N7nd2YovzBGe"
      },
      "execution_count": null,
      "outputs": []
    },
    {
      "cell_type": "code",
      "source": [
        ""
      ],
      "metadata": {
        "id": "ngBfllVKzBNU"
      },
      "execution_count": null,
      "outputs": []
    },
    {
      "cell_type": "code",
      "execution_count": null,
      "metadata": {
        "id": "2K77QO1fHtXC"
      },
      "outputs": [],
      "source": [
        ""
      ]
    }
  ],
  "metadata": {
    "accelerator": "GPU",
    "colab": {
      "name": "66 - Exercise - Solutions - TensorFlow Transfer Learning.ipynb",
      "provenance": [],
      "collapsed_sections": []
    },
    "gpuClass": "standard",
    "kernelspec": {
      "display_name": "Python 3 (ipykernel)",
      "language": "python",
      "name": "python3"
    },
    "language_info": {
      "codemirror_mode": {
        "name": "ipython",
        "version": 3
      },
      "file_extension": ".py",
      "mimetype": "text/x-python",
      "name": "python",
      "nbconvert_exporter": "python",
      "pygments_lexer": "ipython3",
      "version": "3.9.12"
    }
  },
  "nbformat": 4,
  "nbformat_minor": 0
}