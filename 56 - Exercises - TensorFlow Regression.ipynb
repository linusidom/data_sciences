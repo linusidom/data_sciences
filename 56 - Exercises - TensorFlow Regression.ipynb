{
 "cells": [
  {
   "cell_type": "markdown",
   "id": "acd77d69",
   "metadata": {},
   "source": [
    "# Tensor Flow Regression Exercises\n",
    "\n",
    "Data Set\n",
    "\n",
    "https://www.kaggle.com/datasets/mssmartypants/paris-housing-price-prediction"
   ]
  },
  {
   "cell_type": "code",
   "execution_count": 1,
   "id": "1e716845",
   "metadata": {},
   "outputs": [],
   "source": [
    "# Import the necessary Libraries\n",
    "\n",
    "# Pandas, Numpy, seaborn, matplotlib\n",
    "# SKLearn\n",
    "# Train Test Split, MinMaxScaler, LinearRegression\n",
    "# mean absolute error, mean squared error, explained variance score\n",
    "# TensorFlow\n",
    "# Sequential and Dense\n",
    "\n",
    "\n",
    "\n",
    "\n",
    "\n",
    "\n",
    "# Type your code above this line"
   ]
  },
  {
   "cell_type": "code",
   "execution_count": 2,
   "id": "be00bc9f",
   "metadata": {},
   "outputs": [],
   "source": [
    "# Create a Data Frame from the Dataset\n",
    "\n",
    "\n",
    "\n",
    "\n",
    "\n",
    "# Type your code above this line"
   ]
  },
  {
   "cell_type": "code",
   "execution_count": 3,
   "id": "b63fc6b6",
   "metadata": {},
   "outputs": [],
   "source": [
    "# Explore the Data\n",
    "# Histogram of the Prices\n",
    "# Are there any outliers?\n",
    "# Are there any missing values\n",
    "\n",
    "\n",
    "\n",
    "\n",
    "\n",
    "# Type your code above this line"
   ]
  },
  {
   "cell_type": "code",
   "execution_count": 4,
   "id": "86ded0a0",
   "metadata": {},
   "outputs": [],
   "source": [
    "# Train Test and Split\n",
    "\n",
    "# With Tensorflow we really want the values, not the columns\n",
    "\n",
    "\n",
    "\n",
    "\n",
    "\n",
    "# Type your code above this line"
   ]
  },
  {
   "cell_type": "code",
   "execution_count": 5,
   "id": "6f1003f2",
   "metadata": {},
   "outputs": [],
   "source": [
    "# Normalize the data with MinMaxScaler\n",
    "\n",
    "\n",
    "\n",
    "\n",
    "\n",
    "\n",
    "\n",
    "# Type your code above this line"
   ]
  },
  {
   "cell_type": "code",
   "execution_count": 6,
   "id": "e082b8f3",
   "metadata": {},
   "outputs": [],
   "source": [
    "# Apply the scaler to X_train and X_test\n",
    "\n",
    "\n",
    "\n",
    "\n",
    "# Type your code above this line"
   ]
  },
  {
   "cell_type": "code",
   "execution_count": 7,
   "id": "04745424",
   "metadata": {},
   "outputs": [],
   "source": [
    "# Run a Linear Regression from SKLearn so we get a baseline of what to expect\n",
    "\n",
    "\n",
    "\n",
    "\n",
    "\n",
    "\n",
    "\n",
    "# Type your code above this line"
   ]
  },
  {
   "cell_type": "code",
   "execution_count": 8,
   "id": "4d6dfea1",
   "metadata": {},
   "outputs": [],
   "source": [
    "# Create the TensorFlow Neural Network\n",
    "# Number of Nodes per layer 16\n",
    "# Number of Layers 6\n",
    "# Activation layer 'relu'\n",
    "# Add the last output layer with 1 node\n",
    "# Compile using the 'adam' optimizer with 'mae' for loss\n",
    "\n",
    "\n",
    "\n",
    "# Type your code above this line"
   ]
  },
  {
   "cell_type": "code",
   "execution_count": 9,
   "id": "b0311d40",
   "metadata": {},
   "outputs": [],
   "source": [
    "# Fit the model\n",
    "# Use 500 epochs (this will take some time)\n",
    "# add in the validation data\n",
    "\n",
    "\n",
    "\n",
    "\n",
    "\n",
    "\n",
    "\n",
    "# Type your code above this line"
   ]
  },
  {
   "cell_type": "code",
   "execution_count": 10,
   "id": "d825b1e9",
   "metadata": {},
   "outputs": [],
   "source": [
    "# Create a losses dataframe to compare our model with the actual results\n",
    "\n",
    "\n",
    "\n",
    "\n",
    "\n",
    "\n",
    "\n",
    "# Type your code above this line"
   ]
  },
  {
   "cell_type": "code",
   "execution_count": 11,
   "id": "2951a8a5",
   "metadata": {},
   "outputs": [],
   "source": [
    "# Plot the losses against the validation data\n",
    "\n",
    "\n",
    "\n",
    "\n",
    "\n",
    "\n",
    "# Type your code above this line"
   ]
  },
  {
   "cell_type": "code",
   "execution_count": 12,
   "id": "b1fad473",
   "metadata": {},
   "outputs": [],
   "source": [
    "# Run Predictions on the model against the X_test dataset\n",
    "\n",
    "\n",
    "\n",
    "\n",
    "\n",
    "# Type your code above this line"
   ]
  },
  {
   "cell_type": "code",
   "execution_count": 13,
   "id": "3ff704de",
   "metadata": {},
   "outputs": [],
   "source": [
    "# Calculate the explained_variance_score, mean_absolute_error and root mean squared error\n",
    "# How does this compare to SKLearns Linear Regression Model?\n",
    "\n",
    "\n",
    "\n",
    "\n",
    "\n",
    "# Type your code above this line"
   ]
  },
  {
   "cell_type": "code",
   "execution_count": 14,
   "id": "890f5423",
   "metadata": {},
   "outputs": [],
   "source": [
    "# Create an array from the 0th element (drop the price column) in the dataframe and run a prediction against it\n",
    "# Tip: Scale the data before running the prediction\n",
    "\n",
    "\n",
    "\n",
    "\n",
    "\n",
    "# Type your code above this line"
   ]
  },
  {
   "cell_type": "code",
   "execution_count": 15,
   "id": "1b2c1b71",
   "metadata": {},
   "outputs": [],
   "source": [
    "# Does the prediction value match the actual value?\n",
    "\n",
    "\n",
    "\n",
    "\n",
    "# Type your code above this line"
   ]
  },
  {
   "cell_type": "code",
   "execution_count": null,
   "id": "37fb4076",
   "metadata": {},
   "outputs": [],
   "source": []
  },
  {
   "cell_type": "code",
   "execution_count": null,
   "id": "2567ef85",
   "metadata": {},
   "outputs": [],
   "source": []
  },
  {
   "cell_type": "code",
   "execution_count": null,
   "id": "64e22bef",
   "metadata": {},
   "outputs": [],
   "source": []
  },
  {
   "cell_type": "code",
   "execution_count": null,
   "id": "79384d74",
   "metadata": {},
   "outputs": [],
   "source": []
  },
  {
   "cell_type": "code",
   "execution_count": null,
   "id": "d5aa1e0f",
   "metadata": {},
   "outputs": [],
   "source": []
  },
  {
   "cell_type": "code",
   "execution_count": null,
   "id": "39365e21",
   "metadata": {},
   "outputs": [],
   "source": []
  },
  {
   "cell_type": "code",
   "execution_count": null,
   "id": "3e2f23f4",
   "metadata": {},
   "outputs": [],
   "source": []
  },
  {
   "cell_type": "code",
   "execution_count": null,
   "id": "294e31e5",
   "metadata": {},
   "outputs": [],
   "source": []
  },
  {
   "cell_type": "code",
   "execution_count": null,
   "id": "87283252",
   "metadata": {},
   "outputs": [],
   "source": []
  },
  {
   "cell_type": "code",
   "execution_count": null,
   "id": "6d1e79fe",
   "metadata": {},
   "outputs": [],
   "source": []
  },
  {
   "cell_type": "code",
   "execution_count": null,
   "id": "4dd5b6fb",
   "metadata": {},
   "outputs": [],
   "source": []
  },
  {
   "cell_type": "code",
   "execution_count": null,
   "id": "7d2cf9f7",
   "metadata": {},
   "outputs": [],
   "source": []
  },
  {
   "cell_type": "code",
   "execution_count": null,
   "id": "d8c3e355",
   "metadata": {},
   "outputs": [],
   "source": []
  },
  {
   "cell_type": "code",
   "execution_count": null,
   "id": "9c583509",
   "metadata": {},
   "outputs": [],
   "source": []
  },
  {
   "cell_type": "code",
   "execution_count": null,
   "id": "a1401d4d",
   "metadata": {},
   "outputs": [],
   "source": []
  },
  {
   "cell_type": "code",
   "execution_count": null,
   "id": "718250d0",
   "metadata": {},
   "outputs": [],
   "source": []
  },
  {
   "cell_type": "code",
   "execution_count": null,
   "id": "1587600b",
   "metadata": {},
   "outputs": [],
   "source": []
  },
  {
   "cell_type": "code",
   "execution_count": null,
   "id": "86b4f264",
   "metadata": {},
   "outputs": [],
   "source": []
  },
  {
   "cell_type": "code",
   "execution_count": null,
   "id": "a8b6b68e",
   "metadata": {},
   "outputs": [],
   "source": []
  },
  {
   "cell_type": "code",
   "execution_count": null,
   "id": "6505e46d",
   "metadata": {},
   "outputs": [],
   "source": []
  },
  {
   "cell_type": "code",
   "execution_count": null,
   "id": "ca3b6704",
   "metadata": {},
   "outputs": [],
   "source": []
  },
  {
   "cell_type": "code",
   "execution_count": null,
   "id": "d95eac46",
   "metadata": {},
   "outputs": [],
   "source": []
  },
  {
   "cell_type": "code",
   "execution_count": null,
   "id": "91ef14b1",
   "metadata": {},
   "outputs": [],
   "source": []
  },
  {
   "cell_type": "code",
   "execution_count": null,
   "id": "57458ea1",
   "metadata": {},
   "outputs": [],
   "source": []
  },
  {
   "cell_type": "code",
   "execution_count": null,
   "id": "6bd6f161",
   "metadata": {},
   "outputs": [],
   "source": []
  },
  {
   "cell_type": "code",
   "execution_count": null,
   "id": "11209c78",
   "metadata": {},
   "outputs": [],
   "source": []
  },
  {
   "cell_type": "code",
   "execution_count": null,
   "id": "2cac3eea",
   "metadata": {},
   "outputs": [],
   "source": []
  },
  {
   "cell_type": "code",
   "execution_count": null,
   "id": "779f51e1",
   "metadata": {},
   "outputs": [],
   "source": []
  },
  {
   "cell_type": "code",
   "execution_count": null,
   "id": "eab07362",
   "metadata": {},
   "outputs": [],
   "source": []
  }
 ],
 "metadata": {
  "kernelspec": {
   "display_name": "Python 3 (ipykernel)",
   "language": "python",
   "name": "python3"
  },
  "language_info": {
   "codemirror_mode": {
    "name": "ipython",
    "version": 3
   },
   "file_extension": ".py",
   "mimetype": "text/x-python",
   "name": "python",
   "nbconvert_exporter": "python",
   "pygments_lexer": "ipython3",
   "version": "3.9.12"
  }
 },
 "nbformat": 4,
 "nbformat_minor": 5
}
