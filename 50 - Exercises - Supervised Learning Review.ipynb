{
 "cells": [
  {
   "cell_type": "markdown",
   "id": "3924a58d",
   "metadata": {},
   "source": [
    "# Supervised Learning Exercises"
   ]
  },
  {
   "cell_type": "code",
   "execution_count": 1,
   "id": "884d4ed0",
   "metadata": {},
   "outputs": [],
   "source": [
    "# Import the necessary Libraries\n",
    "# Pandas, Numpy\n",
    "# SKLearn\n",
    "# - StandardScaler\n",
    "# - train_test_split, GridSearchCV\n",
    "# - confusion_matrix, classification_report, mean_squared_error\n",
    "# - For the Following import both Regression and Classification\n",
    "# - Linear\n",
    "# - K Neighbors\n",
    "# - Decision Tree\n",
    "# - Random Forest\n",
    "# - Support Vector\n",
    "# - Datasets: fetch_california_housing, load_iris\n",
    "\n",
    "\n",
    "\n",
    "\n",
    "\n",
    "\n",
    "\n",
    "# Type your code above this line"
   ]
  },
  {
   "cell_type": "markdown",
   "id": "16c7ae80",
   "metadata": {},
   "source": [
    "### Regression"
   ]
  },
  {
   "cell_type": "code",
   "execution_count": 2,
   "id": "e3778e3e",
   "metadata": {},
   "outputs": [],
   "source": [
    "# Load the fetch_california_housing data into a DataFrame and add the Target to the the DataFrame\n",
    "\n",
    "\n",
    "\n",
    "\n",
    "\n",
    "# Type your code above this line"
   ]
  },
  {
   "cell_type": "code",
   "execution_count": 3,
   "id": "ab2aabe8",
   "metadata": {},
   "outputs": [],
   "source": [
    "# Train Test and Split the data with Standard Scaler\n",
    "\n",
    "\n",
    "\n",
    "\n",
    "\n",
    "# Type your code above this line"
   ]
  },
  {
   "cell_type": "code",
   "execution_count": 4,
   "id": "31fd8de6",
   "metadata": {},
   "outputs": [],
   "source": [
    "# Create a dictionary with all the algorithms and the necessary tuning parameters called regression_dictionary\n",
    "# Linear - None\n",
    "# Neighbors - values 1 to 20\n",
    "# Decision Tree and Random Forest - Max Depth or 4 and 5\n",
    "# Support Vector - None\n",
    "\n",
    "\n",
    "\n",
    "\n",
    "\n",
    "\n",
    "# Type your code above this line"
   ]
  },
  {
   "cell_type": "code",
   "execution_count": 5,
   "id": "7800e5b4",
   "metadata": {},
   "outputs": [],
   "source": [
    "# Iterate through the regression_dictionary using GridSearchCV\n",
    "# Fit, predict and evaluate each model\n",
    "\n",
    "\n",
    "\n",
    "\n",
    "\n",
    "\n",
    "\n",
    "\n",
    "\n",
    "# Type your code above this line"
   ]
  },
  {
   "cell_type": "code",
   "execution_count": null,
   "id": "6f36ac51",
   "metadata": {},
   "outputs": [],
   "source": []
  },
  {
   "cell_type": "code",
   "execution_count": null,
   "id": "b2ef834c",
   "metadata": {},
   "outputs": [],
   "source": []
  },
  {
   "cell_type": "markdown",
   "id": "9d982a45",
   "metadata": {},
   "source": [
    "### Classification"
   ]
  },
  {
   "cell_type": "code",
   "execution_count": 6,
   "id": "68d85d4b",
   "metadata": {},
   "outputs": [],
   "source": [
    "# Load the load_iris data into a DataFrame and add the Target to the the DataFrame\n",
    "\n",
    "\n",
    "\n",
    "\n",
    "\n",
    "\n",
    "# Type your code above this line"
   ]
  },
  {
   "cell_type": "code",
   "execution_count": 7,
   "id": "a3413792",
   "metadata": {},
   "outputs": [],
   "source": [
    "# Train Test and Split the data with Standard Scaler\n",
    "\n",
    "\n",
    "\n",
    "\n",
    "\n",
    "\n",
    "\n",
    "# Type your code above this line"
   ]
  },
  {
   "cell_type": "code",
   "execution_count": 8,
   "id": "aa604d41",
   "metadata": {},
   "outputs": [],
   "source": [
    "# Create a dictionary with all the algorithms and the necessary tuning parameters called classification_dictionary\n",
    "# Linear - None\n",
    "# Neighbors - values 1 to 20\n",
    "# Decision Tree and Random Forest - Max Depth or 4 and 5\n",
    "# Support Vector - C values of 1000, 10000000, gamma values of auto and scale\n",
    "\n",
    "\n",
    "\n",
    "\n",
    "\n",
    "\n",
    "\n",
    "# Type your code above this line"
   ]
  },
  {
   "cell_type": "code",
   "execution_count": 9,
   "id": "e33aca9b",
   "metadata": {},
   "outputs": [],
   "source": [
    "# Interate through the regression_dictionary using GridSearchCV\n",
    "# Fit, predict and evaluate each model\n",
    "\n",
    "\n",
    "\n",
    "\n",
    "\n",
    "\n",
    "# Type your code above this line"
   ]
  },
  {
   "cell_type": "code",
   "execution_count": null,
   "id": "a48f2bfc",
   "metadata": {},
   "outputs": [],
   "source": []
  },
  {
   "cell_type": "code",
   "execution_count": null,
   "id": "c04d195e",
   "metadata": {},
   "outputs": [],
   "source": []
  },
  {
   "cell_type": "code",
   "execution_count": null,
   "id": "bd108588",
   "metadata": {},
   "outputs": [],
   "source": []
  },
  {
   "cell_type": "code",
   "execution_count": null,
   "id": "ffc2c17d",
   "metadata": {},
   "outputs": [],
   "source": []
  },
  {
   "cell_type": "code",
   "execution_count": null,
   "id": "5af453d5",
   "metadata": {},
   "outputs": [],
   "source": []
  },
  {
   "cell_type": "code",
   "execution_count": null,
   "id": "65872765",
   "metadata": {},
   "outputs": [],
   "source": []
  },
  {
   "cell_type": "code",
   "execution_count": null,
   "id": "2eef1d87",
   "metadata": {},
   "outputs": [],
   "source": []
  },
  {
   "cell_type": "code",
   "execution_count": null,
   "id": "5c1e3b0d",
   "metadata": {},
   "outputs": [],
   "source": []
  },
  {
   "cell_type": "code",
   "execution_count": null,
   "id": "89774f2b",
   "metadata": {},
   "outputs": [],
   "source": []
  },
  {
   "cell_type": "code",
   "execution_count": null,
   "id": "27c1828a",
   "metadata": {},
   "outputs": [],
   "source": []
  },
  {
   "cell_type": "code",
   "execution_count": null,
   "id": "10dd755a",
   "metadata": {},
   "outputs": [],
   "source": []
  },
  {
   "cell_type": "code",
   "execution_count": null,
   "id": "249c6a63",
   "metadata": {},
   "outputs": [],
   "source": []
  },
  {
   "cell_type": "code",
   "execution_count": null,
   "id": "a74b694b",
   "metadata": {},
   "outputs": [],
   "source": []
  },
  {
   "cell_type": "code",
   "execution_count": null,
   "id": "5efb3e3d",
   "metadata": {},
   "outputs": [],
   "source": []
  },
  {
   "cell_type": "code",
   "execution_count": null,
   "id": "31232690",
   "metadata": {},
   "outputs": [],
   "source": []
  },
  {
   "cell_type": "code",
   "execution_count": null,
   "id": "5283ddbb",
   "metadata": {},
   "outputs": [],
   "source": []
  },
  {
   "cell_type": "code",
   "execution_count": null,
   "id": "e25c6e75",
   "metadata": {},
   "outputs": [],
   "source": []
  },
  {
   "cell_type": "code",
   "execution_count": null,
   "id": "bb56aa5d",
   "metadata": {},
   "outputs": [],
   "source": []
  },
  {
   "cell_type": "code",
   "execution_count": null,
   "id": "78404b0a",
   "metadata": {},
   "outputs": [],
   "source": []
  },
  {
   "cell_type": "code",
   "execution_count": null,
   "id": "722efd48",
   "metadata": {},
   "outputs": [],
   "source": []
  },
  {
   "cell_type": "code",
   "execution_count": null,
   "id": "56b061dd",
   "metadata": {},
   "outputs": [],
   "source": []
  },
  {
   "cell_type": "code",
   "execution_count": null,
   "id": "6ce0fe00",
   "metadata": {},
   "outputs": [],
   "source": []
  }
 ],
 "metadata": {
  "kernelspec": {
   "display_name": "Python 3 (ipykernel)",
   "language": "python",
   "name": "python3"
  },
  "language_info": {
   "codemirror_mode": {
    "name": "ipython",
    "version": 3
   },
   "file_extension": ".py",
   "mimetype": "text/x-python",
   "name": "python",
   "nbconvert_exporter": "python",
   "pygments_lexer": "ipython3",
   "version": "3.9.12"
  }
 },
 "nbformat": 4,
 "nbformat_minor": 5
}
