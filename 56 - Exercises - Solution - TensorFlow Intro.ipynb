{
  "cells": [
    {
      "cell_type": "markdown",
      "metadata": {
        "id": "YRttIrurynsD"
      },
      "source": [
        "# Tensor Flow - Deep Learning - Exercises\n",
        "\n",
        "Data Set:\n",
        "\n",
        "https://www.kaggle.com/datasets/vedavyasv/usa-housing\n",
        "\n",
        "Recommended to use Google Colab Environment but not required\n",
        "\n",
        "<a name=\"kaggle\"></a>\n",
        "##### **Kaggle and Colab Integration**\n",
        "\n",
        "\n",
        "Step One: Kaggle Steps\n",
        "In your Kaggle Account, Go to your account and Create A New API Key\n",
        "\n",
        "Step Two: Google Colab Steps\n",
        "```\n",
        "# Kaggle on Colab setup\n",
        "\n",
        "!pip install -q kaggle\n",
        "!mkdir ~/.kaggle\n",
        "!touch ~/.kaggle/kaggle.json\n",
        "\n",
        "# open the json file you downloaded and paste the string on this line\n",
        "api_token = {\"username\":\"username\",\"key\":\"key\"}\n",
        "\n",
        "import json\n",
        "\n",
        "with open('/root/.kaggle/kaggle.json', 'w') as file:\n",
        "    json.dump(api_token, file)\n",
        "\n",
        "!chmod 600 ~/.kaggle/kaggle.json\n",
        "```\n",
        "\n",
        "#### Download the dataset\n",
        "```\n",
        "!kaggle datasets download -d tongpython/cat-and-dog\n",
        "!kaggle datasets download -d gpiosenka/sports-classification\n",
        "```\n",
        "\n",
        "If you're still having trouble check out this link:\n",
        "\n",
        "https://stackoverflow.com/questions/56816537/cant-find-kaggle-json-file-in-google-colab"
      ]
    },
    {
      "cell_type": "code",
      "execution_count": null,
      "metadata": {
        "id": "Ee9-IwIUrqFF"
      },
      "outputs": [],
      "source": [
        "# Import necessary libraries\n",
        "\n",
        "from zipfile import ZipFile\n",
        "import pandas as pd\n",
        "import numpy as np\n",
        "import matplotlib.pyplot as plt\n",
        "import tensorflow as tf\n",
        "\n",
        "# TensorFlow\n",
        "from tensorflow.keras.models import Sequential, clone_model\n",
        "from tensorflow.keras.layers import Dense\n",
        "from tensorflow.keras.optimizers import Adam, RMSprop\n",
        "\n",
        "# SKLearn\n",
        "from sklearn.model_selection import train_test_split\n",
        "from sklearn.preprocessing import MinMaxScaler\n",
        "from sklearn.metrics import mean_absolute_error\n",
        "\n",
        "\n",
        "\n",
        "\n",
        "# Type your code above this line"
      ]
    },
    {
      "cell_type": "code",
      "source": [
        "zip_file = ZipFile('USAHousing.zip')\n",
        "zip_file.extractall()\n",
        "zip_file.close()"
      ],
      "metadata": {
        "id": "g5-ZKzxSYjLw"
      },
      "execution_count": null,
      "outputs": []
    },
    {
      "cell_type": "code",
      "execution_count": null,
      "metadata": {
        "id": "Ef3oqhiQt-2i"
      },
      "outputs": [],
      "source": [
        "# Create a Tensor with 1 single value - t1\n",
        "\n",
        "t1 = tf.constant(10)\n",
        "\n",
        "\n",
        "# Type your code above this line"
      ]
    },
    {
      "cell_type": "code",
      "execution_count": null,
      "metadata": {
        "id": "HeIaSFT3_z3P",
        "colab": {
          "base_uri": "https://localhost:8080/"
        },
        "outputId": "8bc5614a-6789-4987-b34e-b28da1cfe20a"
      },
      "outputs": [
        {
          "output_type": "execute_result",
          "data": {
            "text/plain": [
              "<tf.Tensor: shape=(), dtype=int32, numpy=10>"
            ]
          },
          "metadata": {},
          "execution_count": 5
        }
      ],
      "source": [
        "# What is it's shape?\n",
        "\n",
        "t1\n",
        "\n",
        "# Type your code above this line"
      ]
    },
    {
      "cell_type": "code",
      "execution_count": null,
      "metadata": {
        "id": "1gkA6tFQ_z9H"
      },
      "outputs": [],
      "source": [
        "# Create a Tensor array with 2 values - t2\n",
        "\n",
        "t2 = tf.constant([20,30])\n",
        "\n",
        "\n",
        "# Type your code above this line"
      ]
    },
    {
      "cell_type": "code",
      "execution_count": null,
      "metadata": {
        "id": "L0I59vQt_0C_",
        "colab": {
          "base_uri": "https://localhost:8080/"
        },
        "outputId": "3dbceb9e-cc9d-4d00-899c-cfc9219eedc2"
      },
      "outputs": [
        {
          "output_type": "execute_result",
          "data": {
            "text/plain": [
              "<tf.Tensor: shape=(2,), dtype=int32, numpy=array([20, 30], dtype=int32)>"
            ]
          },
          "metadata": {},
          "execution_count": 7
        }
      ],
      "source": [
        "# What is the tensor array's shape?\n",
        "\n",
        "\n",
        "t2\n",
        "\n",
        "# Type your code above this line"
      ]
    },
    {
      "cell_type": "code",
      "execution_count": null,
      "metadata": {
        "id": "l6HH5K8V_0I_"
      },
      "outputs": [],
      "source": [
        "# Create a 2 - Dimensional Tensor with 3 values per array - t3\n",
        "\n",
        "t3 = tf.constant(\n",
        "    [\n",
        "     [20,30],\n",
        "     [40,50]\n",
        "    ]\n",
        ")\n",
        "\n",
        "\n",
        "# Type your code above this line"
      ]
    },
    {
      "cell_type": "code",
      "execution_count": null,
      "metadata": {
        "id": "MQVWlgUf_0Ov",
        "colab": {
          "base_uri": "https://localhost:8080/"
        },
        "outputId": "e01a5f83-12ed-4caa-92a5-d5fe46eafa4d"
      },
      "outputs": [
        {
          "output_type": "execute_result",
          "data": {
            "text/plain": [
              "<tf.Tensor: shape=(2, 2), dtype=int32, numpy=\n",
              "array([[20, 30],\n",
              "       [40, 50]], dtype=int32)>"
            ]
          },
          "metadata": {},
          "execution_count": 9
        }
      ],
      "source": [
        "# What is the tensor array's shape?\n",
        "\n",
        "t3\n",
        "\n",
        "# Type your code above this line"
      ]
    },
    {
      "cell_type": "code",
      "execution_count": null,
      "metadata": {
        "id": "ldyrxGYh_0Uv"
      },
      "outputs": [],
      "source": [
        "# Create a 6x8 tensor with random values. t4\n",
        "\n",
        "t4 = tf.random.uniform([6,8])\n",
        "\n",
        "\n",
        "\n",
        "# Type your code above this line"
      ]
    },
    {
      "cell_type": "code",
      "execution_count": null,
      "metadata": {
        "id": "BSziMfxoGKiQ",
        "colab": {
          "base_uri": "https://localhost:8080/"
        },
        "outputId": "e8ee790b-f722-4c35-e561-11faa47120b4"
      },
      "outputs": [
        {
          "output_type": "execute_result",
          "data": {
            "text/plain": [
              "<tf.Tensor: shape=(6, 8), dtype=float32, numpy=\n",
              "array([[0.9688153 , 0.7047305 , 0.9127953 , 0.18995011, 0.3098861 ,\n",
              "        0.62027955, 0.38238394, 0.25054944],\n",
              "       [0.5420226 , 0.9841132 , 0.33128834, 0.0088917 , 0.87847364,\n",
              "        0.03390002, 0.14027417, 0.48625064],\n",
              "       [0.688532  , 0.03620124, 0.7602966 , 0.56027246, 0.9192786 ,\n",
              "        0.60873115, 0.89789855, 0.8149506 ],\n",
              "       [0.81956136, 0.44768763, 0.21652114, 0.14595819, 0.05646145,\n",
              "        0.70918787, 0.69371545, 0.86954045],\n",
              "       [0.7608372 , 0.98192   , 0.77339864, 0.4178245 , 0.07284021,\n",
              "        0.2766657 , 0.9172869 , 0.965469  ],\n",
              "       [0.02379572, 0.9374547 , 0.71716607, 0.843243  , 0.10354722,\n",
              "        0.3388201 , 0.80531454, 0.68444717]], dtype=float32)>"
            ]
          },
          "metadata": {},
          "execution_count": 11
        }
      ],
      "source": [
        "# What is the tensor's shape and data type?\n",
        "\n",
        "t4\n",
        "\n",
        "# Type your code above this line"
      ]
    },
    {
      "cell_type": "code",
      "execution_count": null,
      "metadata": {
        "id": "Dn-vtcCjGKtA",
        "colab": {
          "base_uri": "https://localhost:8080/"
        },
        "outputId": "87483767-97af-4ccc-a4ce-cf67a5d2b5e8"
      },
      "outputs": [
        {
          "output_type": "execute_result",
          "data": {
            "text/plain": [
              "<tf.Tensor: shape=(3, 4, 4), dtype=float32, numpy=\n",
              "array([[[0.9688153 , 0.7047305 , 0.9127953 , 0.18995011],\n",
              "        [0.3098861 , 0.62027955, 0.38238394, 0.25054944],\n",
              "        [0.5420226 , 0.9841132 , 0.33128834, 0.0088917 ],\n",
              "        [0.87847364, 0.03390002, 0.14027417, 0.48625064]],\n",
              "\n",
              "       [[0.688532  , 0.03620124, 0.7602966 , 0.56027246],\n",
              "        [0.9192786 , 0.60873115, 0.89789855, 0.8149506 ],\n",
              "        [0.81956136, 0.44768763, 0.21652114, 0.14595819],\n",
              "        [0.05646145, 0.70918787, 0.69371545, 0.86954045]],\n",
              "\n",
              "       [[0.7608372 , 0.98192   , 0.77339864, 0.4178245 ],\n",
              "        [0.07284021, 0.2766657 , 0.9172869 , 0.965469  ],\n",
              "        [0.02379572, 0.9374547 , 0.71716607, 0.843243  ],\n",
              "        [0.10354722, 0.3388201 , 0.80531454, 0.68444717]]], dtype=float32)>"
            ]
          },
          "metadata": {},
          "execution_count": 13
        }
      ],
      "source": [
        "# Reshape t4 to be a 3x4x4\n",
        "\n",
        "\n",
        "t5 = tf.reshape(t4, [3,4,4])\n",
        "t5\n",
        "\n",
        "\n",
        "# Type your code above this line"
      ]
    },
    {
      "cell_type": "code",
      "execution_count": null,
      "metadata": {
        "id": "2AMJszsKG2GC",
        "colab": {
          "base_uri": "https://localhost:8080/"
        },
        "outputId": "b518d173-1a43-4b02-faf1-204295c54fd3"
      },
      "outputs": [
        {
          "output_type": "execute_result",
          "data": {
            "text/plain": [
              "TensorShape([3, 4, 4])"
            ]
          },
          "metadata": {},
          "execution_count": 15
        }
      ],
      "source": [
        "# What is the shape of the reshaped Tensor t4?\n",
        "\n",
        "t5.shape\n",
        "\n",
        "# Type your code above this line"
      ]
    },
    {
      "cell_type": "code",
      "execution_count": null,
      "metadata": {
        "id": "_fHJDC-VGK3Q",
        "colab": {
          "base_uri": "https://localhost:8080/"
        },
        "outputId": "8ea97692-ea69-41d2-ed77-d07d795955ee"
      },
      "outputs": [
        {
          "output_type": "execute_result",
          "data": {
            "text/plain": [
              "<tf.Tensor: shape=(2, 2, 2), dtype=float32, numpy=\n",
              "array([[[0.62027955, 0.38238394],\n",
              "        [0.9841132 , 0.33128834]],\n",
              "\n",
              "       [[0.60873115, 0.89789855],\n",
              "        [0.44768763, 0.21652114]]], dtype=float32)>"
            ]
          },
          "metadata": {},
          "execution_count": 18
        }
      ],
      "source": [
        "# Get the 2nd and 3rd values from the 2nd and 3rd row from the 1st and 2nd group\n",
        "\n",
        "\n",
        "t5[:2,1:3,1:3]\n",
        "\n",
        "# Type your code above this line"
      ]
    },
    {
      "cell_type": "code",
      "execution_count": null,
      "metadata": {
        "id": "i7vj6GwpGLBQ",
        "colab": {
          "base_uri": "https://localhost:8080/"
        },
        "outputId": "fc0a83da-de29-4ff5-fc3b-613d46b5ea46"
      },
      "outputs": [
        {
          "output_type": "execute_result",
          "data": {
            "text/plain": [
              "<tf.Tensor: shape=(1, 3, 4, 4), dtype=float32, numpy=\n",
              "array([[[[0.9688153 , 0.7047305 , 0.9127953 , 0.18995011],\n",
              "         [0.3098861 , 0.62027955, 0.38238394, 0.25054944],\n",
              "         [0.5420226 , 0.9841132 , 0.33128834, 0.0088917 ],\n",
              "         [0.87847364, 0.03390002, 0.14027417, 0.48625064]],\n",
              "\n",
              "        [[0.688532  , 0.03620124, 0.7602966 , 0.56027246],\n",
              "         [0.9192786 , 0.60873115, 0.89789855, 0.8149506 ],\n",
              "         [0.81956136, 0.44768763, 0.21652114, 0.14595819],\n",
              "         [0.05646145, 0.70918787, 0.69371545, 0.86954045]],\n",
              "\n",
              "        [[0.7608372 , 0.98192   , 0.77339864, 0.4178245 ],\n",
              "         [0.07284021, 0.2766657 , 0.9172869 , 0.965469  ],\n",
              "         [0.02379572, 0.9374547 , 0.71716607, 0.843243  ],\n",
              "         [0.10354722, 0.3388201 , 0.80531454, 0.68444717]]]],\n",
              "      dtype=float32)>"
            ]
          },
          "metadata": {},
          "execution_count": 22
        }
      ],
      "source": [
        "# Expand the dimensions of the tensor (add a dimension on the 0 axis)\n",
        "\n",
        "tf.expand_dims(t5, axis=0)\n",
        "\n",
        "\n",
        "# Type your code above this line"
      ]
    },
    {
      "cell_type": "code",
      "execution_count": null,
      "metadata": {
        "id": "n22MGGj4GLLZ"
      },
      "outputs": [],
      "source": [
        ""
      ]
    },
    {
      "cell_type": "markdown",
      "metadata": {
        "id": "HfJcJgrNkWSg"
      },
      "source": [
        "### Read in the Data into a DataFrame"
      ]
    },
    {
      "cell_type": "code",
      "execution_count": null,
      "metadata": {
        "id": "KLB6RIAW_3y-"
      },
      "outputs": [],
      "source": [
        "df = pd.read_csv('USA_Housing.csv')"
      ]
    },
    {
      "cell_type": "code",
      "execution_count": null,
      "metadata": {
        "id": "Kr3yp3sN_34Q",
        "colab": {
          "base_uri": "https://localhost:8080/",
          "height": 424
        },
        "outputId": "e6f19953-ee82-4f52-b45c-1f4ee0e53a6a"
      },
      "outputs": [
        {
          "output_type": "execute_result",
          "data": {
            "text/plain": [
              "      Avg. Area Income  Avg. Area House Age  Avg. Area Number of Rooms  \\\n",
              "0         79545.458574             5.682861                   7.009188   \n",
              "1         79248.642455             6.002900                   6.730821   \n",
              "2         61287.067179             5.865890                   8.512727   \n",
              "3         63345.240046             7.188236                   5.586729   \n",
              "4         59982.197226             5.040555                   7.839388   \n",
              "...                ...                  ...                        ...   \n",
              "4995      60567.944140             7.830362                   6.137356   \n",
              "4996      78491.275435             6.999135                   6.576763   \n",
              "4997      63390.686886             7.250591                   4.805081   \n",
              "4998      68001.331235             5.534388                   7.130144   \n",
              "4999      65510.581804             5.992305                   6.792336   \n",
              "\n",
              "      Avg. Area Number of Bedrooms  Area Population         Price  \\\n",
              "0                             4.09     23086.800503  1.059034e+06   \n",
              "1                             3.09     40173.072174  1.505891e+06   \n",
              "2                             5.13     36882.159400  1.058988e+06   \n",
              "3                             3.26     34310.242831  1.260617e+06   \n",
              "4                             4.23     26354.109472  6.309435e+05   \n",
              "...                            ...              ...           ...   \n",
              "4995                          3.46     22837.361035  1.060194e+06   \n",
              "4996                          4.02     25616.115489  1.482618e+06   \n",
              "4997                          2.13     33266.145490  1.030730e+06   \n",
              "4998                          5.44     42625.620156  1.198657e+06   \n",
              "4999                          4.07     46501.283803  1.298950e+06   \n",
              "\n",
              "                                                Address  \n",
              "0     208 Michael Ferry Apt. 674\\nLaurabury, NE 3701...  \n",
              "1     188 Johnson Views Suite 079\\nLake Kathleen, CA...  \n",
              "2     9127 Elizabeth Stravenue\\nDanieltown, WI 06482...  \n",
              "3                             USS Barnett\\nFPO AP 44820  \n",
              "4                            USNS Raymond\\nFPO AE 09386  \n",
              "...                                                 ...  \n",
              "4995                   USNS Williams\\nFPO AP 30153-7653  \n",
              "4996              PSC 9258, Box 8489\\nAPO AA 42991-3352  \n",
              "4997  4215 Tracy Garden Suite 076\\nJoshualand, VA 01...  \n",
              "4998                          USS Wallace\\nFPO AE 73316  \n",
              "4999  37778 George Ridges Apt. 509\\nEast Holly, NV 2...  \n",
              "\n",
              "[5000 rows x 7 columns]"
            ],
            "text/html": [
              "\n",
              "  <div id=\"df-86d760bd-a735-4150-afdd-ed06d1038d95\">\n",
              "    <div class=\"colab-df-container\">\n",
              "      <div>\n",
              "<style scoped>\n",
              "    .dataframe tbody tr th:only-of-type {\n",
              "        vertical-align: middle;\n",
              "    }\n",
              "\n",
              "    .dataframe tbody tr th {\n",
              "        vertical-align: top;\n",
              "    }\n",
              "\n",
              "    .dataframe thead th {\n",
              "        text-align: right;\n",
              "    }\n",
              "</style>\n",
              "<table border=\"1\" class=\"dataframe\">\n",
              "  <thead>\n",
              "    <tr style=\"text-align: right;\">\n",
              "      <th></th>\n",
              "      <th>Avg. Area Income</th>\n",
              "      <th>Avg. Area House Age</th>\n",
              "      <th>Avg. Area Number of Rooms</th>\n",
              "      <th>Avg. Area Number of Bedrooms</th>\n",
              "      <th>Area Population</th>\n",
              "      <th>Price</th>\n",
              "      <th>Address</th>\n",
              "    </tr>\n",
              "  </thead>\n",
              "  <tbody>\n",
              "    <tr>\n",
              "      <th>0</th>\n",
              "      <td>79545.458574</td>\n",
              "      <td>5.682861</td>\n",
              "      <td>7.009188</td>\n",
              "      <td>4.09</td>\n",
              "      <td>23086.800503</td>\n",
              "      <td>1.059034e+06</td>\n",
              "      <td>208 Michael Ferry Apt. 674\\nLaurabury, NE 3701...</td>\n",
              "    </tr>\n",
              "    <tr>\n",
              "      <th>1</th>\n",
              "      <td>79248.642455</td>\n",
              "      <td>6.002900</td>\n",
              "      <td>6.730821</td>\n",
              "      <td>3.09</td>\n",
              "      <td>40173.072174</td>\n",
              "      <td>1.505891e+06</td>\n",
              "      <td>188 Johnson Views Suite 079\\nLake Kathleen, CA...</td>\n",
              "    </tr>\n",
              "    <tr>\n",
              "      <th>2</th>\n",
              "      <td>61287.067179</td>\n",
              "      <td>5.865890</td>\n",
              "      <td>8.512727</td>\n",
              "      <td>5.13</td>\n",
              "      <td>36882.159400</td>\n",
              "      <td>1.058988e+06</td>\n",
              "      <td>9127 Elizabeth Stravenue\\nDanieltown, WI 06482...</td>\n",
              "    </tr>\n",
              "    <tr>\n",
              "      <th>3</th>\n",
              "      <td>63345.240046</td>\n",
              "      <td>7.188236</td>\n",
              "      <td>5.586729</td>\n",
              "      <td>3.26</td>\n",
              "      <td>34310.242831</td>\n",
              "      <td>1.260617e+06</td>\n",
              "      <td>USS Barnett\\nFPO AP 44820</td>\n",
              "    </tr>\n",
              "    <tr>\n",
              "      <th>4</th>\n",
              "      <td>59982.197226</td>\n",
              "      <td>5.040555</td>\n",
              "      <td>7.839388</td>\n",
              "      <td>4.23</td>\n",
              "      <td>26354.109472</td>\n",
              "      <td>6.309435e+05</td>\n",
              "      <td>USNS Raymond\\nFPO AE 09386</td>\n",
              "    </tr>\n",
              "    <tr>\n",
              "      <th>...</th>\n",
              "      <td>...</td>\n",
              "      <td>...</td>\n",
              "      <td>...</td>\n",
              "      <td>...</td>\n",
              "      <td>...</td>\n",
              "      <td>...</td>\n",
              "      <td>...</td>\n",
              "    </tr>\n",
              "    <tr>\n",
              "      <th>4995</th>\n",
              "      <td>60567.944140</td>\n",
              "      <td>7.830362</td>\n",
              "      <td>6.137356</td>\n",
              "      <td>3.46</td>\n",
              "      <td>22837.361035</td>\n",
              "      <td>1.060194e+06</td>\n",
              "      <td>USNS Williams\\nFPO AP 30153-7653</td>\n",
              "    </tr>\n",
              "    <tr>\n",
              "      <th>4996</th>\n",
              "      <td>78491.275435</td>\n",
              "      <td>6.999135</td>\n",
              "      <td>6.576763</td>\n",
              "      <td>4.02</td>\n",
              "      <td>25616.115489</td>\n",
              "      <td>1.482618e+06</td>\n",
              "      <td>PSC 9258, Box 8489\\nAPO AA 42991-3352</td>\n",
              "    </tr>\n",
              "    <tr>\n",
              "      <th>4997</th>\n",
              "      <td>63390.686886</td>\n",
              "      <td>7.250591</td>\n",
              "      <td>4.805081</td>\n",
              "      <td>2.13</td>\n",
              "      <td>33266.145490</td>\n",
              "      <td>1.030730e+06</td>\n",
              "      <td>4215 Tracy Garden Suite 076\\nJoshualand, VA 01...</td>\n",
              "    </tr>\n",
              "    <tr>\n",
              "      <th>4998</th>\n",
              "      <td>68001.331235</td>\n",
              "      <td>5.534388</td>\n",
              "      <td>7.130144</td>\n",
              "      <td>5.44</td>\n",
              "      <td>42625.620156</td>\n",
              "      <td>1.198657e+06</td>\n",
              "      <td>USS Wallace\\nFPO AE 73316</td>\n",
              "    </tr>\n",
              "    <tr>\n",
              "      <th>4999</th>\n",
              "      <td>65510.581804</td>\n",
              "      <td>5.992305</td>\n",
              "      <td>6.792336</td>\n",
              "      <td>4.07</td>\n",
              "      <td>46501.283803</td>\n",
              "      <td>1.298950e+06</td>\n",
              "      <td>37778 George Ridges Apt. 509\\nEast Holly, NV 2...</td>\n",
              "    </tr>\n",
              "  </tbody>\n",
              "</table>\n",
              "<p>5000 rows × 7 columns</p>\n",
              "</div>\n",
              "      <button class=\"colab-df-convert\" onclick=\"convertToInteractive('df-86d760bd-a735-4150-afdd-ed06d1038d95')\"\n",
              "              title=\"Convert this dataframe to an interactive table.\"\n",
              "              style=\"display:none;\">\n",
              "        \n",
              "  <svg xmlns=\"http://www.w3.org/2000/svg\" height=\"24px\"viewBox=\"0 0 24 24\"\n",
              "       width=\"24px\">\n",
              "    <path d=\"M0 0h24v24H0V0z\" fill=\"none\"/>\n",
              "    <path d=\"M18.56 5.44l.94 2.06.94-2.06 2.06-.94-2.06-.94-.94-2.06-.94 2.06-2.06.94zm-11 1L8.5 8.5l.94-2.06 2.06-.94-2.06-.94L8.5 2.5l-.94 2.06-2.06.94zm10 10l.94 2.06.94-2.06 2.06-.94-2.06-.94-.94-2.06-.94 2.06-2.06.94z\"/><path d=\"M17.41 7.96l-1.37-1.37c-.4-.4-.92-.59-1.43-.59-.52 0-1.04.2-1.43.59L10.3 9.45l-7.72 7.72c-.78.78-.78 2.05 0 2.83L4 21.41c.39.39.9.59 1.41.59.51 0 1.02-.2 1.41-.59l7.78-7.78 2.81-2.81c.8-.78.8-2.07 0-2.86zM5.41 20L4 18.59l7.72-7.72 1.47 1.35L5.41 20z\"/>\n",
              "  </svg>\n",
              "      </button>\n",
              "      \n",
              "  <style>\n",
              "    .colab-df-container {\n",
              "      display:flex;\n",
              "      flex-wrap:wrap;\n",
              "      gap: 12px;\n",
              "    }\n",
              "\n",
              "    .colab-df-convert {\n",
              "      background-color: #E8F0FE;\n",
              "      border: none;\n",
              "      border-radius: 50%;\n",
              "      cursor: pointer;\n",
              "      display: none;\n",
              "      fill: #1967D2;\n",
              "      height: 32px;\n",
              "      padding: 0 0 0 0;\n",
              "      width: 32px;\n",
              "    }\n",
              "\n",
              "    .colab-df-convert:hover {\n",
              "      background-color: #E2EBFA;\n",
              "      box-shadow: 0px 1px 2px rgba(60, 64, 67, 0.3), 0px 1px 3px 1px rgba(60, 64, 67, 0.15);\n",
              "      fill: #174EA6;\n",
              "    }\n",
              "\n",
              "    [theme=dark] .colab-df-convert {\n",
              "      background-color: #3B4455;\n",
              "      fill: #D2E3FC;\n",
              "    }\n",
              "\n",
              "    [theme=dark] .colab-df-convert:hover {\n",
              "      background-color: #434B5C;\n",
              "      box-shadow: 0px 1px 3px 1px rgba(0, 0, 0, 0.15);\n",
              "      filter: drop-shadow(0px 1px 2px rgba(0, 0, 0, 0.3));\n",
              "      fill: #FFFFFF;\n",
              "    }\n",
              "  </style>\n",
              "\n",
              "      <script>\n",
              "        const buttonEl =\n",
              "          document.querySelector('#df-86d760bd-a735-4150-afdd-ed06d1038d95 button.colab-df-convert');\n",
              "        buttonEl.style.display =\n",
              "          google.colab.kernel.accessAllowed ? 'block' : 'none';\n",
              "\n",
              "        async function convertToInteractive(key) {\n",
              "          const element = document.querySelector('#df-86d760bd-a735-4150-afdd-ed06d1038d95');\n",
              "          const dataTable =\n",
              "            await google.colab.kernel.invokeFunction('convertToInteractive',\n",
              "                                                     [key], {});\n",
              "          if (!dataTable) return;\n",
              "\n",
              "          const docLinkHtml = 'Like what you see? Visit the ' +\n",
              "            '<a target=\"_blank\" href=https://colab.research.google.com/notebooks/data_table.ipynb>data table notebook</a>'\n",
              "            + ' to learn more about interactive tables.';\n",
              "          element.innerHTML = '';\n",
              "          dataTable['output_type'] = 'display_data';\n",
              "          await google.colab.output.renderOutput(dataTable, element);\n",
              "          const docLink = document.createElement('div');\n",
              "          docLink.innerHTML = docLinkHtml;\n",
              "          element.appendChild(docLink);\n",
              "        }\n",
              "      </script>\n",
              "    </div>\n",
              "  </div>\n",
              "  "
            ]
          },
          "metadata": {},
          "execution_count": 24
        }
      ],
      "source": [
        "df"
      ]
    },
    {
      "cell_type": "code",
      "execution_count": null,
      "metadata": {
        "id": "6PGFPp_9_4C2"
      },
      "outputs": [],
      "source": [
        ""
      ]
    },
    {
      "cell_type": "code",
      "execution_count": null,
      "metadata": {
        "id": "4ZMhxoph_4JW"
      },
      "outputs": [],
      "source": [
        ""
      ]
    },
    {
      "cell_type": "markdown",
      "metadata": {
        "id": "8CFOP8ZykaKX"
      },
      "source": [
        "### Train Test Split and Scale the Data"
      ]
    },
    {
      "cell_type": "code",
      "execution_count": null,
      "metadata": {
        "id": "MQXEWWoH_5rG"
      },
      "outputs": [],
      "source": [
        "X = df[df.columns[:-2]].values\n",
        "\n",
        "y = df['Price'].values"
      ]
    },
    {
      "cell_type": "code",
      "execution_count": null,
      "metadata": {
        "id": "BxvDkzxM_5i2"
      },
      "outputs": [],
      "source": [
        "X_train, X_test, y_train, y_test = train_test_split(X, y, test_size=0.30)"
      ]
    },
    {
      "cell_type": "code",
      "execution_count": null,
      "metadata": {
        "id": "VkZg7Wrq_5a2"
      },
      "outputs": [],
      "source": [
        "scaler = MinMaxScaler()\n",
        "\n",
        "X_train = scaler.fit_transform(X_train)\n",
        "X_test = scaler.transform(X_test)"
      ]
    },
    {
      "cell_type": "code",
      "execution_count": null,
      "metadata": {
        "id": "TgFkYoY7_5Ty"
      },
      "outputs": [],
      "source": [
        ""
      ]
    },
    {
      "cell_type": "code",
      "execution_count": null,
      "metadata": {
        "id": "XCLG_hkn_5M2"
      },
      "outputs": [],
      "source": [
        ""
      ]
    },
    {
      "cell_type": "code",
      "execution_count": null,
      "metadata": {
        "id": "8v_gZC_X_5E-"
      },
      "outputs": [],
      "source": [
        ""
      ]
    },
    {
      "cell_type": "code",
      "execution_count": null,
      "metadata": {
        "id": "YVg_zq8jcck3"
      },
      "outputs": [],
      "source": [
        ""
      ]
    },
    {
      "cell_type": "markdown",
      "metadata": {
        "id": "llTIZAASk1UB"
      },
      "source": [
        "### Build our first Model - model_1\n",
        "\n",
        "Single Layer\n",
        "\n",
        "Number of units equals the number of features\n",
        "\n",
        "Use 'tanh' for activation\n",
        "\n",
        "Use the Adam Optimizer\n",
        "\n",
        "Train for 25 Epochs"
      ]
    },
    {
      "cell_type": "code",
      "execution_count": null,
      "metadata": {
        "id": "qfzK-JAA_8jf",
        "colab": {
          "base_uri": "https://localhost:8080/"
        },
        "outputId": "0ee4dd2a-b7ce-419e-ac11-3bfb15efa5c1"
      },
      "outputs": [
        {
          "output_type": "stream",
          "name": "stdout",
          "text": [
            "Epoch 1/25\n",
            "110/110 [==============================] - 2s 6ms/step - loss: 1230879.7500 - val_loss: 1234854.5000\n",
            "Epoch 2/25\n",
            "110/110 [==============================] - 0s 4ms/step - loss: 1230879.5000 - val_loss: 1234854.2500\n",
            "Epoch 3/25\n",
            "110/110 [==============================] - 0s 3ms/step - loss: 1230879.1250 - val_loss: 1234854.2500\n",
            "Epoch 4/25\n",
            "110/110 [==============================] - 0s 4ms/step - loss: 1230879.2500 - val_loss: 1234854.2500\n",
            "Epoch 5/25\n",
            "110/110 [==============================] - 0s 4ms/step - loss: 1230879.1250 - val_loss: 1234854.2500\n",
            "Epoch 6/25\n",
            "110/110 [==============================] - 0s 4ms/step - loss: 1230879.1250 - val_loss: 1234854.2500\n",
            "Epoch 7/25\n",
            "110/110 [==============================] - 0s 4ms/step - loss: 1230879.1250 - val_loss: 1234854.2500\n",
            "Epoch 8/25\n",
            "110/110 [==============================] - 0s 4ms/step - loss: 1230879.1250 - val_loss: 1234854.2500\n",
            "Epoch 9/25\n",
            "110/110 [==============================] - 0s 4ms/step - loss: 1230879.1250 - val_loss: 1234854.2500\n",
            "Epoch 10/25\n",
            "110/110 [==============================] - 0s 4ms/step - loss: 1230879.0000 - val_loss: 1234854.2500\n",
            "Epoch 11/25\n",
            "110/110 [==============================] - 0s 4ms/step - loss: 1230879.5000 - val_loss: 1234854.2500\n",
            "Epoch 12/25\n",
            "110/110 [==============================] - 0s 4ms/step - loss: 1230879.0000 - val_loss: 1234854.2500\n",
            "Epoch 13/25\n",
            "110/110 [==============================] - 0s 4ms/step - loss: 1230879.2500 - val_loss: 1234854.2500\n",
            "Epoch 14/25\n",
            "110/110 [==============================] - 0s 3ms/step - loss: 1230879.2500 - val_loss: 1234854.2500\n",
            "Epoch 15/25\n",
            "110/110 [==============================] - 0s 4ms/step - loss: 1230879.0000 - val_loss: 1234854.2500\n",
            "Epoch 16/25\n",
            "110/110 [==============================] - 0s 3ms/step - loss: 1230878.7500 - val_loss: 1234854.2500\n",
            "Epoch 17/25\n",
            "110/110 [==============================] - 0s 3ms/step - loss: 1230879.0000 - val_loss: 1234854.2500\n",
            "Epoch 18/25\n",
            "110/110 [==============================] - 0s 4ms/step - loss: 1230878.8750 - val_loss: 1234854.2500\n",
            "Epoch 19/25\n",
            "110/110 [==============================] - 0s 4ms/step - loss: 1230878.8750 - val_loss: 1234854.2500\n",
            "Epoch 20/25\n",
            "110/110 [==============================] - 0s 4ms/step - loss: 1230879.1250 - val_loss: 1234854.2500\n",
            "Epoch 21/25\n",
            "110/110 [==============================] - 0s 4ms/step - loss: 1230879.5000 - val_loss: 1234854.2500\n",
            "Epoch 22/25\n",
            "110/110 [==============================] - 0s 4ms/step - loss: 1230879.0000 - val_loss: 1234854.2500\n",
            "Epoch 23/25\n",
            "110/110 [==============================] - 0s 4ms/step - loss: 1230878.8750 - val_loss: 1234854.2500\n",
            "Epoch 24/25\n",
            "110/110 [==============================] - 0s 4ms/step - loss: 1230879.1250 - val_loss: 1234854.2500\n",
            "Epoch 25/25\n",
            "110/110 [==============================] - 0s 4ms/step - loss: 1230879.1250 - val_loss: 1234854.2500\n"
          ]
        }
      ],
      "source": [
        "model_1 = Sequential()\n",
        "\n",
        "\n",
        "model_1.add(Dense(5, activation='tanh'))\n",
        "\n",
        "# Output Layer\n",
        "model_1.add(Dense(1, activation='tanh'))\n",
        "\n",
        "\n",
        "# Compile Layer\n",
        "model_1.compile(\n",
        "    optimizer=Adam(),\n",
        "    loss='mae'\n",
        ")\n",
        "\n",
        "# Fit Layer\n",
        "history_1 = model_1.fit(X_train,\n",
        "                        y_train,\n",
        "                        validation_data=(X_test, y_test),\n",
        "                        epochs=25)"
      ]
    },
    {
      "cell_type": "code",
      "execution_count": null,
      "metadata": {
        "id": "s7oStaYm_8am"
      },
      "outputs": [],
      "source": [
        ""
      ]
    },
    {
      "cell_type": "code",
      "execution_count": null,
      "metadata": {
        "id": "LeHCOr99_8UJ",
        "colab": {
          "base_uri": "https://localhost:8080/"
        },
        "outputId": "cd7f97c8-72cd-4200-8145-cacb193c65ca"
      },
      "outputs": [
        {
          "output_type": "stream",
          "name": "stdout",
          "text": [
            "30\n"
          ]
        }
      ],
      "source": [
        "print(5 * (5 + 1))"
      ]
    },
    {
      "cell_type": "code",
      "execution_count": null,
      "metadata": {
        "id": "B-8XGxSK_8Om"
      },
      "outputs": [],
      "source": [
        ""
      ]
    },
    {
      "cell_type": "markdown",
      "metadata": {
        "id": "4td9bhR1_8IW"
      },
      "source": [
        "### What does Our Model Look like?\n",
        "\n",
        "Model Summary"
      ]
    },
    {
      "cell_type": "code",
      "execution_count": null,
      "metadata": {
        "id": "ucBvbHb7__F-",
        "colab": {
          "base_uri": "https://localhost:8080/"
        },
        "outputId": "c262914e-bbc8-4eb4-9cd2-4994dd25f014"
      },
      "outputs": [
        {
          "output_type": "stream",
          "name": "stdout",
          "text": [
            "Model: \"sequential\"\n",
            "_________________________________________________________________\n",
            " Layer (type)                Output Shape              Param #   \n",
            "=================================================================\n",
            " dense (Dense)               (None, 5)                 30        \n",
            "                                                                 \n",
            " dense_1 (Dense)             (None, 1)                 6         \n",
            "                                                                 \n",
            "=================================================================\n",
            "Total params: 36\n",
            "Trainable params: 36\n",
            "Non-trainable params: 0\n",
            "_________________________________________________________________\n"
          ]
        }
      ],
      "source": [
        "model_1.summary()"
      ]
    },
    {
      "cell_type": "markdown",
      "metadata": {
        "id": "GhApRSYVlQL1"
      },
      "source": [
        "### Evaluate the Model with Plots\n",
        "\n",
        "It's probably a good idea to create a function to plot all the things we want on separate graphs otherwise the data is going to be hard to read"
      ]
    },
    {
      "cell_type": "code",
      "execution_count": null,
      "metadata": {
        "id": "Fy8tRUZG_-Ud",
        "colab": {
          "base_uri": "https://localhost:8080/",
          "height": 293
        },
        "outputId": "cd28e173-d8aa-4f62-fea7-fe6c669a9ed4"
      },
      "outputs": [
        {
          "output_type": "execute_result",
          "data": {
            "text/plain": [
              "<matplotlib.axes._subplots.AxesSubplot at 0x7f564b5f5c90>"
            ]
          },
          "metadata": {},
          "execution_count": 33
        },
        {
          "output_type": "display_data",
          "data": {
            "text/plain": [
              "<Figure size 432x288 with 1 Axes>"
            ],
            "image/png": "[encoded data removed]"
          },
          "metadata": {
            "needs_background": "light"
          }
        }
      ],
      "source": [
        "pd.DataFrame(history_1.history).plot()"
      ]
    },
    {
      "cell_type": "code",
      "execution_count": null,
      "metadata": {
        "id": "CZVowVQkNzW8"
      },
      "outputs": [],
      "source": [
        ""
      ]
    },
    {
      "cell_type": "code",
      "execution_count": null,
      "metadata": {
        "id": "YrenLtkgNzF-"
      },
      "outputs": [],
      "source": [
        ""
      ]
    },
    {
      "cell_type": "markdown",
      "metadata": {
        "id": "aAht0YMjlbOC"
      },
      "source": [
        "### 2nd Model - Add a Hidden Layer\n",
        "\n",
        "Copy of Model 1\n",
        "\n",
        "Add another Hidden Layer\n",
        "\n",
        "All other parameters remain the same\n"
      ]
    },
    {
      "cell_type": "code",
      "execution_count": null,
      "metadata": {
        "id": "rP1VvDjHALEr",
        "colab": {
          "base_uri": "https://localhost:8080/"
        },
        "outputId": "c9ed73f4-6ae6-4be0-cd39-2c06d09f1ad1"
      },
      "outputs": [
        {
          "output_type": "stream",
          "name": "stdout",
          "text": [
            "Epoch 1/25\n",
            "110/110 [==============================] - 1s 5ms/step - loss: 1230879.7500 - val_loss: 1234854.6250\n",
            "Epoch 2/25\n",
            "110/110 [==============================] - 0s 4ms/step - loss: 1230879.2500 - val_loss: 1234854.3750\n",
            "Epoch 3/25\n",
            "110/110 [==============================] - 1s 5ms/step - loss: 1230879.1250 - val_loss: 1234854.2500\n",
            "Epoch 4/25\n",
            "110/110 [==============================] - 1s 5ms/step - loss: 1230878.8750 - val_loss: 1234854.2500\n",
            "Epoch 5/25\n",
            "110/110 [==============================] - 1s 5ms/step - loss: 1230879.6250 - val_loss: 1234854.2500\n",
            "Epoch 6/25\n",
            "110/110 [==============================] - 1s 5ms/step - loss: 1230879.0000 - val_loss: 1234854.2500\n",
            "Epoch 7/25\n",
            "110/110 [==============================] - 0s 4ms/step - loss: 1230879.0000 - val_loss: 1234854.2500\n",
            "Epoch 8/25\n",
            "110/110 [==============================] - 0s 4ms/step - loss: 1230879.5000 - val_loss: 1234854.2500\n",
            "Epoch 9/25\n",
            "110/110 [==============================] - 0s 4ms/step - loss: 1230879.1250 - val_loss: 1234854.2500\n",
            "Epoch 10/25\n",
            "110/110 [==============================] - 0s 4ms/step - loss: 1230879.2500 - val_loss: 1234854.2500\n",
            "Epoch 11/25\n",
            "110/110 [==============================] - 0s 4ms/step - loss: 1230879.1250 - val_loss: 1234854.2500\n",
            "Epoch 12/25\n",
            "110/110 [==============================] - 0s 4ms/step - loss: 1230878.7500 - val_loss: 1234854.2500\n",
            "Epoch 13/25\n",
            "110/110 [==============================] - 0s 4ms/step - loss: 1230879.1250 - val_loss: 1234854.2500\n",
            "Epoch 14/25\n",
            "110/110 [==============================] - 0s 4ms/step - loss: 1230879.0000 - val_loss: 1234854.2500\n",
            "Epoch 15/25\n",
            "110/110 [==============================] - 0s 4ms/step - loss: 1230878.8750 - val_loss: 1234854.2500\n",
            "Epoch 16/25\n",
            "110/110 [==============================] - 0s 4ms/step - loss: 1230879.0000 - val_loss: 1234854.2500\n",
            "Epoch 17/25\n",
            "110/110 [==============================] - 0s 3ms/step - loss: 1230879.1250 - val_loss: 1234854.2500\n",
            "Epoch 18/25\n",
            "110/110 [==============================] - 0s 4ms/step - loss: 1230879.2500 - val_loss: 1234854.2500\n",
            "Epoch 19/25\n",
            "110/110 [==============================] - 0s 4ms/step - loss: 1230879.1250 - val_loss: 1234854.2500\n",
            "Epoch 20/25\n",
            "110/110 [==============================] - 0s 4ms/step - loss: 1230879.0000 - val_loss: 1234854.2500\n",
            "Epoch 21/25\n",
            "110/110 [==============================] - 0s 4ms/step - loss: 1230879.1250 - val_loss: 1234854.2500\n",
            "Epoch 22/25\n",
            "110/110 [==============================] - 0s 3ms/step - loss: 1230879.1250 - val_loss: 1234854.2500\n",
            "Epoch 23/25\n",
            "110/110 [==============================] - 0s 4ms/step - loss: 1230879.1250 - val_loss: 1234854.2500\n",
            "Epoch 24/25\n",
            "110/110 [==============================] - 0s 4ms/step - loss: 1230879.1250 - val_loss: 1234854.2500\n",
            "Epoch 25/25\n",
            "110/110 [==============================] - 0s 4ms/step - loss: 1230879.1250 - val_loss: 1234854.2500\n"
          ]
        }
      ],
      "source": [
        "model_2 = Sequential()\n",
        "\n",
        "model_2.add(Dense(5, activation='tanh'))\n",
        "model_2.add(Dense(5, activation='tanh'))\n",
        "\n",
        "model_2.add(Dense(1, activation='tanh'))\n",
        "\n",
        "model_2.compile(\n",
        "    optimizer=Adam(),\n",
        "    loss='mae'\n",
        ")\n",
        "\n",
        "history_2 = model_2.fit(\n",
        "    X_train,\n",
        "    y_train,\n",
        "    validation_data=(X_test, y_test),\n",
        "    epochs=25\n",
        ")"
      ]
    },
    {
      "cell_type": "code",
      "execution_count": null,
      "metadata": {
        "id": "I8gfMx6QAK9z",
        "colab": {
          "base_uri": "https://localhost:8080/"
        },
        "outputId": "776bfb09-95db-4974-90f8-729448c60d3a"
      },
      "outputs": [
        {
          "output_type": "stream",
          "name": "stdout",
          "text": [
            "Model: \"sequential_1\"\n",
            "_________________________________________________________________\n",
            " Layer (type)                Output Shape              Param #   \n",
            "=================================================================\n",
            " dense_2 (Dense)             (None, 5)                 30        \n",
            "                                                                 \n",
            " dense_3 (Dense)             (None, 5)                 30        \n",
            "                                                                 \n",
            " dense_4 (Dense)             (None, 1)                 6         \n",
            "                                                                 \n",
            "=================================================================\n",
            "Total params: 66\n",
            "Trainable params: 66\n",
            "Non-trainable params: 0\n",
            "_________________________________________________________________\n"
          ]
        }
      ],
      "source": [
        "model_2.summary()"
      ]
    },
    {
      "cell_type": "code",
      "execution_count": null,
      "metadata": {
        "id": "bu-Opny1AK2z"
      },
      "outputs": [],
      "source": [
        ""
      ]
    },
    {
      "cell_type": "markdown",
      "metadata": {
        "id": "R3NRS2KtlopJ"
      },
      "source": [
        "### 3rd Model - Add Units to the layer\n",
        "\n",
        "Copy of Model 1\n",
        "\n",
        "Add units to the  Layer (128)\n",
        "\n",
        "All other parameters remain the same"
      ]
    },
    {
      "cell_type": "code",
      "execution_count": null,
      "metadata": {
        "id": "0cbOU2e1AMrT",
        "colab": {
          "base_uri": "https://localhost:8080/"
        },
        "outputId": "b9c69102-4c08-43de-858d-f52ddcdc246a"
      },
      "outputs": [
        {
          "output_type": "stream",
          "name": "stdout",
          "text": [
            "Epoch 1/25\n",
            "110/110 [==============================] - 2s 8ms/step - loss: 1230880.0000 - val_loss: 1234854.7500\n",
            "Epoch 2/25\n",
            "110/110 [==============================] - 1s 6ms/step - loss: 1230879.5000 - val_loss: 1234854.6250\n",
            "Epoch 3/25\n",
            "110/110 [==============================] - 1s 7ms/step - loss: 1230879.5000 - val_loss: 1234854.6250\n",
            "Epoch 4/25\n",
            "110/110 [==============================] - 1s 6ms/step - loss: 1230879.2500 - val_loss: 1234854.5000\n",
            "Epoch 5/25\n",
            "110/110 [==============================] - 1s 5ms/step - loss: 1230879.0000 - val_loss: 1234854.5000\n",
            "Epoch 6/25\n",
            "110/110 [==============================] - 0s 4ms/step - loss: 1230879.1250 - val_loss: 1234854.3750\n",
            "Epoch 7/25\n",
            "110/110 [==============================] - 0s 4ms/step - loss: 1230879.1250 - val_loss: 1234854.3750\n",
            "Epoch 8/25\n",
            "110/110 [==============================] - 0s 4ms/step - loss: 1230879.1250 - val_loss: 1234854.2500\n",
            "Epoch 9/25\n",
            "110/110 [==============================] - 0s 4ms/step - loss: 1230879.2500 - val_loss: 1234854.2500\n",
            "Epoch 10/25\n",
            "110/110 [==============================] - 0s 4ms/step - loss: 1230878.8750 - val_loss: 1234854.2500\n",
            "Epoch 11/25\n",
            "110/110 [==============================] - 0s 4ms/step - loss: 1230879.0000 - val_loss: 1234854.2500\n",
            "Epoch 12/25\n",
            "110/110 [==============================] - 1s 5ms/step - loss: 1230879.1250 - val_loss: 1234854.2500\n",
            "Epoch 13/25\n",
            "110/110 [==============================] - 0s 4ms/step - loss: 1230879.1250 - val_loss: 1234854.2500\n",
            "Epoch 14/25\n",
            "110/110 [==============================] - 0s 4ms/step - loss: 1230879.1250 - val_loss: 1234854.2500\n",
            "Epoch 15/25\n",
            "110/110 [==============================] - 0s 4ms/step - loss: 1230879.2500 - val_loss: 1234854.2500\n",
            "Epoch 16/25\n",
            "110/110 [==============================] - 0s 4ms/step - loss: 1230879.1250 - val_loss: 1234854.2500\n",
            "Epoch 17/25\n",
            "110/110 [==============================] - 0s 3ms/step - loss: 1230879.2500 - val_loss: 1234854.2500\n",
            "Epoch 18/25\n",
            "110/110 [==============================] - 0s 4ms/step - loss: 1230879.0000 - val_loss: 1234854.2500\n",
            "Epoch 19/25\n",
            "110/110 [==============================] - 1s 6ms/step - loss: 1230879.1250 - val_loss: 1234854.2500\n",
            "Epoch 20/25\n",
            "110/110 [==============================] - 1s 6ms/step - loss: 1230879.2500 - val_loss: 1234854.2500\n",
            "Epoch 21/25\n",
            "110/110 [==============================] - 1s 6ms/step - loss: 1230879.0000 - val_loss: 1234854.2500\n",
            "Epoch 22/25\n",
            "110/110 [==============================] - 0s 4ms/step - loss: 1230879.1250 - val_loss: 1234854.2500\n",
            "Epoch 23/25\n",
            "110/110 [==============================] - 0s 4ms/step - loss: 1230879.1250 - val_loss: 1234854.2500\n",
            "Epoch 24/25\n",
            "110/110 [==============================] - 0s 4ms/step - loss: 1230879.1250 - val_loss: 1234854.2500\n",
            "Epoch 25/25\n",
            "110/110 [==============================] - 0s 4ms/step - loss: 1230879.0000 - val_loss: 1234854.2500\n"
          ]
        }
      ],
      "source": [
        "model_3 = Sequential()\n",
        "\n",
        "model_3.add(Dense(128, activation='tanh'))\n",
        "\n",
        "model_3.compile(\n",
        "    optimizer=Adam(),\n",
        "    loss='mae'\n",
        ")\n",
        "\n",
        "history_3 = model_3.fit(\n",
        "    X_train,\n",
        "    y_train,\n",
        "    validation_data=(X_test, y_test),\n",
        "    epochs=25\n",
        ")"
      ]
    },
    {
      "cell_type": "code",
      "execution_count": null,
      "metadata": {
        "id": "2R9llpAjAMgM",
        "colab": {
          "base_uri": "https://localhost:8080/"
        },
        "outputId": "b19e0470-d92c-4aea-d3fd-3dbb56527836"
      },
      "outputs": [
        {
          "output_type": "stream",
          "name": "stdout",
          "text": [
            "Model: \"sequential_2\"\n",
            "_________________________________________________________________\n",
            " Layer (type)                Output Shape              Param #   \n",
            "=================================================================\n",
            " dense_5 (Dense)             (None, 128)               768       \n",
            "                                                                 \n",
            "=================================================================\n",
            "Total params: 768\n",
            "Trainable params: 768\n",
            "Non-trainable params: 0\n",
            "_________________________________________________________________\n"
          ]
        }
      ],
      "source": [
        "model_3.summary()"
      ]
    },
    {
      "cell_type": "code",
      "execution_count": null,
      "metadata": {
        "id": "d4V0AqtCAMaT",
        "colab": {
          "base_uri": "https://localhost:8080/"
        },
        "outputId": "1e0bc4a5-ac3d-4eef-bb36-f1414c445cfc"
      },
      "outputs": [
        {
          "output_type": "stream",
          "name": "stdout",
          "text": [
            "768\n"
          ]
        }
      ],
      "source": [
        "print(128 * (5 + 1))"
      ]
    },
    {
      "cell_type": "code",
      "execution_count": null,
      "metadata": {
        "id": "KFolzzIUAMVD"
      },
      "outputs": [],
      "source": [
        ""
      ]
    },
    {
      "cell_type": "code",
      "execution_count": null,
      "metadata": {
        "id": "cExBN9hisl87"
      },
      "outputs": [],
      "source": [
        ""
      ]
    },
    {
      "cell_type": "markdown",
      "metadata": {
        "id": "u9CrZdlvlzUI"
      },
      "source": [
        "### 4th Model - Change the Activation algorithm\n",
        "\n",
        "Copy of Model 1\n",
        "\n",
        "Change the activation to 'relu'\n",
        "\n",
        "All other parameters remain the same"
      ]
    },
    {
      "cell_type": "code",
      "execution_count": null,
      "metadata": {
        "id": "SIARBdtuAOAD",
        "colab": {
          "base_uri": "https://localhost:8080/"
        },
        "outputId": "0c1db289-c070-4165-e847-a0604c3d9322"
      },
      "outputs": [
        {
          "output_type": "stream",
          "name": "stdout",
          "text": [
            "Epoch 1/25\n",
            "110/110 [==============================] - 1s 5ms/step - loss: 1230880.0000 - val_loss: 1234854.7500\n",
            "Epoch 2/25\n",
            "110/110 [==============================] - 0s 4ms/step - loss: 1230879.2500 - val_loss: 1234854.3750\n",
            "Epoch 3/25\n",
            "110/110 [==============================] - 0s 4ms/step - loss: 1230878.7500 - val_loss: 1234853.8750\n",
            "Epoch 4/25\n",
            "110/110 [==============================] - 0s 3ms/step - loss: 1230878.3750 - val_loss: 1234853.5000\n",
            "Epoch 5/25\n",
            "110/110 [==============================] - 0s 4ms/step - loss: 1230878.0000 - val_loss: 1234853.2500\n",
            "Epoch 6/25\n",
            "110/110 [==============================] - 0s 4ms/step - loss: 1230877.7500 - val_loss: 1234852.6250\n",
            "Epoch 7/25\n",
            "110/110 [==============================] - 0s 4ms/step - loss: 1230877.1250 - val_loss: 1234852.1250\n",
            "Epoch 8/25\n",
            "110/110 [==============================] - 0s 4ms/step - loss: 1230877.1250 - val_loss: 1234851.6250\n",
            "Epoch 9/25\n",
            "110/110 [==============================] - 0s 4ms/step - loss: 1230876.5000 - val_loss: 1234851.5000\n",
            "Epoch 10/25\n",
            "110/110 [==============================] - 0s 4ms/step - loss: 1230876.2500 - val_loss: 1234851.1250\n",
            "Epoch 11/25\n",
            "110/110 [==============================] - 0s 4ms/step - loss: 1230875.7500 - val_loss: 1234850.8750\n",
            "Epoch 12/25\n",
            "110/110 [==============================] - 0s 3ms/step - loss: 1230875.5000 - val_loss: 1234850.3750\n",
            "Epoch 13/25\n",
            "110/110 [==============================] - 0s 3ms/step - loss: 1230874.8750 - val_loss: 1234849.7500\n",
            "Epoch 14/25\n",
            "110/110 [==============================] - 0s 3ms/step - loss: 1230874.7500 - val_loss: 1234849.5000\n",
            "Epoch 15/25\n",
            "110/110 [==============================] - 0s 4ms/step - loss: 1230874.3750 - val_loss: 1234849.2500\n",
            "Epoch 16/25\n",
            "110/110 [==============================] - 0s 4ms/step - loss: 1230873.8750 - val_loss: 1234848.6250\n",
            "Epoch 17/25\n",
            "110/110 [==============================] - 0s 4ms/step - loss: 1230873.6250 - val_loss: 1234848.3750\n",
            "Epoch 18/25\n",
            "110/110 [==============================] - 0s 4ms/step - loss: 1230873.1250 - val_loss: 1234847.7500\n",
            "Epoch 19/25\n",
            "110/110 [==============================] - 1s 5ms/step - loss: 1230872.6250 - val_loss: 1234847.6250\n",
            "Epoch 20/25\n",
            "110/110 [==============================] - 1s 6ms/step - loss: 1230872.1250 - val_loss: 1234847.1250\n",
            "Epoch 21/25\n",
            "110/110 [==============================] - 1s 6ms/step - loss: 1230872.0000 - val_loss: 1234846.8750\n",
            "Epoch 22/25\n",
            "110/110 [==============================] - 1s 5ms/step - loss: 1230871.3750 - val_loss: 1234846.2500\n",
            "Epoch 23/25\n",
            "110/110 [==============================] - 0s 4ms/step - loss: 1230871.1250 - val_loss: 1234845.8750\n",
            "Epoch 24/25\n",
            "110/110 [==============================] - 0s 3ms/step - loss: 1230870.5000 - val_loss: 1234845.5000\n",
            "Epoch 25/25\n",
            "110/110 [==============================] - 0s 3ms/step - loss: 1230870.3750 - val_loss: 1234845.3750\n"
          ]
        }
      ],
      "source": [
        "model_4 = Sequential()\n",
        "\n",
        "model_4.add(Dense(5, activation='relu'))\n",
        "\n",
        "model_4.compile(\n",
        "    optimizer=Adam(),\n",
        "    loss='mae'\n",
        ")\n",
        "\n",
        "history_4 = model_4.fit(\n",
        "    X_train,\n",
        "    y_train,\n",
        "    validation_data=(X_test, y_test),\n",
        "    epochs=25\n",
        ")"
      ]
    },
    {
      "cell_type": "code",
      "execution_count": null,
      "metadata": {
        "id": "q6hCoXnnAN5D",
        "colab": {
          "base_uri": "https://localhost:8080/",
          "height": 293
        },
        "outputId": "b519b8b1-8fdf-4ac5-e197-d1648c64ba16"
      },
      "outputs": [
        {
          "output_type": "execute_result",
          "data": {
            "text/plain": [
              "<matplotlib.axes._subplots.AxesSubplot at 0x7f5647823310>"
            ]
          },
          "metadata": {},
          "execution_count": 43
        },
        {
          "output_type": "display_data",
          "data": {
            "text/plain": [
              "<Figure size 432x288 with 1 Axes>"
            ],
            "image/png": "[encoded data removed]"
          },
          "metadata": {
            "needs_background": "light"
          }
        }
      ],
      "source": [
        "pd.DataFrame(history_4.history).plot()"
      ]
    },
    {
      "cell_type": "code",
      "execution_count": null,
      "metadata": {
        "id": "l2LFx_dcANtD",
        "colab": {
          "base_uri": "https://localhost:8080/"
        },
        "outputId": "f13de0bd-c51a-4260-bebb-f004a68c33f6"
      },
      "outputs": [
        {
          "output_type": "stream",
          "name": "stdout",
          "text": [
            "Model: \"sequential_3\"\n",
            "_________________________________________________________________\n",
            " Layer (type)                Output Shape              Param #   \n",
            "=================================================================\n",
            " dense_6 (Dense)             (None, 5)                 30        \n",
            "                                                                 \n",
            "=================================================================\n",
            "Total params: 30\n",
            "Trainable params: 30\n",
            "Non-trainable params: 0\n",
            "_________________________________________________________________\n"
          ]
        }
      ],
      "source": [
        "model_4.summary()"
      ]
    },
    {
      "cell_type": "markdown",
      "metadata": {
        "id": "_51RSMBYpRJe"
      },
      "source": [
        "### 5th Model - Change the Learning Rate\n",
        "\n",
        "Copy of Model 1\n",
        "\n",
        "Reduce the learning rate to 0.01\n",
        "\n",
        "All other parameters remain the same"
      ]
    },
    {
      "cell_type": "code",
      "execution_count": null,
      "metadata": {
        "id": "gMGxGhf8AQGz",
        "colab": {
          "base_uri": "https://localhost:8080/"
        },
        "outputId": "0f8aadab-7e5b-4449-dbec-53c80a14c034"
      },
      "outputs": [
        {
          "output_type": "stream",
          "name": "stdout",
          "text": [
            "Epoch 1/25\n",
            "110/110 [==============================] - 1s 7ms/step - loss: 1230879.2500 - val_loss: 1234854.2500\n",
            "Epoch 2/25\n",
            "110/110 [==============================] - 1s 5ms/step - loss: 1230879.5000 - val_loss: 1234854.2500\n",
            "Epoch 3/25\n",
            "110/110 [==============================] - 0s 4ms/step - loss: 1230879.0000 - val_loss: 1234854.2500\n",
            "Epoch 4/25\n",
            "110/110 [==============================] - 0s 4ms/step - loss: 1230879.0000 - val_loss: 1234854.2500\n",
            "Epoch 5/25\n",
            "110/110 [==============================] - 0s 4ms/step - loss: 1230878.8750 - val_loss: 1234854.2500\n",
            "Epoch 6/25\n",
            "110/110 [==============================] - 0s 4ms/step - loss: 1230879.1250 - val_loss: 1234854.2500\n",
            "Epoch 7/25\n",
            "110/110 [==============================] - 0s 3ms/step - loss: 1230879.0000 - val_loss: 1234854.2500\n",
            "Epoch 8/25\n",
            "110/110 [==============================] - 1s 9ms/step - loss: 1230879.0000 - val_loss: 1234854.2500\n",
            "Epoch 9/25\n",
            "110/110 [==============================] - 1s 5ms/step - loss: 1230879.0000 - val_loss: 1234854.2500\n",
            "Epoch 10/25\n",
            "110/110 [==============================] - 0s 4ms/step - loss: 1230879.2500 - val_loss: 1234854.2500\n",
            "Epoch 11/25\n",
            "110/110 [==============================] - 0s 4ms/step - loss: 1230879.2500 - val_loss: 1234854.2500\n",
            "Epoch 12/25\n",
            "110/110 [==============================] - 0s 4ms/step - loss: 1230879.2500 - val_loss: 1234854.2500\n",
            "Epoch 13/25\n",
            "110/110 [==============================] - 0s 4ms/step - loss: 1230879.1250 - val_loss: 1234854.2500\n",
            "Epoch 14/25\n",
            "110/110 [==============================] - 0s 3ms/step - loss: 1230879.0000 - val_loss: 1234854.2500\n",
            "Epoch 15/25\n",
            "110/110 [==============================] - 0s 3ms/step - loss: 1230879.1250 - val_loss: 1234854.2500\n",
            "Epoch 16/25\n",
            "110/110 [==============================] - 0s 4ms/step - loss: 1230879.2500 - val_loss: 1234854.2500\n",
            "Epoch 17/25\n",
            "110/110 [==============================] - 0s 4ms/step - loss: 1230878.8750 - val_loss: 1234854.2500\n",
            "Epoch 18/25\n",
            "110/110 [==============================] - 0s 4ms/step - loss: 1230879.0000 - val_loss: 1234854.2500\n",
            "Epoch 19/25\n",
            "110/110 [==============================] - 1s 7ms/step - loss: 1230879.1250 - val_loss: 1234854.2500\n",
            "Epoch 20/25\n",
            "110/110 [==============================] - 1s 6ms/step - loss: 1230879.2500 - val_loss: 1234854.2500\n",
            "Epoch 21/25\n",
            "110/110 [==============================] - 1s 6ms/step - loss: 1230879.5000 - val_loss: 1234854.2500\n",
            "Epoch 22/25\n",
            "110/110 [==============================] - 1s 5ms/step - loss: 1230879.0000 - val_loss: 1234854.2500\n",
            "Epoch 23/25\n",
            "110/110 [==============================] - 0s 4ms/step - loss: 1230879.2500 - val_loss: 1234854.2500\n",
            "Epoch 24/25\n",
            "110/110 [==============================] - 0s 4ms/step - loss: 1230879.1250 - val_loss: 1234854.2500\n",
            "Epoch 25/25\n",
            "110/110 [==============================] - 0s 4ms/step - loss: 1230879.0000 - val_loss: 1234854.2500\n"
          ]
        }
      ],
      "source": [
        "model_5 = clone_model(model_1)\n",
        "\n",
        "model_5.compile(\n",
        "    optimizer=Adam(learning_rate=0.01),\n",
        "    loss='mae'\n",
        "\n",
        ")\n",
        "\n",
        "history_5 = model_5.fit(\n",
        "    X_train,\n",
        "    y_train,\n",
        "    validation_data=(X_test, y_test),\n",
        "    epochs=25\n",
        ")"
      ]
    },
    {
      "cell_type": "code",
      "execution_count": null,
      "metadata": {
        "id": "Z-kZeYxZAQAa",
        "colab": {
          "base_uri": "https://localhost:8080/"
        },
        "outputId": "6a18cfb2-1bf7-48ab-f221-226838acaa90"
      },
      "outputs": [
        {
          "output_type": "stream",
          "name": "stdout",
          "text": [
            "Model: \"sequential\"\n",
            "_________________________________________________________________\n",
            " Layer (type)                Output Shape              Param #   \n",
            "=================================================================\n",
            " dense (Dense)               (None, 5)                 30        \n",
            "                                                                 \n",
            " dense_1 (Dense)             (None, 1)                 6         \n",
            "                                                                 \n",
            "=================================================================\n",
            "Total params: 36\n",
            "Trainable params: 36\n",
            "Non-trainable params: 0\n",
            "_________________________________________________________________\n"
          ]
        }
      ],
      "source": [
        "model_5.summary()"
      ]
    },
    {
      "cell_type": "code",
      "execution_count": null,
      "metadata": {
        "id": "I2HXLo1CAP0i",
        "colab": {
          "base_uri": "https://localhost:8080/"
        },
        "outputId": "15a3f236-9fef-4ccf-c6ec-18fe4d9b2753"
      },
      "outputs": [
        {
          "output_type": "execute_result",
          "data": {
            "text/plain": [
              "{'layers': [{'class_name': 'InputLayer',\n",
              "   'config': {'batch_input_shape': (None, 5),\n",
              "    'dtype': 'float32',\n",
              "    'name': 'dense_input',\n",
              "    'ragged': False,\n",
              "    'sparse': False}},\n",
              "  {'class_name': 'Dense',\n",
              "   'config': {'activation': 'tanh',\n",
              "    'activity_regularizer': None,\n",
              "    'bias_constraint': None,\n",
              "    'bias_initializer': {'class_name': 'Zeros', 'config': {}},\n",
              "    'bias_regularizer': None,\n",
              "    'dtype': 'float32',\n",
              "    'kernel_constraint': None,\n",
              "    'kernel_initializer': {'class_name': 'GlorotUniform',\n",
              "     'config': {'seed': None}},\n",
              "    'kernel_regularizer': None,\n",
              "    'name': 'dense',\n",
              "    'trainable': True,\n",
              "    'units': 5,\n",
              "    'use_bias': True}},\n",
              "  {'class_name': 'Dense',\n",
              "   'config': {'activation': 'tanh',\n",
              "    'activity_regularizer': None,\n",
              "    'bias_constraint': None,\n",
              "    'bias_initializer': {'class_name': 'Zeros', 'config': {}},\n",
              "    'bias_regularizer': None,\n",
              "    'dtype': 'float32',\n",
              "    'kernel_constraint': None,\n",
              "    'kernel_initializer': {'class_name': 'GlorotUniform',\n",
              "     'config': {'seed': None}},\n",
              "    'kernel_regularizer': None,\n",
              "    'name': 'dense_1',\n",
              "    'trainable': True,\n",
              "    'units': 1,\n",
              "    'use_bias': True}}],\n",
              " 'name': 'sequential'}"
            ]
          },
          "metadata": {},
          "execution_count": 48
        }
      ],
      "source": [
        "model_5.get_config()"
      ]
    },
    {
      "cell_type": "code",
      "execution_count": null,
      "metadata": {
        "id": "tE1QJAwBssY0"
      },
      "outputs": [],
      "source": [
        ""
      ]
    },
    {
      "cell_type": "markdown",
      "metadata": {
        "id": "2xF467DWpdnq"
      },
      "source": [
        "### 6th Model - Change the Optimizer\n",
        "\n",
        "Copy of Model 1\n",
        "\n",
        "Change the Optimizer to 'rmsprop'\n",
        "\n",
        "All other parameters remain the same"
      ]
    },
    {
      "cell_type": "code",
      "execution_count": null,
      "metadata": {
        "id": "RAfaYKVnARkC",
        "colab": {
          "base_uri": "https://localhost:8080/"
        },
        "outputId": "c61bdb5e-3d45-423a-c3f0-7d0d486591f4"
      },
      "outputs": [
        {
          "output_type": "stream",
          "name": "stdout",
          "text": [
            "Epoch 1/25\n",
            "110/110 [==============================] - 1s 5ms/step - loss: 1230879.8750 - val_loss: 1234854.8750\n",
            "Epoch 2/25\n",
            "110/110 [==============================] - 0s 4ms/step - loss: 1230879.5000 - val_loss: 1234854.5000\n",
            "Epoch 3/25\n",
            "110/110 [==============================] - 0s 4ms/step - loss: 1230879.2500 - val_loss: 1234854.2500\n",
            "Epoch 4/25\n",
            "110/110 [==============================] - 0s 4ms/step - loss: 1230879.1250 - val_loss: 1234854.2500\n",
            "Epoch 5/25\n",
            "110/110 [==============================] - 0s 3ms/step - loss: 1230879.0000 - val_loss: 1234854.2500\n",
            "Epoch 6/25\n",
            "110/110 [==============================] - 0s 4ms/step - loss: 1230879.1250 - val_loss: 1234854.2500\n",
            "Epoch 7/25\n",
            "110/110 [==============================] - 0s 4ms/step - loss: 1230879.1250 - val_loss: 1234854.2500\n",
            "Epoch 8/25\n",
            "110/110 [==============================] - 0s 4ms/step - loss: 1230879.0000 - val_loss: 1234854.2500\n",
            "Epoch 9/25\n",
            "110/110 [==============================] - 0s 4ms/step - loss: 1230879.2500 - val_loss: 1234854.2500\n",
            "Epoch 10/25\n",
            "110/110 [==============================] - 0s 4ms/step - loss: 1230879.0000 - val_loss: 1234854.2500\n",
            "Epoch 11/25\n",
            "110/110 [==============================] - 0s 3ms/step - loss: 1230879.0000 - val_loss: 1234854.2500\n",
            "Epoch 12/25\n",
            "110/110 [==============================] - 0s 4ms/step - loss: 1230879.0000 - val_loss: 1234854.2500\n",
            "Epoch 13/25\n",
            "110/110 [==============================] - 1s 5ms/step - loss: 1230879.1250 - val_loss: 1234854.2500\n",
            "Epoch 14/25\n",
            "110/110 [==============================] - 0s 3ms/step - loss: 1230879.1250 - val_loss: 1234854.2500\n",
            "Epoch 15/25\n",
            "110/110 [==============================] - 0s 3ms/step - loss: 1230879.1250 - val_loss: 1234854.2500\n",
            "Epoch 16/25\n",
            "110/110 [==============================] - 0s 3ms/step - loss: 1230879.1250 - val_loss: 1234854.2500\n",
            "Epoch 17/25\n",
            "110/110 [==============================] - 0s 4ms/step - loss: 1230879.2500 - val_loss: 1234854.2500\n",
            "Epoch 18/25\n",
            "110/110 [==============================] - 0s 4ms/step - loss: 1230879.0000 - val_loss: 1234854.2500\n",
            "Epoch 19/25\n",
            "110/110 [==============================] - 0s 4ms/step - loss: 1230879.1250 - val_loss: 1234854.2500\n",
            "Epoch 20/25\n",
            "110/110 [==============================] - 0s 4ms/step - loss: 1230878.7500 - val_loss: 1234854.2500\n",
            "Epoch 21/25\n",
            "110/110 [==============================] - 0s 4ms/step - loss: 1230879.0000 - val_loss: 1234854.2500\n",
            "Epoch 22/25\n",
            "110/110 [==============================] - 0s 3ms/step - loss: 1230879.1250 - val_loss: 1234854.2500\n",
            "Epoch 23/25\n",
            "110/110 [==============================] - 0s 3ms/step - loss: 1230879.0000 - val_loss: 1234854.2500\n",
            "Epoch 24/25\n",
            "110/110 [==============================] - 0s 4ms/step - loss: 1230879.0000 - val_loss: 1234854.2500\n",
            "Epoch 25/25\n",
            "110/110 [==============================] - 0s 3ms/step - loss: 1230879.1250 - val_loss: 1234854.2500\n"
          ]
        }
      ],
      "source": [
        "model_6 = clone_model(model_1)\n",
        "\n",
        "model_6.compile(\n",
        "    optimizer=RMSprop(),\n",
        "    loss='mae'\n",
        ")\n",
        "\n",
        "history_6 = model_6.fit(\n",
        "    X_train,\n",
        "    y_train,\n",
        "    validation_data=(X_test, y_test),\n",
        "    epochs=25\n",
        ")"
      ]
    },
    {
      "cell_type": "code",
      "execution_count": null,
      "metadata": {
        "id": "FjDso1rqARdi"
      },
      "outputs": [],
      "source": [
        ""
      ]
    },
    {
      "cell_type": "code",
      "execution_count": null,
      "metadata": {
        "id": "y1GR-SseAREM"
      },
      "outputs": [],
      "source": [
        ""
      ]
    },
    {
      "cell_type": "code",
      "execution_count": null,
      "metadata": {
        "id": "SQ_WCP82stbk"
      },
      "outputs": [],
      "source": [
        ""
      ]
    },
    {
      "cell_type": "markdown",
      "metadata": {
        "id": "kW98x2lWpuNI"
      },
      "source": [
        "### 7th Model - Combining it all\n",
        "\n",
        "Copy of Model 1\n",
        "\n",
        "Increase the number of units to 128\n",
        "\n",
        "Change the activation algorithm to **'relu'**\n",
        "\n",
        "Add 2 more Dense Layers\n",
        "\n",
        "Reduce the learning rate to 0.01"
      ]
    },
    {
      "cell_type": "code",
      "execution_count": null,
      "metadata": {
        "id": "iJgCgKN3ATNS",
        "colab": {
          "base_uri": "https://localhost:8080/"
        },
        "outputId": "36c4d928-2ea5-405f-ef6d-7b9809654730"
      },
      "outputs": [
        {
          "output_type": "stream",
          "name": "stdout",
          "text": [
            "Epoch 1/25\n",
            "110/110 [==============================] - 2s 7ms/step - loss: 786146.2500 - val_loss: 209855.2969\n",
            "Epoch 2/25\n",
            "110/110 [==============================] - 1s 10ms/step - loss: 208189.6562 - val_loss: 194673.3281\n",
            "Epoch 3/25\n",
            "110/110 [==============================] - 1s 8ms/step - loss: 193643.0469 - val_loss: 182836.0312\n",
            "Epoch 4/25\n",
            "110/110 [==============================] - 1s 5ms/step - loss: 180891.6094 - val_loss: 170460.1562\n",
            "Epoch 5/25\n",
            "110/110 [==============================] - 1s 6ms/step - loss: 166608.8750 - val_loss: 164277.7500\n",
            "Epoch 6/25\n",
            "110/110 [==============================] - 1s 6ms/step - loss: 145950.1562 - val_loss: 132445.0312\n",
            "Epoch 7/25\n",
            "110/110 [==============================] - 1s 6ms/step - loss: 116131.1719 - val_loss: 96832.5781\n",
            "Epoch 8/25\n",
            "110/110 [==============================] - 1s 6ms/step - loss: 89226.6172 - val_loss: 83381.0000\n",
            "Epoch 9/25\n",
            "110/110 [==============================] - 1s 5ms/step - loss: 83993.5234 - val_loss: 86308.7266\n",
            "Epoch 10/25\n",
            "110/110 [==============================] - 1s 6ms/step - loss: 85203.4375 - val_loss: 81719.3594\n",
            "Epoch 11/25\n",
            "110/110 [==============================] - 1s 6ms/step - loss: 85518.9844 - val_loss: 81681.5078\n",
            "Epoch 12/25\n",
            "110/110 [==============================] - 1s 5ms/step - loss: 84283.3438 - val_loss: 80424.7812\n",
            "Epoch 13/25\n",
            "110/110 [==============================] - 1s 6ms/step - loss: 83892.1250 - val_loss: 80605.0859\n",
            "Epoch 14/25\n",
            "110/110 [==============================] - 1s 6ms/step - loss: 83937.0547 - val_loss: 84251.8828\n",
            "Epoch 15/25\n",
            "110/110 [==============================] - 1s 5ms/step - loss: 83840.5859 - val_loss: 80767.5859\n",
            "Epoch 16/25\n",
            "110/110 [==============================] - 1s 6ms/step - loss: 84374.4922 - val_loss: 81212.4375\n",
            "Epoch 17/25\n",
            "110/110 [==============================] - 1s 6ms/step - loss: 83723.4688 - val_loss: 80811.5156\n",
            "Epoch 18/25\n",
            "110/110 [==============================] - 1s 6ms/step - loss: 84808.6016 - val_loss: 80920.8359\n",
            "Epoch 19/25\n",
            "110/110 [==============================] - 1s 6ms/step - loss: 83775.5859 - val_loss: 81699.5938\n",
            "Epoch 20/25\n",
            "110/110 [==============================] - 1s 5ms/step - loss: 83999.4688 - val_loss: 81752.2969\n",
            "Epoch 21/25\n",
            "110/110 [==============================] - 1s 6ms/step - loss: 84129.5547 - val_loss: 80673.6562\n",
            "Epoch 22/25\n",
            "110/110 [==============================] - 1s 6ms/step - loss: 83250.5781 - val_loss: 81048.0156\n",
            "Epoch 23/25\n",
            "110/110 [==============================] - 1s 6ms/step - loss: 83185.7188 - val_loss: 82421.8594\n",
            "Epoch 24/25\n",
            "110/110 [==============================] - 1s 5ms/step - loss: 82556.1953 - val_loss: 80473.1875\n",
            "Epoch 25/25\n",
            "110/110 [==============================] - 1s 5ms/step - loss: 85371.1094 - val_loss: 80887.1641\n"
          ]
        }
      ],
      "source": [
        "model_7 = Sequential()\n",
        "\n",
        "model_7.add(Dense(128, activation='relu'))\n",
        "model_7.add(Dense(128, activation='relu'))\n",
        "model_7.add(Dense(128, activation='relu'))\n",
        "\n",
        "model_7.add(Dense(1, activation='relu'))\n",
        "\n",
        "model_7.compile(\n",
        "    optimizer=Adam(learning_rate=0.01),\n",
        "    loss='mae'\n",
        ")\n",
        "\n",
        "history_7 = model_7.fit(\n",
        "    X_train,\n",
        "    y_train,\n",
        "    validation_data=(X_test, y_test),\n",
        "    epochs=25\n",
        ")"
      ]
    },
    {
      "cell_type": "code",
      "execution_count": null,
      "metadata": {
        "id": "jmVXOGuxATEC",
        "colab": {
          "base_uri": "https://localhost:8080/",
          "height": 282
        },
        "outputId": "5f046fdd-cc26-4e7d-fcfe-b2ab886dcdf0"
      },
      "outputs": [
        {
          "output_type": "execute_result",
          "data": {
            "text/plain": [
              "<matplotlib.axes._subplots.AxesSubplot at 0x7f56471ebdd0>"
            ]
          },
          "metadata": {},
          "execution_count": 52
        },
        {
          "output_type": "display_data",
          "data": {
            "text/plain": [
              "<Figure size 432x288 with 1 Axes>"
            ],
            "image/png": "[encoded data removed]"
          },
          "metadata": {
            "needs_background": "light"
          }
        }
      ],
      "source": [
        "pd.DataFrame(history_7.history).plot()"
      ]
    },
    {
      "cell_type": "code",
      "execution_count": null,
      "metadata": {
        "id": "shnI1VV0AS66"
      },
      "outputs": [],
      "source": [
        ""
      ]
    },
    {
      "cell_type": "code",
      "execution_count": null,
      "metadata": {
        "id": "2BfLHae7ASui"
      },
      "outputs": [],
      "source": [
        ""
      ]
    },
    {
      "cell_type": "code",
      "execution_count": null,
      "metadata": {
        "id": "HQB1V5xZ5mze"
      },
      "outputs": [],
      "source": [
        ""
      ]
    },
    {
      "cell_type": "markdown",
      "metadata": {
        "id": "oEgxAcfnAXEJ"
      },
      "source": [
        "### 8th Model - Callbacks (Early Stopping)\n",
        "\n",
        "Copy Model 7\n",
        "\n",
        "Add an Early Stopping Callback\n",
        "\n",
        "All other parameters remain the same"
      ]
    },
    {
      "cell_type": "code",
      "source": [
        ""
      ],
      "metadata": {
        "id": "BXHw1p3weh2W"
      },
      "execution_count": null,
      "outputs": []
    },
    {
      "cell_type": "code",
      "execution_count": null,
      "metadata": {
        "id": "cIMXS2X_AW66",
        "colab": {
          "base_uri": "https://localhost:8080/"
        },
        "outputId": "254c600c-6cf4-4a40-c770-4892fe507a88"
      },
      "outputs": [
        {
          "output_type": "stream",
          "name": "stdout",
          "text": [
            "Epoch 1/250\n",
            "110/110 [==============================] - 2s 9ms/step - loss: 762049.4375 - val_loss: 214284.9688\n",
            "Epoch 2/250\n",
            "110/110 [==============================] - 1s 6ms/step - loss: 207232.5781 - val_loss: 193598.2344\n",
            "Epoch 3/250\n",
            "110/110 [==============================] - 1s 6ms/step - loss: 191455.1719 - val_loss: 179240.2344\n",
            "Epoch 4/250\n",
            "110/110 [==============================] - 1s 6ms/step - loss: 176297.7031 - val_loss: 163322.4688\n",
            "Epoch 5/250\n",
            "110/110 [==============================] - 1s 6ms/step - loss: 156424.4844 - val_loss: 143818.7344\n",
            "Epoch 6/250\n",
            "110/110 [==============================] - 1s 6ms/step - loss: 129206.3047 - val_loss: 110257.8750\n",
            "Epoch 7/250\n",
            "110/110 [==============================] - 1s 6ms/step - loss: 96880.6328 - val_loss: 88133.8906\n",
            "Epoch 8/250\n",
            "110/110 [==============================] - 1s 13ms/step - loss: 86697.1328 - val_loss: 82382.9844\n",
            "Epoch 9/250\n",
            "110/110 [==============================] - 1s 6ms/step - loss: 86988.2031 - val_loss: 80713.6328\n",
            "Epoch 10/250\n",
            "110/110 [==============================] - 1s 6ms/step - loss: 85853.4766 - val_loss: 80783.0078\n",
            "Epoch 11/250\n",
            "110/110 [==============================] - 1s 6ms/step - loss: 84281.0547 - val_loss: 80882.8828\n",
            "Epoch 12/250\n",
            "110/110 [==============================] - 1s 6ms/step - loss: 83042.2500 - val_loss: 80450.0000\n",
            "Epoch 13/250\n",
            "110/110 [==============================] - 1s 6ms/step - loss: 82945.2422 - val_loss: 80858.6484\n",
            "Epoch 14/250\n",
            "110/110 [==============================] - 1s 6ms/step - loss: 83645.4688 - val_loss: 82638.5938\n",
            "Epoch 15/250\n",
            "110/110 [==============================] - 1s 6ms/step - loss: 86947.9922 - val_loss: 81386.9688\n",
            "Epoch 16/250\n",
            "110/110 [==============================] - 0s 4ms/step - loss: 84204.3672 - val_loss: 80526.1953\n",
            "Epoch 17/250\n",
            "110/110 [==============================] - 0s 3ms/step - loss: 83019.3281 - val_loss: 91056.6484\n",
            "Epoch 18/250\n",
            "110/110 [==============================] - 0s 3ms/step - loss: 84741.2812 - val_loss: 80499.4688\n",
            "Epoch 19/250\n",
            "110/110 [==============================] - 0s 3ms/step - loss: 83067.3516 - val_loss: 82259.4453\n",
            "Epoch 20/250\n",
            "110/110 [==============================] - 0s 3ms/step - loss: 82861.2500 - val_loss: 88480.5859\n",
            "Epoch 21/250\n",
            "110/110 [==============================] - 0s 3ms/step - loss: 85140.6484 - val_loss: 81158.6484\n",
            "Epoch 22/250\n",
            "110/110 [==============================] - 0s 3ms/step - loss: 83354.5938 - val_loss: 81996.5469\n",
            "Epoch 22: early stopping\n"
          ]
        }
      ],
      "source": [
        "model_8 = clone_model(model_7)\n",
        "\n",
        "model_8.compile(\n",
        "    optimizer=Adam(learning_rate=0.01),\n",
        "    loss='mae'\n",
        ")\n",
        "\n",
        "es = tf.keras.callbacks.EarlyStopping(\n",
        "    monitor='val_loss',\n",
        "    patience=10,\n",
        "    verbose=1,\n",
        "    mode='min',\n",
        ")\n",
        "\n",
        "\n",
        "history_8 = model_8.fit(\n",
        "    X_train,\n",
        "    y_train,\n",
        "    validation_data=(X_test, y_test),\n",
        "    epochs=250,\n",
        "    callbacks=[es]\n",
        ")"
      ]
    },
    {
      "cell_type": "code",
      "execution_count": null,
      "metadata": {
        "id": "1H7BiaBwC1_C",
        "colab": {
          "base_uri": "https://localhost:8080/"
        },
        "outputId": "6cd5f535-ea05-458a-9518-e8c71bec332a"
      },
      "outputs": [
        {
          "output_type": "stream",
          "name": "stdout",
          "text": [
            "47/47 [==============================] - 0s 2ms/step - loss: 81996.5469\n"
          ]
        },
        {
          "output_type": "execute_result",
          "data": {
            "text/plain": [
              "81996.546875"
            ]
          },
          "metadata": {},
          "execution_count": 54
        }
      ],
      "source": [
        "model_8.evaluate(X_test, y_test)"
      ]
    },
    {
      "cell_type": "code",
      "execution_count": null,
      "metadata": {
        "id": "IzZEvISJC12h"
      },
      "outputs": [],
      "source": [
        "prediction_8 = model_8.predict(X_test)"
      ]
    },
    {
      "cell_type": "code",
      "execution_count": null,
      "metadata": {
        "id": "-txOlJvOC1ox",
        "colab": {
          "base_uri": "https://localhost:8080/"
        },
        "outputId": "7eb1b9a1-11f8-4b6d-8f9b-d0030a9fc6b6"
      },
      "outputs": [
        {
          "output_type": "execute_result",
          "data": {
            "text/plain": [
              "81996.55016260318"
            ]
          },
          "metadata": {},
          "execution_count": 56
        }
      ],
      "source": [
        "mean_absolute_error(y_test, prediction_8)"
      ]
    },
    {
      "cell_type": "code",
      "execution_count": null,
      "metadata": {
        "id": "dAHjfwK2AWwy",
        "colab": {
          "base_uri": "https://localhost:8080/"
        },
        "outputId": "e8497aab-1e49-4ed7-e5cc-8bb990b1e493"
      },
      "outputs": [
        {
          "output_type": "execute_result",
          "data": {
            "text/plain": [
              "1232072.654142357"
            ]
          },
          "metadata": {},
          "execution_count": 57
        }
      ],
      "source": [
        "df['Price'].mean()"
      ]
    },
    {
      "cell_type": "markdown",
      "metadata": {
        "id": "-rsathXfqV4S"
      },
      "source": [
        "### Predictions\n",
        "\n",
        "Compare the evaluation results with the y_test/predictions with *mean_absolute_error*\n",
        "\n",
        "Create a dataset from the 0th element in the original dataframe and run a prediction on it\n",
        "\n",
        "How does it compare to the real price?"
      ]
    },
    {
      "cell_type": "code",
      "execution_count": null,
      "metadata": {
        "id": "PTqNhpiZUvQH",
        "colab": {
          "base_uri": "https://localhost:8080/"
        },
        "outputId": "5e7b8ef1-dbf1-4eeb-d63b-42bdb8119cd8"
      },
      "outputs": [
        {
          "output_type": "execute_result",
          "data": {
            "text/plain": [
              "Avg. Area Income                                                     79545.458574\n",
              "Avg. Area House Age                                                      5.682861\n",
              "Avg. Area Number of Rooms                                                7.009188\n",
              "Avg. Area Number of Bedrooms                                                 4.09\n",
              "Area Population                                                      23086.800503\n",
              "Price                                                               1059033.55787\n",
              "Address                         208 Michael Ferry Apt. 674\\nLaurabury, NE 3701...\n",
              "Name: 0, dtype: object"
            ]
          },
          "metadata": {},
          "execution_count": 58
        }
      ],
      "source": [
        "df.loc[0]"
      ]
    },
    {
      "cell_type": "code",
      "execution_count": null,
      "metadata": {
        "id": "SetCo2F-a1LM"
      },
      "outputs": [],
      "source": [
        "test_data = df.loc[0].drop(['Price', 'Address']).values.reshape(-1,5)"
      ]
    },
    {
      "cell_type": "code",
      "execution_count": null,
      "metadata": {
        "id": "1emmaEpra1LM",
        "colab": {
          "base_uri": "https://localhost:8080/"
        },
        "outputId": "84d11df2-a0b3-4a2a-b0c0-b4e4e7b7e209"
      },
      "outputs": [
        {
          "output_type": "execute_result",
          "data": {
            "text/plain": [
              "array([[79545.45857431678, 5.682861321615587, 7.009188142792237, 4.09,\n",
              "        23086.800502686456]], dtype=object)"
            ]
          },
          "metadata": {},
          "execution_count": 63
        }
      ],
      "source": [
        "test_data"
      ]
    },
    {
      "cell_type": "code",
      "execution_count": null,
      "metadata": {
        "id": "Gm-a6oRya1LM"
      },
      "outputs": [],
      "source": [
        "test_data = scaler.transform(test_data)"
      ]
    },
    {
      "cell_type": "code",
      "execution_count": null,
      "metadata": {
        "id": "rdAbVQaxa1LN",
        "colab": {
          "base_uri": "https://localhost:8080/"
        },
        "outputId": "b3c4d57f-6837-466d-cf61-a878b226167d"
      },
      "outputs": [
        {
          "output_type": "execute_result",
          "data": {
            "text/plain": [
              "array([[0.68682217, 0.43882367, 0.53564538, 0.46444444, 0.33008323]])"
            ]
          },
          "metadata": {},
          "execution_count": 65
        }
      ],
      "source": [
        "test_data"
      ]
    },
    {
      "cell_type": "code",
      "execution_count": null,
      "metadata": {
        "id": "9N9QlqwMa1LN",
        "colab": {
          "base_uri": "https://localhost:8080/"
        },
        "outputId": "e3c2615e-0540-4cac-b467-e8eeaa2995c9"
      },
      "outputs": [
        {
          "output_type": "execute_result",
          "data": {
            "text/plain": [
              "array([[1240195.1]], dtype=float32)"
            ]
          },
          "metadata": {},
          "execution_count": 66
        }
      ],
      "source": [
        "model_8.predict(test_data)"
      ]
    },
    {
      "cell_type": "code",
      "execution_count": null,
      "metadata": {
        "id": "VNEGVmoVa1LN"
      },
      "outputs": [],
      "source": [
        ""
      ]
    }
  ],
  "metadata": {
    "colab": {
      "collapsed_sections": [],
      "name": "56 - Exercises - TensorFlow Intro.ipynb",
      "provenance": [],
      "toc_visible": true
    },
    "gpuClass": "standard",
    "kernelspec": {
      "display_name": "Python 3 (ipykernel)",
      "language": "python",
      "name": "python3"
    },
    "language_info": {
      "codemirror_mode": {
        "name": "ipython",
        "version": 3
      },
      "file_extension": ".py",
      "mimetype": "text/x-python",
      "name": "python",
      "nbconvert_exporter": "python",
      "pygments_lexer": "ipython3",
      "version": "3.9.12"
    }
  },
  "nbformat": 4,
  "nbformat_minor": 0
}