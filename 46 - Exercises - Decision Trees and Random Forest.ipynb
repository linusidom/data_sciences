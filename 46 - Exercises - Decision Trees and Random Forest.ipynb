{
 "cells": [
  {
   "cell_type": "markdown",
   "id": "1060ba7e",
   "metadata": {},
   "source": [
    "# Decision Trees and Random Forest Exercises\n",
    "\n",
    "Regression and Classification Dataset (Wine Quality Data Set)\n",
    "\n",
    "Target is 'quality'\n",
    "\n",
    "https://www.kaggle.com/datasets/uciml/red-wine-quality-cortez-et-al-2009\n"
   ]
  },
  {
   "cell_type": "code",
   "execution_count": 1,
   "id": "c61a8540",
   "metadata": {},
   "outputs": [],
   "source": [
    "# Import the following libraries\n",
    "\n",
    "# Pandas, NumPy, Seaborn\n",
    "# SKLearn\n",
    "# train_test_split\n",
    "# mean_absolute_error, mean_squared_error, classification_report, confusion Matrix\n",
    "# DecisionTreeRegressor, DecisionTreeClassifier, RandomForestRegressor, RandomForestClassifier\n",
    "# and tree\n",
    "\n",
    "\n",
    "\n",
    "\n",
    "\n",
    "# Type your code above this line"
   ]
  },
  {
   "cell_type": "code",
   "execution_count": 2,
   "id": "f857f23a",
   "metadata": {},
   "outputs": [],
   "source": [
    "# Import the dataset and create a dataframe\n",
    "\n",
    "\n",
    "\n",
    "\n",
    "# Type your code above this line"
   ]
  },
  {
   "cell_type": "code",
   "execution_count": 3,
   "id": "543fc4b0",
   "metadata": {},
   "outputs": [],
   "source": [
    "# Train Test Split the data in X and y\n",
    "\n",
    "\n",
    "\n",
    "\n",
    "# Type your code above this line"
   ]
  },
  {
   "cell_type": "markdown",
   "id": "565da866",
   "metadata": {},
   "source": [
    "### Decision Tree Regression"
   ]
  },
  {
   "cell_type": "code",
   "execution_count": 4,
   "id": "951711d5",
   "metadata": {},
   "outputs": [],
   "source": [
    "# Decision Tree Regressor Instantiation, Fit, Predict and Evaluate\n",
    "\n",
    "# Instantiate\n",
    "\n",
    "\n",
    "\n",
    "\n",
    "# Type your code above this line"
   ]
  },
  {
   "cell_type": "code",
   "execution_count": 5,
   "id": "619ab955",
   "metadata": {},
   "outputs": [],
   "source": [
    "# Print the Decision Tree\n",
    "\n",
    "\n",
    "\n",
    "\n",
    "\n",
    "# Type your code above this line"
   ]
  },
  {
   "cell_type": "code",
   "execution_count": 6,
   "id": "25b4b4ea",
   "metadata": {},
   "outputs": [],
   "source": [
    "# Optional Export the data tree and convert it to a PNG\n",
    "\n",
    "\n",
    "\n",
    "\n",
    "\n",
    "# Type your code above this line"
   ]
  },
  {
   "cell_type": "code",
   "execution_count": null,
   "id": "70143cc2",
   "metadata": {},
   "outputs": [],
   "source": []
  },
  {
   "cell_type": "markdown",
   "id": "37cc9624",
   "metadata": {},
   "source": [
    "### Random Forest Regressor"
   ]
  },
  {
   "cell_type": "code",
   "execution_count": 7,
   "id": "cdc0c0ef",
   "metadata": {},
   "outputs": [],
   "source": [
    "# Random Tree Regressor Instantiation, Fit, Predict and Evaluate\n",
    "\n",
    "\n",
    "\n",
    "\n",
    "\n",
    "\n",
    "\n",
    "\n",
    "# Type your code above this line"
   ]
  },
  {
   "cell_type": "code",
   "execution_count": 46,
   "id": "2beb2817",
   "metadata": {},
   "outputs": [],
   "source": [
    "# Compare the results\n",
    "# How do these results compare to the Decision Tree?\n",
    "# How about increasing the n_estimator to 300?\n",
    "\n",
    "\n",
    "\n",
    "\n",
    "\n",
    "# Type your code above this line"
   ]
  },
  {
   "cell_type": "code",
   "execution_count": null,
   "id": "3bcb462b",
   "metadata": {},
   "outputs": [],
   "source": []
  },
  {
   "cell_type": "markdown",
   "id": "30e138d0",
   "metadata": {},
   "source": [
    "### Decision Tree Classifier"
   ]
  },
  {
   "cell_type": "code",
   "execution_count": 8,
   "id": "b5c65f22",
   "metadata": {
    "scrolled": true
   },
   "outputs": [],
   "source": [
    "# Decision Tree Classifier Instantiation, Fit, Predict and Evaluate\n",
    "\n",
    "\n",
    "\n",
    "\n",
    "\n",
    "# Type your code above this line"
   ]
  },
  {
   "cell_type": "code",
   "execution_count": 45,
   "id": "252166ab",
   "metadata": {},
   "outputs": [],
   "source": [
    "# Print the Decision Tree\n",
    "\n",
    "\n",
    "\n",
    "\n",
    "\n",
    "\n",
    "\n",
    "# Type your code above this line"
   ]
  },
  {
   "cell_type": "code",
   "execution_count": null,
   "id": "25350f59",
   "metadata": {},
   "outputs": [],
   "source": [
    "# Optional Export the data tree and convert it to a PNG\n",
    "\n",
    "\n",
    "\n",
    "\n",
    "\n",
    "# Type your code above this line"
   ]
  },
  {
   "cell_type": "code",
   "execution_count": null,
   "id": "149390fd",
   "metadata": {},
   "outputs": [],
   "source": []
  },
  {
   "cell_type": "markdown",
   "id": "e953c021",
   "metadata": {},
   "source": [
    "### Random Forest Classifier"
   ]
  },
  {
   "cell_type": "code",
   "execution_count": 9,
   "id": "bd78c785",
   "metadata": {},
   "outputs": [],
   "source": [
    "# Random Tree Classifier Instantiation, Fit, Predict and Evaluate\n",
    "\n",
    "\n",
    "\n",
    "\n",
    "# Type your code above this line"
   ]
  },
  {
   "cell_type": "code",
   "execution_count": 46,
   "id": "46363b03",
   "metadata": {},
   "outputs": [],
   "source": [
    "# Compare the results\n",
    "# How do these results compare to the Decision Tree?\n",
    "# How about increasing the n_estimator to 300?\n",
    "\n",
    "\n",
    "\n",
    "\n",
    "\n",
    "# Type your code above this line"
   ]
  },
  {
   "cell_type": "code",
   "execution_count": null,
   "id": "174df935",
   "metadata": {},
   "outputs": [],
   "source": []
  },
  {
   "cell_type": "code",
   "execution_count": null,
   "id": "615025d6",
   "metadata": {},
   "outputs": [],
   "source": []
  },
  {
   "cell_type": "code",
   "execution_count": null,
   "id": "f3a23653",
   "metadata": {},
   "outputs": [],
   "source": []
  },
  {
   "cell_type": "code",
   "execution_count": null,
   "id": "1cf06564",
   "metadata": {},
   "outputs": [],
   "source": []
  }
 ],
 "metadata": {
  "kernelspec": {
   "display_name": "Python 3 (ipykernel)",
   "language": "python",
   "name": "python3"
  },
  "language_info": {
   "codemirror_mode": {
    "name": "ipython",
    "version": 3
   },
   "file_extension": ".py",
   "mimetype": "text/x-python",
   "name": "python",
   "nbconvert_exporter": "python",
   "pygments_lexer": "ipython3",
   "version": "3.9.12"
  }
 },
 "nbformat": 4,
 "nbformat_minor": 5
}
